{
 "cells": [
  {
   "cell_type": "markdown",
   "metadata": {},
   "source": [
    "# Load from Features Notebook"
   ]
  },
  {
   "cell_type": "code",
   "execution_count": 1,
   "metadata": {
    "ExecuteTime": {
     "end_time": "2019-02-19T00:42:34.315057Z",
     "start_time": "2019-02-19T00:42:11.315908Z"
    }
   },
   "outputs": [],
   "source": [
    "import dill\n",
    "dill.load_session(\"Notebook_Saves/features.db\")"
   ]
  },
  {
   "cell_type": "code",
   "execution_count": 2,
   "metadata": {
    "ExecuteTime": {
     "end_time": "2019-02-19T00:42:34.326389Z",
     "start_time": "2019-02-19T00:42:34.319960Z"
    }
   },
   "outputs": [],
   "source": [
    "import matplotlib.pyplot as plt\n",
    "from scipy.stats.mstats import winsorize"
   ]
  },
  {
   "cell_type": "code",
   "execution_count": 3,
   "metadata": {},
   "outputs": [],
   "source": [
    "from warnings import simplefilter\n",
    "simplefilter('ignore')"
   ]
  },
  {
   "cell_type": "markdown",
   "metadata": {},
   "source": [
    "# Exploration for Features\n",
    "Training Set\n",
    "\n",
    "The dataset has a lot of outliers, we try to normalize each feature, firstly we tried winsorization to shrink the data range, then we use some Log-transformation to deal with the right skew problems."
   ]
  },
  {
   "cell_type": "code",
   "execution_count": 4,
   "metadata": {
    "ExecuteTime": {
     "end_time": "2019-02-19T00:44:42.083217Z",
     "start_time": "2019-02-19T00:44:41.635902Z"
    }
   },
   "outputs": [
    {
     "data": {
      "text/html": [
       "<div>\n",
       "<style scoped>\n",
       "    .dataframe tbody tr th:only-of-type {\n",
       "        vertical-align: middle;\n",
       "    }\n",
       "\n",
       "    .dataframe tbody tr th {\n",
       "        vertical-align: top;\n",
       "    }\n",
       "\n",
       "    .dataframe thead th {\n",
       "        text-align: right;\n",
       "    }\n",
       "</style>\n",
       "<table border=\"1\" class=\"dataframe\">\n",
       "  <thead>\n",
       "    <tr style=\"text-align: right;\">\n",
       "      <th></th>\n",
       "      <th>event_count</th>\n",
       "      <th>purchase_count</th>\n",
       "      <th>session_count</th>\n",
       "      <th>previous_sessions_duration</th>\n",
       "      <th>spend</th>\n",
       "      <th>event_gap</th>\n",
       "      <th>session_gap</th>\n",
       "      <th>life_time</th>\n",
       "      <th>os_ios</th>\n",
       "      <th>os_android</th>\n",
       "      <th>country_mean_enc</th>\n",
       "    </tr>\n",
       "  </thead>\n",
       "  <tbody>\n",
       "    <tr>\n",
       "      <th>count</th>\n",
       "      <td>619423.000000</td>\n",
       "      <td>619423.000000</td>\n",
       "      <td>619423.000000</td>\n",
       "      <td>6.191850e+05</td>\n",
       "      <td>619423.0</td>\n",
       "      <td>6.187660e+05</td>\n",
       "      <td>6.191850e+05</td>\n",
       "      <td>6.191850e+05</td>\n",
       "      <td>619423.000000</td>\n",
       "      <td>619423.000000</td>\n",
       "      <td>618633.000000</td>\n",
       "    </tr>\n",
       "    <tr>\n",
       "      <th>mean</th>\n",
       "      <td>157.847904</td>\n",
       "      <td>0.377758</td>\n",
       "      <td>7.889856</td>\n",
       "      <td>4.166851e+06</td>\n",
       "      <td>NaN</td>\n",
       "      <td>3.308371e+09</td>\n",
       "      <td>3.416604e+09</td>\n",
       "      <td>3.838521e+09</td>\n",
       "      <td>0.335448</td>\n",
       "      <td>0.664168</td>\n",
       "      <td>0.009896</td>\n",
       "    </tr>\n",
       "    <tr>\n",
       "      <th>std</th>\n",
       "      <td>441.877253</td>\n",
       "      <td>3.064517</td>\n",
       "      <td>22.203001</td>\n",
       "      <td>1.402423e+07</td>\n",
       "      <td>NaN</td>\n",
       "      <td>1.475462e+09</td>\n",
       "      <td>1.592156e+09</td>\n",
       "      <td>1.473469e+09</td>\n",
       "      <td>0.472147</td>\n",
       "      <td>0.472281</td>\n",
       "      <td>0.006094</td>\n",
       "    </tr>\n",
       "    <tr>\n",
       "      <th>min</th>\n",
       "      <td>0.000000</td>\n",
       "      <td>0.000000</td>\n",
       "      <td>0.000000</td>\n",
       "      <td>0.000000e+00</td>\n",
       "      <td>0.0</td>\n",
       "      <td>1.209600e+09</td>\n",
       "      <td>6.048006e+08</td>\n",
       "      <td>1.209632e+09</td>\n",
       "      <td>0.000000</td>\n",
       "      <td>0.000000</td>\n",
       "      <td>0.000000</td>\n",
       "    </tr>\n",
       "    <tr>\n",
       "      <th>25%</th>\n",
       "      <td>14.000000</td>\n",
       "      <td>0.000000</td>\n",
       "      <td>1.000000</td>\n",
       "      <td>0.000000e+00</td>\n",
       "      <td>0.0</td>\n",
       "      <td>1.978475e+09</td>\n",
       "      <td>2.068929e+09</td>\n",
       "      <td>2.581888e+09</td>\n",
       "      <td>0.000000</td>\n",
       "      <td>0.000000</td>\n",
       "      <td>0.003125</td>\n",
       "    </tr>\n",
       "    <tr>\n",
       "      <th>50%</th>\n",
       "      <td>36.000000</td>\n",
       "      <td>0.000000</td>\n",
       "      <td>2.000000</td>\n",
       "      <td>6.084000e+04</td>\n",
       "      <td>0.0</td>\n",
       "      <td>3.161514e+09</td>\n",
       "      <td>3.381389e+09</td>\n",
       "      <td>3.821525e+09</td>\n",
       "      <td>0.000000</td>\n",
       "      <td>1.000000</td>\n",
       "      <td>0.012661</td>\n",
       "    </tr>\n",
       "    <tr>\n",
       "      <th>75%</th>\n",
       "      <td>109.000000</td>\n",
       "      <td>0.000000</td>\n",
       "      <td>5.000000</td>\n",
       "      <td>2.404500e+06</td>\n",
       "      <td>0.0</td>\n",
       "      <td>4.543095e+09</td>\n",
       "      <td>4.739420e+09</td>\n",
       "      <td>5.086515e+09</td>\n",
       "      <td>1.000000</td>\n",
       "      <td>1.000000</td>\n",
       "      <td>0.015221</td>\n",
       "    </tr>\n",
       "    <tr>\n",
       "      <th>max</th>\n",
       "      <td>23186.000000</td>\n",
       "      <td>445.000000</td>\n",
       "      <td>1264.000000</td>\n",
       "      <td>9.696036e+08</td>\n",
       "      <td>1053.0</td>\n",
       "      <td>6.454623e+09</td>\n",
       "      <td>6.454791e+09</td>\n",
       "      <td>6.479999e+09</td>\n",
       "      <td>1.000000</td>\n",
       "      <td>1.000000</td>\n",
       "      <td>0.333333</td>\n",
       "    </tr>\n",
       "  </tbody>\n",
       "</table>\n",
       "</div>"
      ],
      "text/plain": [
       "         event_count  purchase_count  session_count  \\\n",
       "count  619423.000000   619423.000000  619423.000000   \n",
       "mean      157.847904        0.377758       7.889856   \n",
       "std       441.877253        3.064517      22.203001   \n",
       "min         0.000000        0.000000       0.000000   \n",
       "25%        14.000000        0.000000       1.000000   \n",
       "50%        36.000000        0.000000       2.000000   \n",
       "75%       109.000000        0.000000       5.000000   \n",
       "max     23186.000000      445.000000    1264.000000   \n",
       "\n",
       "       previous_sessions_duration     spend     event_gap   session_gap  \\\n",
       "count                6.191850e+05  619423.0  6.187660e+05  6.191850e+05   \n",
       "mean                 4.166851e+06       NaN  3.308371e+09  3.416604e+09   \n",
       "std                  1.402423e+07       NaN  1.475462e+09  1.592156e+09   \n",
       "min                  0.000000e+00       0.0  1.209600e+09  6.048006e+08   \n",
       "25%                  0.000000e+00       0.0  1.978475e+09  2.068929e+09   \n",
       "50%                  6.084000e+04       0.0  3.161514e+09  3.381389e+09   \n",
       "75%                  2.404500e+06       0.0  4.543095e+09  4.739420e+09   \n",
       "max                  9.696036e+08    1053.0  6.454623e+09  6.454791e+09   \n",
       "\n",
       "          life_time         os_ios     os_android  country_mean_enc  \n",
       "count  6.191850e+05  619423.000000  619423.000000     618633.000000  \n",
       "mean   3.838521e+09       0.335448       0.664168          0.009896  \n",
       "std    1.473469e+09       0.472147       0.472281          0.006094  \n",
       "min    1.209632e+09       0.000000       0.000000          0.000000  \n",
       "25%    2.581888e+09       0.000000       0.000000          0.003125  \n",
       "50%    3.821525e+09       0.000000       1.000000          0.012661  \n",
       "75%    5.086515e+09       1.000000       1.000000          0.015221  \n",
       "max    6.479999e+09       1.000000       1.000000          0.333333  "
      ]
     },
     "execution_count": 4,
     "metadata": {},
     "output_type": "execute_result"
    }
   ],
   "source": [
    "training.describe()"
   ]
  },
  {
   "cell_type": "markdown",
   "metadata": {},
   "source": [
    "### Event Count"
   ]
  },
  {
   "cell_type": "code",
   "execution_count": 5,
   "metadata": {
    "ExecuteTime": {
     "end_time": "2019-02-19T00:42:34.597840Z",
     "start_time": "2019-02-19T00:42:34.331166Z"
    }
   },
   "outputs": [
    {
     "data": {
      "text/plain": [
       "(array([6.14565e+05, 3.96900e+03, 6.74000e+02, 1.52000e+02, 3.80000e+01,\n",
       "        1.00000e+01, 6.00000e+00, 4.00000e+00, 3.00000e+00, 2.00000e+00]),\n",
       " array([    0. ,  2318.6,  4637.2,  6955.8,  9274.4, 11593. , 13911.6,\n",
       "        16230.2, 18548.8, 20867.4, 23186. ]),\n",
       " <a list of 10 Patch objects>)"
      ]
     },
     "execution_count": 5,
     "metadata": {},
     "output_type": "execute_result"
    },
    {
     "data": {
      "image/png": "[encoded data removed]",
      "text/plain": [
       "<Figure size 432x288 with 1 Axes>"
      ]
     },
     "metadata": {},
     "output_type": "display_data"
    }
   ],
   "source": [
    "plt.hist(training.event_count)"
   ]
  },
  {
   "cell_type": "code",
   "execution_count": 6,
   "metadata": {
    "ExecuteTime": {
     "end_time": "2019-02-19T00:42:49.651946Z",
     "start_time": "2019-02-19T00:42:49.431605Z"
    }
   },
   "outputs": [
    {
     "data": {
      "text/plain": [
       "(array([409270.,  83824.,  34815.,  18620.,  13261.,   9384.,   6589.,\n",
       "          5082.,   4064.,  34514.]),\n",
       " array([  0. ,  71.7, 143.4, 215.1, 286.8, 358.5, 430.2, 501.9, 573.6,\n",
       "        645.3, 717. ]),\n",
       " <a list of 10 Patch objects>)"
      ]
     },
     "execution_count": 6,
     "metadata": {},
     "output_type": "execute_result"
    },
    {
     "data": {
      "image/png": "[encoded data removed]",
      "text/plain": [
       "<Figure size 432x288 with 1 Axes>"
      ]
     },
     "metadata": {},
     "output_type": "display_data"
    }
   ],
   "source": [
    "plt.hist(winsorize(training.event_count, limits=[0,0.05]))"
   ]
  },
  {
   "cell_type": "code",
   "execution_count": 7,
   "metadata": {
    "ExecuteTime": {
     "end_time": "2019-02-19T00:42:50.407343Z",
     "start_time": "2019-02-19T00:42:50.197533Z"
    }
   },
   "outputs": [
    {
     "data": {
      "text/plain": [
       "(array([   334.,  35039.,  64329.,  51198., 104999., 105086.,  93102.,\n",
       "         65097.,  42566.,  57673.]),\n",
       " array([0.        , 0.65750758, 1.31501517, 1.97252275, 2.63003034,\n",
       "        3.28753792, 3.9450455 , 4.60255309, 5.26006067, 5.91756826,\n",
       "        6.57507584]),\n",
       " <a list of 10 Patch objects>)"
      ]
     },
     "execution_count": 7,
     "metadata": {},
     "output_type": "execute_result"
    },
    {
     "data": {
      "image/png": "[encoded data removed]",
      "text/plain": [
       "<Figure size 432x288 with 1 Axes>"
      ]
     },
     "metadata": {},
     "output_type": "display_data"
    }
   ],
   "source": [
    "plt.hist(np.log(winsorize(training.event_count, limits=[0,0.05])))"
   ]
  },
  {
   "cell_type": "code",
   "execution_count": 8,
   "metadata": {
    "ExecuteTime": {
     "end_time": "2019-02-19T00:43:59.305311Z",
     "start_time": "2019-02-19T00:43:59.300010Z"
    }
   },
   "outputs": [
    {
     "name": "stdout",
     "output_type": "stream",
     "text": [
      "# of Users above 10,000 event counts: 18\n"
     ]
    }
   ],
   "source": [
    "event_num = training[training.event_count > 10_000]['user_purchase_binary_7_days'].sum()\n",
    "print(f\"# of Users above 10,000 event counts: {event_num}\")"
   ]
  },
  {
   "cell_type": "markdown",
   "metadata": {},
   "source": [
    "### Purchase Count"
   ]
  },
  {
   "cell_type": "code",
   "execution_count": 9,
   "metadata": {
    "ExecuteTime": {
     "end_time": "2019-02-19T00:44:01.859709Z",
     "start_time": "2019-02-19T00:44:01.707563Z"
    }
   },
   "outputs": [
    {
     "data": {
      "text/plain": [
       "(array([6.18878e+05, 4.69000e+02, 5.70000e+01, 1.40000e+01, 3.00000e+00,\n",
       "        1.00000e+00, 0.00000e+00, 0.00000e+00, 0.00000e+00, 1.00000e+00]),\n",
       " array([  0. ,  44.5,  89. , 133.5, 178. , 222.5, 267. , 311.5, 356. ,\n",
       "        400.5, 445. ]),\n",
       " <a list of 10 Patch objects>)"
      ]
     },
     "execution_count": 9,
     "metadata": {},
     "output_type": "execute_result"
    },
    {
     "data": {
      "image/png": "[encoded data removed]",
      "text/plain": [
       "<Figure size 432x288 with 1 Axes>"
      ]
     },
     "metadata": {},
     "output_type": "display_data"
    }
   ],
   "source": [
    "plt.hist(training.purchase_count)"
   ]
  },
  {
   "cell_type": "code",
   "execution_count": 10,
   "metadata": {
    "ExecuteTime": {
     "end_time": "2019-02-19T00:47:30.153665Z",
     "start_time": "2019-02-19T00:47:29.963858Z"
    }
   },
   "outputs": [
    {
     "data": {
      "text/plain": [
       "(array([    0.,     0.,     0.,     0.,     0., 32591.,     0.,     0.,\n",
       "            0.,     0.]),\n",
       " array([-0.5, -0.4, -0.3, -0.2, -0.1,  0. ,  0.1,  0.2,  0.3,  0.4,  0.5]),\n",
       " <a list of 10 Patch objects>)"
      ]
     },
     "execution_count": 10,
     "metadata": {},
     "output_type": "execute_result"
    },
    {
     "data": {
      "image/png": "[encoded data removed]",
      "text/plain": [
       "<Figure size 432x288 with 1 Axes>"
      ]
     },
     "metadata": {},
     "output_type": "display_data"
    }
   ],
   "source": [
    "plt.hist(np.log(winsorize(training.purchase_count, limits=[0,0.05])))"
   ]
  },
  {
   "cell_type": "markdown",
   "metadata": {},
   "source": [
    "### Session Count"
   ]
  },
  {
   "cell_type": "code",
   "execution_count": 11,
   "metadata": {
    "ExecuteTime": {
     "end_time": "2019-02-19T00:45:23.880877Z",
     "start_time": "2019-02-19T00:45:23.731952Z"
    }
   },
   "outputs": [
    {
     "data": {
      "text/plain": [
       "(array([6.15366e+05, 3.30500e+03, 5.74000e+02, 1.21000e+02, 4.00000e+01,\n",
       "        9.00000e+00, 1.00000e+00, 6.00000e+00, 0.00000e+00, 1.00000e+00]),\n",
       " array([   0. ,  126.4,  252.8,  379.2,  505.6,  632. ,  758.4,  884.8,\n",
       "        1011.2, 1137.6, 1264. ]),\n",
       " <a list of 10 Patch objects>)"
      ]
     },
     "execution_count": 11,
     "metadata": {},
     "output_type": "execute_result"
    },
    {
     "data": {
      "image/png": "[encoded data removed]",
      "text/plain": [
       "<Figure size 432x288 with 1 Axes>"
      ]
     },
     "metadata": {},
     "output_type": "display_data"
    }
   ],
   "source": [
    "plt.hist(training.session_count)"
   ]
  },
  {
   "cell_type": "code",
   "execution_count": 12,
   "metadata": {
    "ExecuteTime": {
     "end_time": "2019-02-19T00:47:50.809155Z",
     "start_time": "2019-02-19T00:47:50.621520Z"
    }
   },
   "outputs": [
    {
     "data": {
      "text/plain": [
       "(array([2.81091e+05, 9.48110e+04, 2.38000e+02, 7.73430e+04, 2.07790e+04,\n",
       "        3.76470e+04, 2.70020e+04, 1.97900e+04, 1.62170e+04, 4.45050e+04]),\n",
       " array([0.        , 0.35553481, 0.71106961, 1.06660442, 1.42213922,\n",
       "        1.77767403, 2.13320884, 2.48874364, 2.84427845, 3.19981326,\n",
       "        3.55534806]),\n",
       " <a list of 10 Patch objects>)"
      ]
     },
     "execution_count": 12,
     "metadata": {},
     "output_type": "execute_result"
    },
    {
     "data": {
      "image/png": "[encoded data removed]",
      "text/plain": [
       "<Figure size 432x288 with 1 Axes>"
      ]
     },
     "metadata": {},
     "output_type": "display_data"
    }
   ],
   "source": [
    "plt.hist(np.log(winsorize(training.session_count, limits=[0,0.05])))"
   ]
  },
  {
   "cell_type": "markdown",
   "metadata": {},
   "source": [
    "### Country"
   ]
  },
  {
   "cell_type": "code",
   "execution_count": 13,
   "metadata": {
    "ExecuteTime": {
     "end_time": "2019-02-19T00:54:06.193825Z",
     "start_time": "2019-02-19T00:54:06.146670Z"
    },
    "scrolled": true
   },
   "outputs": [
    {
     "data": {
      "text/plain": [
       "US    278279\n",
       "GB     44216\n",
       "IN     43073\n",
       "PH     26856\n",
       "CA     19692\n",
       "AU     17073\n",
       "ZA     11240\n",
       "ID      9994\n",
       "MY      8439\n",
       "BR      7479\n",
       "DE      6235\n",
       "PK      5463\n",
       "NL      5250\n",
       "BD      4340\n",
       "SE      4026\n",
       "PL      3944\n",
       "EG      3901\n",
       "NZ      3820\n",
       "RO      3706\n",
       "MX      3656\n",
       "FR      3492\n",
       "SG      3470\n",
       "NG      3380\n",
       "VN      3088\n",
       "TR      2972\n",
       "RU      2819\n",
       "IT      2757\n",
       "NP      2740\n",
       "BE      2699\n",
       "IE      2696\n",
       "       ...  \n",
       "TJ         7\n",
       "AD         7\n",
       "GN         6\n",
       "TL         5\n",
       "MC         4\n",
       "BI         4\n",
       "EH         4\n",
       "DJ         4\n",
       "CG         4\n",
       "LI         4\n",
       "VU         3\n",
       "KI         3\n",
       "FM         3\n",
       "WS         3\n",
       "YT         3\n",
       "MS         3\n",
       "SB         2\n",
       "NR         2\n",
       "AX         2\n",
       "SS         2\n",
       "BL         2\n",
       "NF         1\n",
       "ST         1\n",
       "SJ         1\n",
       "LS         1\n",
       "PM         1\n",
       "CK         1\n",
       "GQ         1\n",
       "NU         1\n",
       "FK         1\n",
       "Name: country, Length: 227, dtype: int64"
      ]
     },
     "execution_count": 13,
     "metadata": {},
     "output_type": "execute_result"
    }
   ],
   "source": [
    "training.country.value_counts()"
   ]
  },
  {
   "cell_type": "markdown",
   "metadata": {
    "ExecuteTime": {
     "end_time": "2019-02-19T00:27:02.402511Z",
     "start_time": "2019-02-19T00:27:02.364280Z"
    }
   },
   "source": [
    "### OS"
   ]
  },
  {
   "cell_type": "code",
   "execution_count": 14,
   "metadata": {
    "ExecuteTime": {
     "end_time": "2019-02-19T00:54:25.202558Z",
     "start_time": "2019-02-19T00:54:25.155215Z"
    }
   },
   "outputs": [
    {
     "data": {
      "text/plain": [
       "Android OS    411401\n",
       "iOS           203465\n",
       "iPhone OS       4319\n",
       "Missing          238\n",
       "Name: os_name, dtype: int64"
      ]
     },
     "execution_count": 14,
     "metadata": {},
     "output_type": "execute_result"
    }
   ],
   "source": [
    "training.os_name.value_counts()"
   ]
  },
  {
   "cell_type": "markdown",
   "metadata": {},
   "source": [
    "### Previous Session Duration"
   ]
  },
  {
   "cell_type": "code",
   "execution_count": 16,
   "metadata": {
    "ExecuteTime": {
     "end_time": "2019-02-19T00:46:23.395170Z",
     "start_time": "2019-02-19T00:46:22.821198Z"
    }
   },
   "outputs": [
    {
     "data": {
      "text/plain": [
       "(array([6.16697e+05, 2.10700e+03, 2.98000e+02, 5.00000e+01, 1.40000e+01,\n",
       "        1.20000e+01, 3.00000e+00, 2.00000e+00, 1.00000e+00, 1.00000e+00]),\n",
       " array([0.00000000e+00, 9.69603636e+07, 1.93920727e+08, 2.90881091e+08,\n",
       "        3.87841454e+08, 4.84801818e+08, 5.81762181e+08, 6.78722545e+08,\n",
       "        7.75682909e+08, 8.72643272e+08, 9.69603636e+08]),\n",
       " <a list of 10 Patch objects>)"
      ]
     },
     "execution_count": 16,
     "metadata": {},
     "output_type": "execute_result"
    },
    {
     "data": {
      "image/png": "[encoded data removed]",
      "text/plain": [
       "<Figure size 432x288 with 1 Axes>"
      ]
     },
     "metadata": {},
     "output_type": "display_data"
    }
   ],
   "source": [
    "plt.hist(training.previous_sessions_duration)"
   ]
  },
  {
   "cell_type": "code",
   "execution_count": 17,
   "metadata": {
    "ExecuteTime": {
     "end_time": "2019-02-19T00:48:26.671465Z",
     "start_time": "2019-02-19T00:48:26.434094Z"
    }
   },
   "outputs": [
    {
     "data": {
      "text/plain": [
       "(array([2.86823e+05, 1.70000e+01, 6.40000e+01, 4.41000e+02, 2.21900e+03,\n",
       "        1.01690e+04, 2.71110e+04, 6.22270e+04, 1.13642e+05, 1.16710e+05]),\n",
       " array([ 0.40546511,  2.05185151,  3.69823791,  5.34462431,  6.99101071,\n",
       "         8.63739711, 10.28378351, 11.93016991, 13.57655631, 15.2229427 ,\n",
       "        16.8693291 ]),\n",
       " <a list of 10 Patch objects>)"
      ]
     },
     "execution_count": 17,
     "metadata": {},
     "output_type": "execute_result"
    },
    {
     "data": {
      "image/png": "[encoded data removed]",
      "text/plain": [
       "<Figure size 432x288 with 1 Axes>"
      ]
     },
     "metadata": {},
     "output_type": "display_data"
    }
   ],
   "source": [
    "plt.hist(np.log(winsorize(training.previous_sessions_duration, limits=[0,0.05])))"
   ]
  },
  {
   "cell_type": "markdown",
   "metadata": {},
   "source": [
    "### Spending Value"
   ]
  },
  {
   "cell_type": "code",
   "execution_count": 18,
   "metadata": {
    "ExecuteTime": {
     "end_time": "2019-02-19T00:46:26.563793Z",
     "start_time": "2019-02-19T00:46:26.399299Z"
    }
   },
   "outputs": [
    {
     "data": {
      "text/plain": [
       "(array([6.18341e+05, 8.74000e+02, 1.48000e+02, 3.50000e+01, 1.40000e+01,\n",
       "        5.00000e+00, 2.00000e+00, 2.00000e+00, 0.00000e+00, 2.00000e+00]),\n",
       " array([   0. ,  105.3,  210.6,  315.9,  421.2,  526.5,  631.8,  737.1,\n",
       "         842.4,  947.7, 1053. ]),\n",
       " <a list of 10 Patch objects>)"
      ]
     },
     "execution_count": 18,
     "metadata": {},
     "output_type": "execute_result"
    },
    {
     "data": {
      "image/png": "[encoded data removed]",
      "text/plain": [
       "<Figure size 432x288 with 1 Axes>"
      ]
     },
     "metadata": {},
     "output_type": "display_data"
    }
   ],
   "source": [
    "plt.hist(training.spend)"
   ]
  },
  {
   "cell_type": "code",
   "execution_count": 19,
   "metadata": {
    "ExecuteTime": {
     "end_time": "2019-02-19T00:49:26.530802Z",
     "start_time": "2019-02-19T00:49:26.341519Z"
    }
   },
   "outputs": [
    {
     "data": {
      "text/plain": [
       "(array([2.86824e+05, 3.20000e+01, 2.85000e+02, 2.08900e+03, 1.37300e+04,\n",
       "        4.21510e+04, 1.13036e+05, 1.22190e+05, 3.75560e+04, 1.29200e+03]),\n",
       " array([ 0.40546511,  2.43415839,  4.46285167,  6.49154495,  8.52023823,\n",
       "        10.54893152, 12.5776248 , 14.60631808, 16.63501136, 18.66370464,\n",
       "        20.69239792]),\n",
       " <a list of 10 Patch objects>)"
      ]
     },
     "execution_count": 19,
     "metadata": {},
     "output_type": "execute_result"
    },
    {
     "data": {
      "image/png": "[encoded data removed]",
      "text/plain": [
       "<Figure size 432x288 with 1 Axes>"
      ]
     },
     "metadata": {},
     "output_type": "display_data"
    }
   ],
   "source": [
    "plt.hist(np.log(winsorize(training.previous_sessions_duration)))"
   ]
  },
  {
   "cell_type": "markdown",
   "metadata": {},
   "source": [
    "### Event Gap"
   ]
  },
  {
   "cell_type": "code",
   "execution_count": 20,
   "metadata": {
    "ExecuteTime": {
     "end_time": "2019-02-19T00:46:29.025886Z",
     "start_time": "2019-02-19T00:46:28.864350Z"
    }
   },
   "outputs": [
    {
     "data": {
      "text/plain": [
       "(array([116865.,  76775.,  69486.,  62518.,  63092.,  57283.,  55601.,\n",
       "         47987.,  42352.,  26807.]),\n",
       " array([1.20960049e+09, 1.73410276e+09, 2.25860504e+09, 2.78310731e+09,\n",
       "        3.30760958e+09, 3.83211186e+09, 4.35661413e+09, 4.88111640e+09,\n",
       "        5.40561868e+09, 5.93012095e+09, 6.45462322e+09]),\n",
       " <a list of 10 Patch objects>)"
      ]
     },
     "execution_count": 20,
     "metadata": {},
     "output_type": "execute_result"
    },
    {
     "data": {
      "image/png": "[encoded data removed]",
      "text/plain": [
       "<Figure size 432x288 with 1 Axes>"
      ]
     },
     "metadata": {},
     "output_type": "display_data"
    }
   ],
   "source": [
    "plt.hist(training.event_gap)"
   ]
  },
  {
   "cell_type": "markdown",
   "metadata": {},
   "source": [
    "### Life Time"
   ]
  },
  {
   "cell_type": "code",
   "execution_count": 21,
   "metadata": {
    "ExecuteTime": {
     "end_time": "2019-02-19T00:46:33.076044Z",
     "start_time": "2019-02-19T00:46:32.904267Z"
    }
   },
   "outputs": [
    {
     "data": {
      "text/plain": [
       "(array([48025., 70806., 72127., 69364., 68687., 66183., 64513., 61058.,\n",
       "        53432., 44990.]),\n",
       " array([6.04800571e+08, 1.18979961e+09, 1.77479866e+09, 2.35979770e+09,\n",
       "        2.94479675e+09, 3.52979579e+09, 4.11479483e+09, 4.69979388e+09,\n",
       "        5.28479292e+09, 5.86979196e+09, 6.45479101e+09]),\n",
       " <a list of 10 Patch objects>)"
      ]
     },
     "execution_count": 21,
     "metadata": {},
     "output_type": "execute_result"
    },
    {
     "data": {
      "image/png": "[encoded data removed]",
      "text/plain": [
       "<Figure size 432x288 with 1 Axes>"
      ]
     },
     "metadata": {},
     "output_type": "display_data"
    }
   ],
   "source": [
    "plt.hist(training.session_gap)"
   ]
  }
 ],
 "metadata": {
  "kernelspec": {
   "display_name": "Python 3",
   "language": "python",
   "name": "python3"
  },
  "language_info": {
   "codemirror_mode": {
    "name": "ipython",
    "version": 3
   },
   "file_extension": ".py",
   "mimetype": "text/x-python",
   "name": "python",
   "nbconvert_exporter": "python",
   "pygments_lexer": "ipython3",
   "version": "3.6.8"
  }
 },
 "nbformat": 4,
 "nbformat_minor": 2
}
