{
 "cells": [
  {
   "cell_type": "markdown",
   "metadata": {},
   "source": [
    "# Load from Features Notebook"
   ]
  },
  {
   "cell_type": "code",
   "execution_count": 1,
   "metadata": {
    "ExecuteTime": {
     "end_time": "2019-02-18T23:35:01.918493Z",
     "start_time": "2019-02-18T23:34:32.592040Z"
    }
   },
   "outputs": [],
   "source": [
    "import dill\n",
    "dill.load_session(\"Notebook_Saves/features.db\")"
   ]
  },
  {
   "cell_type": "code",
   "execution_count": 2,
   "metadata": {},
   "outputs": [],
   "source": [
    "import lightgbm as lgb"
   ]
  },
  {
   "cell_type": "markdown",
   "metadata": {},
   "source": [
    "# Model"
   ]
  },
  {
   "cell_type": "code",
   "execution_count": 3,
   "metadata": {},
   "outputs": [],
   "source": [
    "X = training.drop(columns=['user_id_hash', 'user_purchase_binary_7_days',\n",
    "                           'user_purchase_binary_14_days', 'country', 'os_name'])\n",
    "y = training['user_purchase_binary_7_days']\n",
    "X_test = submit.drop(columns=['user_id_hash', 'user_purchase_binary_7_days',\n",
    "                              'user_purchase_binary_14_days', 'country', 'os_name'])"
   ]
  },
  {
   "cell_type": "code",
   "execution_count": 4,
   "metadata": {},
   "outputs": [],
   "source": [
    "params = {'num_leaves': 8,\n",
    "          'min_data_in_leaf': 40,\n",
    "          'objective': 'binary',\n",
    "          'max_depth': 16,\n",
    "          'learning_rate': 0.01,\n",
    "          'boosting': 'gbdt',\n",
    "          'bagging_freq': 5,\n",
    "          'bagging_fraction': 0.8,\n",
    "          'feature_fraction': 0.8,\n",
    "          'bagging_seed': 11,\n",
    "          'reg_alpha': 1.7,\n",
    "          'reg_lambda': 5,\n",
    "          'random_state': 42,\n",
    "          'metric': 'auc',\n",
    "          'verbosity': -1,\n",
    "          'subsample': 0.8,\n",
    "#          'min_gain_to_split': 0.01,\n",
    "#          'min_child_weight': 20,\n",
    "          'num_threads': 4}"
   ]
  },
  {
   "cell_type": "code",
   "execution_count": 5,
   "metadata": {},
   "outputs": [],
   "source": [
    "n_fold = 5\n",
    "folds = StratifiedKFold(n_splits=n_fold, shuffle=True, random_state=42)"
   ]
  },
  {
   "cell_type": "code",
   "execution_count": 6,
   "metadata": {},
   "outputs": [
    {
     "name": "stdout",
     "output_type": "stream",
     "text": [
      "Fold 0 started at Wed Feb 20 20:14:24 2019\n",
      "Training until validation scores don't improve for 200 rounds.\n",
      "[300]\ttraining's auc: 0.99427\tvalid_1's auc: 0.993424\n",
      "[600]\ttraining's auc: 0.994539\tvalid_1's auc: 0.993691\n",
      "[900]\ttraining's auc: 0.994703\tvalid_1's auc: 0.993807\n",
      "[1200]\ttraining's auc: 0.994839\tvalid_1's auc: 0.993852\n",
      "[1500]\ttraining's auc: 0.994948\tvalid_1's auc: 0.993882\n",
      "[1800]\ttraining's auc: 0.995053\tvalid_1's auc: 0.99389\n",
      "[2100]\ttraining's auc: 0.995146\tvalid_1's auc: 0.993896\n",
      "[2400]\ttraining's auc: 0.995236\tvalid_1's auc: 0.993895\n",
      "Early stopping, best iteration is:\n",
      "[2203]\ttraining's auc: 0.995176\tvalid_1's auc: 0.993898\n",
      "Fold 1 started at Wed Feb 20 20:16:07 2019\n",
      "Training until validation scores don't improve for 200 rounds.\n",
      "[300]\ttraining's auc: 0.994205\tvalid_1's auc: 0.993751\n",
      "[600]\ttraining's auc: 0.99448\tvalid_1's auc: 0.993988\n",
      "[900]\ttraining's auc: 0.994638\tvalid_1's auc: 0.994077\n",
      "[1200]\ttraining's auc: 0.994769\tvalid_1's auc: 0.994117\n",
      "[1500]\ttraining's auc: 0.994881\tvalid_1's auc: 0.994147\n",
      "[1800]\ttraining's auc: 0.994982\tvalid_1's auc: 0.994163\n",
      "Early stopping, best iteration is:\n",
      "[1880]\ttraining's auc: 0.995009\tvalid_1's auc: 0.994169\n",
      "Fold 2 started at Wed Feb 20 20:17:34 2019\n",
      "Training until validation scores don't improve for 200 rounds.\n",
      "[300]\ttraining's auc: 0.994078\tvalid_1's auc: 0.994188\n",
      "[600]\ttraining's auc: 0.994376\tvalid_1's auc: 0.994365\n",
      "[900]\ttraining's auc: 0.99455\tvalid_1's auc: 0.994444\n",
      "[1200]\ttraining's auc: 0.994683\tvalid_1's auc: 0.99449\n",
      "[1500]\ttraining's auc: 0.994797\tvalid_1's auc: 0.994513\n",
      "Early stopping, best iteration is:\n",
      "[1544]\ttraining's auc: 0.994814\tvalid_1's auc: 0.994514\n",
      "Fold 3 started at Wed Feb 20 20:18:45 2019\n",
      "Training until validation scores don't improve for 200 rounds.\n",
      "[300]\ttraining's auc: 0.994165\tvalid_1's auc: 0.993804\n",
      "[600]\ttraining's auc: 0.99446\tvalid_1's auc: 0.993984\n",
      "[900]\ttraining's auc: 0.994645\tvalid_1's auc: 0.994067\n",
      "[1200]\ttraining's auc: 0.99478\tvalid_1's auc: 0.99409\n",
      "[1500]\ttraining's auc: 0.994903\tvalid_1's auc: 0.994112\n",
      "Early stopping, best iteration is:\n",
      "[1505]\ttraining's auc: 0.994905\tvalid_1's auc: 0.994112\n",
      "Fold 4 started at Wed Feb 20 20:19:53 2019\n",
      "Training until validation scores don't improve for 200 rounds.\n",
      "[300]\ttraining's auc: 0.994231\tvalid_1's auc: 0.993748\n",
      "[600]\ttraining's auc: 0.994518\tvalid_1's auc: 0.993927\n",
      "[900]\ttraining's auc: 0.994681\tvalid_1's auc: 0.993995\n",
      "[1200]\ttraining's auc: 0.994815\tvalid_1's auc: 0.994027\n",
      "[1500]\ttraining's auc: 0.994928\tvalid_1's auc: 0.994042\n",
      "[1800]\ttraining's auc: 0.995024\tvalid_1's auc: 0.994053\n",
      "[2100]\ttraining's auc: 0.995117\tvalid_1's auc: 0.994065\n",
      "[2400]\ttraining's auc: 0.995208\tvalid_1's auc: 0.994067\n",
      "Early stopping, best iteration is:\n",
      "[2275]\ttraining's auc: 0.995171\tvalid_1's auc: 0.994073\n"
     ]
    }
   ],
   "source": [
    "seven_day_pred = np.zeros(len(X_test))\n",
    "for fold_n, (train_index, valid_index) in enumerate(folds.split(X, y)):\n",
    "    print('Fold', fold_n, 'started at', time.ctime())\n",
    "    X_train, X_valid = X.iloc[train_index], X.iloc[valid_index]\n",
    "    y_train, y_valid = y.iloc[train_index], y.iloc[valid_index]\n",
    "\n",
    "    train_data = lgb.Dataset(X_train, label=y_train)\n",
    "    valid_data = lgb.Dataset(X_valid, label=y_valid)\n",
    "\n",
    "    model = lgb.train(params, train_data, num_boost_round=20000,\n",
    "                      valid_sets=[train_data, valid_data],\n",
    "                      verbose_eval=300,\n",
    "                      early_stopping_rounds=200)\n",
    "\n",
    "    #y_pred_valid = model.predict(X_valid)\n",
    "    seven_day_pred += model.predict(X_test,\n",
    "                                    num_iteration=model.best_iteration)/n_fold"
   ]
  },
  {
   "cell_type": "code",
   "execution_count": 7,
   "metadata": {},
   "outputs": [],
   "source": [
    "X = training.drop(columns=['user_id_hash', 'user_purchase_binary_7_days',\n",
    "                           'user_purchase_binary_14_days', 'country', 'os_name'])\n",
    "y = training['user_purchase_binary_14_days']\n",
    "X_test = submit.drop(columns=['user_id_hash', 'user_purchase_binary_7_days',\n",
    "                              'user_purchase_binary_14_days', 'country', 'os_name'])"
   ]
  },
  {
   "cell_type": "code",
   "execution_count": 8,
   "metadata": {},
   "outputs": [
    {
     "name": "stdout",
     "output_type": "stream",
     "text": [
      "Fold 0 started at Wed Feb 20 20:21:40 2019\n",
      "Training until validation scores don't improve for 200 rounds.\n",
      "[300]\ttraining's auc: 0.983424\tvalid_1's auc: 0.981831\n",
      "[600]\ttraining's auc: 0.984556\tvalid_1's auc: 0.983256\n",
      "[900]\ttraining's auc: 0.985182\tvalid_1's auc: 0.983808\n",
      "[1200]\ttraining's auc: 0.985573\tvalid_1's auc: 0.984025\n",
      "[1500]\ttraining's auc: 0.985902\tvalid_1's auc: 0.984162\n",
      "[1800]\ttraining's auc: 0.986177\tvalid_1's auc: 0.984205\n",
      "[2100]\ttraining's auc: 0.986468\tvalid_1's auc: 0.984274\n",
      "Early stopping, best iteration is:\n",
      "[2050]\ttraining's auc: 0.986427\tvalid_1's auc: 0.984286\n",
      "Fold 1 started at Wed Feb 20 20:23:24 2019\n",
      "Training until validation scores don't improve for 200 rounds.\n",
      "[300]\ttraining's auc: 0.983665\tvalid_1's auc: 0.980812\n",
      "[600]\ttraining's auc: 0.984814\tvalid_1's auc: 0.982053\n",
      "[900]\ttraining's auc: 0.985487\tvalid_1's auc: 0.982411\n",
      "[1200]\ttraining's auc: 0.985887\tvalid_1's auc: 0.982657\n",
      "[1500]\ttraining's auc: 0.986162\tvalid_1's auc: 0.982739\n",
      "[1800]\ttraining's auc: 0.986468\tvalid_1's auc: 0.982858\n",
      "[2100]\ttraining's auc: 0.98672\tvalid_1's auc: 0.98294\n",
      "[2400]\ttraining's auc: 0.987017\tvalid_1's auc: 0.982969\n",
      "[2700]\ttraining's auc: 0.987259\tvalid_1's auc: 0.982962\n",
      "Early stopping, best iteration is:\n",
      "[2522]\ttraining's auc: 0.987113\tvalid_1's auc: 0.98299\n",
      "Fold 2 started at Wed Feb 20 20:25:32 2019\n",
      "Training until validation scores don't improve for 200 rounds.\n",
      "[300]\ttraining's auc: 0.982806\tvalid_1's auc: 0.984236\n",
      "[600]\ttraining's auc: 0.984073\tvalid_1's auc: 0.985228\n",
      "[900]\ttraining's auc: 0.984733\tvalid_1's auc: 0.985596\n",
      "[1200]\ttraining's auc: 0.98517\tvalid_1's auc: 0.985746\n",
      "[1500]\ttraining's auc: 0.985526\tvalid_1's auc: 0.985818\n",
      "Early stopping, best iteration is:\n",
      "[1435]\ttraining's auc: 0.985474\tvalid_1's auc: 0.985834\n",
      "Fold 3 started at Wed Feb 20 20:26:45 2019\n",
      "Training until validation scores don't improve for 200 rounds.\n",
      "[300]\ttraining's auc: 0.982569\tvalid_1's auc: 0.985406\n",
      "[600]\ttraining's auc: 0.983895\tvalid_1's auc: 0.986084\n",
      "[900]\ttraining's auc: 0.984639\tvalid_1's auc: 0.986385\n",
      "[1200]\ttraining's auc: 0.985097\tvalid_1's auc: 0.9865\n",
      "[1500]\ttraining's auc: 0.985454\tvalid_1's auc: 0.986572\n",
      "[1800]\ttraining's auc: 0.98576\tvalid_1's auc: 0.986612\n",
      "Early stopping, best iteration is:\n",
      "[1823]\ttraining's auc: 0.985781\tvalid_1's auc: 0.986619\n",
      "Fold 4 started at Wed Feb 20 20:28:19 2019\n",
      "Training until validation scores don't improve for 200 rounds.\n",
      "[300]\ttraining's auc: 0.983818\tvalid_1's auc: 0.980024\n",
      "[600]\ttraining's auc: 0.985047\tvalid_1's auc: 0.981286\n",
      "[900]\ttraining's auc: 0.985752\tvalid_1's auc: 0.981597\n",
      "[1200]\ttraining's auc: 0.98611\tvalid_1's auc: 0.981765\n",
      "[1500]\ttraining's auc: 0.986443\tvalid_1's auc: 0.981841\n",
      "[1800]\ttraining's auc: 0.986722\tvalid_1's auc: 0.981886\n",
      "[2100]\ttraining's auc: 0.987004\tvalid_1's auc: 0.98193\n",
      "Early stopping, best iteration is:\n",
      "[1990]\ttraining's auc: 0.986885\tvalid_1's auc: 0.98194\n"
     ]
    }
   ],
   "source": [
    "fourteen_day_pred = np.zeros(len(X_test))\n",
    "for fold_n, (train_index, valid_index) in enumerate(folds.split(X, y)):\n",
    "    print('Fold', fold_n, 'started at', time.ctime())\n",
    "    X_train, X_valid = X.iloc[train_index], X.iloc[valid_index]\n",
    "    y_train, y_valid = y.iloc[train_index], y.iloc[valid_index]\n",
    "\n",
    "    train_data = lgb.Dataset(X_train, label=y_train)\n",
    "    valid_data = lgb.Dataset(X_valid, label=y_valid)\n",
    "\n",
    "    model = lgb.train(params, train_data, num_boost_round=20000,\n",
    "                      valid_sets=[train_data, valid_data],\n",
    "                      verbose_eval=300,\n",
    "                      early_stopping_rounds=200)\n",
    "\n",
    "    #y_pred_valid = model.predict(X_valid)\n",
    "    fourteen_day_pred += model.predict(X_test,\n",
    "                                       num_iteration=model.best_iteration)/n_fold"
   ]
  },
  {
   "cell_type": "code",
   "execution_count": 9,
   "metadata": {},
   "outputs": [],
   "source": [
    "submission['user_purchase_binary_7_days'] = seven_day_pred\n",
    "submission['user_purchase_binary_14_days'] = fourteen_day_pred"
   ]
  },
  {
   "cell_type": "code",
   "execution_count": 10,
   "metadata": {},
   "outputs": [],
   "source": [
    "submission.to_csv('submission0220_2.csv', index=False)"
   ]
  },
  {
   "cell_type": "code",
   "execution_count": 129,
   "metadata": {},
   "outputs": [
    {
     "name": "stdout",
     "output_type": "stream",
     "text": [
      "100%|██████████████████████████████████████| 32.6M/32.6M [00:02<00:00, 16.1MB/s]\n",
      "Successfully submitted to Predict in-app purchases"
     ]
    }
   ],
   "source": [
    "!kaggle competitions submit predict-in-app-purchase -f submission0217.csv -m \"Using full 11 features and model on lgbm\""
   ]
  }
 ],
 "metadata": {
  "kernelspec": {
   "display_name": "Python 3",
   "language": "python",
   "name": "python3"
  },
  "language_info": {
   "codemirror_mode": {
    "name": "ipython",
    "version": 3
   },
   "file_extension": ".py",
   "mimetype": "text/x-python",
   "name": "python",
   "nbconvert_exporter": "python",
   "pygments_lexer": "ipython3",
   "version": "3.6.8"
  }
 },
 "nbformat": 4,
 "nbformat_minor": 2
}
