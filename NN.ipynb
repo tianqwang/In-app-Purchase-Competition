{
 "cells": [
  {
   "cell_type": "markdown",
   "metadata": {},
   "source": [
    "# Model\n",
    "This notebook is for modeling, we use different base models and use stacking to ensemble them."
   ]
  },
  {
   "cell_type": "markdown",
   "metadata": {},
   "source": [
    "## Packages Load"
   ]
  },
  {
   "cell_type": "code",
   "execution_count": 1,
   "metadata": {},
   "outputs": [],
   "source": [
    "import pandas as pd\n",
    "import numpy as np\n",
    "import multiprocessing\n",
    "from datetime import datetime\n",
    "from sklearn.model_selection import StratifiedKFold\n",
    "from sklearn.preprocessing import OneHotEncoder\n",
    "import lightgbm as lgb\n",
    "import xgboost as xgb\n",
    "import catboost as cab\n",
    "import time\n",
    "from scipy.stats.mstats import winsorize\n",
    "import matplotlib.pyplot as plt\n",
    "import torch\n",
    "import torch.nn as nn\n",
    "import torch.nn.functional as F\n",
    "import torch.optim as optim\n",
    "from torchvision import datasets, transforms\n",
    "from torch.utils.data import Dataset\n",
    "import numpy as np\n",
    "import time\n",
    "from sklearn.metrics import roc_auc_score\n",
    "from tqdm import tqdm_notebook"
   ]
  },
  {
   "cell_type": "code",
   "execution_count": 2,
   "metadata": {},
   "outputs": [],
   "source": [
    "# Read Files\n",
    "events = pd.read_pickle('data/events.pkl')\n",
    "attr = pd.read_pickle('data/attr.pkl')\n",
    "session = pd.read_pickle('data/session.pkl')\n",
    "submission = pd.read_csv('data/submission.csv')"
   ]
  },
  {
   "cell_type": "markdown",
   "metadata": {},
   "source": [
    "## Load Data"
   ]
  },
  {
   "cell_type": "code",
   "execution_count": 82,
   "metadata": {},
   "outputs": [],
   "source": [
    "training = pd.read_pickle('training_att.pkl')\n",
    "prediction = pd.read_pickle('prediction_att.pkl')"
   ]
  },
  {
   "cell_type": "code",
   "execution_count": 83,
   "metadata": {},
   "outputs": [
    {
     "data": {
      "text/html": [
       "<div>\n",
       "<style scoped>\n",
       "    .dataframe tbody tr th:only-of-type {\n",
       "        vertical-align: middle;\n",
       "    }\n",
       "\n",
       "    .dataframe tbody tr th {\n",
       "        vertical-align: top;\n",
       "    }\n",
       "\n",
       "    .dataframe thead th {\n",
       "        text-align: right;\n",
       "    }\n",
       "</style>\n",
       "<table border=\"1\" class=\"dataframe\">\n",
       "  <thead>\n",
       "    <tr style=\"text-align: right;\">\n",
       "      <th></th>\n",
       "      <th>user_id_hash</th>\n",
       "      <th>user_purchase_binary_7_days</th>\n",
       "      <th>user_purchase_binary_14_days</th>\n",
       "      <th>event_count</th>\n",
       "      <th>purchase_count_1_week</th>\n",
       "      <th>purchase_count_2_week</th>\n",
       "      <th>purchase_count_3_week</th>\n",
       "      <th>purchase_count_4_week</th>\n",
       "      <th>session_count</th>\n",
       "      <th>mean_sessions_duration</th>\n",
       "      <th>...</th>\n",
       "      <th>attr_76_mean</th>\n",
       "      <th>attr_76_max</th>\n",
       "      <th>attr_77_mean</th>\n",
       "      <th>attr_77_max</th>\n",
       "      <th>attr_78_mean</th>\n",
       "      <th>attr_78_max</th>\n",
       "      <th>country</th>\n",
       "      <th>os_name</th>\n",
       "      <th>city</th>\n",
       "      <th>region</th>\n",
       "    </tr>\n",
       "  </thead>\n",
       "  <tbody>\n",
       "    <tr>\n",
       "      <th>0</th>\n",
       "      <td>b5291d394748a326fb4ab798c513a2312b926aeddee46c...</td>\n",
       "      <td>False</td>\n",
       "      <td>False</td>\n",
       "      <td>87</td>\n",
       "      <td>0</td>\n",
       "      <td>0</td>\n",
       "      <td>0</td>\n",
       "      <td>0</td>\n",
       "      <td>87</td>\n",
       "      <td>8.613168e+05</td>\n",
       "      <td>...</td>\n",
       "      <td>0.0</td>\n",
       "      <td>0.0</td>\n",
       "      <td>0.000000</td>\n",
       "      <td>0.0</td>\n",
       "      <td>1.0</td>\n",
       "      <td>1.0</td>\n",
       "      <td>OM</td>\n",
       "      <td>Android OS</td>\n",
       "      <td>muscat</td>\n",
       "      <td>ma</td>\n",
       "    </tr>\n",
       "    <tr>\n",
       "      <th>1</th>\n",
       "      <td>c1105124087971191cf1e992a0870eb6b7f507bc236f00...</td>\n",
       "      <td>False</td>\n",
       "      <td>False</td>\n",
       "      <td>37</td>\n",
       "      <td>0</td>\n",
       "      <td>0</td>\n",
       "      <td>0</td>\n",
       "      <td>0</td>\n",
       "      <td>37</td>\n",
       "      <td>0.000000e+00</td>\n",
       "      <td>...</td>\n",
       "      <td>0.0</td>\n",
       "      <td>0.0</td>\n",
       "      <td>0.000000</td>\n",
       "      <td>0.0</td>\n",
       "      <td>1.0</td>\n",
       "      <td>1.0</td>\n",
       "      <td>AU</td>\n",
       "      <td>Android OS</td>\n",
       "      <td>melbourne</td>\n",
       "      <td>vic</td>\n",
       "    </tr>\n",
       "    <tr>\n",
       "      <th>2</th>\n",
       "      <td>797da9e3676e77980c7fc938c6bb7c9d70ef826e861f88...</td>\n",
       "      <td>False</td>\n",
       "      <td>False</td>\n",
       "      <td>265</td>\n",
       "      <td>0</td>\n",
       "      <td>0</td>\n",
       "      <td>0</td>\n",
       "      <td>5</td>\n",
       "      <td>265</td>\n",
       "      <td>7.463017e+06</td>\n",
       "      <td>...</td>\n",
       "      <td>0.0</td>\n",
       "      <td>0.0</td>\n",
       "      <td>0.000000</td>\n",
       "      <td>0.0</td>\n",
       "      <td>1.0</td>\n",
       "      <td>1.0</td>\n",
       "      <td>US</td>\n",
       "      <td>iOS</td>\n",
       "      <td>smiths station</td>\n",
       "      <td>al</td>\n",
       "    </tr>\n",
       "    <tr>\n",
       "      <th>3</th>\n",
       "      <td>09b6f8dc73bb48e8d9834647f77f74b55e42f1bf39b4f7...</td>\n",
       "      <td>False</td>\n",
       "      <td>False</td>\n",
       "      <td>914</td>\n",
       "      <td>0</td>\n",
       "      <td>0</td>\n",
       "      <td>0</td>\n",
       "      <td>0</td>\n",
       "      <td>914</td>\n",
       "      <td>2.455326e+07</td>\n",
       "      <td>...</td>\n",
       "      <td>0.0</td>\n",
       "      <td>0.0</td>\n",
       "      <td>3.846154</td>\n",
       "      <td>10.0</td>\n",
       "      <td>1.0</td>\n",
       "      <td>1.0</td>\n",
       "      <td>CA</td>\n",
       "      <td>Android OS</td>\n",
       "      <td>brampton</td>\n",
       "      <td>on</td>\n",
       "    </tr>\n",
       "    <tr>\n",
       "      <th>4</th>\n",
       "      <td>3f2eae6596d67cee8a6ce19e3d77ef414f5007b72542ce...</td>\n",
       "      <td>False</td>\n",
       "      <td>False</td>\n",
       "      <td>12</td>\n",
       "      <td>0</td>\n",
       "      <td>0</td>\n",
       "      <td>0</td>\n",
       "      <td>0</td>\n",
       "      <td>12</td>\n",
       "      <td>0.000000e+00</td>\n",
       "      <td>...</td>\n",
       "      <td>0.0</td>\n",
       "      <td>0.0</td>\n",
       "      <td>0.000000</td>\n",
       "      <td>0.0</td>\n",
       "      <td>1.0</td>\n",
       "      <td>1.0</td>\n",
       "      <td>IN</td>\n",
       "      <td>Android OS</td>\n",
       "      <td>mumbai</td>\n",
       "      <td>mh</td>\n",
       "    </tr>\n",
       "  </tbody>\n",
       "</table>\n",
       "<p>5 rows × 74 columns</p>\n",
       "</div>"
      ],
      "text/plain": [
       "                                        user_id_hash  \\\n",
       "0  b5291d394748a326fb4ab798c513a2312b926aeddee46c...   \n",
       "1  c1105124087971191cf1e992a0870eb6b7f507bc236f00...   \n",
       "2  797da9e3676e77980c7fc938c6bb7c9d70ef826e861f88...   \n",
       "3  09b6f8dc73bb48e8d9834647f77f74b55e42f1bf39b4f7...   \n",
       "4  3f2eae6596d67cee8a6ce19e3d77ef414f5007b72542ce...   \n",
       "\n",
       "   user_purchase_binary_7_days  user_purchase_binary_14_days  event_count  \\\n",
       "0                        False                         False           87   \n",
       "1                        False                         False           37   \n",
       "2                        False                         False          265   \n",
       "3                        False                         False          914   \n",
       "4                        False                         False           12   \n",
       "\n",
       "   purchase_count_1_week  purchase_count_2_week  purchase_count_3_week  \\\n",
       "0                      0                      0                      0   \n",
       "1                      0                      0                      0   \n",
       "2                      0                      0                      0   \n",
       "3                      0                      0                      0   \n",
       "4                      0                      0                      0   \n",
       "\n",
       "   purchase_count_4_week  session_count  mean_sessions_duration  ...  \\\n",
       "0                      0             87            8.613168e+05  ...   \n",
       "1                      0             37            0.000000e+00  ...   \n",
       "2                      5            265            7.463017e+06  ...   \n",
       "3                      0            914            2.455326e+07  ...   \n",
       "4                      0             12            0.000000e+00  ...   \n",
       "\n",
       "   attr_76_mean  attr_76_max  attr_77_mean  attr_77_max  attr_78_mean  \\\n",
       "0           0.0          0.0      0.000000          0.0           1.0   \n",
       "1           0.0          0.0      0.000000          0.0           1.0   \n",
       "2           0.0          0.0      0.000000          0.0           1.0   \n",
       "3           0.0          0.0      3.846154         10.0           1.0   \n",
       "4           0.0          0.0      0.000000          0.0           1.0   \n",
       "\n",
       "   attr_78_max  country     os_name            city  region  \n",
       "0          1.0       OM  Android OS          muscat      ma  \n",
       "1          1.0       AU  Android OS       melbourne     vic  \n",
       "2          1.0       US         iOS  smiths station      al  \n",
       "3          1.0       CA  Android OS        brampton      on  \n",
       "4          1.0       IN  Android OS          mumbai      mh  \n",
       "\n",
       "[5 rows x 74 columns]"
      ]
     },
     "execution_count": 83,
     "metadata": {},
     "output_type": "execute_result"
    }
   ],
   "source": [
    "training.head()"
   ]
  },
  {
   "cell_type": "code",
   "execution_count": 84,
   "metadata": {},
   "outputs": [
    {
     "data": {
      "text/plain": [
       "Index(['user_id_hash', 'user_purchase_binary_7_days',\n",
       "       'user_purchase_binary_14_days', 'event_count', 'purchase_count_1_week',\n",
       "       'purchase_count_2_week', 'purchase_count_3_week',\n",
       "       'purchase_count_4_week', 'session_count', 'mean_sessions_duration',\n",
       "       'spend', 'event_gap', 'session_gap', 'purchase_gap', 'life_time',\n",
       "       'event_45', 'event_1', 'event_5', 'event_6', 'event_14', 'event_4',\n",
       "       'event_40', 'event_7', 'event_41', 'event_3', 'event_42', 'attr_0_mean',\n",
       "       'attr_0_max', 'attr_1_mean', 'attr_1_max', 'attr_3_mean', 'attr_3_max',\n",
       "       'attr_4_mean', 'attr_4_max', 'attr_6_mean', 'attr_6_max', 'attr_8_mean',\n",
       "       'attr_8_max', 'attr_9_mean', 'attr_9_max', 'attr_11_mean',\n",
       "       'attr_11_max', 'attr_13_mean', 'attr_13_max', 'attr_14_mean',\n",
       "       'attr_14_max', 'attr_15_mean', 'attr_15_max', 'attr_16_mean',\n",
       "       'attr_16_max', 'attr_17_mean', 'attr_17_max', 'attr_18_mean',\n",
       "       'attr_18_max', 'attr_19_mean', 'attr_19_max', 'attr_20_mean',\n",
       "       'attr_20_max', 'attr_21_mean', 'attr_21_max', 'attr_67_mean',\n",
       "       'attr_67_max', 'attr_75_mean', 'attr_75_max', 'attr_76_mean',\n",
       "       'attr_76_max', 'attr_77_mean', 'attr_77_max', 'attr_78_mean',\n",
       "       'attr_78_max', 'country', 'os_name', 'city', 'region'],\n",
       "      dtype='object')"
      ]
     },
     "execution_count": 84,
     "metadata": {},
     "output_type": "execute_result"
    }
   ],
   "source": [
    "training.columns"
   ]
  },
  {
   "cell_type": "markdown",
   "metadata": {},
   "source": [
    "### Create More Features"
   ]
  },
  {
   "cell_type": "code",
   "execution_count": 85,
   "metadata": {},
   "outputs": [],
   "source": [
    "def create_event_ratio(df):\n",
    "    \n",
    "    event_cols=['event_45', 'event_1', 'event_5', 'event_6', 'event_14',\n",
    "            'event_4', 'event_40', 'event_7', 'event_41', 'event_3', 'event_42']\n",
    "    \n",
    "    for event_col in event_cols:\n",
    "        \n",
    "        df[event_col+'_ratio'] = df[event_col]/df['event_count']\n",
    "    df['purchase_count'] = df['purchase_count_1_week']+df['purchase_count_2_week']+df['purchase_count_3_week']+df['purchase_count_4_week']\n",
    "    df['purchase_ratio'] = df['purchase_count']/df['event_count']\n",
    "        \n",
    "    return df\n",
    "    "
   ]
  },
  {
   "cell_type": "code",
   "execution_count": 86,
   "metadata": {},
   "outputs": [],
   "source": [
    "training = create_event_ratio(training)\n",
    "prediction = create_event_ratio(prediction)"
   ]
  },
  {
   "cell_type": "markdown",
   "metadata": {},
   "source": [
    "### Categorical Feature Encoding"
   ]
  },
  {
   "cell_type": "code",
   "execution_count": 87,
   "metadata": {},
   "outputs": [],
   "source": [
    "# One-Hot Encoding\n",
    "def oh_encoding(df, col='os_name', na_value='missing'):\n",
    "#     df[col] = df[col].fillna(value=na_value)\n",
    "#     dummy = pd.get_dummies(df[col]).drop(columns = [na_value])\n",
    "    dummy = pd.get_dummies(df[col])\n",
    "    dummy['iOS'], dummy['os_android'] = dummy['iOS']+dummy['iPhone OS'], dummy['Android OS']\n",
    "    dummy = dummy.loc[:,['iOS']]\n",
    "    df = pd.concat((df, dummy), axis=1)\n",
    "    return df"
   ]
  },
  {
   "cell_type": "code",
   "execution_count": 88,
   "metadata": {},
   "outputs": [],
   "source": [
    "training = oh_encoding(training)\n",
    "prediction = oh_encoding(prediction)"
   ]
  },
  {
   "cell_type": "code",
   "execution_count": 89,
   "metadata": {},
   "outputs": [],
   "source": [
    "small_country = set(training.country.value_counts()[30:].keys())\n",
    "small_region = set(training.region.value_counts()[50:].keys())\n",
    "small_city = set(training.city.value_counts()[50:].keys())\n",
    "\n",
    "def other_country(df):\n",
    "    df['country'] = df['country'].apply(lambda x: 'other' if x in small_country else x)\n",
    "    return df\n",
    "\n",
    "def other_region(df):\n",
    "    df['region'] = df['region'].apply(lambda x: 'other' if x in small_region else x)\n",
    "    return df\n",
    "\n",
    "def other_city(df):\n",
    "    df['city'] = df['city'].apply(lambda x: 'other' if x in small_city else x)\n",
    "    return df"
   ]
  },
  {
   "cell_type": "code",
   "execution_count": 90,
   "metadata": {},
   "outputs": [],
   "source": [
    "training = other_country(training)\n",
    "training = other_region(training)\n",
    "training = other_city(training)\n",
    "\n",
    "prediction = other_country(prediction)\n",
    "prediction = other_region(prediction)\n",
    "prediction = other_city(prediction)"
   ]
  },
  {
   "cell_type": "code",
   "execution_count": 91,
   "metadata": {},
   "outputs": [],
   "source": [
    "train_y2 = training.user_purchase_binary_14_days\n",
    "# Mean Encoding Country\n",
    "def reg_target_encoding(train, col = \"country\", splits=5):\n",
    "\n",
    "    train[f'{col}_mean_enc'] = 0\n",
    "#     train_y2 = training.user_purchase_binary_14_days.values\n",
    "    skf = StratifiedKFold(splits, shuffle=True, random_state=111)\n",
    "    \n",
    "    for computing_index, encoding_index in skf.split(training,train_y2):\n",
    "        computing, encoding = train.iloc[computing_index], train.iloc[encoding_index]\n",
    "        means = computing.groupby(col).user_purchase_binary_14_days.mean()\n",
    "        train.loc[encoding_index,f'{col}_mean_enc'] = encoding[col].map(means)\n",
    "    return train"
   ]
  },
  {
   "cell_type": "code",
   "execution_count": 92,
   "metadata": {},
   "outputs": [],
   "source": [
    "training =reg_target_encoding(training, col = \"country\")\n",
    "training =reg_target_encoding(training, col = \"region\")\n",
    "training =reg_target_encoding(training, col = \"city\")\n",
    "\n"
   ]
  },
  {
   "cell_type": "code",
   "execution_count": 93,
   "metadata": {},
   "outputs": [],
   "source": [
    "def mean_encoding_test(test, train, col = \"country\"):\n",
    "\n",
    "    global_mean = train.user_purchase_binary_14_days.mean()\n",
    "    mean_device_type = train.groupby(col).user_purchase_binary_14_days.mean()\n",
    "    test[f'{col}_mean_enc'] = test[col].map(mean_device_type)\n",
    "    test[f'{col}_mean_enc'].fillna(global_mean, inplace=True)\n",
    "    \n",
    "    return test\n",
    "    \n",
    "\n",
    "def feature_encoding(df, training_df):\n",
    "#     # One-Hot Encoding OS\n",
    "#     df['os_name'] = df['os_name'].fillna(value='Missing')\n",
    "#     os = pd.get_dummies(df['os_name']).drop(columns = ['Missing'])\n",
    "#     os['os_ios'], os['os_android'] = os['iOS']+os['iPhone OS'], os['Android OS']\n",
    "#     os = os.loc[:,['os_ios', 'os_android']]\n",
    "#     df = pd.concat((df,os), axis=1)\n",
    "    \n",
    "    # Mean Encoding country\n",
    "    df = mean_encoding_test(df, training_df, col = \"country\")   \n",
    "    # Mean Encoding region   \n",
    "    df = mean_encoding_test(df, training_df, col = \"region\")    \n",
    "    # Mean Encoding region   \n",
    "    df = mean_encoding_test(df, training_df, col = \"city\")\n",
    "    return df"
   ]
  },
  {
   "cell_type": "code",
   "execution_count": 94,
   "metadata": {},
   "outputs": [],
   "source": [
    "prediction = feature_encoding(prediction, training)"
   ]
  },
  {
   "cell_type": "markdown",
   "metadata": {},
   "source": [
    "### Numeric Feature Scale"
   ]
  },
  {
   "cell_type": "code",
   "execution_count": 95,
   "metadata": {},
   "outputs": [
    {
     "data": {
      "text/html": [
       "<div>\n",
       "<style scoped>\n",
       "    .dataframe tbody tr th:only-of-type {\n",
       "        vertical-align: middle;\n",
       "    }\n",
       "\n",
       "    .dataframe tbody tr th {\n",
       "        vertical-align: top;\n",
       "    }\n",
       "\n",
       "    .dataframe thead th {\n",
       "        text-align: right;\n",
       "    }\n",
       "</style>\n",
       "<table border=\"1\" class=\"dataframe\">\n",
       "  <thead>\n",
       "    <tr style=\"text-align: right;\">\n",
       "      <th></th>\n",
       "      <th>event_count</th>\n",
       "      <th>purchase_count_1_week</th>\n",
       "      <th>purchase_count_2_week</th>\n",
       "      <th>purchase_count_3_week</th>\n",
       "      <th>purchase_count_4_week</th>\n",
       "      <th>session_count</th>\n",
       "      <th>mean_sessions_duration</th>\n",
       "      <th>spend</th>\n",
       "      <th>event_gap</th>\n",
       "      <th>session_gap</th>\n",
       "      <th>...</th>\n",
       "      <th>event_7_ratio</th>\n",
       "      <th>event_41_ratio</th>\n",
       "      <th>event_3_ratio</th>\n",
       "      <th>event_42_ratio</th>\n",
       "      <th>purchase_count</th>\n",
       "      <th>purchase_ratio</th>\n",
       "      <th>iOS</th>\n",
       "      <th>country_mean_enc</th>\n",
       "      <th>region_mean_enc</th>\n",
       "      <th>city_mean_enc</th>\n",
       "    </tr>\n",
       "  </thead>\n",
       "  <tbody>\n",
       "    <tr>\n",
       "      <th>count</th>\n",
       "      <td>619423.000000</td>\n",
       "      <td>619423.000000</td>\n",
       "      <td>619423.000000</td>\n",
       "      <td>619423.000000</td>\n",
       "      <td>619423.000000</td>\n",
       "      <td>619423.000000</td>\n",
       "      <td>6.187780e+05</td>\n",
       "      <td>619423.0</td>\n",
       "      <td>6.191750e+05</td>\n",
       "      <td>6.187780e+05</td>\n",
       "      <td>...</td>\n",
       "      <td>619175.000000</td>\n",
       "      <td>619175.000000</td>\n",
       "      <td>619175.000000</td>\n",
       "      <td>619175.000000</td>\n",
       "      <td>619423.000000</td>\n",
       "      <td>619175.000000</td>\n",
       "      <td>619423.000000</td>\n",
       "      <td>618883.000000</td>\n",
       "      <td>619149.000000</td>\n",
       "      <td>619151.000000</td>\n",
       "    </tr>\n",
       "    <tr>\n",
       "      <th>mean</th>\n",
       "      <td>170.134648</td>\n",
       "      <td>0.030569</td>\n",
       "      <td>0.048732</td>\n",
       "      <td>0.049472</td>\n",
       "      <td>0.279554</td>\n",
       "      <td>170.134648</td>\n",
       "      <td>3.821014e+06</td>\n",
       "      <td>NaN</td>\n",
       "      <td>2.606123e+09</td>\n",
       "      <td>2.876872e+09</td>\n",
       "      <td>...</td>\n",
       "      <td>0.025014</td>\n",
       "      <td>0.005987</td>\n",
       "      <td>0.005498</td>\n",
       "      <td>0.004464</td>\n",
       "      <td>0.408327</td>\n",
       "      <td>0.000679</td>\n",
       "      <td>0.335543</td>\n",
       "      <td>0.009898</td>\n",
       "      <td>0.009894</td>\n",
       "      <td>0.009895</td>\n",
       "    </tr>\n",
       "    <tr>\n",
       "      <th>std</th>\n",
       "      <td>484.164967</td>\n",
       "      <td>0.584570</td>\n",
       "      <td>0.742280</td>\n",
       "      <td>0.763450</td>\n",
       "      <td>2.555597</td>\n",
       "      <td>484.164967</td>\n",
       "      <td>1.281479e+07</td>\n",
       "      <td>NaN</td>\n",
       "      <td>1.571356e+09</td>\n",
       "      <td>1.514580e+09</td>\n",
       "      <td>...</td>\n",
       "      <td>0.028255</td>\n",
       "      <td>0.010942</td>\n",
       "      <td>0.010289</td>\n",
       "      <td>0.008850</td>\n",
       "      <td>3.271250</td>\n",
       "      <td>0.004899</td>\n",
       "      <td>0.472180</td>\n",
       "      <td>0.005838</td>\n",
       "      <td>0.004883</td>\n",
       "      <td>0.003638</td>\n",
       "    </tr>\n",
       "    <tr>\n",
       "      <th>min</th>\n",
       "      <td>0.000000</td>\n",
       "      <td>0.000000</td>\n",
       "      <td>0.000000</td>\n",
       "      <td>0.000000</td>\n",
       "      <td>0.000000</td>\n",
       "      <td>0.000000</td>\n",
       "      <td>0.000000e+00</td>\n",
       "      <td>0.0</td>\n",
       "      <td>0.000000e+00</td>\n",
       "      <td>6.048002e+08</td>\n",
       "      <td>...</td>\n",
       "      <td>0.000000</td>\n",
       "      <td>0.000000</td>\n",
       "      <td>0.000000</td>\n",
       "      <td>0.000000</td>\n",
       "      <td>0.000000</td>\n",
       "      <td>0.000000</td>\n",
       "      <td>0.000000</td>\n",
       "      <td>0.000000</td>\n",
       "      <td>0.000000</td>\n",
       "      <td>0.000000</td>\n",
       "    </tr>\n",
       "    <tr>\n",
       "      <th>25%</th>\n",
       "      <td>14.000000</td>\n",
       "      <td>0.000000</td>\n",
       "      <td>0.000000</td>\n",
       "      <td>0.000000</td>\n",
       "      <td>0.000000</td>\n",
       "      <td>14.000000</td>\n",
       "      <td>0.000000e+00</td>\n",
       "      <td>0.0</td>\n",
       "      <td>1.266770e+09</td>\n",
       "      <td>1.529740e+09</td>\n",
       "      <td>...</td>\n",
       "      <td>0.000000</td>\n",
       "      <td>0.000000</td>\n",
       "      <td>0.000000</td>\n",
       "      <td>0.000000</td>\n",
       "      <td>0.000000</td>\n",
       "      <td>0.000000</td>\n",
       "      <td>0.000000</td>\n",
       "      <td>0.003808</td>\n",
       "      <td>0.006046</td>\n",
       "      <td>0.009685</td>\n",
       "    </tr>\n",
       "    <tr>\n",
       "      <th>50%</th>\n",
       "      <td>37.000000</td>\n",
       "      <td>0.000000</td>\n",
       "      <td>0.000000</td>\n",
       "      <td>0.000000</td>\n",
       "      <td>0.000000</td>\n",
       "      <td>37.000000</td>\n",
       "      <td>4.491725e+04</td>\n",
       "      <td>27.0</td>\n",
       "      <td>2.480097e+09</td>\n",
       "      <td>2.796741e+09</td>\n",
       "      <td>...</td>\n",
       "      <td>0.017544</td>\n",
       "      <td>0.000000</td>\n",
       "      <td>0.000000</td>\n",
       "      <td>0.000000</td>\n",
       "      <td>0.000000</td>\n",
       "      <td>0.000000</td>\n",
       "      <td>0.000000</td>\n",
       "      <td>0.012712</td>\n",
       "      <td>0.011414</td>\n",
       "      <td>0.009737</td>\n",
       "    </tr>\n",
       "    <tr>\n",
       "      <th>75%</th>\n",
       "      <td>113.000000</td>\n",
       "      <td>0.000000</td>\n",
       "      <td>0.000000</td>\n",
       "      <td>0.000000</td>\n",
       "      <td>0.000000</td>\n",
       "      <td>113.000000</td>\n",
       "      <td>2.262149e+06</td>\n",
       "      <td>63.0</td>\n",
       "      <td>3.883938e+09</td>\n",
       "      <td>4.140815e+09</td>\n",
       "      <td>...</td>\n",
       "      <td>0.041096</td>\n",
       "      <td>0.008929</td>\n",
       "      <td>0.007402</td>\n",
       "      <td>0.002439</td>\n",
       "      <td>0.000000</td>\n",
       "      <td>0.000000</td>\n",
       "      <td>1.000000</td>\n",
       "      <td>0.015214</td>\n",
       "      <td>0.013981</td>\n",
       "      <td>0.009771</td>\n",
       "    </tr>\n",
       "    <tr>\n",
       "      <th>max</th>\n",
       "      <td>24539.000000</td>\n",
       "      <td>65.000000</td>\n",
       "      <td>88.000000</td>\n",
       "      <td>102.000000</td>\n",
       "      <td>444.000000</td>\n",
       "      <td>24539.000000</td>\n",
       "      <td>8.111539e+08</td>\n",
       "      <td>inf</td>\n",
       "      <td>5.849823e+09</td>\n",
       "      <td>5.849990e+09</td>\n",
       "      <td>...</td>\n",
       "      <td>0.333333</td>\n",
       "      <td>0.166667</td>\n",
       "      <td>0.142857</td>\n",
       "      <td>0.100000</td>\n",
       "      <td>445.000000</td>\n",
       "      <td>0.500000</td>\n",
       "      <td>1.000000</td>\n",
       "      <td>0.015350</td>\n",
       "      <td>0.022561</td>\n",
       "      <td>0.025332</td>\n",
       "    </tr>\n",
       "  </tbody>\n",
       "</table>\n",
       "<p>8 rows × 84 columns</p>\n",
       "</div>"
      ],
      "text/plain": [
       "         event_count  purchase_count_1_week  purchase_count_2_week  \\\n",
       "count  619423.000000          619423.000000          619423.000000   \n",
       "mean      170.134648               0.030569               0.048732   \n",
       "std       484.164967               0.584570               0.742280   \n",
       "min         0.000000               0.000000               0.000000   \n",
       "25%        14.000000               0.000000               0.000000   \n",
       "50%        37.000000               0.000000               0.000000   \n",
       "75%       113.000000               0.000000               0.000000   \n",
       "max     24539.000000              65.000000              88.000000   \n",
       "\n",
       "       purchase_count_3_week  purchase_count_4_week  session_count  \\\n",
       "count          619423.000000          619423.000000  619423.000000   \n",
       "mean                0.049472               0.279554     170.134648   \n",
       "std                 0.763450               2.555597     484.164967   \n",
       "min                 0.000000               0.000000       0.000000   \n",
       "25%                 0.000000               0.000000      14.000000   \n",
       "50%                 0.000000               0.000000      37.000000   \n",
       "75%                 0.000000               0.000000     113.000000   \n",
       "max               102.000000             444.000000   24539.000000   \n",
       "\n",
       "       mean_sessions_duration     spend     event_gap   session_gap  ...  \\\n",
       "count            6.187780e+05  619423.0  6.191750e+05  6.187780e+05  ...   \n",
       "mean             3.821014e+06       NaN  2.606123e+09  2.876872e+09  ...   \n",
       "std              1.281479e+07       NaN  1.571356e+09  1.514580e+09  ...   \n",
       "min              0.000000e+00       0.0  0.000000e+00  6.048002e+08  ...   \n",
       "25%              0.000000e+00       0.0  1.266770e+09  1.529740e+09  ...   \n",
       "50%              4.491725e+04      27.0  2.480097e+09  2.796741e+09  ...   \n",
       "75%              2.262149e+06      63.0  3.883938e+09  4.140815e+09  ...   \n",
       "max              8.111539e+08       inf  5.849823e+09  5.849990e+09  ...   \n",
       "\n",
       "       event_7_ratio  event_41_ratio  event_3_ratio  event_42_ratio  \\\n",
       "count  619175.000000   619175.000000  619175.000000   619175.000000   \n",
       "mean        0.025014        0.005987       0.005498        0.004464   \n",
       "std         0.028255        0.010942       0.010289        0.008850   \n",
       "min         0.000000        0.000000       0.000000        0.000000   \n",
       "25%         0.000000        0.000000       0.000000        0.000000   \n",
       "50%         0.017544        0.000000       0.000000        0.000000   \n",
       "75%         0.041096        0.008929       0.007402        0.002439   \n",
       "max         0.333333        0.166667       0.142857        0.100000   \n",
       "\n",
       "       purchase_count  purchase_ratio            iOS  country_mean_enc  \\\n",
       "count   619423.000000   619175.000000  619423.000000     618883.000000   \n",
       "mean         0.408327        0.000679       0.335543          0.009898   \n",
       "std          3.271250        0.004899       0.472180          0.005838   \n",
       "min          0.000000        0.000000       0.000000          0.000000   \n",
       "25%          0.000000        0.000000       0.000000          0.003808   \n",
       "50%          0.000000        0.000000       0.000000          0.012712   \n",
       "75%          0.000000        0.000000       1.000000          0.015214   \n",
       "max        445.000000        0.500000       1.000000          0.015350   \n",
       "\n",
       "       region_mean_enc  city_mean_enc  \n",
       "count    619149.000000  619151.000000  \n",
       "mean          0.009894       0.009895  \n",
       "std           0.004883       0.003638  \n",
       "min           0.000000       0.000000  \n",
       "25%           0.006046       0.009685  \n",
       "50%           0.011414       0.009737  \n",
       "75%           0.013981       0.009771  \n",
       "max           0.022561       0.025332  \n",
       "\n",
       "[8 rows x 84 columns]"
      ]
     },
     "execution_count": 95,
     "metadata": {},
     "output_type": "execute_result"
    }
   ],
   "source": [
    "training.describe()"
   ]
  },
  {
   "cell_type": "markdown",
   "metadata": {},
   "source": [
    "Turn milliseconds gap into hour gap"
   ]
  },
  {
   "cell_type": "code",
   "execution_count": 96,
   "metadata": {},
   "outputs": [],
   "source": [
    "attr_columns = [col for col in training.columns if 'attr' in col]"
   ]
  },
  {
   "cell_type": "code",
   "execution_count": 97,
   "metadata": {},
   "outputs": [],
   "source": [
    "# Turn gap into hours, and duration into minutes, life_time into days\n",
    "def tranform_gap(df):\n",
    "    gap_cols = [col for col in df.columns if 'gap' in col]\n",
    "    df[gap_cols] = df[gap_cols]/3600000\n",
    "    df['mean_sessions_duration'] = df['mean_sessions_duration']/60000\n",
    "    df['life_time'] = df['life_time']/3600000/24\n",
    "    return df"
   ]
  },
  {
   "cell_type": "code",
   "execution_count": 98,
   "metadata": {},
   "outputs": [],
   "source": [
    "from sklearn.preprocessing import MinMaxScaler\n",
    "from sklearn.preprocessing import StandardScaler"
   ]
  },
  {
   "cell_type": "code",
   "execution_count": 99,
   "metadata": {},
   "outputs": [],
   "source": [
    "def fill_missing(df):\n",
    "    attr_columns = [col for col in df.columns if 'attr' in col]\n",
    "    values = {'country': 'other', \n",
    "              'os_name': 'other',\n",
    "              'city': 'other',\n",
    "              'region': 'other',\n",
    "              'mean_sessions_duration': 0,\n",
    "              'event_gap': df['event_gap'].mean(),              \n",
    "              'session_gap': df['event_gap'].mean(),\n",
    "              'life_time': df['life_time'].mean(),\n",
    "              'purchase_gap':  df['purchase_gap'].max()*2,\n",
    "              'event_45_ratio': df['event_45_ratio'].mean(),\n",
    "              'event_1_ratio': df['event_1_ratio'].mean(),\n",
    "              'event_5_ratio': df['event_5_ratio'].mean(),\n",
    "              'event_6_ratio': df['event_6_ratio'].mean(),\n",
    "              'event_14_ratio': df['event_14_ratio'].mean(),\n",
    "              'event_4_ratio': df['event_4_ratio'].mean(),\n",
    "              'event_40_ratio': df['event_40_ratio'].mean(),\n",
    "              'event_7_ratio': df['event_7_ratio'].mean(),\n",
    "              'event_41_ratio': df['event_41_ratio'].mean(),\n",
    "              'event_3_ratio': df['event_3_ratio'].mean(),\n",
    "              'event_42_ratio': df['event_42_ratio'].mean(), \n",
    "              'purchase_ratio': df['purchase_ratio'].mean(),\n",
    "              'attr_67_max': df['attr_67_max'].mean(),\n",
    "              'country_mean_enc': df['country_mean_enc'].mean(),\n",
    "              'region_mean_enc': df['region_mean_enc'].mean(),\n",
    "              'city_mean_enc': df['city_mean_enc'].mean(),\n",
    "              'attr_0_mean': df['attr_0_mean'].mean(),\n",
    "              'attr_0_max': df['attr_0_max'].mean(),\n",
    "            'attr_1_mean': df['attr_1_mean'].mean(),\n",
    "            'attr_1_max': df['attr_1_max'].mean(),\n",
    "            'attr_3_mean': df['attr_3_mean'].mean(),\n",
    "            'attr_3_max': df['attr_3_max'].mean(),\n",
    "            'attr_4_mean': df['attr_4_mean'].mean(),\n",
    "            'attr_4_max': df['attr_4_max'].mean(),\n",
    "            'attr_6_mean': df['attr_6_mean'].mean(),\n",
    "            'attr_6_max': df['attr_6_max'].mean(),\n",
    "            'attr_8_mean': df['attr_8_mean'].mean(),\n",
    "            'attr_8_max': df['attr_8_max'].mean(),\n",
    "            'attr_9_mean': df['attr_9_mean'].mean(),\n",
    "            'attr_9_max': df['attr_9_max'].mean(),\n",
    "            'attr_11_mean': df['attr_11_mean'].mean(),\n",
    "            'attr_11_max': df['attr_11_max'].mean(),\n",
    "            'attr_13_mean': df['attr_13_mean'].mean(),\n",
    "            'attr_13_max': df['attr_13_max'].mean(),\n",
    "            'attr_14_mean': df['attr_14_mean'].mean(),\n",
    "            'attr_14_max': df['attr_14_max'].mean(),\n",
    "            'attr_15_mean': df['attr_15_mean'].mean(),\n",
    "            'attr_15_max': df['attr_15_max'].mean(),\n",
    "            'attr_16_mean': df['attr_16_mean'].mean(),\n",
    "            'attr_16_max': df['attr_16_max'].mean(),\n",
    "            'attr_17_mean': df['attr_17_mean'].mean(),\n",
    "            'attr_17_max': df['attr_17_max'].mean(),\n",
    "            'attr_18_mean': df['attr_18_mean'].mean(),\n",
    "            'attr_18_max': df['attr_18_max'].mean(),\n",
    "            'attr_19_mean': df['attr_19_mean'].mean(),\n",
    "            'attr_19_max': df['attr_19_max'].mean(),\n",
    "            'attr_20_mean': df['attr_20_mean'].mean(),\n",
    "            'attr_20_max': df['attr_20_max'].mean(),\n",
    "            'attr_21_mean': df['attr_21_mean'].mean(),\n",
    "            'attr_21_max': df['attr_21_max'].mean(),\n",
    "            'attr_67_mean': df['attr_67_mean'].mean(),\n",
    "            'attr_67_max': df['attr_67_max'].mean(),\n",
    "            'attr_75_mean': df['attr_75_mean'].mean(),\n",
    "            'attr_75_max': df['attr_75_max'].mean(),\n",
    "            'attr_76_mean': df['attr_76_mean'].mean(),\n",
    "             'attr_76_max': df['attr_76_max'].mean(),\n",
    "             'attr_77_mean': df['attr_77_mean'].mean(),\n",
    "             'attr_77_max': df['attr_77_max'].mean(),\n",
    "             'attr_78_mean': df['attr_78_mean'].mean(),\n",
    "             'attr_78_max': df['attr_78_max'].mean()}\n",
    "    df = df.fillna(value=values, inplace=False)\n",
    "    \n",
    "    return df"
   ]
  },
  {
   "cell_type": "code",
   "execution_count": 100,
   "metadata": {},
   "outputs": [],
   "source": [
    "numeric_feature = training.select_dtypes(include=[np.number]).columns.tolist()"
   ]
  },
  {
   "cell_type": "code",
   "execution_count": 103,
   "metadata": {},
   "outputs": [
    {
     "data": {
      "text/plain": [
       "22190.0"
      ]
     },
     "execution_count": 103,
     "metadata": {},
     "output_type": "execute_result"
    }
   ],
   "source": [
    "prediction.spend.max()"
   ]
  },
  {
   "cell_type": "code",
   "execution_count": 102,
   "metadata": {
    "scrolled": true
   },
   "outputs": [],
   "source": [
    "prediction.loc[prediction.spend==np.inf, 'spend']=999"
   ]
  },
  {
   "cell_type": "code",
   "execution_count": 104,
   "metadata": {},
   "outputs": [],
   "source": [
    "def feature_processing(df):\n",
    "    scaler = StandardScaler()\n",
    "    # Winsorization\n",
    "    for col in numeric_feature:\n",
    "        df[col] = np.clip(df[col], 0, np.quantile(df[col],0.98))\n",
    "    \n",
    "    df['event_count'] = np.log(df['event_count']+1)\n",
    "    df[numeric_feature] = scaler.fit_transform(df[numeric_feature])\n",
    "    df[numeric_feature] = fill_missing(df[numeric_feature])\n",
    "    \n",
    "    return df"
   ]
  },
  {
   "cell_type": "code",
   "execution_count": 105,
   "metadata": {
    "scrolled": true
   },
   "outputs": [
    {
     "name": "stderr",
     "output_type": "stream",
     "text": [
      "/home/wtq920828/anaconda3/lib/python3.7/site-packages/numpy/lib/function_base.py:3652: RuntimeWarning: Invalid value encountered in percentile\n",
      "  interpolation=interpolation)\n",
      "/home/wtq920828/anaconda3/lib/python3.7/site-packages/sklearn/preprocessing/data.py:625: DataConversionWarning: Data with input dtype uint8, float16, float32, int64, float64 were all converted to float64 by StandardScaler.\n",
      "  return self.partial_fit(X, y)\n",
      "/home/wtq920828/anaconda3/lib/python3.7/site-packages/sklearn/base.py:462: DataConversionWarning: Data with input dtype uint8, float16, float32, int64, float64 were all converted to float64 by StandardScaler.\n",
      "  return self.fit(X, **fit_params).transform(X)\n"
     ]
    }
   ],
   "source": [
    "training = feature_processing(training)"
   ]
  },
  {
   "cell_type": "code",
   "execution_count": 106,
   "metadata": {},
   "outputs": [
    {
     "name": "stderr",
     "output_type": "stream",
     "text": [
      "/home/wtq920828/anaconda3/lib/python3.7/site-packages/numpy/lib/function_base.py:3652: RuntimeWarning: Invalid value encountered in percentile\n",
      "  interpolation=interpolation)\n",
      "/home/wtq920828/anaconda3/lib/python3.7/site-packages/sklearn/preprocessing/data.py:625: DataConversionWarning: Data with input dtype uint8, float16, float32, float64 were all converted to float64 by StandardScaler.\n",
      "  return self.partial_fit(X, y)\n",
      "/home/wtq920828/anaconda3/lib/python3.7/site-packages/sklearn/base.py:462: DataConversionWarning: Data with input dtype uint8, float16, float32, float64 were all converted to float64 by StandardScaler.\n",
      "  return self.fit(X, **fit_params).transform(X)\n"
     ]
    }
   ],
   "source": [
    "prediction = feature_processing(prediction)"
   ]
  },
  {
   "cell_type": "code",
   "execution_count": 107,
   "metadata": {},
   "outputs": [
    {
     "data": {
      "text/plain": [
       "Index(['user_id_hash', 'user_purchase_binary_7_days',\n",
       "       'user_purchase_binary_14_days', 'event_count', 'purchase_count_1_week',\n",
       "       'purchase_count_2_week', 'purchase_count_3_week',\n",
       "       'purchase_count_4_week', 'session_count', 'mean_sessions_duration',\n",
       "       'spend', 'event_gap', 'session_gap', 'purchase_gap', 'life_time',\n",
       "       'event_45', 'event_1', 'event_5', 'event_6', 'event_14', 'event_4',\n",
       "       'event_40', 'event_7', 'event_41', 'event_3', 'event_42', 'attr_0_mean',\n",
       "       'attr_0_max', 'attr_1_mean', 'attr_1_max', 'attr_3_mean', 'attr_3_max',\n",
       "       'attr_4_mean', 'attr_4_max', 'attr_6_mean', 'attr_6_max', 'attr_8_mean',\n",
       "       'attr_8_max', 'attr_9_mean', 'attr_9_max', 'attr_11_mean',\n",
       "       'attr_11_max', 'attr_13_mean', 'attr_13_max', 'attr_14_mean',\n",
       "       'attr_14_max', 'attr_15_mean', 'attr_15_max', 'attr_16_mean',\n",
       "       'attr_16_max', 'attr_17_mean', 'attr_17_max', 'attr_18_mean',\n",
       "       'attr_18_max', 'attr_19_mean', 'attr_19_max', 'attr_20_mean',\n",
       "       'attr_20_max', 'attr_21_mean', 'attr_21_max', 'attr_67_mean',\n",
       "       'attr_67_max', 'attr_75_mean', 'attr_75_max', 'attr_76_mean',\n",
       "       'attr_76_max', 'attr_77_mean', 'attr_77_max', 'attr_78_mean',\n",
       "       'attr_78_max', 'country', 'os_name', 'city', 'region', 'event_45_ratio',\n",
       "       'event_1_ratio', 'event_5_ratio', 'event_6_ratio', 'event_14_ratio',\n",
       "       'event_4_ratio', 'event_40_ratio', 'event_7_ratio', 'event_41_ratio',\n",
       "       'event_3_ratio', 'event_42_ratio', 'purchase_count', 'purchase_ratio',\n",
       "       'iOS', 'country_mean_enc', 'region_mean_enc', 'city_mean_enc'],\n",
       "      dtype='object')"
      ]
     },
     "execution_count": 107,
     "metadata": {},
     "output_type": "execute_result"
    }
   ],
   "source": [
    "training.columns"
   ]
  },
  {
   "cell_type": "code",
   "execution_count": 108,
   "metadata": {},
   "outputs": [
    {
     "data": {
      "text/html": [
       "<div>\n",
       "<style scoped>\n",
       "    .dataframe tbody tr th:only-of-type {\n",
       "        vertical-align: middle;\n",
       "    }\n",
       "\n",
       "    .dataframe tbody tr th {\n",
       "        vertical-align: top;\n",
       "    }\n",
       "\n",
       "    .dataframe thead th {\n",
       "        text-align: right;\n",
       "    }\n",
       "</style>\n",
       "<table border=\"1\" class=\"dataframe\">\n",
       "  <thead>\n",
       "    <tr style=\"text-align: right;\">\n",
       "      <th></th>\n",
       "      <th>user_id_hash</th>\n",
       "      <th>user_purchase_binary_7_days</th>\n",
       "      <th>user_purchase_binary_14_days</th>\n",
       "      <th>event_count</th>\n",
       "      <th>purchase_count_1_week</th>\n",
       "      <th>purchase_count_2_week</th>\n",
       "      <th>purchase_count_3_week</th>\n",
       "      <th>purchase_count_4_week</th>\n",
       "      <th>session_count</th>\n",
       "      <th>mean_sessions_duration</th>\n",
       "      <th>...</th>\n",
       "      <th>event_7_ratio</th>\n",
       "      <th>event_41_ratio</th>\n",
       "      <th>event_3_ratio</th>\n",
       "      <th>event_42_ratio</th>\n",
       "      <th>purchase_count</th>\n",
       "      <th>purchase_ratio</th>\n",
       "      <th>iOS</th>\n",
       "      <th>country_mean_enc</th>\n",
       "      <th>region_mean_enc</th>\n",
       "      <th>city_mean_enc</th>\n",
       "    </tr>\n",
       "  </thead>\n",
       "  <tbody>\n",
       "    <tr>\n",
       "      <th>0</th>\n",
       "      <td>e469dfaed039ead9110165d9bc457acb11609ca34057dc...</td>\n",
       "      <td>0.01</td>\n",
       "      <td>0.02</td>\n",
       "      <td>-0.330242</td>\n",
       "      <td>-0.051871</td>\n",
       "      <td>-0.061426</td>\n",
       "      <td>-0.071893</td>\n",
       "      <td>-0.121927</td>\n",
       "      <td>-0.289638</td>\n",
       "      <td>-0.266923</td>\n",
       "      <td>...</td>\n",
       "      <td>0.484329</td>\n",
       "      <td>-0.552368</td>\n",
       "      <td>-0.539847</td>\n",
       "      <td>-0.510521</td>\n",
       "      <td>-0.12907</td>\n",
       "      <td>-0.143336</td>\n",
       "      <td>1.404762</td>\n",
       "      <td>0.910602</td>\n",
       "      <td>0.771495</td>\n",
       "      <td>-0.03688</td>\n",
       "    </tr>\n",
       "    <tr>\n",
       "      <th>1</th>\n",
       "      <td>afcc639a324b6c598ef83d360450afa011cb2dd1358bf9...</td>\n",
       "      <td>0.01</td>\n",
       "      <td>0.02</td>\n",
       "      <td>0.073087</td>\n",
       "      <td>-0.051871</td>\n",
       "      <td>-0.061426</td>\n",
       "      <td>-0.071893</td>\n",
       "      <td>-0.121927</td>\n",
       "      <td>-0.247201</td>\n",
       "      <td>-0.288907</td>\n",
       "      <td>...</td>\n",
       "      <td>-0.172361</td>\n",
       "      <td>-0.552368</td>\n",
       "      <td>-0.539847</td>\n",
       "      <td>-0.510521</td>\n",
       "      <td>-0.12907</td>\n",
       "      <td>-0.143336</td>\n",
       "      <td>-0.711865</td>\n",
       "      <td>-1.234977</td>\n",
       "      <td>-0.794769</td>\n",
       "      <td>-0.03688</td>\n",
       "    </tr>\n",
       "    <tr>\n",
       "      <th>2</th>\n",
       "      <td>fd5a7cf211d08e3e00f7be6a9df6e6ea3d2e5c22a5d9c3...</td>\n",
       "      <td>0.01</td>\n",
       "      <td>0.02</td>\n",
       "      <td>-0.222496</td>\n",
       "      <td>-0.051871</td>\n",
       "      <td>-0.061426</td>\n",
       "      <td>-0.071893</td>\n",
       "      <td>-0.121927</td>\n",
       "      <td>-0.280797</td>\n",
       "      <td>-0.264945</td>\n",
       "      <td>...</td>\n",
       "      <td>1.411110</td>\n",
       "      <td>-0.552368</td>\n",
       "      <td>-0.539847</td>\n",
       "      <td>-0.510521</td>\n",
       "      <td>-0.12907</td>\n",
       "      <td>-0.143336</td>\n",
       "      <td>-0.711865</td>\n",
       "      <td>-1.234977</td>\n",
       "      <td>-0.794769</td>\n",
       "      <td>-0.03688</td>\n",
       "    </tr>\n",
       "    <tr>\n",
       "      <th>3</th>\n",
       "      <td>00bfff98b9d0329f014c2eeac7ce47cd18b2bc6e10d608...</td>\n",
       "      <td>0.01</td>\n",
       "      <td>0.02</td>\n",
       "      <td>0.964557</td>\n",
       "      <td>-0.051871</td>\n",
       "      <td>-0.061426</td>\n",
       "      <td>-0.071893</td>\n",
       "      <td>-0.121927</td>\n",
       "      <td>0.030411</td>\n",
       "      <td>0.278374</td>\n",
       "      <td>...</td>\n",
       "      <td>-0.196419</td>\n",
       "      <td>1.657191</td>\n",
       "      <td>1.341695</td>\n",
       "      <td>0.580075</td>\n",
       "      <td>-0.12907</td>\n",
       "      <td>-0.143336</td>\n",
       "      <td>-0.711865</td>\n",
       "      <td>-1.038442</td>\n",
       "      <td>-0.794769</td>\n",
       "      <td>-0.03688</td>\n",
       "    </tr>\n",
       "    <tr>\n",
       "      <th>4</th>\n",
       "      <td>0d298f3638c43e915c119d4935e1ce8d168f81b5e3e8c1...</td>\n",
       "      <td>0.01</td>\n",
       "      <td>0.02</td>\n",
       "      <td>-1.284093</td>\n",
       "      <td>-0.051871</td>\n",
       "      <td>-0.061426</td>\n",
       "      <td>-0.071893</td>\n",
       "      <td>-0.121927</td>\n",
       "      <td>-0.326771</td>\n",
       "      <td>-0.288907</td>\n",
       "      <td>...</td>\n",
       "      <td>-0.883776</td>\n",
       "      <td>-0.552368</td>\n",
       "      <td>-0.539847</td>\n",
       "      <td>-0.510521</td>\n",
       "      <td>-0.12907</td>\n",
       "      <td>-0.143336</td>\n",
       "      <td>-0.711865</td>\n",
       "      <td>-1.038442</td>\n",
       "      <td>-0.890371</td>\n",
       "      <td>-0.03688</td>\n",
       "    </tr>\n",
       "  </tbody>\n",
       "</table>\n",
       "<p>5 rows × 91 columns</p>\n",
       "</div>"
      ],
      "text/plain": [
       "                                        user_id_hash  \\\n",
       "0  e469dfaed039ead9110165d9bc457acb11609ca34057dc...   \n",
       "1  afcc639a324b6c598ef83d360450afa011cb2dd1358bf9...   \n",
       "2  fd5a7cf211d08e3e00f7be6a9df6e6ea3d2e5c22a5d9c3...   \n",
       "3  00bfff98b9d0329f014c2eeac7ce47cd18b2bc6e10d608...   \n",
       "4  0d298f3638c43e915c119d4935e1ce8d168f81b5e3e8c1...   \n",
       "\n",
       "   user_purchase_binary_7_days  user_purchase_binary_14_days  event_count  \\\n",
       "0                         0.01                          0.02    -0.330242   \n",
       "1                         0.01                          0.02     0.073087   \n",
       "2                         0.01                          0.02    -0.222496   \n",
       "3                         0.01                          0.02     0.964557   \n",
       "4                         0.01                          0.02    -1.284093   \n",
       "\n",
       "   purchase_count_1_week  purchase_count_2_week  purchase_count_3_week  \\\n",
       "0              -0.051871              -0.061426              -0.071893   \n",
       "1              -0.051871              -0.061426              -0.071893   \n",
       "2              -0.051871              -0.061426              -0.071893   \n",
       "3              -0.051871              -0.061426              -0.071893   \n",
       "4              -0.051871              -0.061426              -0.071893   \n",
       "\n",
       "   purchase_count_4_week  session_count  mean_sessions_duration  ...  \\\n",
       "0              -0.121927      -0.289638               -0.266923  ...   \n",
       "1              -0.121927      -0.247201               -0.288907  ...   \n",
       "2              -0.121927      -0.280797               -0.264945  ...   \n",
       "3              -0.121927       0.030411                0.278374  ...   \n",
       "4              -0.121927      -0.326771               -0.288907  ...   \n",
       "\n",
       "   event_7_ratio  event_41_ratio  event_3_ratio  event_42_ratio  \\\n",
       "0       0.484329       -0.552368      -0.539847       -0.510521   \n",
       "1      -0.172361       -0.552368      -0.539847       -0.510521   \n",
       "2       1.411110       -0.552368      -0.539847       -0.510521   \n",
       "3      -0.196419        1.657191       1.341695        0.580075   \n",
       "4      -0.883776       -0.552368      -0.539847       -0.510521   \n",
       "\n",
       "   purchase_count  purchase_ratio       iOS  country_mean_enc  \\\n",
       "0        -0.12907       -0.143336  1.404762          0.910602   \n",
       "1        -0.12907       -0.143336 -0.711865         -1.234977   \n",
       "2        -0.12907       -0.143336 -0.711865         -1.234977   \n",
       "3        -0.12907       -0.143336 -0.711865         -1.038442   \n",
       "4        -0.12907       -0.143336 -0.711865         -1.038442   \n",
       "\n",
       "   region_mean_enc  city_mean_enc  \n",
       "0         0.771495       -0.03688  \n",
       "1        -0.794769       -0.03688  \n",
       "2        -0.794769       -0.03688  \n",
       "3        -0.794769       -0.03688  \n",
       "4        -0.890371       -0.03688  \n",
       "\n",
       "[5 rows x 91 columns]"
      ]
     },
     "execution_count": 108,
     "metadata": {},
     "output_type": "execute_result"
    }
   ],
   "source": [
    "prediction.head()"
   ]
  },
  {
   "cell_type": "markdown",
   "metadata": {},
   "source": [
    "## Modeling"
   ]
  },
  {
   "cell_type": "code",
   "execution_count": 109,
   "metadata": {},
   "outputs": [],
   "source": [
    "X = training.drop(columns =['user_id_hash', 'user_purchase_binary_7_days', 'user_purchase_binary_14_days','country','os_name','city','region','iOS']).values\n",
    "y1, y2 = training['user_purchase_binary_7_days'].values, training['user_purchase_binary_14_days'].values\n",
    "X_test = prediction.drop(columns =['user_id_hash', 'user_purchase_binary_7_days', 'user_purchase_binary_14_days','country','os_name','city','region','iOS']).values"
   ]
  },
  {
   "cell_type": "code",
   "execution_count": 110,
   "metadata": {},
   "outputs": [],
   "source": [
    "y1 = y1.astype(int)\n",
    "y2 = y2.astype(int)"
   ]
  },
  {
   "cell_type": "code",
   "execution_count": 111,
   "metadata": {},
   "outputs": [
    {
     "data": {
      "text/plain": [
       "0"
      ]
     },
     "execution_count": 111,
     "metadata": {},
     "output_type": "execute_result"
    }
   ],
   "source": [
    "y1.min()"
   ]
  },
  {
   "cell_type": "markdown",
   "metadata": {},
   "source": [
    "### First Layer Model\n",
    "On the first layer, we will use 3 tree boosting models, 2 neural networks, 2 linear models, 1 naive bayes model, 1 knn model."
   ]
  },
  {
   "cell_type": "code",
   "execution_count": 112,
   "metadata": {},
   "outputs": [],
   "source": [
    "# for the number of neurons in the hidden unit\n",
    "def get_model(hidden_size = [1024, 16], dropout=0.1):\n",
    "    modules = []\n",
    "    modules.append(nn.Linear(X.shape[1], hidden_size[0]))\n",
    "    modules.append(nn.ReLU())\n",
    "    if len(hidden_size)==3:\n",
    "        modules.append(nn.Linear(hidden_size[0], hidden_size[1]))\n",
    "        modules.append(nn.ReLU())\n",
    "        modules.append(nn.Linear(hidden_size[1], hidden_size[-1]))\n",
    "        modules.append(nn.ReLU())\n",
    "    else:\n",
    "        modules.append(nn.Linear(hidden_size[0], hidden_size[-1]))\n",
    "        modules.append(nn.ReLU())\n",
    "#     for i, hz in enumerate(hidden_size[1:-1]):\n",
    "#         modules.append(nn.Linear(hidden_size[i+1], hidden_size[i+2]))\n",
    "#         modules.append(nn.ReLU())\n",
    "    if dropout > 0:\n",
    "        modules.append(nn.Dropout(dropout))\n",
    "    modules.append(nn.Linear(hidden_size[-1], 1))\n",
    "    return nn.Sequential(*modules)#.cuda()\n"
   ]
  },
  {
   "cell_type": "code",
   "execution_count": 114,
   "metadata": {},
   "outputs": [],
   "source": [
    "def sigmoid(x):\n",
    "    return 1 / (1 + np.exp(-x))"
   ]
  },
  {
   "cell_type": "code",
   "execution_count": 115,
   "metadata": {},
   "outputs": [],
   "source": [
    "splits = list(StratifiedKFold(n_splits=4, shuffle=True, random_state=42).split(X, y1, y2))"
   ]
  },
  {
   "cell_type": "code",
   "execution_count": 116,
   "metadata": {},
   "outputs": [],
   "source": [
    "import time"
   ]
  },
  {
   "cell_type": "code",
   "execution_count": 117,
   "metadata": {},
   "outputs": [
    {
     "data": {
      "text/plain": [
       "(312568, 83)"
      ]
     },
     "execution_count": 117,
     "metadata": {},
     "output_type": "execute_result"
    }
   ],
   "source": [
    "X_test.shape"
   ]
  },
  {
   "cell_type": "code",
   "execution_count": 118,
   "metadata": {},
   "outputs": [],
   "source": [
    "# torch.tensor(X[train_idx], dtype=torch.float32).cuda()\n",
    "# valid = torch.utils.data.TensorDataset(x_val, y_val)\n",
    "# valid_loader = torch.utils.data.DataLoader(valid, batch_size=batch_size, shuffle=False)\n",
    "\n",
    "X_test_cuda = torch.tensor(X_test, dtype=torch.float32)#.cuda()\n",
    "test = torch.utils.data.TensorDataset(X_test_cuda)\n",
    "prediction_batch_size = 4096*4\n",
    "test_loader = torch.utils.data.DataLoader(test, batch_size=prediction_batch_size, shuffle=False)"
   ]
  },
  {
   "cell_type": "code",
   "execution_count": 119,
   "metadata": {},
   "outputs": [],
   "source": [
    "from sklearn.metrics import roc_auc_score"
   ]
  },
  {
   "cell_type": "code",
   "execution_count": 123,
   "metadata": {},
   "outputs": [],
   "source": [
    "def train_model(model, x_train, y_train, x_val, y_val, epochs=10, validate=True):\n",
    "    \n",
    "    optimizer = torch.optim.Adam(model.parameters(),lr=0.001) #Optimizer Setting\n",
    "    \n",
    "    \n",
    "    train = torch.utils.data.TensorDataset(x_train, y_train)  #Tranform data to tensor dataset\n",
    "    valid = torch.utils.data.TensorDataset(x_val, y_val)\n",
    "    \n",
    "    train_loader = torch.utils.data.DataLoader(train, batch_size=batch_size, shuffle=True) #Create data loader\n",
    "    valid_loader = torch.utils.data.DataLoader(valid, batch_size=batch_size, shuffle=False)\n",
    "    \n",
    "    loss_fn = torch.nn.BCEWithLogitsLoss(reduction='mean',pos_weight = torch.tensor(10))#.cuda() #Loss function setting\n",
    "    \n",
    "    for epoch in range(n_epochs):  #Epoch Iteration\n",
    "#         scheduler.step()\n",
    "        start_time = time.time()\n",
    "        model.train() #Set model to train mode\n",
    "        avg_loss = 0.\n",
    "        \n",
    "        for x_batch, y_batch in tqdm_notebook(train_loader):\n",
    "#             scheduler.step()\n",
    "            y_pred = model(x_batch)\n",
    "#             print(y_pred)\n",
    "            # scheduler.batch_step()      \n",
    "            loss = loss_fn(y_pred, y_batch)\n",
    "            optimizer.zero_grad()\n",
    "            loss.backward()\n",
    "            optimizer.step()\n",
    "            avg_loss += loss.item()\n",
    "        \n",
    "        avg_loss = avg_loss / len(train_loader)\n",
    "        \n",
    "        model.eval()\n",
    "        \n",
    "        valid_preds = np.zeros((x_val.size(0)))\n",
    "        \n",
    "        if validate:\n",
    "            avg_val_loss = 0.\n",
    "            for i, (x_batch, y_batch) in enumerate(valid_loader):\n",
    "#                 print(type(x_batch))\n",
    "                y_pred = model(x_batch).detach()\n",
    "#                 print(y_pred)\n",
    "\n",
    "                avg_val_loss += loss_fn(y_pred, y_batch).item() / len(valid_loader)\n",
    "                valid_preds[i * batch_size:(i+1) * batch_size] = sigmoid(y_pred.cpu().numpy())[:, 0]\n",
    "            print(y_val.max())\n",
    "            print(valid_preds.max())\n",
    "            val_auc =  roc_auc_score(y_val.cpu(), valid_preds)\n",
    "            elapsed_time = time.time() - start_time\n",
    "            print('Epoch {}/{} \\t loss={:.4f} \\t val_loss={:.4f} \\t val_auc={:.4f} \\t time={:.2f}s'.format(\n",
    "                epoch + 1, n_epochs, avg_loss, avg_val_loss, val_auc, elapsed_time))\n",
    "        else:\n",
    "            elapsed_time = time.time() - start_time\n",
    "            print('Epoch {}/{} \\t loss={:.4f} \\t time={:.2f}s'.format(\n",
    "                epoch + 1, n_epochs, avg_loss, elapsed_time))\n",
    "   \n",
    "    valid_preds = np.zeros((x_val_fold.size(0)))\n",
    "    \n",
    "    avg_val_loss = 0.\n",
    "    for i, (x_batch,  y_batch) in enumerate(valid_loader):\n",
    "        y_pred = model(x_batch).detach()\n",
    "\n",
    "        avg_val_loss += loss_fn(y_pred, y_batch).item() / len(valid_loader)\n",
    "        valid_preds[i * batch_size:(i+1) * batch_size] = sigmoid(y_pred.cpu().numpy())[:, 0]\n",
    "\n",
    "    print('Validation loss: ', avg_val_loss)\n",
    "\n",
    "    test_preds = np.zeros((len(test_loader.dataset)))\n",
    "    \n",
    "    prediction_batch_size = 4096*4\n",
    "    for i, (x_batch) in enumerate(test_loader):\n",
    "#         print(type(x_batch))\n",
    "        y_pred = model(x_batch[0]).detach()\n",
    "\n",
    "        test_preds[i * prediction_batch_size:(i+1) * prediction_batch_size] = sigmoid(y_pred.cpu().numpy())[:, 0]\n",
    "\n",
    "    \n",
    "    # test_preds_local = np.zeros((len(test_local_loader.dataset)))\n",
    "    \n",
    "#     for i, (x_batch,) in enumerate(test_local_loader):\n",
    "#         y_pred = model(x_batch).detach()\n",
    "\n",
    "#         test_preds_local[i * batch_size:(i+1) * batch_size] = sigmoid(y_pred.cpu().numpy())[:, 0]\n",
    "\n",
    "    return valid_preds, test_preds#, test_preds_local"
   ]
  },
  {
   "cell_type": "code",
   "execution_count": 124,
   "metadata": {},
   "outputs": [
    {
     "data": {
      "text/plain": [
       "Sequential(\n",
       "  (0): Linear(in_features=83, out_features=128, bias=True)\n",
       "  (1): ReLU()\n",
       "  (2): Linear(in_features=128, out_features=64, bias=True)\n",
       "  (3): ReLU()\n",
       "  (4): Linear(in_features=64, out_features=32, bias=True)\n",
       "  (5): ReLU()\n",
       "  (6): Dropout(p=0.1)\n",
       "  (7): Linear(in_features=32, out_features=1, bias=True)\n",
       ")"
      ]
     },
     "execution_count": 124,
     "metadata": {},
     "output_type": "execute_result"
    }
   ],
   "source": [
    "model"
   ]
  },
  {
   "cell_type": "code",
   "execution_count": 128,
   "metadata": {
    "scrolled": true
   },
   "outputs": [
    {
     "name": "stdout",
     "output_type": "stream",
     "text": [
      "Fold 1\n"
     ]
    },
    {
     "name": "stderr",
     "output_type": "stream",
     "text": [
      "/home/wtq920828/anaconda3/lib/python3.7/site-packages/ipykernel_launcher.py:21: UserWarning: nn.init.xavier_uniform is now deprecated in favor of nn.init.xavier_uniform_.\n"
     ]
    },
    {
     "data": {
      "application/vnd.jupyter.widget-view+json": {
       "model_id": "87a129cbba6a4eccadbe09b77de83458",
       "version_major": 2,
       "version_minor": 0
      },
      "text/plain": [
       "HBox(children=(IntProgress(value=0, max=14518), HTML(value='')))"
      ]
     },
     "metadata": {},
     "output_type": "display_data"
    },
    {
     "name": "stdout",
     "output_type": "stream",
     "text": [
      "tensor(1.)\n",
      "0.9958223104476929\n",
      "Epoch 1/10 \t loss=0.0519 \t val_loss=0.0435 \t val_auc=0.9954 \t time=39.01s\n"
     ]
    },
    {
     "data": {
      "application/vnd.jupyter.widget-view+json": {
       "model_id": "a1b1431a6dd6439999edc0f482271f39",
       "version_major": 2,
       "version_minor": 0
      },
      "text/plain": [
       "HBox(children=(IntProgress(value=0, max=14518), HTML(value='')))"
      ]
     },
     "metadata": {},
     "output_type": "display_data"
    },
    {
     "name": "stdout",
     "output_type": "stream",
     "text": [
      "tensor(1.)\n",
      "0.9896971583366394\n",
      "Epoch 2/10 \t loss=0.0441 \t val_loss=0.0425 \t val_auc=0.9962 \t time=41.38s\n"
     ]
    },
    {
     "data": {
      "application/vnd.jupyter.widget-view+json": {
       "model_id": "c022fcb0b43141178175c2c81ae95413",
       "version_major": 2,
       "version_minor": 0
      },
      "text/plain": [
       "HBox(children=(IntProgress(value=0, max=14518), HTML(value='')))"
      ]
     },
     "metadata": {},
     "output_type": "display_data"
    },
    {
     "name": "stdout",
     "output_type": "stream",
     "text": [
      "tensor(1.)\n",
      "0.9991831183433533\n",
      "Epoch 3/10 \t loss=0.0397 \t val_loss=0.0377 \t val_auc=0.9964 \t time=42.60s\n"
     ]
    },
    {
     "data": {
      "application/vnd.jupyter.widget-view+json": {
       "model_id": "6dab932e61c943978b2a7312c3af2158",
       "version_major": 2,
       "version_minor": 0
      },
      "text/plain": [
       "HBox(children=(IntProgress(value=0, max=14518), HTML(value='')))"
      ]
     },
     "metadata": {},
     "output_type": "display_data"
    },
    {
     "name": "stdout",
     "output_type": "stream",
     "text": [
      "tensor(1.)\n",
      "0.9821458458900452\n",
      "Epoch 4/10 \t loss=0.0390 \t val_loss=0.0356 \t val_auc=0.9967 \t time=44.05s\n"
     ]
    },
    {
     "data": {
      "application/vnd.jupyter.widget-view+json": {
       "model_id": "0a5abbc8ce954267b196f17a6d47880d",
       "version_major": 2,
       "version_minor": 0
      },
      "text/plain": [
       "HBox(children=(IntProgress(value=0, max=14518), HTML(value='')))"
      ]
     },
     "metadata": {},
     "output_type": "display_data"
    },
    {
     "name": "stdout",
     "output_type": "stream",
     "text": [
      "tensor(1.)\n",
      "0.9999914169311523\n",
      "Epoch 5/10 \t loss=0.0386 \t val_loss=0.0364 \t val_auc=0.9970 \t time=46.04s\n"
     ]
    },
    {
     "data": {
      "application/vnd.jupyter.widget-view+json": {
       "model_id": "2a879d08246c4d509853df73217ef737",
       "version_major": 2,
       "version_minor": 0
      },
      "text/plain": [
       "HBox(children=(IntProgress(value=0, max=14518), HTML(value='')))"
      ]
     },
     "metadata": {},
     "output_type": "display_data"
    },
    {
     "name": "stdout",
     "output_type": "stream",
     "text": [
      "tensor(1.)\n",
      "0.9954016208648682\n",
      "Epoch 6/10 \t loss=0.0387 \t val_loss=0.0430 \t val_auc=0.9962 \t time=51.72s\n"
     ]
    },
    {
     "data": {
      "application/vnd.jupyter.widget-view+json": {
       "model_id": "68faaa5cecb0478f8ef6a8ba0db10205",
       "version_major": 2,
       "version_minor": 0
      },
      "text/plain": [
       "HBox(children=(IntProgress(value=0, max=14518), HTML(value='')))"
      ]
     },
     "metadata": {},
     "output_type": "display_data"
    },
    {
     "name": "stdout",
     "output_type": "stream",
     "text": [
      "tensor(1.)\n",
      "0.9986181259155273\n",
      "Epoch 7/10 \t loss=0.0379 \t val_loss=0.0379 \t val_auc=0.9968 \t time=54.80s\n"
     ]
    },
    {
     "data": {
      "application/vnd.jupyter.widget-view+json": {
       "model_id": "d3f3f6214432460fa570242a8ca95d2e",
       "version_major": 2,
       "version_minor": 0
      },
      "text/plain": [
       "HBox(children=(IntProgress(value=0, max=14518), HTML(value='')))"
      ]
     },
     "metadata": {},
     "output_type": "display_data"
    },
    {
     "name": "stdout",
     "output_type": "stream",
     "text": [
      "tensor(1.)\n",
      "0.9999265670776367\n",
      "Epoch 8/10 \t loss=0.0367 \t val_loss=0.0404 \t val_auc=0.9968 \t time=59.49s\n"
     ]
    },
    {
     "data": {
      "application/vnd.jupyter.widget-view+json": {
       "model_id": "24aa64451fd84d338bcec22a69957271",
       "version_major": 2,
       "version_minor": 0
      },
      "text/plain": [
       "HBox(children=(IntProgress(value=0, max=14518), HTML(value='')))"
      ]
     },
     "metadata": {},
     "output_type": "display_data"
    },
    {
     "name": "stdout",
     "output_type": "stream",
     "text": [
      "tensor(1.)\n",
      "0.9998934268951416\n",
      "Epoch 9/10 \t loss=0.0382 \t val_loss=0.0390 \t val_auc=0.9968 \t time=60.15s\n"
     ]
    },
    {
     "data": {
      "application/vnd.jupyter.widget-view+json": {
       "model_id": "e5fdbcdc115040f38e383e6e4c7141f4",
       "version_major": 2,
       "version_minor": 0
      },
      "text/plain": [
       "HBox(children=(IntProgress(value=0, max=14518), HTML(value='')))"
      ]
     },
     "metadata": {},
     "output_type": "display_data"
    },
    {
     "name": "stdout",
     "output_type": "stream",
     "text": [
      "tensor(1.)\n",
      "0.9999268054962158\n",
      "Epoch 10/10 \t loss=0.0372 \t val_loss=0.0466 \t val_auc=0.9966 \t time=61.92s\n",
      "Validation loss:  0.04655750056748623\n",
      "Fold 2\n"
     ]
    },
    {
     "name": "stderr",
     "output_type": "stream",
     "text": [
      "/home/wtq920828/anaconda3/lib/python3.7/site-packages/ipykernel_launcher.py:21: UserWarning: nn.init.xavier_uniform is now deprecated in favor of nn.init.xavier_uniform_.\n"
     ]
    },
    {
     "data": {
      "application/vnd.jupyter.widget-view+json": {
       "model_id": "7952111f1c2c46af9ae796807d10e202",
       "version_major": 2,
       "version_minor": 0
      },
      "text/plain": [
       "HBox(children=(IntProgress(value=0, max=14518), HTML(value='')))"
      ]
     },
     "metadata": {},
     "output_type": "display_data"
    },
    {
     "name": "stdout",
     "output_type": "stream",
     "text": [
      "tensor(1.)\n",
      "0.9934968948364258\n",
      "Epoch 1/10 \t loss=0.0497 \t val_loss=0.0414 \t val_auc=0.9957 \t time=37.54s\n"
     ]
    },
    {
     "data": {
      "application/vnd.jupyter.widget-view+json": {
       "model_id": "7885630184a64329b29c053b6dfe679f",
       "version_major": 2,
       "version_minor": 0
      },
      "text/plain": [
       "HBox(children=(IntProgress(value=0, max=14518), HTML(value='')))"
      ]
     },
     "metadata": {},
     "output_type": "display_data"
    },
    {
     "name": "stdout",
     "output_type": "stream",
     "text": [
      "tensor(1.)\n",
      "0.9981576800346375\n",
      "Epoch 2/10 \t loss=0.0429 \t val_loss=0.0459 \t val_auc=0.9958 \t time=40.53s\n"
     ]
    },
    {
     "data": {
      "application/vnd.jupyter.widget-view+json": {
       "model_id": "9dc1f432102e4504aeadaf0dc9e95f6d",
       "version_major": 2,
       "version_minor": 0
      },
      "text/plain": [
       "HBox(children=(IntProgress(value=0, max=14518), HTML(value='')))"
      ]
     },
     "metadata": {},
     "output_type": "display_data"
    },
    {
     "name": "stdout",
     "output_type": "stream",
     "text": [
      "tensor(1.)\n",
      "0.9990178346633911\n",
      "Epoch 3/10 \t loss=0.0401 \t val_loss=0.0379 \t val_auc=0.9966 \t time=43.07s\n"
     ]
    },
    {
     "data": {
      "application/vnd.jupyter.widget-view+json": {
       "model_id": "f83e4aa836164997933ba5eb7bab2b7d",
       "version_major": 2,
       "version_minor": 0
      },
      "text/plain": [
       "HBox(children=(IntProgress(value=0, max=14518), HTML(value='')))"
      ]
     },
     "metadata": {},
     "output_type": "display_data"
    },
    {
     "name": "stdout",
     "output_type": "stream",
     "text": [
      "tensor(1.)\n",
      "0.9994518160820007\n",
      "Epoch 4/10 \t loss=0.0417 \t val_loss=0.0363 \t val_auc=0.9964 \t time=44.60s\n"
     ]
    },
    {
     "data": {
      "application/vnd.jupyter.widget-view+json": {
       "model_id": "0aeccf7efbae4f0b9e8f34a8dca785a6",
       "version_major": 2,
       "version_minor": 0
      },
      "text/plain": [
       "HBox(children=(IntProgress(value=0, max=14518), HTML(value='')))"
      ]
     },
     "metadata": {},
     "output_type": "display_data"
    },
    {
     "name": "stdout",
     "output_type": "stream",
     "text": [
      "tensor(1.)\n",
      "0.9998857975006104\n",
      "Epoch 5/10 \t loss=0.0384 \t val_loss=0.0461 \t val_auc=0.9952 \t time=48.73s\n"
     ]
    },
    {
     "data": {
      "application/vnd.jupyter.widget-view+json": {
       "model_id": "707f4b4ffbf84325843d8b8a1ebcdc69",
       "version_major": 2,
       "version_minor": 0
      },
      "text/plain": [
       "HBox(children=(IntProgress(value=0, max=14518), HTML(value='')))"
      ]
     },
     "metadata": {},
     "output_type": "display_data"
    },
    {
     "name": "stdout",
     "output_type": "stream",
     "text": [
      "tensor(1.)\n",
      "0.9995941519737244\n",
      "Epoch 6/10 \t loss=0.0389 \t val_loss=0.0391 \t val_auc=0.9965 \t time=51.33s\n"
     ]
    },
    {
     "data": {
      "application/vnd.jupyter.widget-view+json": {
       "model_id": "c7b978cea1744b8d9e19780b0a070a8c",
       "version_major": 2,
       "version_minor": 0
      },
      "text/plain": [
       "HBox(children=(IntProgress(value=0, max=14518), HTML(value='')))"
      ]
     },
     "metadata": {},
     "output_type": "display_data"
    },
    {
     "name": "stdout",
     "output_type": "stream",
     "text": [
      "tensor(1.)\n",
      "0.9941025376319885\n",
      "Epoch 7/10 \t loss=0.0391 \t val_loss=0.0424 \t val_auc=0.9962 \t time=53.74s\n"
     ]
    },
    {
     "data": {
      "application/vnd.jupyter.widget-view+json": {
       "model_id": "90e97bf780394dcab87e72dd59d95f0b",
       "version_major": 2,
       "version_minor": 0
      },
      "text/plain": [
       "HBox(children=(IntProgress(value=0, max=14518), HTML(value='')))"
      ]
     },
     "metadata": {},
     "output_type": "display_data"
    },
    {
     "name": "stdout",
     "output_type": "stream",
     "text": [
      "tensor(1.)\n",
      "1.0\n",
      "Epoch 8/10 \t loss=0.0383 \t val_loss=0.0383 \t val_auc=0.9963 \t time=56.46s\n"
     ]
    },
    {
     "data": {
      "application/vnd.jupyter.widget-view+json": {
       "model_id": "e21e67b874104508853ed85a48961a4b",
       "version_major": 2,
       "version_minor": 0
      },
      "text/plain": [
       "HBox(children=(IntProgress(value=0, max=14518), HTML(value='')))"
      ]
     },
     "metadata": {},
     "output_type": "display_data"
    },
    {
     "name": "stdout",
     "output_type": "stream",
     "text": [
      "tensor(1.)\n",
      "0.9999616146087646\n",
      "Epoch 9/10 \t loss=0.0392 \t val_loss=0.0615 \t val_auc=0.9947 \t time=55.33s\n"
     ]
    },
    {
     "data": {
      "application/vnd.jupyter.widget-view+json": {
       "model_id": "b638ec5144f64237b488acde3402bc8c",
       "version_major": 2,
       "version_minor": 0
      },
      "text/plain": [
       "HBox(children=(IntProgress(value=0, max=14518), HTML(value='')))"
      ]
     },
     "metadata": {},
     "output_type": "display_data"
    },
    {
     "name": "stdout",
     "output_type": "stream",
     "text": [
      "tensor(1.)\n",
      "0.9999610185623169\n",
      "Epoch 10/10 \t loss=0.0383 \t val_loss=0.0455 \t val_auc=0.9963 \t time=57.00s\n",
      "Validation loss:  0.04549238427027469\n",
      "Fold 3\n"
     ]
    },
    {
     "name": "stderr",
     "output_type": "stream",
     "text": [
      "/home/wtq920828/anaconda3/lib/python3.7/site-packages/ipykernel_launcher.py:21: UserWarning: nn.init.xavier_uniform is now deprecated in favor of nn.init.xavier_uniform_.\n"
     ]
    },
    {
     "data": {
      "application/vnd.jupyter.widget-view+json": {
       "model_id": "e59e9557763d4304bb90f20dfbfc6f7a",
       "version_major": 2,
       "version_minor": 0
      },
      "text/plain": [
       "HBox(children=(IntProgress(value=0, max=14518), HTML(value='')))"
      ]
     },
     "metadata": {},
     "output_type": "display_data"
    },
    {
     "name": "stdout",
     "output_type": "stream",
     "text": [
      "tensor(1.)\n",
      "0.9839111566543579\n",
      "Epoch 1/10 \t loss=0.0516 \t val_loss=0.0440 \t val_auc=0.9960 \t time=38.13s\n"
     ]
    },
    {
     "data": {
      "application/vnd.jupyter.widget-view+json": {
       "model_id": "4829f79c2ff847efb7fb36a7a9afb4f8",
       "version_major": 2,
       "version_minor": 0
      },
      "text/plain": [
       "HBox(children=(IntProgress(value=0, max=14518), HTML(value='')))"
      ]
     },
     "metadata": {},
     "output_type": "display_data"
    },
    {
     "name": "stdout",
     "output_type": "stream",
     "text": [
      "tensor(1.)\n",
      "0.9960805773735046\n",
      "Epoch 2/10 \t loss=0.0441 \t val_loss=0.0377 \t val_auc=0.9960 \t time=39.87s\n"
     ]
    },
    {
     "data": {
      "application/vnd.jupyter.widget-view+json": {
       "model_id": "36fca46538c54d50b57b2a2e025a851b",
       "version_major": 2,
       "version_minor": 0
      },
      "text/plain": [
       "HBox(children=(IntProgress(value=0, max=14518), HTML(value='')))"
      ]
     },
     "metadata": {},
     "output_type": "display_data"
    },
    {
     "name": "stdout",
     "output_type": "stream",
     "text": [
      "tensor(1.)\n",
      "0.9853388071060181\n",
      "Epoch 3/10 \t loss=0.0412 \t val_loss=0.0349 \t val_auc=0.9967 \t time=40.63s\n"
     ]
    },
    {
     "data": {
      "application/vnd.jupyter.widget-view+json": {
       "model_id": "43add5965006425aa59f4a669ef8b765",
       "version_major": 2,
       "version_minor": 0
      },
      "text/plain": [
       "HBox(children=(IntProgress(value=0, max=14518), HTML(value='')))"
      ]
     },
     "metadata": {},
     "output_type": "display_data"
    },
    {
     "name": "stdout",
     "output_type": "stream",
     "text": [
      "tensor(1.)\n",
      "0.9982774257659912\n",
      "Epoch 4/10 \t loss=0.0396 \t val_loss=0.0373 \t val_auc=0.9966 \t time=37.90s\n"
     ]
    },
    {
     "data": {
      "application/vnd.jupyter.widget-view+json": {
       "model_id": "8a76d39a21324f429d59f79ab8925ac8",
       "version_major": 2,
       "version_minor": 0
      },
      "text/plain": [
       "HBox(children=(IntProgress(value=0, max=14518), HTML(value='')))"
      ]
     },
     "metadata": {},
     "output_type": "display_data"
    },
    {
     "name": "stdout",
     "output_type": "stream",
     "text": [
      "tensor(1.)\n",
      "0.9983676075935364\n",
      "Epoch 5/10 \t loss=0.0389 \t val_loss=0.0378 \t val_auc=0.9969 \t time=44.38s\n"
     ]
    },
    {
     "data": {
      "application/vnd.jupyter.widget-view+json": {
       "model_id": "c87459e9a09b490d993940070179d7b9",
       "version_major": 2,
       "version_minor": 0
      },
      "text/plain": [
       "HBox(children=(IntProgress(value=0, max=14518), HTML(value='')))"
      ]
     },
     "metadata": {},
     "output_type": "display_data"
    },
    {
     "name": "stdout",
     "output_type": "stream",
     "text": [
      "tensor(1.)\n",
      "0.9994145631790161\n",
      "Epoch 6/10 \t loss=0.0387 \t val_loss=0.0387 \t val_auc=0.9961 \t time=51.66s\n"
     ]
    },
    {
     "data": {
      "application/vnd.jupyter.widget-view+json": {
       "model_id": "0739aa25d7b04ff19118b8ced750348d",
       "version_major": 2,
       "version_minor": 0
      },
      "text/plain": [
       "HBox(children=(IntProgress(value=0, max=14518), HTML(value='')))"
      ]
     },
     "metadata": {},
     "output_type": "display_data"
    },
    {
     "name": "stdout",
     "output_type": "stream",
     "text": [
      "tensor(1.)\n",
      "0.9982794523239136\n",
      "Epoch 7/10 \t loss=0.0385 \t val_loss=0.0367 \t val_auc=0.9963 \t time=52.66s\n"
     ]
    },
    {
     "data": {
      "application/vnd.jupyter.widget-view+json": {
       "model_id": "8bc87a40f6de47088db37517fd625726",
       "version_major": 2,
       "version_minor": 0
      },
      "text/plain": [
       "HBox(children=(IntProgress(value=0, max=14518), HTML(value='')))"
      ]
     },
     "metadata": {},
     "output_type": "display_data"
    },
    {
     "name": "stdout",
     "output_type": "stream",
     "text": [
      "tensor(1.)\n",
      "0.9954366087913513\n",
      "Epoch 8/10 \t loss=0.0385 \t val_loss=0.0505 \t val_auc=0.9950 \t time=53.82s\n"
     ]
    },
    {
     "data": {
      "application/vnd.jupyter.widget-view+json": {
       "model_id": "e8c4a24166fe46abb56a895880e2cef8",
       "version_major": 2,
       "version_minor": 0
      },
      "text/plain": [
       "HBox(children=(IntProgress(value=0, max=14518), HTML(value='')))"
      ]
     },
     "metadata": {},
     "output_type": "display_data"
    },
    {
     "name": "stdout",
     "output_type": "stream",
     "text": [
      "tensor(1.)\n",
      "0.9960495829582214\n",
      "Epoch 9/10 \t loss=0.0389 \t val_loss=0.0436 \t val_auc=0.9958 \t time=54.16s\n"
     ]
    },
    {
     "data": {
      "application/vnd.jupyter.widget-view+json": {
       "model_id": "cb8dc37601a644f08c68a1944219bae1",
       "version_major": 2,
       "version_minor": 0
      },
      "text/plain": [
       "HBox(children=(IntProgress(value=0, max=14518), HTML(value='')))"
      ]
     },
     "metadata": {},
     "output_type": "display_data"
    },
    {
     "name": "stdout",
     "output_type": "stream",
     "text": [
      "tensor(1.)\n",
      "0.9997319579124451\n",
      "Epoch 10/10 \t loss=0.0358 \t val_loss=0.0457 \t val_auc=0.9961 \t time=52.65s\n",
      "Validation loss:  0.04574483077718654\n",
      "Fold 4\n"
     ]
    },
    {
     "name": "stderr",
     "output_type": "stream",
     "text": [
      "/home/wtq920828/anaconda3/lib/python3.7/site-packages/ipykernel_launcher.py:21: UserWarning: nn.init.xavier_uniform is now deprecated in favor of nn.init.xavier_uniform_.\n"
     ]
    },
    {
     "data": {
      "application/vnd.jupyter.widget-view+json": {
       "model_id": "dd53e15414664989bd347720bbb08050",
       "version_major": 2,
       "version_minor": 0
      },
      "text/plain": [
       "HBox(children=(IntProgress(value=0, max=14518), HTML(value='')))"
      ]
     },
     "metadata": {},
     "output_type": "display_data"
    },
    {
     "name": "stdout",
     "output_type": "stream",
     "text": [
      "tensor(1.)\n",
      "0.9687865972518921\n",
      "Epoch 1/10 \t loss=0.0517 \t val_loss=0.0410 \t val_auc=0.9959 \t time=38.82s\n"
     ]
    },
    {
     "data": {
      "application/vnd.jupyter.widget-view+json": {
       "model_id": "aec0f6dd97b340e7b7b6d7011d33c2b9",
       "version_major": 2,
       "version_minor": 0
      },
      "text/plain": [
       "HBox(children=(IntProgress(value=0, max=14518), HTML(value='')))"
      ]
     },
     "metadata": {},
     "output_type": "display_data"
    },
    {
     "name": "stdout",
     "output_type": "stream",
     "text": [
      "tensor(1.)\n",
      "0.9958431124687195\n",
      "Epoch 2/10 \t loss=0.0438 \t val_loss=0.0497 \t val_auc=0.9945 \t time=41.49s\n"
     ]
    },
    {
     "data": {
      "application/vnd.jupyter.widget-view+json": {
       "model_id": "7b59d8574e5c42e098834ad6b472fd4b",
       "version_major": 2,
       "version_minor": 0
      },
      "text/plain": [
       "HBox(children=(IntProgress(value=0, max=14518), HTML(value='')))"
      ]
     },
     "metadata": {},
     "output_type": "display_data"
    },
    {
     "name": "stdout",
     "output_type": "stream",
     "text": [
      "tensor(1.)\n",
      "0.9941689968109131\n",
      "Epoch 3/10 \t loss=0.0421 \t val_loss=0.0346 \t val_auc=0.9966 \t time=45.35s\n"
     ]
    },
    {
     "data": {
      "application/vnd.jupyter.widget-view+json": {
       "model_id": "88c03f384b2e4c66a326cd04835e3671",
       "version_major": 2,
       "version_minor": 0
      },
      "text/plain": [
       "HBox(children=(IntProgress(value=0, max=14518), HTML(value='')))"
      ]
     },
     "metadata": {},
     "output_type": "display_data"
    },
    {
     "name": "stdout",
     "output_type": "stream",
     "text": [
      "tensor(1.)\n",
      "0.9994401335716248\n",
      "Epoch 4/10 \t loss=0.0400 \t val_loss=0.0363 \t val_auc=0.9967 \t time=46.28s\n"
     ]
    },
    {
     "data": {
      "application/vnd.jupyter.widget-view+json": {
       "model_id": "06ac19112c8c45ed8ba01a1a1b04bc16",
       "version_major": 2,
       "version_minor": 0
      },
      "text/plain": [
       "HBox(children=(IntProgress(value=0, max=14518), HTML(value='')))"
      ]
     },
     "metadata": {},
     "output_type": "display_data"
    },
    {
     "name": "stdout",
     "output_type": "stream",
     "text": [
      "tensor(1.)\n",
      "0.9916572570800781\n",
      "Epoch 5/10 \t loss=0.0379 \t val_loss=0.0359 \t val_auc=0.9967 \t time=47.46s\n"
     ]
    },
    {
     "data": {
      "application/vnd.jupyter.widget-view+json": {
       "model_id": "7045d4fd10af4caa8fbbd8fc5a7b4e6b",
       "version_major": 2,
       "version_minor": 0
      },
      "text/plain": [
       "HBox(children=(IntProgress(value=0, max=14518), HTML(value='')))"
      ]
     },
     "metadata": {},
     "output_type": "display_data"
    },
    {
     "name": "stdout",
     "output_type": "stream",
     "text": [
      "tensor(1.)\n",
      "0.9995179176330566\n",
      "Epoch 6/10 \t loss=0.0386 \t val_loss=0.0352 \t val_auc=0.9965 \t time=45.61s\n"
     ]
    },
    {
     "data": {
      "application/vnd.jupyter.widget-view+json": {
       "model_id": "a7afd71408db4bba82c67bb8e85f0f9b",
       "version_major": 2,
       "version_minor": 0
      },
      "text/plain": [
       "HBox(children=(IntProgress(value=0, max=14518), HTML(value='')))"
      ]
     },
     "metadata": {},
     "output_type": "display_data"
    },
    {
     "name": "stdout",
     "output_type": "stream",
     "text": [
      "tensor(1.)\n",
      "0.9978925585746765\n",
      "Epoch 7/10 \t loss=0.0374 \t val_loss=0.0401 \t val_auc=0.9963 \t time=51.13s\n"
     ]
    },
    {
     "data": {
      "application/vnd.jupyter.widget-view+json": {
       "model_id": "fdcfda9efb8b4ef8a994dc4ff0c9fc0f",
       "version_major": 2,
       "version_minor": 0
      },
      "text/plain": [
       "HBox(children=(IntProgress(value=0, max=14518), HTML(value='')))"
      ]
     },
     "metadata": {},
     "output_type": "display_data"
    },
    {
     "name": "stdout",
     "output_type": "stream",
     "text": [
      "tensor(1.)\n",
      "0.9951339364051819\n",
      "Epoch 8/10 \t loss=0.0385 \t val_loss=0.0381 \t val_auc=0.9963 \t time=54.31s\n"
     ]
    },
    {
     "data": {
      "application/vnd.jupyter.widget-view+json": {
       "model_id": "d9bd2f1a61484260a62a59bef6a0b235",
       "version_major": 2,
       "version_minor": 0
      },
      "text/plain": [
       "HBox(children=(IntProgress(value=0, max=14518), HTML(value='')))"
      ]
     },
     "metadata": {},
     "output_type": "display_data"
    },
    {
     "name": "stdout",
     "output_type": "stream",
     "text": [
      "tensor(1.)\n",
      "0.9991773962974548\n",
      "Epoch 9/10 \t loss=0.0391 \t val_loss=0.0424 \t val_auc=0.9963 \t time=56.13s\n"
     ]
    },
    {
     "data": {
      "application/vnd.jupyter.widget-view+json": {
       "model_id": "490e80afd6034d0bab6b954da6f735ff",
       "version_major": 2,
       "version_minor": 0
      },
      "text/plain": [
       "HBox(children=(IntProgress(value=0, max=14518), HTML(value='')))"
      ]
     },
     "metadata": {},
     "output_type": "display_data"
    },
    {
     "name": "stdout",
     "output_type": "stream",
     "text": [
      "tensor(1.)\n",
      "0.9998010993003845\n",
      "Epoch 10/10 \t loss=0.0382 \t val_loss=0.0357 \t val_auc=0.9966 \t time=56.14s\n",
      "Validation loss:  0.03574693559708398\n"
     ]
    }
   ],
   "source": [
    "train_preds = np.zeros(len(X))\n",
    "test_preds = np.zeros((len(X_test), len(splits)))\n",
    "# final_preds = np.zeros((len(test_X), len(splits)))\n",
    "# final_train = np.zeros((len(train_X), len(splits)))\n",
    "# test_preds_local = np.zeros((n_test, len(splits)))\n",
    "n_epochs = 10\n",
    "batch_size = 32\n",
    "\n",
    "from tqdm import tqdm\n",
    "for i, (train_idx, valid_idx) in enumerate(splits):    \n",
    "    x_train_fold = torch.tensor(X[train_idx], dtype=torch.float32)#.cuda()\n",
    "    y_train_fold = torch.tensor(y1[train_idx, np.newaxis], dtype=torch.float32)#.cuda()\n",
    "    x_val_fold = torch.tensor(X[valid_idx], dtype=torch.float32)#.cuda()\n",
    "    y_val_fold = torch.tensor(y1[valid_idx, np.newaxis], dtype=torch.float32)#.cuda()\n",
    "    print(f'Fold {i + 1}')\n",
    "    \n",
    "    model = get_model(hidden_size=[256,64])\n",
    "    \n",
    "    def init_normal(m):\n",
    "        if type(m) == nn.Linear:\n",
    "            nn.init.xavier_uniform(m.weight)\n",
    "\n",
    "# use the modules apply function to recursively apply the initialization\n",
    "    model.apply(init_normal)\n",
    "#     model.cuda()\n",
    "\n",
    "    valid_preds_fold, test_preds_fold = train_model(model,\n",
    "                                                    x_train_fold,                                                    \n",
    "                                                    y_train_fold, \n",
    "                                                    x_val_fold, \n",
    "                                                    y_val_fold, validate=True)\n",
    "\n",
    "    train_preds[valid_idx] = valid_preds_fold\n",
    "    test_preds[:, i] = test_preds_fold\n",
    "# final_train[:,0] = train_preds\n",
    "# final_preds[:,0] = test_preds.mean(1)"
   ]
  },
  {
   "cell_type": "code",
   "execution_count": 129,
   "metadata": {},
   "outputs": [
    {
     "data": {
      "text/plain": [
       "(619423,)"
      ]
     },
     "execution_count": 129,
     "metadata": {},
     "output_type": "execute_result"
    }
   ],
   "source": [
    "train_preds.shape"
   ]
  },
  {
   "cell_type": "code",
   "execution_count": 130,
   "metadata": {},
   "outputs": [
    {
     "data": {
      "text/plain": [
       "(312568, 4)"
      ]
     },
     "execution_count": 130,
     "metadata": {},
     "output_type": "execute_result"
    }
   ],
   "source": [
    "test_preds.shape"
   ]
  },
  {
   "cell_type": "code",
   "execution_count": 131,
   "metadata": {},
   "outputs": [],
   "source": [
    "nn_validation_1 = train_preds\n",
    "nn_prediction_1 = np.mean(test_preds, axis=1)"
   ]
  },
  {
   "cell_type": "code",
   "execution_count": 133,
   "metadata": {},
   "outputs": [],
   "source": [
    "np.save('./prediction/nn_validation_1', nn_validation_1)\n",
    "np.save('./prediction/nn_prediction_1', nn_prediction_1)"
   ]
  },
  {
   "cell_type": "code",
   "execution_count": 135,
   "metadata": {},
   "outputs": [
    {
     "name": "stdout",
     "output_type": "stream",
     "text": [
      "Fold 1\n"
     ]
    },
    {
     "name": "stderr",
     "output_type": "stream",
     "text": [
      "/home/wtq920828/anaconda3/lib/python3.7/site-packages/ipykernel_launcher.py:21: UserWarning: nn.init.xavier_uniform is now deprecated in favor of nn.init.xavier_uniform_.\n"
     ]
    },
    {
     "data": {
      "application/vnd.jupyter.widget-view+json": {
       "model_id": "f3b75fea25594614bf1460f27125a218",
       "version_major": 2,
       "version_minor": 0
      },
      "text/plain": [
       "HBox(children=(IntProgress(value=0, max=14518), HTML(value='')))"
      ]
     },
     "metadata": {},
     "output_type": "display_data"
    },
    {
     "name": "stdout",
     "output_type": "stream",
     "text": [
      "tensor(1.)\n",
      "0.9968728423118591\n",
      "Epoch 1/15 \t loss=0.0566 \t val_loss=0.0445 \t val_auc=0.9976 \t time=38.22s\n"
     ]
    },
    {
     "data": {
      "application/vnd.jupyter.widget-view+json": {
       "model_id": "371f08911d88418286097f62833fd1e5",
       "version_major": 2,
       "version_minor": 0
      },
      "text/plain": [
       "HBox(children=(IntProgress(value=0, max=14518), HTML(value='')))"
      ]
     },
     "metadata": {},
     "output_type": "display_data"
    },
    {
     "name": "stdout",
     "output_type": "stream",
     "text": [
      "tensor(1.)\n",
      "0.9999994039535522\n",
      "Epoch 2/15 \t loss=0.0421 \t val_loss=0.0436 \t val_auc=0.9982 \t time=40.20s\n"
     ]
    },
    {
     "data": {
      "application/vnd.jupyter.widget-view+json": {
       "model_id": "5f1c6c8fe59942e082bbeb3c9920aff7",
       "version_major": 2,
       "version_minor": 0
      },
      "text/plain": [
       "HBox(children=(IntProgress(value=0, max=14518), HTML(value='')))"
      ]
     },
     "metadata": {},
     "output_type": "display_data"
    },
    {
     "name": "stdout",
     "output_type": "stream",
     "text": [
      "tensor(1.)\n",
      "0.9999995231628418\n",
      "Epoch 3/15 \t loss=0.0381 \t val_loss=0.0325 \t val_auc=0.9985 \t time=38.95s\n"
     ]
    },
    {
     "data": {
      "application/vnd.jupyter.widget-view+json": {
       "model_id": "0148a6ac31b8493c9d63cf3e09f51fce",
       "version_major": 2,
       "version_minor": 0
      },
      "text/plain": [
       "HBox(children=(IntProgress(value=0, max=14518), HTML(value='')))"
      ]
     },
     "metadata": {},
     "output_type": "display_data"
    },
    {
     "name": "stdout",
     "output_type": "stream",
     "text": [
      "tensor(1.)\n",
      "0.9999998807907104\n",
      "Epoch 4/15 \t loss=0.0358 \t val_loss=0.0357 \t val_auc=0.9983 \t time=43.82s\n"
     ]
    },
    {
     "data": {
      "application/vnd.jupyter.widget-view+json": {
       "model_id": "f8c13f493cdb40b5856df8a6fc8a1be4",
       "version_major": 2,
       "version_minor": 0
      },
      "text/plain": [
       "HBox(children=(IntProgress(value=0, max=14518), HTML(value='')))"
      ]
     },
     "metadata": {},
     "output_type": "display_data"
    },
    {
     "name": "stdout",
     "output_type": "stream",
     "text": [
      "tensor(1.)\n",
      "1.0\n",
      "Epoch 5/15 \t loss=0.0356 \t val_loss=0.0304 \t val_auc=0.9987 \t time=54.12s\n"
     ]
    },
    {
     "data": {
      "application/vnd.jupyter.widget-view+json": {
       "model_id": "e2ac4e895c6e4e5989ee00952a844ba0",
       "version_major": 2,
       "version_minor": 0
      },
      "text/plain": [
       "HBox(children=(IntProgress(value=0, max=14518), HTML(value='')))"
      ]
     },
     "metadata": {},
     "output_type": "display_data"
    },
    {
     "name": "stdout",
     "output_type": "stream",
     "text": [
      "tensor(1.)\n",
      "1.0\n",
      "Epoch 6/15 \t loss=0.0346 \t val_loss=0.0370 \t val_auc=0.9981 \t time=49.06s\n"
     ]
    },
    {
     "data": {
      "application/vnd.jupyter.widget-view+json": {
       "model_id": "7fde58db10c04930b050d2b7c213e664",
       "version_major": 2,
       "version_minor": 0
      },
      "text/plain": [
       "HBox(children=(IntProgress(value=0, max=14518), HTML(value='')))"
      ]
     },
     "metadata": {},
     "output_type": "display_data"
    },
    {
     "name": "stdout",
     "output_type": "stream",
     "text": [
      "tensor(1.)\n",
      "1.0\n",
      "Epoch 7/15 \t loss=0.0343 \t val_loss=0.0306 \t val_auc=0.9987 \t time=47.13s\n"
     ]
    },
    {
     "data": {
      "application/vnd.jupyter.widget-view+json": {
       "model_id": "cc088c059343422e99a5a41ac0e9bab2",
       "version_major": 2,
       "version_minor": 0
      },
      "text/plain": [
       "HBox(children=(IntProgress(value=0, max=14518), HTML(value='')))"
      ]
     },
     "metadata": {},
     "output_type": "display_data"
    },
    {
     "name": "stdout",
     "output_type": "stream",
     "text": [
      "tensor(1.)\n",
      "1.0\n",
      "Epoch 8/15 \t loss=0.0337 \t val_loss=0.0322 \t val_auc=0.9986 \t time=48.05s\n"
     ]
    },
    {
     "data": {
      "application/vnd.jupyter.widget-view+json": {
       "model_id": "389d68c063fe4d238f1bde2b3ce3491e",
       "version_major": 2,
       "version_minor": 0
      },
      "text/plain": [
       "HBox(children=(IntProgress(value=0, max=14518), HTML(value='')))"
      ]
     },
     "metadata": {},
     "output_type": "display_data"
    },
    {
     "name": "stdout",
     "output_type": "stream",
     "text": [
      "tensor(1.)\n",
      "1.0\n",
      "Epoch 9/15 \t loss=0.0344 \t val_loss=0.0369 \t val_auc=0.9985 \t time=55.76s\n"
     ]
    },
    {
     "data": {
      "application/vnd.jupyter.widget-view+json": {
       "model_id": "7051808c9fd74faf86ff6b38e0d3b2b0",
       "version_major": 2,
       "version_minor": 0
      },
      "text/plain": [
       "HBox(children=(IntProgress(value=0, max=14518), HTML(value='')))"
      ]
     },
     "metadata": {},
     "output_type": "display_data"
    },
    {
     "name": "stdout",
     "output_type": "stream",
     "text": [
      "tensor(1.)\n",
      "1.0\n",
      "Epoch 10/15 \t loss=0.0334 \t val_loss=0.0381 \t val_auc=0.9984 \t time=54.16s\n"
     ]
    },
    {
     "data": {
      "application/vnd.jupyter.widget-view+json": {
       "model_id": "4f2a3e24c03a4c14989e228bb6bf600f",
       "version_major": 2,
       "version_minor": 0
      },
      "text/plain": [
       "HBox(children=(IntProgress(value=0, max=14518), HTML(value='')))"
      ]
     },
     "metadata": {},
     "output_type": "display_data"
    },
    {
     "name": "stdout",
     "output_type": "stream",
     "text": [
      "tensor(1.)\n",
      "1.0\n",
      "Epoch 11/15 \t loss=0.0343 \t val_loss=0.0314 \t val_auc=0.9987 \t time=56.18s\n"
     ]
    },
    {
     "data": {
      "application/vnd.jupyter.widget-view+json": {
       "model_id": "8a5a229589814e4e9211986627357596",
       "version_major": 2,
       "version_minor": 0
      },
      "text/plain": [
       "HBox(children=(IntProgress(value=0, max=14518), HTML(value='')))"
      ]
     },
     "metadata": {},
     "output_type": "display_data"
    },
    {
     "name": "stdout",
     "output_type": "stream",
     "text": [
      "tensor(1.)\n",
      "1.0\n",
      "Epoch 12/15 \t loss=0.0347 \t val_loss=0.0408 \t val_auc=0.9983 \t time=56.40s\n"
     ]
    },
    {
     "data": {
      "application/vnd.jupyter.widget-view+json": {
       "model_id": "d637e5dc39e648adacf1be582c94d590",
       "version_major": 2,
       "version_minor": 0
      },
      "text/plain": [
       "HBox(children=(IntProgress(value=0, max=14518), HTML(value='')))"
      ]
     },
     "metadata": {},
     "output_type": "display_data"
    },
    {
     "name": "stdout",
     "output_type": "stream",
     "text": [
      "tensor(1.)\n",
      "1.0\n",
      "Epoch 13/15 \t loss=0.0339 \t val_loss=0.0361 \t val_auc=0.9984 \t time=55.56s\n"
     ]
    },
    {
     "data": {
      "application/vnd.jupyter.widget-view+json": {
       "model_id": "5a0d97bcbf4448ca8a2bfdc975d87f01",
       "version_major": 2,
       "version_minor": 0
      },
      "text/plain": [
       "HBox(children=(IntProgress(value=0, max=14518), HTML(value='')))"
      ]
     },
     "metadata": {},
     "output_type": "display_data"
    },
    {
     "name": "stdout",
     "output_type": "stream",
     "text": [
      "tensor(1.)\n",
      "1.0\n",
      "Epoch 14/15 \t loss=0.0335 \t val_loss=0.0345 \t val_auc=0.9983 \t time=57.29s\n"
     ]
    },
    {
     "data": {
      "application/vnd.jupyter.widget-view+json": {
       "model_id": "25446f6d3932455ca6acd7690b785715",
       "version_major": 2,
       "version_minor": 0
      },
      "text/plain": [
       "HBox(children=(IntProgress(value=0, max=14518), HTML(value='')))"
      ]
     },
     "metadata": {},
     "output_type": "display_data"
    },
    {
     "name": "stdout",
     "output_type": "stream",
     "text": [
      "tensor(1.)\n",
      "1.0\n",
      "Epoch 15/15 \t loss=0.0323 \t val_loss=0.0429 \t val_auc=0.9983 \t time=57.02s\n",
      "Validation loss:  0.04285738913037919\n",
      "Fold 2\n"
     ]
    },
    {
     "name": "stderr",
     "output_type": "stream",
     "text": [
      "/home/wtq920828/anaconda3/lib/python3.7/site-packages/ipykernel_launcher.py:21: UserWarning: nn.init.xavier_uniform is now deprecated in favor of nn.init.xavier_uniform_.\n"
     ]
    },
    {
     "data": {
      "application/vnd.jupyter.widget-view+json": {
       "model_id": "929af733118040cf9b82f2acc2240ac1",
       "version_major": 2,
       "version_minor": 0
      },
      "text/plain": [
       "HBox(children=(IntProgress(value=0, max=14518), HTML(value='')))"
      ]
     },
     "metadata": {},
     "output_type": "display_data"
    },
    {
     "name": "stdout",
     "output_type": "stream",
     "text": [
      "tensor(1.)\n",
      "0.999951958656311\n",
      "Epoch 1/15 \t loss=0.0554 \t val_loss=0.0496 \t val_auc=0.9975 \t time=34.17s\n"
     ]
    },
    {
     "data": {
      "application/vnd.jupyter.widget-view+json": {
       "model_id": "659f4a63081d4981adf2503aa18d90e5",
       "version_major": 2,
       "version_minor": 0
      },
      "text/plain": [
       "HBox(children=(IntProgress(value=0, max=14518), HTML(value='')))"
      ]
     },
     "metadata": {},
     "output_type": "display_data"
    },
    {
     "name": "stdout",
     "output_type": "stream",
     "text": [
      "tensor(1.)\n",
      "0.9998761415481567\n",
      "Epoch 2/15 \t loss=0.0425 \t val_loss=0.0368 \t val_auc=0.9983 \t time=40.45s\n"
     ]
    },
    {
     "data": {
      "application/vnd.jupyter.widget-view+json": {
       "model_id": "d05775ccf7f54e8487c9e7d6d4a96f1f",
       "version_major": 2,
       "version_minor": 0
      },
      "text/plain": [
       "HBox(children=(IntProgress(value=0, max=14518), HTML(value='')))"
      ]
     },
     "metadata": {},
     "output_type": "display_data"
    },
    {
     "name": "stdout",
     "output_type": "stream",
     "text": [
      "tensor(1.)\n",
      "0.9999963045120239\n",
      "Epoch 3/15 \t loss=0.0380 \t val_loss=0.0329 \t val_auc=0.9984 \t time=41.06s\n"
     ]
    },
    {
     "data": {
      "application/vnd.jupyter.widget-view+json": {
       "model_id": "277980e9164242a088e1aab2210fdaa1",
       "version_major": 2,
       "version_minor": 0
      },
      "text/plain": [
       "HBox(children=(IntProgress(value=0, max=14518), HTML(value='')))"
      ]
     },
     "metadata": {},
     "output_type": "display_data"
    },
    {
     "name": "stdout",
     "output_type": "stream",
     "text": [
      "tensor(1.)\n",
      "0.9999998807907104\n",
      "Epoch 4/15 \t loss=0.0369 \t val_loss=0.0324 \t val_auc=0.9985 \t time=43.52s\n"
     ]
    },
    {
     "data": {
      "application/vnd.jupyter.widget-view+json": {
       "model_id": "5d80920e519a4f838471478580f84df1",
       "version_major": 2,
       "version_minor": 0
      },
      "text/plain": [
       "HBox(children=(IntProgress(value=0, max=14518), HTML(value='')))"
      ]
     },
     "metadata": {},
     "output_type": "display_data"
    },
    {
     "name": "stdout",
     "output_type": "stream",
     "text": [
      "tensor(1.)\n",
      "1.0\n",
      "Epoch 5/15 \t loss=0.0355 \t val_loss=0.0554 \t val_auc=0.9977 \t time=40.95s\n"
     ]
    },
    {
     "data": {
      "application/vnd.jupyter.widget-view+json": {
       "model_id": "6c99d96cbe364d51be54c01d28338886",
       "version_major": 2,
       "version_minor": 0
      },
      "text/plain": [
       "HBox(children=(IntProgress(value=0, max=14518), HTML(value='')))"
      ]
     },
     "metadata": {},
     "output_type": "display_data"
    },
    {
     "name": "stdout",
     "output_type": "stream",
     "text": [
      "tensor(1.)\n",
      "1.0\n",
      "Epoch 6/15 \t loss=0.0356 \t val_loss=0.0412 \t val_auc=0.9983 \t time=48.04s\n"
     ]
    },
    {
     "data": {
      "application/vnd.jupyter.widget-view+json": {
       "model_id": "737dc02dc72f4e49a70b52a48796c95b",
       "version_major": 2,
       "version_minor": 0
      },
      "text/plain": [
       "HBox(children=(IntProgress(value=0, max=14518), HTML(value='')))"
      ]
     },
     "metadata": {},
     "output_type": "display_data"
    },
    {
     "name": "stdout",
     "output_type": "stream",
     "text": [
      "tensor(1.)\n",
      "0.9999990463256836\n",
      "Epoch 7/15 \t loss=0.0343 \t val_loss=0.0433 \t val_auc=0.9981 \t time=54.62s\n"
     ]
    },
    {
     "data": {
      "application/vnd.jupyter.widget-view+json": {
       "model_id": "267666889d2c4033a669d840d21856cf",
       "version_major": 2,
       "version_minor": 0
      },
      "text/plain": [
       "HBox(children=(IntProgress(value=0, max=14518), HTML(value='')))"
      ]
     },
     "metadata": {},
     "output_type": "display_data"
    },
    {
     "name": "stdout",
     "output_type": "stream",
     "text": [
      "tensor(1.)\n",
      "1.0\n",
      "Epoch 8/15 \t loss=0.0366 \t val_loss=0.0447 \t val_auc=0.9984 \t time=55.28s\n"
     ]
    },
    {
     "data": {
      "application/vnd.jupyter.widget-view+json": {
       "model_id": "1e9258599ace42608ef8bff820c462c1",
       "version_major": 2,
       "version_minor": 0
      },
      "text/plain": [
       "HBox(children=(IntProgress(value=0, max=14518), HTML(value='')))"
      ]
     },
     "metadata": {},
     "output_type": "display_data"
    },
    {
     "name": "stdout",
     "output_type": "stream",
     "text": [
      "tensor(1.)\n",
      "1.0\n",
      "Epoch 9/15 \t loss=0.0342 \t val_loss=0.0460 \t val_auc=0.9981 \t time=56.66s\n"
     ]
    },
    {
     "data": {
      "application/vnd.jupyter.widget-view+json": {
       "model_id": "1bfaee0ec7f440dfb5e6f5d21ff61805",
       "version_major": 2,
       "version_minor": 0
      },
      "text/plain": [
       "HBox(children=(IntProgress(value=0, max=14518), HTML(value='')))"
      ]
     },
     "metadata": {},
     "output_type": "display_data"
    },
    {
     "name": "stdout",
     "output_type": "stream",
     "text": [
      "tensor(1.)\n",
      "1.0\n",
      "Epoch 10/15 \t loss=0.0338 \t val_loss=0.0365 \t val_auc=0.9984 \t time=56.66s\n"
     ]
    },
    {
     "data": {
      "application/vnd.jupyter.widget-view+json": {
       "model_id": "b6aaed6ebda847ebba29f88c215065fd",
       "version_major": 2,
       "version_minor": 0
      },
      "text/plain": [
       "HBox(children=(IntProgress(value=0, max=14518), HTML(value='')))"
      ]
     },
     "metadata": {},
     "output_type": "display_data"
    },
    {
     "name": "stdout",
     "output_type": "stream",
     "text": [
      "tensor(1.)\n",
      "1.0\n",
      "Epoch 11/15 \t loss=0.0344 \t val_loss=0.0425 \t val_auc=0.9984 \t time=52.14s\n"
     ]
    },
    {
     "data": {
      "application/vnd.jupyter.widget-view+json": {
       "model_id": "112f57b2fe414761a9ca49ff8c8d11db",
       "version_major": 2,
       "version_minor": 0
      },
      "text/plain": [
       "HBox(children=(IntProgress(value=0, max=14518), HTML(value='')))"
      ]
     },
     "metadata": {},
     "output_type": "display_data"
    },
    {
     "name": "stdout",
     "output_type": "stream",
     "text": [
      "tensor(1.)\n",
      "1.0\n",
      "Epoch 12/15 \t loss=0.0332 \t val_loss=0.0585 \t val_auc=0.9980 \t time=56.62s\n"
     ]
    },
    {
     "data": {
      "application/vnd.jupyter.widget-view+json": {
       "model_id": "1774d0f5a74d40ffa335919f8280f9b9",
       "version_major": 2,
       "version_minor": 0
      },
      "text/plain": [
       "HBox(children=(IntProgress(value=0, max=14518), HTML(value='')))"
      ]
     },
     "metadata": {},
     "output_type": "display_data"
    },
    {
     "name": "stdout",
     "output_type": "stream",
     "text": [
      "tensor(1.)\n",
      "1.0\n",
      "Epoch 13/15 \t loss=0.0357 \t val_loss=0.0369 \t val_auc=0.9986 \t time=55.33s\n"
     ]
    },
    {
     "data": {
      "application/vnd.jupyter.widget-view+json": {
       "model_id": "e798994c06a343708e45448e49fe6135",
       "version_major": 2,
       "version_minor": 0
      },
      "text/plain": [
       "HBox(children=(IntProgress(value=0, max=14518), HTML(value='')))"
      ]
     },
     "metadata": {},
     "output_type": "display_data"
    },
    {
     "name": "stdout",
     "output_type": "stream",
     "text": [
      "tensor(1.)\n",
      "1.0\n",
      "Epoch 14/15 \t loss=0.0313 \t val_loss=0.0382 \t val_auc=0.9984 \t time=56.37s\n"
     ]
    },
    {
     "data": {
      "application/vnd.jupyter.widget-view+json": {
       "model_id": "4114dcf3767f4c32bfdbf33b1a69f025",
       "version_major": 2,
       "version_minor": 0
      },
      "text/plain": [
       "HBox(children=(IntProgress(value=0, max=14518), HTML(value='')))"
      ]
     },
     "metadata": {},
     "output_type": "display_data"
    },
    {
     "name": "stdout",
     "output_type": "stream",
     "text": [
      "tensor(1.)\n",
      "1.0\n",
      "Epoch 15/15 \t loss=0.0342 \t val_loss=0.0381 \t val_auc=0.9984 \t time=58.01s\n",
      "Validation loss:  0.03807452771336572\n",
      "Fold 3\n"
     ]
    },
    {
     "name": "stderr",
     "output_type": "stream",
     "text": [
      "/home/wtq920828/anaconda3/lib/python3.7/site-packages/ipykernel_launcher.py:21: UserWarning: nn.init.xavier_uniform is now deprecated in favor of nn.init.xavier_uniform_.\n"
     ]
    },
    {
     "data": {
      "application/vnd.jupyter.widget-view+json": {
       "model_id": "07c7b334964440e09309561da4a71c0a",
       "version_major": 2,
       "version_minor": 0
      },
      "text/plain": [
       "HBox(children=(IntProgress(value=0, max=14518), HTML(value='')))"
      ]
     },
     "metadata": {},
     "output_type": "display_data"
    },
    {
     "name": "stdout",
     "output_type": "stream",
     "text": [
      "tensor(1.)\n",
      "0.9993147850036621\n",
      "Epoch 1/15 \t loss=0.0529 \t val_loss=0.0360 \t val_auc=0.9981 \t time=39.26s\n"
     ]
    },
    {
     "data": {
      "application/vnd.jupyter.widget-view+json": {
       "model_id": "507add7ba8e54667b69070abdc878778",
       "version_major": 2,
       "version_minor": 0
      },
      "text/plain": [
       "HBox(children=(IntProgress(value=0, max=14518), HTML(value='')))"
      ]
     },
     "metadata": {},
     "output_type": "display_data"
    },
    {
     "name": "stdout",
     "output_type": "stream",
     "text": [
      "tensor(1.)\n",
      "0.999994158744812\n",
      "Epoch 2/15 \t loss=0.0397 \t val_loss=0.0335 \t val_auc=0.9984 \t time=41.09s\n"
     ]
    },
    {
     "data": {
      "application/vnd.jupyter.widget-view+json": {
       "model_id": "222620cb6c4a4c14a21cff537da068b9",
       "version_major": 2,
       "version_minor": 0
      },
      "text/plain": [
       "HBox(children=(IntProgress(value=0, max=14518), HTML(value='')))"
      ]
     },
     "metadata": {},
     "output_type": "display_data"
    },
    {
     "name": "stdout",
     "output_type": "stream",
     "text": [
      "tensor(1.)\n",
      "0.9999878406524658\n",
      "Epoch 3/15 \t loss=0.0380 \t val_loss=0.0320 \t val_auc=0.9985 \t time=42.58s\n"
     ]
    },
    {
     "data": {
      "application/vnd.jupyter.widget-view+json": {
       "model_id": "317940fae211456db9b333d6d6ea52fb",
       "version_major": 2,
       "version_minor": 0
      },
      "text/plain": [
       "HBox(children=(IntProgress(value=0, max=14518), HTML(value='')))"
      ]
     },
     "metadata": {},
     "output_type": "display_data"
    },
    {
     "name": "stdout",
     "output_type": "stream",
     "text": [
      "tensor(1.)\n",
      "0.9999970197677612\n",
      "Epoch 4/15 \t loss=0.0359 \t val_loss=0.0313 \t val_auc=0.9987 \t time=44.06s\n"
     ]
    },
    {
     "data": {
      "application/vnd.jupyter.widget-view+json": {
       "model_id": "8ab4381fbb5f490e96be2dd61453e239",
       "version_major": 2,
       "version_minor": 0
      },
      "text/plain": [
       "HBox(children=(IntProgress(value=0, max=14518), HTML(value='')))"
      ]
     },
     "metadata": {},
     "output_type": "display_data"
    },
    {
     "name": "stdout",
     "output_type": "stream",
     "text": [
      "tensor(1.)\n",
      "1.0\n",
      "Epoch 5/15 \t loss=0.0345 \t val_loss=0.0294 \t val_auc=0.9988 \t time=45.25s\n"
     ]
    },
    {
     "data": {
      "application/vnd.jupyter.widget-view+json": {
       "model_id": "14f705d7fa0b49b2bc5dbf094b977fe8",
       "version_major": 2,
       "version_minor": 0
      },
      "text/plain": [
       "HBox(children=(IntProgress(value=0, max=14518), HTML(value='')))"
      ]
     },
     "metadata": {},
     "output_type": "display_data"
    },
    {
     "name": "stdout",
     "output_type": "stream",
     "text": [
      "tensor(1.)\n",
      "1.0\n",
      "Epoch 6/15 \t loss=0.0354 \t val_loss=0.0293 \t val_auc=0.9987 \t time=49.00s\n"
     ]
    },
    {
     "data": {
      "application/vnd.jupyter.widget-view+json": {
       "model_id": "3608bea854664b7696dc6a918ccd380d",
       "version_major": 2,
       "version_minor": 0
      },
      "text/plain": [
       "HBox(children=(IntProgress(value=0, max=14518), HTML(value='')))"
      ]
     },
     "metadata": {},
     "output_type": "display_data"
    },
    {
     "name": "stdout",
     "output_type": "stream",
     "text": [
      "tensor(1.)\n",
      "1.0\n",
      "Epoch 7/15 \t loss=0.0336 \t val_loss=0.0374 \t val_auc=0.9986 \t time=53.01s\n"
     ]
    },
    {
     "data": {
      "application/vnd.jupyter.widget-view+json": {
       "model_id": "13456e798aeb44b3a9ebc318d619bb8e",
       "version_major": 2,
       "version_minor": 0
      },
      "text/plain": [
       "HBox(children=(IntProgress(value=0, max=14518), HTML(value='')))"
      ]
     },
     "metadata": {},
     "output_type": "display_data"
    },
    {
     "name": "stdout",
     "output_type": "stream",
     "text": [
      "tensor(1.)\n",
      "1.0\n",
      "Epoch 8/15 \t loss=0.0341 \t val_loss=0.0300 \t val_auc=0.9987 \t time=51.79s\n"
     ]
    },
    {
     "data": {
      "application/vnd.jupyter.widget-view+json": {
       "model_id": "3feb3dca4e1e44c286f1e4b01691484b",
       "version_major": 2,
       "version_minor": 0
      },
      "text/plain": [
       "HBox(children=(IntProgress(value=0, max=14518), HTML(value='')))"
      ]
     },
     "metadata": {},
     "output_type": "display_data"
    },
    {
     "name": "stdout",
     "output_type": "stream",
     "text": [
      "tensor(1.)\n",
      "1.0\n",
      "Epoch 9/15 \t loss=0.0331 \t val_loss=0.0415 \t val_auc=0.9984 \t time=53.99s\n"
     ]
    },
    {
     "data": {
      "application/vnd.jupyter.widget-view+json": {
       "model_id": "7f2f3e93942d4820a162a0281aab4d9d",
       "version_major": 2,
       "version_minor": 0
      },
      "text/plain": [
       "HBox(children=(IntProgress(value=0, max=14518), HTML(value='')))"
      ]
     },
     "metadata": {},
     "output_type": "display_data"
    },
    {
     "name": "stdout",
     "output_type": "stream",
     "text": [
      "tensor(1.)\n",
      "1.0\n",
      "Epoch 10/15 \t loss=0.0332 \t val_loss=0.0370 \t val_auc=0.9985 \t time=56.63s\n"
     ]
    },
    {
     "data": {
      "application/vnd.jupyter.widget-view+json": {
       "model_id": "ef48daef42c849199a42eaff7c3aece1",
       "version_major": 2,
       "version_minor": 0
      },
      "text/plain": [
       "HBox(children=(IntProgress(value=0, max=14518), HTML(value='')))"
      ]
     },
     "metadata": {},
     "output_type": "display_data"
    },
    {
     "name": "stdout",
     "output_type": "stream",
     "text": [
      "tensor(1.)\n",
      "1.0\n",
      "Epoch 11/15 \t loss=0.0329 \t val_loss=0.0367 \t val_auc=0.9984 \t time=56.56s\n"
     ]
    },
    {
     "data": {
      "application/vnd.jupyter.widget-view+json": {
       "model_id": "80488758f5444752b9532b06d4e64105",
       "version_major": 2,
       "version_minor": 0
      },
      "text/plain": [
       "HBox(children=(IntProgress(value=0, max=14518), HTML(value='')))"
      ]
     },
     "metadata": {},
     "output_type": "display_data"
    },
    {
     "name": "stdout",
     "output_type": "stream",
     "text": [
      "tensor(1.)\n",
      "1.0\n",
      "Epoch 12/15 \t loss=0.0333 \t val_loss=0.0323 \t val_auc=0.9985 \t time=58.00s\n"
     ]
    },
    {
     "data": {
      "application/vnd.jupyter.widget-view+json": {
       "model_id": "c212ae6b04af4022a4cefc94f6d30fa2",
       "version_major": 2,
       "version_minor": 0
      },
      "text/plain": [
       "HBox(children=(IntProgress(value=0, max=14518), HTML(value='')))"
      ]
     },
     "metadata": {},
     "output_type": "display_data"
    },
    {
     "name": "stdout",
     "output_type": "stream",
     "text": [
      "tensor(1.)\n",
      "1.0\n",
      "Epoch 13/15 \t loss=0.0340 \t val_loss=0.0382 \t val_auc=0.9985 \t time=57.22s\n"
     ]
    },
    {
     "data": {
      "application/vnd.jupyter.widget-view+json": {
       "model_id": "2a06af295ada4c6d8ca11dbdf0ecccc4",
       "version_major": 2,
       "version_minor": 0
      },
      "text/plain": [
       "HBox(children=(IntProgress(value=0, max=14518), HTML(value='')))"
      ]
     },
     "metadata": {},
     "output_type": "display_data"
    },
    {
     "name": "stdout",
     "output_type": "stream",
     "text": [
      "tensor(1.)\n",
      "1.0\n",
      "Epoch 14/15 \t loss=0.0345 \t val_loss=0.0387 \t val_auc=0.9984 \t time=52.20s\n"
     ]
    },
    {
     "data": {
      "application/vnd.jupyter.widget-view+json": {
       "model_id": "8e6e958f68a44aadb24e1341402fa7cb",
       "version_major": 2,
       "version_minor": 0
      },
      "text/plain": [
       "HBox(children=(IntProgress(value=0, max=14518), HTML(value='')))"
      ]
     },
     "metadata": {},
     "output_type": "display_data"
    },
    {
     "name": "stdout",
     "output_type": "stream",
     "text": [
      "tensor(1.)\n",
      "1.0\n",
      "Epoch 15/15 \t loss=0.0313 \t val_loss=0.0421 \t val_auc=0.9984 \t time=56.17s\n",
      "Validation loss:  0.04214127899715807\n",
      "Fold 4\n"
     ]
    },
    {
     "name": "stderr",
     "output_type": "stream",
     "text": [
      "/home/wtq920828/anaconda3/lib/python3.7/site-packages/ipykernel_launcher.py:21: UserWarning: nn.init.xavier_uniform is now deprecated in favor of nn.init.xavier_uniform_.\n"
     ]
    },
    {
     "data": {
      "application/vnd.jupyter.widget-view+json": {
       "model_id": "591e627f2e284cf3a90d63b66d1d6a40",
       "version_major": 2,
       "version_minor": 0
      },
      "text/plain": [
       "HBox(children=(IntProgress(value=0, max=14518), HTML(value='')))"
      ]
     },
     "metadata": {},
     "output_type": "display_data"
    },
    {
     "name": "stdout",
     "output_type": "stream",
     "text": [
      "tensor(1.)\n",
      "0.9999992847442627\n",
      "Epoch 1/15 \t loss=0.0541 \t val_loss=0.0531 \t val_auc=0.9976 \t time=37.74s\n"
     ]
    },
    {
     "data": {
      "application/vnd.jupyter.widget-view+json": {
       "model_id": "d8cdb4a2501741c38259e9d31822615b",
       "version_major": 2,
       "version_minor": 0
      },
      "text/plain": [
       "HBox(children=(IntProgress(value=0, max=14518), HTML(value='')))"
      ]
     },
     "metadata": {},
     "output_type": "display_data"
    },
    {
     "name": "stdout",
     "output_type": "stream",
     "text": [
      "tensor(1.)\n",
      "0.9999926090240479\n",
      "Epoch 2/15 \t loss=0.0410 \t val_loss=0.0381 \t val_auc=0.9978 \t time=40.20s\n"
     ]
    },
    {
     "data": {
      "application/vnd.jupyter.widget-view+json": {
       "model_id": "4c102572aab649868fedfddeaf826292",
       "version_major": 2,
       "version_minor": 0
      },
      "text/plain": [
       "HBox(children=(IntProgress(value=0, max=14518), HTML(value='')))"
      ]
     },
     "metadata": {},
     "output_type": "display_data"
    },
    {
     "name": "stdout",
     "output_type": "stream",
     "text": [
      "tensor(1.)\n",
      "0.9999816417694092\n",
      "Epoch 3/15 \t loss=0.0395 \t val_loss=0.0350 \t val_auc=0.9981 \t time=41.80s\n"
     ]
    },
    {
     "data": {
      "application/vnd.jupyter.widget-view+json": {
       "model_id": "f8fca3729bf7491aa11ec3038abb258e",
       "version_major": 2,
       "version_minor": 0
      },
      "text/plain": [
       "HBox(children=(IntProgress(value=0, max=14518), HTML(value='')))"
      ]
     },
     "metadata": {},
     "output_type": "display_data"
    },
    {
     "name": "stdout",
     "output_type": "stream",
     "text": [
      "tensor(1.)\n",
      "0.9999978542327881\n",
      "Epoch 4/15 \t loss=0.0370 \t val_loss=0.0380 \t val_auc=0.9981 \t time=43.64s\n"
     ]
    },
    {
     "data": {
      "application/vnd.jupyter.widget-view+json": {
       "model_id": "4a6ff28e90094fa78c212aef1515e7b1",
       "version_major": 2,
       "version_minor": 0
      },
      "text/plain": [
       "HBox(children=(IntProgress(value=0, max=14518), HTML(value='')))"
      ]
     },
     "metadata": {},
     "output_type": "display_data"
    },
    {
     "name": "stdout",
     "output_type": "stream",
     "text": [
      "tensor(1.)\n",
      "1.0\n",
      "Epoch 5/15 \t loss=0.0355 \t val_loss=0.0362 \t val_auc=0.9983 \t time=45.93s\n"
     ]
    },
    {
     "data": {
      "application/vnd.jupyter.widget-view+json": {
       "model_id": "7a0f62b85b3546508aef405f2c18ee85",
       "version_major": 2,
       "version_minor": 0
      },
      "text/plain": [
       "HBox(children=(IntProgress(value=0, max=14518), HTML(value='')))"
      ]
     },
     "metadata": {},
     "output_type": "display_data"
    },
    {
     "name": "stdout",
     "output_type": "stream",
     "text": [
      "tensor(1.)\n",
      "0.9999998807907104\n",
      "Epoch 6/15 \t loss=0.0339 \t val_loss=0.0338 \t val_auc=0.9985 \t time=52.34s\n"
     ]
    },
    {
     "data": {
      "application/vnd.jupyter.widget-view+json": {
       "model_id": "4006e459989e4f739e76502e68277fc8",
       "version_major": 2,
       "version_minor": 0
      },
      "text/plain": [
       "HBox(children=(IntProgress(value=0, max=14518), HTML(value='')))"
      ]
     },
     "metadata": {},
     "output_type": "display_data"
    },
    {
     "name": "stdout",
     "output_type": "stream",
     "text": [
      "tensor(1.)\n",
      "1.0\n",
      "Epoch 7/15 \t loss=0.0343 \t val_loss=0.0391 \t val_auc=0.9983 \t time=55.48s\n"
     ]
    },
    {
     "data": {
      "application/vnd.jupyter.widget-view+json": {
       "model_id": "e38b8c5137a647a282163670bdacce10",
       "version_major": 2,
       "version_minor": 0
      },
      "text/plain": [
       "HBox(children=(IntProgress(value=0, max=14518), HTML(value='')))"
      ]
     },
     "metadata": {},
     "output_type": "display_data"
    },
    {
     "name": "stdout",
     "output_type": "stream",
     "text": [
      "tensor(1.)\n",
      "1.0\n",
      "Epoch 8/15 \t loss=0.0343 \t val_loss=0.0371 \t val_auc=0.9981 \t time=57.21s\n"
     ]
    },
    {
     "data": {
      "application/vnd.jupyter.widget-view+json": {
       "model_id": "9fb0d7cf863e4d5a951227366c121218",
       "version_major": 2,
       "version_minor": 0
      },
      "text/plain": [
       "HBox(children=(IntProgress(value=0, max=14518), HTML(value='')))"
      ]
     },
     "metadata": {},
     "output_type": "display_data"
    },
    {
     "name": "stdout",
     "output_type": "stream",
     "text": [
      "tensor(1.)\n",
      "1.0\n",
      "Epoch 9/15 \t loss=0.0356 \t val_loss=0.0333 \t val_auc=0.9985 \t time=55.86s\n"
     ]
    },
    {
     "data": {
      "application/vnd.jupyter.widget-view+json": {
       "model_id": "dc2e4b845d4a48dc8afb4443f17f004a",
       "version_major": 2,
       "version_minor": 0
      },
      "text/plain": [
       "HBox(children=(IntProgress(value=0, max=14518), HTML(value='')))"
      ]
     },
     "metadata": {},
     "output_type": "display_data"
    },
    {
     "name": "stdout",
     "output_type": "stream",
     "text": [
      "tensor(1.)\n",
      "1.0\n",
      "Epoch 10/15 \t loss=0.0319 \t val_loss=0.0417 \t val_auc=0.9979 \t time=56.26s\n"
     ]
    },
    {
     "data": {
      "application/vnd.jupyter.widget-view+json": {
       "model_id": "ba49fc46fb9e4da5bbbf33bea82618a4",
       "version_major": 2,
       "version_minor": 0
      },
      "text/plain": [
       "HBox(children=(IntProgress(value=0, max=14518), HTML(value='')))"
      ]
     },
     "metadata": {},
     "output_type": "display_data"
    },
    {
     "name": "stdout",
     "output_type": "stream",
     "text": [
      "tensor(1.)\n",
      "1.0\n",
      "Epoch 11/15 \t loss=0.0343 \t val_loss=0.0418 \t val_auc=0.9981 \t time=57.19s\n"
     ]
    },
    {
     "data": {
      "application/vnd.jupyter.widget-view+json": {
       "model_id": "43ef70cc5ef345e8839875c84c47f397",
       "version_major": 2,
       "version_minor": 0
      },
      "text/plain": [
       "HBox(children=(IntProgress(value=0, max=14518), HTML(value='')))"
      ]
     },
     "metadata": {},
     "output_type": "display_data"
    },
    {
     "name": "stdout",
     "output_type": "stream",
     "text": [
      "tensor(1.)\n",
      "1.0\n",
      "Epoch 12/15 \t loss=0.0342 \t val_loss=0.0350 \t val_auc=0.9982 \t time=57.25s\n"
     ]
    },
    {
     "data": {
      "application/vnd.jupyter.widget-view+json": {
       "model_id": "905801b1ee0b498a8246a2df615d7618",
       "version_major": 2,
       "version_minor": 0
      },
      "text/plain": [
       "HBox(children=(IntProgress(value=0, max=14518), HTML(value='')))"
      ]
     },
     "metadata": {},
     "output_type": "display_data"
    },
    {
     "name": "stdout",
     "output_type": "stream",
     "text": [
      "tensor(1.)\n",
      "1.0\n",
      "Epoch 13/15 \t loss=0.0331 \t val_loss=0.0379 \t val_auc=0.9981 \t time=55.97s\n"
     ]
    },
    {
     "data": {
      "application/vnd.jupyter.widget-view+json": {
       "model_id": "d66eed50f954473081cf6fd0be271aee",
       "version_major": 2,
       "version_minor": 0
      },
      "text/plain": [
       "HBox(children=(IntProgress(value=0, max=14518), HTML(value='')))"
      ]
     },
     "metadata": {},
     "output_type": "display_data"
    },
    {
     "name": "stdout",
     "output_type": "stream",
     "text": [
      "tensor(1.)\n",
      "1.0\n",
      "Epoch 14/15 \t loss=0.0338 \t val_loss=0.0441 \t val_auc=0.9977 \t time=58.40s\n"
     ]
    },
    {
     "data": {
      "application/vnd.jupyter.widget-view+json": {
       "model_id": "19a69f2acc38499fb0733f113077c44e",
       "version_major": 2,
       "version_minor": 0
      },
      "text/plain": [
       "HBox(children=(IntProgress(value=0, max=14518), HTML(value='')))"
      ]
     },
     "metadata": {},
     "output_type": "display_data"
    },
    {
     "name": "stdout",
     "output_type": "stream",
     "text": [
      "tensor(1.)\n",
      "1.0\n",
      "Epoch 15/15 \t loss=0.0316 \t val_loss=0.0487 \t val_auc=0.9977 \t time=57.95s\n",
      "Validation loss:  0.048705391198192546\n"
     ]
    }
   ],
   "source": [
    "train_preds_2 = np.zeros(len(X))\n",
    "test_preds_2 = np.zeros((len(X_test), len(splits)))\n",
    "# final_preds = np.zeros((len(test_X), len(splits)))\n",
    "# final_train = np.zeros((len(train_X), len(splits)))\n",
    "# test_preds_local = np.zeros((n_test, len(splits)))\n",
    "n_epochs = 15\n",
    "batch_size = 32\n",
    "\n",
    "from tqdm import tqdm\n",
    "for i, (train_idx, valid_idx) in enumerate(splits):    \n",
    "    x_train_fold = torch.tensor(X[train_idx], dtype=torch.float32)#.cuda()\n",
    "    y_train_fold = torch.tensor(y2[train_idx, np.newaxis], dtype=torch.float32)#.cuda()\n",
    "    x_val_fold = torch.tensor(X[valid_idx], dtype=torch.float32)#.cuda()\n",
    "    y_val_fold = torch.tensor(y2[valid_idx, np.newaxis], dtype=torch.float32)#.cuda()\n",
    "    print(f'Fold {i + 1}')\n",
    "    \n",
    "    model = get_model(hidden_size=[256,64])\n",
    "    \n",
    "    def init_normal(m):\n",
    "        if type(m) == nn.Linear:\n",
    "            nn.init.xavier_uniform(m.weight)\n",
    "\n",
    "# use the modules apply function to recursively apply the initialization\n",
    "    model.apply(init_normal)\n",
    "#     model.cuda()\n",
    "\n",
    "    valid_preds_fold_2, test_preds_fold_2 = train_model(model,\n",
    "                                                    x_train_fold,                                                    \n",
    "                                                    y_train_fold, \n",
    "                                                    x_val_fold, \n",
    "                                                    y_val_fold, validate=True)\n",
    "\n",
    "    train_preds_2[valid_idx] = valid_preds_fold_2\n",
    "    test_preds_2[:, i] = test_preds_fold_2"
   ]
  },
  {
   "cell_type": "code",
   "execution_count": null,
   "metadata": {},
   "outputs": [],
   "source": [
    "nn_validation_2 = train_preds_2\n",
    "nn_prediction_2 = np.mean(test_preds_2, axis=1)"
   ]
  },
  {
   "cell_type": "code",
   "execution_count": null,
   "metadata": {},
   "outputs": [],
   "source": [
    "np.save('./prediction/nn_validation_2', nn_validation_2)\n",
    "np.save('./prediction/nn_prediction_2', nn_prediction_2)"
   ]
  },
  {
   "cell_type": "code",
   "execution_count": null,
   "metadata": {},
   "outputs": [],
   "source": [
    "knn_validation_label_2, knn_prediction_label_2 = stack_prediction(knn_model, X, y2, X_test, fold=5, random_state=42)"
   ]
  },
  {
   "cell_type": "code",
   "execution_count": null,
   "metadata": {},
   "outputs": [],
   "source": [
    "np.save('knn_validation_label_2', knn_validation_label_2)\n",
    "np.save('knn_prediction_label_2', knn_prediction_label_2)"
   ]
  },
  {
   "cell_type": "code",
   "execution_count": 33,
   "metadata": {},
   "outputs": [
    {
     "data": {
      "text/plain": [
       "event_count               0\n",
       "purchase_count            0\n",
       "session_count             0\n",
       "mean_sessions_duration    0\n",
       "spend                     0\n",
       "event_gap                 0\n",
       "session_gap               0\n",
       "life_time                 0\n",
       "num_places                0\n",
       "event_45                  0\n",
       "event_1                   0\n",
       "event_5                   0\n",
       "event_6                   0\n",
       "event_14                  0\n",
       "event_4                   0\n",
       "event_40                  0\n",
       "event_7                   0\n",
       "event_41                  0\n",
       "event_3                   0\n",
       "event_42                  0\n",
       "purchase_gap              0\n",
       "event_45_ratio            0\n",
       "event_1_ratio             0\n",
       "event_5_ratio             0\n",
       "event_6_ratio             0\n",
       "event_14_ratio            0\n",
       "event_4_ratio             0\n",
       "event_40_ratio            0\n",
       "event_7_ratio             0\n",
       "event_41_ratio            0\n",
       "event_3_ratio             0\n",
       "event_42_ratio            0\n",
       "purchase_ratio            0\n",
       "country_mean_enc          0\n",
       "region_mean_enc           0\n",
       "city_mean_enc             0\n",
       "dtype: int64"
      ]
     },
     "execution_count": 33,
     "metadata": {},
     "output_type": "execute_result"
    }
   ],
   "source": [
    "X.isna().apply(sum,axis=0)"
   ]
  },
  {
   "cell_type": "code",
   "execution_count": null,
   "metadata": {},
   "outputs": [],
   "source": []
  }
 ],
 "metadata": {
  "kernelspec": {
   "display_name": "Python 3",
   "language": "python",
   "name": "python3"
  },
  "language_info": {
   "codemirror_mode": {
    "name": "ipython",
    "version": 3
   },
   "file_extension": ".py",
   "mimetype": "text/x-python",
   "name": "python",
   "nbconvert_exporter": "python",
   "pygments_lexer": "ipython3",
   "version": "3.7.2"
  }
 },
 "nbformat": 4,
 "nbformat_minor": 2
}
