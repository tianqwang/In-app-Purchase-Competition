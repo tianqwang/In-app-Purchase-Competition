{
 "cells": [
  {
   "cell_type": "markdown",
   "metadata": {},
   "source": [
    "# Setup"
   ]
  },
  {
   "cell_type": "code",
   "execution_count": 1,
   "metadata": {
    "ExecuteTime": {
     "end_time": "2019-02-18T21:15:08.508658Z",
     "start_time": "2019-02-18T21:15:07.657888Z"
    }
   },
   "outputs": [],
   "source": [
    "from datetime import datetime, timezone\n",
    "import numpy as np\n",
    "import pandas as pd"
   ]
  },
  {
   "cell_type": "markdown",
   "metadata": {},
   "source": [
    "# Data Load"
   ]
  },
  {
   "cell_type": "code",
   "execution_count": 2,
   "metadata": {
    "ExecuteTime": {
     "end_time": "2019-02-18T21:15:08.513404Z",
     "start_time": "2019-02-18T21:15:08.511171Z"
    }
   },
   "outputs": [],
   "source": [
    "data_path = \"Data/\""
   ]
  },
  {
   "cell_type": "markdown",
   "metadata": {},
   "source": [
    "Set Data Types for Efficient Memory Usage"
   ]
  },
  {
   "cell_type": "code",
   "execution_count": 3,
   "metadata": {
    "ExecuteTime": {
     "end_time": "2019-02-18T21:15:08.522408Z",
     "start_time": "2019-02-18T21:15:08.516651Z"
    }
   },
   "outputs": [],
   "source": [
    "attr_types = {\n",
    "   'app_id': 'category',\n",
    "   'session_id': 'category',\n",
    "   'attribute': np.int16,\n",
    "   'attribute_value': 'category',\n",
    "   'user_id_hash': 'category'\n",
    "}\n",
    "\n",
    "event_types = {\n",
    "   'user_id_hash': 'category',\n",
    "   'app_id': 'category',\n",
    "   'session_id': 'category',\n",
    "   'event': 'category',\n",
    "   'event_timestamp': np.int64,\n",
    "   'event_value': np.float16\n",
    "}\n",
    "\n",
    "sessions_types = {\n",
    "   'app_id': 'category',\n",
    "   'session_id': 'category',\n",
    "   'start_timestamp': np.int64,\n",
    "   'timezone': 'category',\n",
    "   'timezone_offset': np.float64,\n",
    "   'previous_sessions_duration': np.int64,\n",
    "   'user_created_timestamp': np.int64,\n",
    "   'is_user_first_session': bool,\n",
    "   'is_session': bool,\n",
    "   'is_wau': bool,\n",
    "   'is_mau': bool,\n",
    "   'country': 'category',\n",
    "   'region': 'category',\n",
    "   'city': 'category',\n",
    "   'latitude': np.float16,\n",
    "   'longitude': np.float16,\n",
    "   'locale': 'category',\n",
    "   'os_name': 'category',\n",
    "   'session_index': np.int32,\n",
    "   'device_id': 'category',\n",
    "   'user_id_hash': 'category'\n",
    "}"
   ]
  },
  {
   "cell_type": "code",
   "execution_count": 4,
   "metadata": {
    "ExecuteTime": {
     "end_time": "2019-02-18T21:18:32.967101Z",
     "start_time": "2019-02-18T21:15:08.524595Z"
    }
   },
   "outputs": [],
   "source": [
    "sessions = pd.read_csv(data_path + 'sessions.csv', dtype=sessions_types)\n",
    "events = pd.read_csv(data_path + 'events.csv', dtype=event_types)"
   ]
  },
  {
   "cell_type": "markdown",
   "metadata": {},
   "source": [
    "# Filtering\n",
    "Read in sessions and events from sessions, and remove sessions that are not true sessions:"
   ]
  },
  {
   "cell_type": "code",
   "execution_count": 5,
   "metadata": {
    "ExecuteTime": {
     "end_time": "2019-02-18T21:18:34.198640Z",
     "start_time": "2019-02-18T21:18:32.972672Z"
    }
   },
   "outputs": [],
   "source": [
    "sessions = sessions[(sessions.is_session == True) & (sessions.is_wau == False) & (sessions.is_mau == False) & (sessions.is_developer == False)]"
   ]
  },
  {
   "cell_type": "markdown",
   "metadata": {},
   "source": [
    "# Compute Purchase Targets"
   ]
  },
  {
   "cell_type": "code",
   "execution_count": 6,
   "metadata": {
    "ExecuteTime": {
     "end_time": "2019-02-18T21:18:34.215102Z",
     "start_time": "2019-02-18T21:18:34.201356Z"
    }
   },
   "outputs": [],
   "source": [
    "def get_purchasing_users(start_date, end_date):\n",
    "    '''Identifies users who purchased between start_date and end_date'''\n",
    "    pattern = '%d.%m.%Y %H:%M:%S'\n",
    "    label_start_date = int(datetime.strptime(start_date, pattern).replace(tzinfo=timezone.utc).timestamp())*1000\n",
    "    label_end_date = int(datetime.strptime(end_date, pattern).replace(tzinfo=timezone.utc).timestamp())*1000\n",
    "    purchasing_users = list(events[(events.event_timestamp > label_start_date) & (events.event_timestamp < label_end_date) & (events.event == '8')]['user_id_hash'].unique())\n",
    "    return purchasing_users"
   ]
  },
  {
   "cell_type": "markdown",
   "metadata": {},
   "source": [
    "Find users who made purchases between Dec 1st and Dec 7th (7 day) and Dec 1st and Dec 14th (14 day)"
   ]
  },
  {
   "cell_type": "code",
   "execution_count": 7,
   "metadata": {
    "ExecuteTime": {
     "end_time": "2019-02-18T21:18:36.837523Z",
     "start_time": "2019-02-18T21:18:34.218147Z"
    }
   },
   "outputs": [],
   "source": [
    "start_date_14 = '01.12.2018 00:00:00'\n",
    "end_date_14 = '14.12.2018 23:59:59'\n",
    "start_date_7 = '01.12.2018 00:00:00'\n",
    "end_date_7 = '07.12.2018 23:59:59'\n",
    "\n",
    "purchasing_users_7day = get_purchasing_users(start_date_7, end_date_7)\n",
    "purchasing_users_14day = get_purchasing_users(start_date_14, end_date_14)"
   ]
  },
  {
   "cell_type": "markdown",
   "metadata": {},
   "source": [
    "Create a dataframe containing all users in the sessions table, identifying whether they purchased within the periods of interest"
   ]
  },
  {
   "cell_type": "code",
   "execution_count": 8,
   "metadata": {
    "ExecuteTime": {
     "end_time": "2019-02-18T21:18:37.934662Z",
     "start_time": "2019-02-18T21:18:36.839393Z"
    }
   },
   "outputs": [],
   "source": [
    "label_df = pd.DataFrame({'user_id_hash': list(sessions['user_id_hash'].unique())})\n",
    "label_df[\"purchase_7day\"] = np.where(label_df[\"user_id_hash\"].isin(purchasing_users_7day), 1, 0)\n",
    "label_df[\"purchase_14day\"] = np.where(label_df[\"user_id_hash\"].isin(purchasing_users_14day), 1, 0)"
   ]
  },
  {
   "cell_type": "markdown",
   "metadata": {},
   "source": [
    "Shuffle labels and split dataframe to get training and validation labels:"
   ]
  },
  {
   "cell_type": "code",
   "execution_count": 9,
   "metadata": {
    "ExecuteTime": {
     "end_time": "2019-02-18T21:18:38.119825Z",
     "start_time": "2019-02-18T21:18:37.936239Z"
    }
   },
   "outputs": [],
   "source": [
    "label_df = label_df.sample(frac=1).reset_index(drop=True)\n",
    "n = len(label_df)\n",
    "train_labels_df = label_df.iloc[:int(0.8*n), ]\n",
    "val_labels_df = label_df.iloc[int(0.8*n):, ]"
   ]
  },
  {
   "cell_type": "markdown",
   "metadata": {},
   "source": [
    "Showing that the proportions of purchasers are not too different between the train/val/overall sets:"
   ]
  },
  {
   "cell_type": "code",
   "execution_count": 10,
   "metadata": {
    "ExecuteTime": {
     "end_time": "2019-02-18T21:18:38.178550Z",
     "start_time": "2019-02-18T21:18:38.126318Z"
    }
   },
   "outputs": [
    {
     "name": "stdout",
     "output_type": "stream",
     "text": [
      "Overall Data:\n",
      "\t7-Day Purchase Proportion to Total: 0.0076333413503056405\n",
      "\t14-Day Purchase Proportion to Total: 0.009888316581089523\n",
      "\n",
      "Training Data:\n",
      "\t7-Day Purchase Proportion to Total: 0.007681365576102418\n",
      "\t14-Day Purchase Proportion to Total: 0.009925042623810821\n",
      "\n",
      "Validation Data:\n",
      "\t7-Day Purchase Proportion to Total: 0.007441244834710744\n",
      "\t14-Day Purchase Proportion to Total: 0.009741412706611571\n"
     ]
    }
   ],
   "source": [
    "print(\"Overall Data:\")\n",
    "print(f\"\\t7-Day Purchase Proportion to Total: {label_df.purchase_7day.value_counts()[1]/len(label_df)}\\n\"\n",
    "      f\"\\t14-Day Purchase Proportion to Total: {label_df.purchase_14day.value_counts()[1]/len(label_df)}\\n\")\n",
    "\n",
    "print(\"Training Data:\")\n",
    "print(f\"\\t7-Day Purchase Proportion to Total: {train_labels_df.purchase_7day.value_counts()[1]/len(train_labels_df)}\\n\"\n",
    "      f\"\\t14-Day Purchase Proportion to Total: {train_labels_df.purchase_14day.value_counts()[1]/len(train_labels_df)}\\n\")\n",
    "\n",
    "print(\"Validation Data:\")\n",
    "print(f\"\\t7-Day Purchase Proportion to Total: {val_labels_df.purchase_7day.value_counts()[1]/len(val_labels_df)}\\n\"\n",
    "      f\"\\t14-Day Purchase Proportion to Total: {val_labels_df.purchase_14day.value_counts()[1]/len(val_labels_df)}\")"
   ]
  },
  {
   "cell_type": "markdown",
   "metadata": {},
   "source": [
    "Feather Dataframes to easily work with later"
   ]
  },
  {
   "cell_type": "code",
   "execution_count": 11,
   "metadata": {
    "ExecuteTime": {
     "end_time": "2019-02-18T21:18:38.183867Z",
     "start_time": "2019-02-18T21:18:38.180586Z"
    }
   },
   "outputs": [],
   "source": [
    "label_df.reset_index(drop=True, inplace=True)\n",
    "train_labels_df.reset_index(drop=True, inplace=True)\n",
    "val_labels_df.reset_index(drop=True, inplace=True)"
   ]
  },
  {
   "cell_type": "code",
   "execution_count": 12,
   "metadata": {
    "ExecuteTime": {
     "end_time": "2019-02-18T21:18:38.604749Z",
     "start_time": "2019-02-18T21:18:38.185945Z"
    }
   },
   "outputs": [],
   "source": [
    "label_df.to_feather('label_df')\n",
    "train_labels_df.to_feather('train_labels_df')\n",
    "val_labels_df.to_feather('val_labels_df')"
   ]
  },
  {
   "cell_type": "code",
   "execution_count": 13,
   "metadata": {
    "ExecuteTime": {
     "end_time": "2019-02-18T21:36:46.410714Z",
     "start_time": "2019-02-18T21:36:46.385379Z"
    }
   },
   "outputs": [
    {
     "data": {
      "text/html": [
       "<div>\n",
       "<style scoped>\n",
       "    .dataframe tbody tr th:only-of-type {\n",
       "        vertical-align: middle;\n",
       "    }\n",
       "\n",
       "    .dataframe tbody tr th {\n",
       "        vertical-align: top;\n",
       "    }\n",
       "\n",
       "    .dataframe thead th {\n",
       "        text-align: right;\n",
       "    }\n",
       "</style>\n",
       "<table border=\"1\" class=\"dataframe\">\n",
       "  <thead>\n",
       "    <tr style=\"text-align: right;\">\n",
       "      <th></th>\n",
       "      <th>user_id_hash</th>\n",
       "      <th>purchase_7day</th>\n",
       "      <th>purchase_14day</th>\n",
       "    </tr>\n",
       "  </thead>\n",
       "  <tbody>\n",
       "    <tr>\n",
       "      <th>0</th>\n",
       "      <td>f2d439465878d7dbc0fd36113f4881c3251dec3e2013e3...</td>\n",
       "      <td>0</td>\n",
       "      <td>0</td>\n",
       "    </tr>\n",
       "    <tr>\n",
       "      <th>1</th>\n",
       "      <td>7de859dda06231b951984d592b8ffcd662f901f6b81338...</td>\n",
       "      <td>0</td>\n",
       "      <td>0</td>\n",
       "    </tr>\n",
       "    <tr>\n",
       "      <th>2</th>\n",
       "      <td>ec42dbdaa0ad7dfb7c6bb97943bf3c62064351283e97a5...</td>\n",
       "      <td>0</td>\n",
       "      <td>0</td>\n",
       "    </tr>\n",
       "    <tr>\n",
       "      <th>3</th>\n",
       "      <td>2ce42224f40bf9787f127f588bc59401de6cb3c9787f59...</td>\n",
       "      <td>0</td>\n",
       "      <td>0</td>\n",
       "    </tr>\n",
       "    <tr>\n",
       "      <th>4</th>\n",
       "      <td>093907bc060334e4106fd6d7eac8dbe4a956b31b44b67a...</td>\n",
       "      <td>0</td>\n",
       "      <td>0</td>\n",
       "    </tr>\n",
       "  </tbody>\n",
       "</table>\n",
       "</div>"
      ],
      "text/plain": [
       "                                        user_id_hash  purchase_7day  \\\n",
       "0  f2d439465878d7dbc0fd36113f4881c3251dec3e2013e3...              0   \n",
       "1  7de859dda06231b951984d592b8ffcd662f901f6b81338...              0   \n",
       "2  ec42dbdaa0ad7dfb7c6bb97943bf3c62064351283e97a5...              0   \n",
       "3  2ce42224f40bf9787f127f588bc59401de6cb3c9787f59...              0   \n",
       "4  093907bc060334e4106fd6d7eac8dbe4a956b31b44b67a...              0   \n",
       "\n",
       "   purchase_14day  \n",
       "0               0  \n",
       "1               0  \n",
       "2               0  \n",
       "3               0  \n",
       "4               0  "
      ]
     },
     "execution_count": 13,
     "metadata": {},
     "output_type": "execute_result"
    }
   ],
   "source": [
    "label_df.head()"
   ]
  },
  {
   "cell_type": "code",
   "execution_count": 14,
   "metadata": {
    "ExecuteTime": {
     "end_time": "2019-02-18T21:36:56.343194Z",
     "start_time": "2019-02-18T21:36:56.334435Z"
    }
   },
   "outputs": [
    {
     "data": {
      "text/html": [
       "<div>\n",
       "<style scoped>\n",
       "    .dataframe tbody tr th:only-of-type {\n",
       "        vertical-align: middle;\n",
       "    }\n",
       "\n",
       "    .dataframe tbody tr th {\n",
       "        vertical-align: top;\n",
       "    }\n",
       "\n",
       "    .dataframe thead th {\n",
       "        text-align: right;\n",
       "    }\n",
       "</style>\n",
       "<table border=\"1\" class=\"dataframe\">\n",
       "  <thead>\n",
       "    <tr style=\"text-align: right;\">\n",
       "      <th></th>\n",
       "      <th>user_id_hash</th>\n",
       "      <th>purchase_7day</th>\n",
       "      <th>purchase_14day</th>\n",
       "    </tr>\n",
       "  </thead>\n",
       "  <tbody>\n",
       "    <tr>\n",
       "      <th>0</th>\n",
       "      <td>f2d439465878d7dbc0fd36113f4881c3251dec3e2013e3...</td>\n",
       "      <td>0</td>\n",
       "      <td>0</td>\n",
       "    </tr>\n",
       "    <tr>\n",
       "      <th>1</th>\n",
       "      <td>7de859dda06231b951984d592b8ffcd662f901f6b81338...</td>\n",
       "      <td>0</td>\n",
       "      <td>0</td>\n",
       "    </tr>\n",
       "    <tr>\n",
       "      <th>2</th>\n",
       "      <td>ec42dbdaa0ad7dfb7c6bb97943bf3c62064351283e97a5...</td>\n",
       "      <td>0</td>\n",
       "      <td>0</td>\n",
       "    </tr>\n",
       "    <tr>\n",
       "      <th>3</th>\n",
       "      <td>2ce42224f40bf9787f127f588bc59401de6cb3c9787f59...</td>\n",
       "      <td>0</td>\n",
       "      <td>0</td>\n",
       "    </tr>\n",
       "    <tr>\n",
       "      <th>4</th>\n",
       "      <td>093907bc060334e4106fd6d7eac8dbe4a956b31b44b67a...</td>\n",
       "      <td>0</td>\n",
       "      <td>0</td>\n",
       "    </tr>\n",
       "  </tbody>\n",
       "</table>\n",
       "</div>"
      ],
      "text/plain": [
       "                                        user_id_hash  purchase_7day  \\\n",
       "0  f2d439465878d7dbc0fd36113f4881c3251dec3e2013e3...              0   \n",
       "1  7de859dda06231b951984d592b8ffcd662f901f6b81338...              0   \n",
       "2  ec42dbdaa0ad7dfb7c6bb97943bf3c62064351283e97a5...              0   \n",
       "3  2ce42224f40bf9787f127f588bc59401de6cb3c9787f59...              0   \n",
       "4  093907bc060334e4106fd6d7eac8dbe4a956b31b44b67a...              0   \n",
       "\n",
       "   purchase_14day  \n",
       "0               0  \n",
       "1               0  \n",
       "2               0  \n",
       "3               0  \n",
       "4               0  "
      ]
     },
     "execution_count": 14,
     "metadata": {},
     "output_type": "execute_result"
    }
   ],
   "source": [
    "train_labels_df.head()"
   ]
  },
  {
   "cell_type": "code",
   "execution_count": 15,
   "metadata": {
    "ExecuteTime": {
     "end_time": "2019-02-18T21:37:03.306336Z",
     "start_time": "2019-02-18T21:37:03.297504Z"
    }
   },
   "outputs": [
    {
     "data": {
      "text/html": [
       "<div>\n",
       "<style scoped>\n",
       "    .dataframe tbody tr th:only-of-type {\n",
       "        vertical-align: middle;\n",
       "    }\n",
       "\n",
       "    .dataframe tbody tr th {\n",
       "        vertical-align: top;\n",
       "    }\n",
       "\n",
       "    .dataframe thead th {\n",
       "        text-align: right;\n",
       "    }\n",
       "</style>\n",
       "<table border=\"1\" class=\"dataframe\">\n",
       "  <thead>\n",
       "    <tr style=\"text-align: right;\">\n",
       "      <th></th>\n",
       "      <th>user_id_hash</th>\n",
       "      <th>purchase_7day</th>\n",
       "      <th>purchase_14day</th>\n",
       "    </tr>\n",
       "  </thead>\n",
       "  <tbody>\n",
       "    <tr>\n",
       "      <th>0</th>\n",
       "      <td>a16ebb025ffdcd59abf37a871b41a46ce602537c0699c3...</td>\n",
       "      <td>0</td>\n",
       "      <td>0</td>\n",
       "    </tr>\n",
       "    <tr>\n",
       "      <th>1</th>\n",
       "      <td>267d80cc59de3240e9590788a35b791f6828d16df6f56e...</td>\n",
       "      <td>0</td>\n",
       "      <td>0</td>\n",
       "    </tr>\n",
       "    <tr>\n",
       "      <th>2</th>\n",
       "      <td>a4e3ebe4316ae23de6b50fdd4757198da4220b6ab70118...</td>\n",
       "      <td>0</td>\n",
       "      <td>0</td>\n",
       "    </tr>\n",
       "    <tr>\n",
       "      <th>3</th>\n",
       "      <td>bd604ca5ee0d3648c9940d87ed2ad6934df25080f3c9e0...</td>\n",
       "      <td>0</td>\n",
       "      <td>0</td>\n",
       "    </tr>\n",
       "    <tr>\n",
       "      <th>4</th>\n",
       "      <td>2f60b9fbb7dcc167130c604f6a53dabb970da19466e2ce...</td>\n",
       "      <td>0</td>\n",
       "      <td>0</td>\n",
       "    </tr>\n",
       "  </tbody>\n",
       "</table>\n",
       "</div>"
      ],
      "text/plain": [
       "                                        user_id_hash  purchase_7day  \\\n",
       "0  a16ebb025ffdcd59abf37a871b41a46ce602537c0699c3...              0   \n",
       "1  267d80cc59de3240e9590788a35b791f6828d16df6f56e...              0   \n",
       "2  a4e3ebe4316ae23de6b50fdd4757198da4220b6ab70118...              0   \n",
       "3  bd604ca5ee0d3648c9940d87ed2ad6934df25080f3c9e0...              0   \n",
       "4  2f60b9fbb7dcc167130c604f6a53dabb970da19466e2ce...              0   \n",
       "\n",
       "   purchase_14day  \n",
       "0               0  \n",
       "1               0  \n",
       "2               0  \n",
       "3               0  \n",
       "4               0  "
      ]
     },
     "execution_count": 15,
     "metadata": {},
     "output_type": "execute_result"
    }
   ],
   "source": [
    "val_labels_df.head()"
   ]
  }
 ],
 "metadata": {
  "kernelspec": {
   "display_name": "Python 3",
   "language": "python",
   "name": "python3"
  },
  "language_info": {
   "codemirror_mode": {
    "name": "ipython",
    "version": 3
   },
   "file_extension": ".py",
   "mimetype": "text/x-python",
   "name": "python",
   "nbconvert_exporter": "python",
   "pygments_lexer": "ipython3",
   "version": "3.6.7"
  }
 },
 "nbformat": 4,
 "nbformat_minor": 2
}
