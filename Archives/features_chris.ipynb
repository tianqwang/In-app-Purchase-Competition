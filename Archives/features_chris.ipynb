{
 "cells": [
  {
   "cell_type": "code",
   "execution_count": 1,
   "metadata": {},
   "outputs": [],
   "source": [
    "import numpy as np\n",
    "import pandas as pd"
   ]
  },
  {
   "cell_type": "code",
   "execution_count": 2,
   "metadata": {},
   "outputs": [],
   "source": [
    "data_path = \"/Users/christopherolley/data/Leanplum-data\""
   ]
  },
  {
   "cell_type": "code",
   "execution_count": 3,
   "metadata": {},
   "outputs": [],
   "source": [
    "attr_types = {\n",
    "   'app_id': 'category',\n",
    "   'session_id': 'category',\n",
    "   'attribute': np.int16,\n",
    "   'attribute_value': 'category',\n",
    "   'user_id_hash': 'category'\n",
    "}\n",
    "\n",
    "event_types = {\n",
    "   'user_id_hash': 'category',\n",
    "   'app_id': 'category',\n",
    "   'session_id': 'category',\n",
    "   'event': 'category',\n",
    "   'event_timestamp': np.int64,\n",
    "   'event_value': np.float16\n",
    "}\n",
    "\n",
    "sessions_types = {\n",
    "   'app_id': 'category',\n",
    "   'session_id': 'category',\n",
    "   'start_timestamp': np.int64,\n",
    "   'timezone': 'category',\n",
    "   'timezone_offset': np.float64,\n",
    "   'previous_sessions_duration': np.int64,\n",
    "   'user_created_timestamp': np.int64,\n",
    "   'is_user_first_session': bool,\n",
    "   'is_session': bool,\n",
    "   'is_wau': bool,\n",
    "   'is_mau': bool,\n",
    "   'country': 'category',\n",
    "   'region': 'category',\n",
    "   'city': 'category',\n",
    "   'latitude': np.float16,\n",
    "   'longitude': np.float16,\n",
    "   'locale': 'category',\n",
    "   'os_name': 'category',\n",
    "   'session_index': np.int32,\n",
    "   'device_id': 'category',\n",
    "   'user_id_hash': 'category'\n",
    "}"
   ]
  },
  {
   "cell_type": "markdown",
   "metadata": {},
   "source": [
    "Read in sessions and events from sessions, and remove sessions that are not true sessions:"
   ]
  },
  {
   "cell_type": "code",
   "execution_count": 4,
   "metadata": {},
   "outputs": [],
   "source": [
    "sessions = pd.read_csv(\"%s/sessions.csv\" % data_path, dtype=sessions_types)\n",
    "events = pd.read_csv(\"%s/events.csv\" % data_path, dtype=event_types)\n",
    "sessions = sessions[(sessions.is_session == True) & (sessions.is_wau == False) & (sessions.is_mau == False) & (sessions.is_developer == False)]"
   ]
  },
  {
   "cell_type": "markdown",
   "metadata": {},
   "source": [
    "Load in the labels:"
   ]
  },
  {
   "cell_type": "code",
   "execution_count": 13,
   "metadata": {},
   "outputs": [],
   "source": [
    "train_labels_df = pd.read_feather('train_labels_df')\n",
    "val_labels_df = pd.read_feather('val_labels_df')\n",
    "label_df = pd.read_feather('label_df')"
   ]
  },
  {
   "cell_type": "markdown",
   "metadata": {},
   "source": [
    "Define the time period for computing features (using 1st October to 30th November):"
   ]
  },
  {
   "cell_type": "code",
   "execution_count": 8,
   "metadata": {},
   "outputs": [],
   "source": [
    "from datetime import datetime, timezone"
   ]
  },
  {
   "cell_type": "code",
   "execution_count": 9,
   "metadata": {},
   "outputs": [],
   "source": [
    "start_date_features_train = '01.10.2018 00:00:00'\n",
    "end_date_features_train = '30.11.2018 23:59:59'\n",
    "pattern = '%d.%m.%Y %H:%M:%S'\n",
    "features_train_start_date = int(datetime.strptime(start_date_features_train, pattern).replace(tzinfo=timezone.utc).timestamp())*1000\n",
    "features_train_end_date = int(datetime.strptime(end_date_features_train, pattern).replace(tzinfo=timezone.utc).timestamp())*1000"
   ]
  },
  {
   "cell_type": "markdown",
   "metadata": {},
   "source": [
    "Features are: \n",
    "- Number of sessions for each user in the last 2 months\n",
    "- Average amount of time spent in previous sessions for each user\n",
    "- Number of purchases made per user in the last month"
   ]
  },
  {
   "cell_type": "code",
   "execution_count": 10,
   "metadata": {},
   "outputs": [],
   "source": [
    "def create_features_df(data_df):\n",
    "    # compute features over the last two months\n",
    "    prev_month_window_start = data_df.event_timestamp.max() - 2*28*24*60*60*1000\n",
    "    prev_month_data = data_df[data_df.event_timestamp > prev_month_window_start]\n",
    "    # Number of sessions for each user in the last month\n",
    "    num_sessions = pd.DataFrame(prev_month_data['user_id_hash'].value_counts().reset_index())\n",
    "    num_sessions.columns = ['user_id_hash', 'num_previous_sessions']\n",
    "    # Average amount of time spent in previous sessions per user\n",
    "    previous_sessions_time = pd.DataFrame(data_df.groupby('user_id_hash').previous_sessions_duration.mean().reset_index())\n",
    "    previous_sessions_time.columns = ['user_id_hash', 'previous_sessions_avg_duration']\n",
    "    # Number of purchases made per user in the last month\n",
    "    prev_month_data['purchase'] = np.where(prev_month_data.event=='8', 1, 0)\n",
    "    num_purchases = pd.DataFrame(prev_month_data.groupby('user_id_hash').purchase.sum().reset_index())\n",
    "    # Create overall features dataframe\n",
    "    features_df = pd.merge(previous_sessions_time, num_sessions, on='user_id_hash')\n",
    "    features_df = pd.merge(features_df, num_purchases, on='user_id_hash')\n",
    "    \n",
    "    num_sessions, previous_sessions_time, num_purchases = None, None, None\n",
    "    return features_df"
   ]
  },
  {
   "cell_type": "code",
   "execution_count": 14,
   "metadata": {},
   "outputs": [],
   "source": [
    "sessions_features_df = sessions[(sessions.start_timestamp > features_train_start_date) & (sessions.start_timestamp < features_train_end_date)]\n",
    "data_df = pd.merge(sessions_features_df, events, on=['session_id', 'user_id_hash'])\n",
    "train_data_df = pd.merge(data_df, train_labels_df, on='user_id_hash')\n",
    "val_data_df = pd.merge(data_df, val_labels_df, on='user_id_hash')\n",
    "del data_df"
   ]
  },
  {
   "cell_type": "code",
   "execution_count": 15,
   "metadata": {},
   "outputs": [
    {
     "name": "stderr",
     "output_type": "stream",
     "text": [
      "/anaconda3/lib/python3.6/site-packages/ipykernel_launcher.py:12: SettingWithCopyWarning: \n",
      "A value is trying to be set on a copy of a slice from a DataFrame.\n",
      "Try using .loc[row_indexer,col_indexer] = value instead\n",
      "\n",
      "See the caveats in the documentation: http://pandas.pydata.org/pandas-docs/stable/indexing.html#indexing-view-versus-copy\n",
      "  if sys.path[0] == '':\n"
     ]
    }
   ],
   "source": [
    "train_features_df = create_features_df(train_data_df)\n",
    "val_features_df = create_features_df(val_data_df)"
   ]
  },
  {
   "cell_type": "code",
   "execution_count": 16,
   "metadata": {},
   "outputs": [],
   "source": [
    "train_df = pd.merge(train_features_df, train_labels_df, on='user_id_hash')\n",
    "del train_features_df\n",
    "val_df = pd.merge(val_features_df, val_labels_df, on='user_id_hash')\n",
    "del val_features_df"
   ]
  },
  {
   "cell_type": "code",
   "execution_count": 17,
   "metadata": {},
   "outputs": [],
   "source": [
    "train_df.to_feather('train_df')\n",
    "val_df.to_feather('val_df')"
   ]
  },
  {
   "cell_type": "code",
   "execution_count": 18,
   "metadata": {},
   "outputs": [],
   "source": [
    "del train_df\n",
    "del val_df"
   ]
  },
  {
   "cell_type": "code",
   "execution_count": 19,
   "metadata": {},
   "outputs": [
    {
     "name": "stderr",
     "output_type": "stream",
     "text": [
      "/anaconda3/lib/python3.6/site-packages/ipykernel_launcher.py:12: SettingWithCopyWarning: \n",
      "A value is trying to be set on a copy of a slice from a DataFrame.\n",
      "Try using .loc[row_indexer,col_indexer] = value instead\n",
      "\n",
      "See the caveats in the documentation: http://pandas.pydata.org/pandas-docs/stable/indexing.html#indexing-view-versus-copy\n",
      "  if sys.path[0] == '':\n"
     ]
    }
   ],
   "source": [
    "full_data_df = pd.merge(sessions, events, on=['session_id', 'user_id_hash'])\n",
    "full_data_features_df = create_features_df(full_data_df)\n",
    "del full_data_df"
   ]
  },
  {
   "cell_type": "code",
   "execution_count": 20,
   "metadata": {},
   "outputs": [],
   "source": [
    "full_data_features_df.to_feather('full_data_df')"
   ]
  }
 ],
 "metadata": {
  "kernelspec": {
   "display_name": "Python 3",
   "language": "python",
   "name": "python3"
  },
  "language_info": {
   "codemirror_mode": {
    "name": "ipython",
    "version": 3
   },
   "file_extension": ".py",
   "mimetype": "text/x-python",
   "name": "python",
   "nbconvert_exporter": "python",
   "pygments_lexer": "ipython3",
   "version": "3.6.7"
  }
 },
 "nbformat": 4,
 "nbformat_minor": 2
}
