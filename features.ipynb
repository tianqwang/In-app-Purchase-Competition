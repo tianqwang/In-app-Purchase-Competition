{
 "cells": [
  {
   "cell_type": "markdown",
   "metadata": {},
   "source": [
    "# Load from Compute Target Notebook"
   ]
  },
  {
   "cell_type": "code",
   "execution_count": 1,
   "metadata": {
    "ExecuteTime": {
     "end_time": "2019-02-19T00:18:26.859017Z",
     "start_time": "2019-02-19T00:18:07.483782Z"
    }
   },
   "outputs": [],
   "source": [
    "import dill\n",
    "dill.load_session(\"Notebook_Saves/compute_target.db\")"
   ]
  },
  {
   "cell_type": "code",
   "execution_count": 2,
   "metadata": {
    "ExecuteTime": {
     "end_time": "2019-02-19T00:18:27.309209Z",
     "start_time": "2019-02-19T00:18:26.863113Z"
    }
   },
   "outputs": [],
   "source": [
    "submission = pd.read_csv(data_path + 'submission.csv')"
   ]
  },
  {
   "cell_type": "markdown",
   "metadata": {},
   "source": [
    "# Functions"
   ]
  },
  {
   "cell_type": "code",
   "execution_count": 3,
   "metadata": {},
   "outputs": [
    {
     "data": {
      "text/plain": [
       "1544831999000.0"
      ]
     },
     "execution_count": 3,
     "metadata": {},
     "output_type": "execute_result"
    }
   ],
   "source": [
    "dec_14_2018 = datetime(2018, 12, 14, 23, 59, 59).timestamp() * 1000; dec_14_2018"
   ]
  },
  {
   "cell_type": "code",
   "execution_count": 4,
   "metadata": {
    "ExecuteTime": {
     "end_time": "2019-02-19T00:18:27.335404Z",
     "start_time": "2019-02-19T00:18:27.312296Z"
    }
   },
   "outputs": [],
   "source": [
    "def feature_generate(df, events_df, session_df):\n",
    "\n",
    "    # Feature one: event_count\n",
    "    count = events_df.loc[:, ['user_id_hash', 'event']].groupby('user_id_hash').\\\n",
    "        count().reset_index().rename(columns={'event': 'event_count'})\n",
    "    df = df.join(count.set_index('user_id_hash'), on='user_id_hash')\n",
    "\n",
    "    # Feature two: purchase_count\n",
    "    count = events_df[events_df.event == '8'].loc[:, ['user_id_hash', 'event']].groupby('user_id_hash').\\\n",
    "        count().reset_index().rename(columns={'event': 'purchase_count'})\n",
    "    df = df.join(count.set_index('user_id_hash'), on='user_id_hash')\n",
    "\n",
    "    # Feature three: session_count\n",
    "    count = session_df.loc[:, ['user_id_hash', 'session_id']].groupby('user_id_hash').\\\n",
    "        count().reset_index().rename(columns={'session_id': 'session_count'})\n",
    "    df = df.join(count.set_index('user_id_hash'), on='user_id_hash')\n",
    "\n",
    "    # Feature four: country\n",
    "    country = session_df.loc[:, ['user_id_hash', 'country']].groupby('user_id_hash').\\\n",
    "        first().reset_index()\n",
    "    df = df.join(country.set_index('user_id_hash'), on='user_id_hash')\n",
    "\n",
    "    # Feature five: OS\n",
    "    os = session_df.loc[:, ['user_id_hash', 'os_name']].groupby('user_id_hash').\\\n",
    "        first().reset_index()\n",
    "    df = df.join(os.set_index('user_id_hash'), on='user_id_hash')\n",
    "\n",
    "    # Feature six: session_duration\n",
    "    duration = session_df.loc[:, ['user_id_hash', 'previous_sessions_duration']].groupby('user_id_hash').\\\n",
    "        mean().reset_index()\n",
    "    df = df.join(duration.set_index('user_id_hash'), on='user_id_hash')\n",
    "\n",
    "    # Feature seven: spend\n",
    "    spend = events_df[events_df.event == '8'].loc[:, ['user_id_hash', 'event_value']].groupby('user_id_hash').\\\n",
    "        sum().reset_index().rename(columns={'event_value': 'spend'})\n",
    "    df = df.join(spend.set_index('user_id_hash'), on='user_id_hash')\n",
    "\n",
    "    # Feature eight: event_gap\n",
    "    event_gap = events_df.loc[:, ['user_id_hash', 'event_timestamp']].groupby('user_id_hash').\\\n",
    "        max().reset_index().rename(columns={'event_timestamp': 'event_gap'})\n",
    "    event_gap['event_gap'] = dec_14_2018 - event_gap['event_gap']\n",
    "    df = df.join(event_gap.set_index('user_id_hash'), on='user_id_hash')\n",
    "\n",
    "    # Feature nine: session_gap\n",
    "    session_gap = session_df.loc[:, ['user_id_hash', 'start_timestamp']].groupby('user_id_hash').\\\n",
    "        max().reset_index().rename(columns={'start_timestamp': 'session_gap'})\n",
    "    session_gap['session_gap'] = dec_14_2018 - session_gap['session_gap']\n",
    "    df = df.join(session_gap.set_index('user_id_hash'), on='user_id_hash')\n",
    "\n",
    "    # Feature ten: life_time\n",
    "    life_time = session_df.loc[:, ['user_id_hash', 'user_created_timestamp']].groupby('user_id_hash').\\\n",
    "        max().reset_index().rename(\n",
    "            columns={'user_created_timestamp': 'life_time'})\n",
    "    life_time['life_time'] = dec_14_2018 - life_time['life_time']\n",
    "    df = df.join(life_time.set_index('user_id_hash'), on='user_id_hash')\n",
    "\n",
    "    # One-Hot Encoding OS\n",
    "    df['os_name'] = df['os_name'].fillna(value='Missing')\n",
    "    os = pd.get_dummies(df['os_name']).drop(columns=['Missing'])\n",
    "    os['os_ios'], os['os_android'] = os['iOS'] + \\\n",
    "        os['iPhone OS'], os['Android OS']\n",
    "    os = os.loc[:, ['os_ios', 'os_android']]\n",
    "    df = pd.concat((df, os), axis=1)\n",
    "    \n",
    "    return df"
   ]
  },
  {
   "cell_type": "code",
   "execution_count": 5,
   "metadata": {
    "ExecuteTime": {
     "end_time": "2019-02-19T00:18:27.343871Z",
     "start_time": "2019-02-19T00:18:27.338028Z"
    },
    "scrolled": true
   },
   "outputs": [],
   "source": [
    "# Mean Encoding Country\n",
    "def reg_target_encoding(train, col=\"country\", splits=5):\n",
    "\n",
    "    train[f'{col}_mean_enc'] = 0\n",
    "    train_y2 = training.user_purchase_binary_14_days.values\n",
    "    skf = StratifiedKFold(splits, shuffle=True, random_state=111)\n",
    "\n",
    "    for computing_index, encoding_index in skf.split(training, train_y2):\n",
    "        computing, encoding = train.iloc[computing_index], train.iloc[encoding_index]\n",
    "        means = computing.groupby(col).user_purchase_binary_14_days.mean()\n",
    "        train.loc[encoding_index, f'{col}_mean_enc'] = encoding[col].map(means)\n",
    "    return train"
   ]
  },
  {
   "cell_type": "code",
   "execution_count": 6,
   "metadata": {
    "ExecuteTime": {
     "end_time": "2019-02-19T00:18:27.350674Z",
     "start_time": "2019-02-19T00:18:27.346388Z"
    }
   },
   "outputs": [],
   "source": [
    "def mean_encoding_test(test, train, col=\"country\"):\n",
    "    global_mean = train.user_purchase_binary_14_days.mean()\n",
    "    mean_device_type = train.groupby(col).user_purchase_binary_14_days.mean()\n",
    "    test[f'{col}_mean_enc'] = test[col].map(mean_device_type)\n",
    "    test[f'{col}_mean_enc'].fillna(global_mean, inplace=True)"
   ]
  },
  {
   "cell_type": "markdown",
   "metadata": {},
   "source": [
    "# Training Set Features"
   ]
  },
  {
   "cell_type": "code",
   "execution_count": 7,
   "metadata": {
    "ExecuteTime": {
     "end_time": "2019-02-19T00:26:48.422090Z",
     "start_time": "2019-02-19T00:18:27.352746Z"
    }
   },
   "outputs": [],
   "source": [
    "training = feature_generate(training, events_training, session_training)\n",
    "training = reg_target_encoding(training)"
   ]
  },
  {
   "cell_type": "markdown",
   "metadata": {},
   "source": [
    "# Prediction Set Features"
   ]
  },
  {
   "cell_type": "markdown",
   "metadata": {},
   "source": [
    "Lets wrap up all feature generating procedures and use it in prediction dataset."
   ]
  },
  {
   "cell_type": "code",
   "execution_count": 8,
   "metadata": {
    "ExecuteTime": {
     "end_time": "2019-02-19T00:35:25.886243Z",
     "start_time": "2019-02-19T00:26:48.425920Z"
    }
   },
   "outputs": [
    {
     "data": {
      "text/html": [
       "<div>\n",
       "<style scoped>\n",
       "    .dataframe tbody tr th:only-of-type {\n",
       "        vertical-align: middle;\n",
       "    }\n",
       "\n",
       "    .dataframe tbody tr th {\n",
       "        vertical-align: top;\n",
       "    }\n",
       "\n",
       "    .dataframe thead th {\n",
       "        text-align: right;\n",
       "    }\n",
       "</style>\n",
       "<table border=\"1\" class=\"dataframe\">\n",
       "  <thead>\n",
       "    <tr style=\"text-align: right;\">\n",
       "      <th></th>\n",
       "      <th>user_id_hash</th>\n",
       "      <th>user_purchase_binary_7_days</th>\n",
       "      <th>user_purchase_binary_14_days</th>\n",
       "      <th>event_count</th>\n",
       "      <th>purchase_count</th>\n",
       "      <th>session_count</th>\n",
       "      <th>country</th>\n",
       "      <th>os_name</th>\n",
       "      <th>previous_sessions_duration</th>\n",
       "      <th>spend</th>\n",
       "      <th>event_gap</th>\n",
       "      <th>session_gap</th>\n",
       "      <th>life_time</th>\n",
       "      <th>os_ios</th>\n",
       "      <th>os_android</th>\n",
       "      <th>country_mean_enc</th>\n",
       "    </tr>\n",
       "  </thead>\n",
       "  <tbody>\n",
       "    <tr>\n",
       "      <th>0</th>\n",
       "      <td>e469dfaed039ead9110165d9bc457acb11609ca34057dc...</td>\n",
       "      <td>0.01</td>\n",
       "      <td>0.02</td>\n",
       "      <td>26.0</td>\n",
       "      <td>0.0</td>\n",
       "      <td>2.0</td>\n",
       "      <td>US</td>\n",
       "      <td>iOS</td>\n",
       "      <td>356544.00</td>\n",
       "      <td>0.0</td>\n",
       "      <td>4.169025e+09</td>\n",
       "      <td>4.169058e+09</td>\n",
       "      <td>4.219027e+09</td>\n",
       "      <td>1</td>\n",
       "      <td>0</td>\n",
       "      <td>0.015211</td>\n",
       "    </tr>\n",
       "    <tr>\n",
       "      <th>1</th>\n",
       "      <td>afcc639a324b6c598ef83d360450afa011cb2dd1358bf9...</td>\n",
       "      <td>0.01</td>\n",
       "      <td>0.02</td>\n",
       "      <td>50.0</td>\n",
       "      <td>0.0</td>\n",
       "      <td>1.0</td>\n",
       "      <td>MX</td>\n",
       "      <td>Android OS</td>\n",
       "      <td>0.00</td>\n",
       "      <td>0.0</td>\n",
       "      <td>1.962124e+09</td>\n",
       "      <td>2.068505e+09</td>\n",
       "      <td>2.068520e+09</td>\n",
       "      <td>0</td>\n",
       "      <td>1</td>\n",
       "      <td>0.002735</td>\n",
       "    </tr>\n",
       "    <tr>\n",
       "      <th>2</th>\n",
       "      <td>fd5a7cf211d08e3e00f7be6a9df6e6ea3d2e5c22a5d9c3...</td>\n",
       "      <td>0.01</td>\n",
       "      <td>0.02</td>\n",
       "      <td>31.0</td>\n",
       "      <td>0.0</td>\n",
       "      <td>4.0</td>\n",
       "      <td>MX</td>\n",
       "      <td>Android OS</td>\n",
       "      <td>388631.25</td>\n",
       "      <td>0.0</td>\n",
       "      <td>3.259102e+09</td>\n",
       "      <td>3.448174e+09</td>\n",
       "      <td>4.131999e+09</td>\n",
       "      <td>0</td>\n",
       "      <td>1</td>\n",
       "      <td>0.002735</td>\n",
       "    </tr>\n",
       "    <tr>\n",
       "      <th>3</th>\n",
       "      <td>00bfff98b9d0329f014c2eeac7ce47cd18b2bc6e10d608...</td>\n",
       "      <td>0.01</td>\n",
       "      <td>0.02</td>\n",
       "      <td>207.0</td>\n",
       "      <td>0.0</td>\n",
       "      <td>10.0</td>\n",
       "      <td>ZW</td>\n",
       "      <td>Android OS</td>\n",
       "      <td>9200582.90</td>\n",
       "      <td>0.0</td>\n",
       "      <td>2.712367e+09</td>\n",
       "      <td>2.714803e+09</td>\n",
       "      <td>4.368927e+09</td>\n",
       "      <td>0</td>\n",
       "      <td>1</td>\n",
       "      <td>0.000000</td>\n",
       "    </tr>\n",
       "    <tr>\n",
       "      <th>4</th>\n",
       "      <td>0d298f3638c43e915c119d4935e1ce8d168f81b5e3e8c1...</td>\n",
       "      <td>0.01</td>\n",
       "      <td>0.02</td>\n",
       "      <td>5.0</td>\n",
       "      <td>0.0</td>\n",
       "      <td>1.0</td>\n",
       "      <td>RS</td>\n",
       "      <td>Android OS</td>\n",
       "      <td>0.00</td>\n",
       "      <td>0.0</td>\n",
       "      <td>5.332535e+09</td>\n",
       "      <td>5.507037e+09</td>\n",
       "      <td>5.507037e+09</td>\n",
       "      <td>0</td>\n",
       "      <td>1</td>\n",
       "      <td>0.001355</td>\n",
       "    </tr>\n",
       "  </tbody>\n",
       "</table>\n",
       "</div>"
      ],
      "text/plain": [
       "                                        user_id_hash  \\\n",
       "0  e469dfaed039ead9110165d9bc457acb11609ca34057dc...   \n",
       "1  afcc639a324b6c598ef83d360450afa011cb2dd1358bf9...   \n",
       "2  fd5a7cf211d08e3e00f7be6a9df6e6ea3d2e5c22a5d9c3...   \n",
       "3  00bfff98b9d0329f014c2eeac7ce47cd18b2bc6e10d608...   \n",
       "4  0d298f3638c43e915c119d4935e1ce8d168f81b5e3e8c1...   \n",
       "\n",
       "   user_purchase_binary_7_days  user_purchase_binary_14_days  event_count  \\\n",
       "0                         0.01                          0.02         26.0   \n",
       "1                         0.01                          0.02         50.0   \n",
       "2                         0.01                          0.02         31.0   \n",
       "3                         0.01                          0.02        207.0   \n",
       "4                         0.01                          0.02          5.0   \n",
       "\n",
       "   purchase_count  session_count country     os_name  \\\n",
       "0             0.0            2.0      US         iOS   \n",
       "1             0.0            1.0      MX  Android OS   \n",
       "2             0.0            4.0      MX  Android OS   \n",
       "3             0.0           10.0      ZW  Android OS   \n",
       "4             0.0            1.0      RS  Android OS   \n",
       "\n",
       "   previous_sessions_duration  spend     event_gap   session_gap  \\\n",
       "0                   356544.00    0.0  4.169025e+09  4.169058e+09   \n",
       "1                        0.00    0.0  1.962124e+09  2.068505e+09   \n",
       "2                   388631.25    0.0  3.259102e+09  3.448174e+09   \n",
       "3                  9200582.90    0.0  2.712367e+09  2.714803e+09   \n",
       "4                        0.00    0.0  5.332535e+09  5.507037e+09   \n",
       "\n",
       "      life_time  os_ios  os_android  country_mean_enc  \n",
       "0  4.219027e+09       1           0          0.015211  \n",
       "1  2.068520e+09       0           1          0.002735  \n",
       "2  4.131999e+09       0           1          0.002735  \n",
       "3  4.368927e+09       0           1          0.000000  \n",
       "4  5.507037e+09       0           1          0.001355  "
      ]
     },
     "execution_count": 8,
     "metadata": {},
     "output_type": "execute_result"
    }
   ],
   "source": [
    "submit = feature_generate(submission, events, session)\n",
    "mean_encoding_test(submit, training, col=\"country\")\n",
    "\n",
    "submit.head()"
   ]
  },
  {
   "cell_type": "markdown",
   "metadata": {},
   "source": [
    "<br>\n",
    "<br>\n",
    "<br>"
   ]
  },
  {
   "cell_type": "markdown",
   "metadata": {},
   "source": [
    "# Save Notebook"
   ]
  },
  {
   "cell_type": "code",
   "execution_count": 9,
   "metadata": {
    "ExecuteTime": {
     "end_time": "2019-02-19T00:39:34.562250Z",
     "start_time": "2019-02-19T00:36:57.445426Z"
    }
   },
   "outputs": [],
   "source": [
    "dill.dump_session(\"Notebook_Saves/features.db\")"
   ]
  }
 ],
 "metadata": {
  "kernelspec": {
   "display_name": "Python 3",
   "language": "python",
   "name": "python3"
  },
  "language_info": {
   "codemirror_mode": {
    "name": "ipython",
    "version": 3
   },
   "file_extension": ".py",
   "mimetype": "text/x-python",
   "name": "python",
   "nbconvert_exporter": "python",
   "pygments_lexer": "ipython3",
   "version": "3.7.2"
  }
 },
 "nbformat": 4,
 "nbformat_minor": 2
}
