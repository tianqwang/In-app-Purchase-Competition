{
 "cells": [
  {
   "cell_type": "markdown",
   "metadata": {},
   "source": [
    "# Feature Generating and Engineering\n",
    "This notebook is for generating the features put into the model."
   ]
  },
  {
   "cell_type": "code",
   "execution_count": 1,
   "metadata": {},
   "outputs": [],
   "source": [
    "# Packages Load\n",
    "import pandas as pd\n",
    "import numpy as np\n",
    "from datetime import datetime\n",
    "from sklearn.model_selection import StratifiedKFold\n",
    "from sklearn.preprocessing import OneHotEncoder\n",
    "import lightgbm as lgb\n",
    "import time\n",
    "from tqdm import tqdm_notebook"
   ]
  },
  {
   "cell_type": "code",
   "execution_count": 2,
   "metadata": {},
   "outputs": [],
   "source": [
    "# Read Files\n",
    "events = pd.read_pickle('data/events.pkl')\n",
    "attr = pd.read_pickle('data/attr_long.pkl')\n",
    "session = pd.read_pickle('data/session.pkl')"
   ]
  },
  {
   "cell_type": "code",
   "execution_count": 3,
   "metadata": {},
   "outputs": [],
   "source": [
    "submission = pd.read_csv('data/submission.csv')"
   ]
  },
  {
   "cell_type": "code",
   "execution_count": 4,
   "metadata": {},
   "outputs": [
    {
     "data": {
      "text/html": [
       "<div>\n",
       "<style scoped>\n",
       "    .dataframe tbody tr th:only-of-type {\n",
       "        vertical-align: middle;\n",
       "    }\n",
       "\n",
       "    .dataframe tbody tr th {\n",
       "        vertical-align: top;\n",
       "    }\n",
       "\n",
       "    .dataframe thead th {\n",
       "        text-align: right;\n",
       "    }\n",
       "</style>\n",
       "<table border=\"1\" class=\"dataframe\">\n",
       "  <thead>\n",
       "    <tr style=\"text-align: right;\">\n",
       "      <th></th>\n",
       "      <th>session_id</th>\n",
       "      <th>event</th>\n",
       "      <th>event_timestamp</th>\n",
       "      <th>event_value</th>\n",
       "      <th>user_id_hash</th>\n",
       "    </tr>\n",
       "  </thead>\n",
       "  <tbody>\n",
       "    <tr>\n",
       "      <th>0</th>\n",
       "      <td>5558845121177764917</td>\n",
       "      <td>45</td>\n",
       "      <td>1542215397132</td>\n",
       "      <td>0.0</td>\n",
       "      <td>9943447915df3a45fd6720a026af905b6da6b56a37701b...</td>\n",
       "    </tr>\n",
       "    <tr>\n",
       "      <th>1</th>\n",
       "      <td>5558845121177764917</td>\n",
       "      <td>45</td>\n",
       "      <td>1542215484895</td>\n",
       "      <td>0.0</td>\n",
       "      <td>9943447915df3a45fd6720a026af905b6da6b56a37701b...</td>\n",
       "    </tr>\n",
       "    <tr>\n",
       "      <th>2</th>\n",
       "      <td>7689508378645584666</td>\n",
       "      <td>.m5100869650219008</td>\n",
       "      <td>1541124410372</td>\n",
       "      <td>0.0</td>\n",
       "      <td>9943447915df3a45fd6720a026af905b6da6b56a37701b...</td>\n",
       "    </tr>\n",
       "    <tr>\n",
       "      <th>3</th>\n",
       "      <td>2201961907282901522</td>\n",
       "      <td>4</td>\n",
       "      <td>1543713091129</td>\n",
       "      <td>0.0</td>\n",
       "      <td>9943447915df3a45fd6720a026af905b6da6b56a37701b...</td>\n",
       "    </tr>\n",
       "    <tr>\n",
       "      <th>4</th>\n",
       "      <td>2201961907282901522</td>\n",
       "      <td>6</td>\n",
       "      <td>1543713093116</td>\n",
       "      <td>0.0</td>\n",
       "      <td>9943447915df3a45fd6720a026af905b6da6b56a37701b...</td>\n",
       "    </tr>\n",
       "  </tbody>\n",
       "</table>\n",
       "</div>"
      ],
      "text/plain": [
       "            session_id               event  event_timestamp  event_value  \\\n",
       "0  5558845121177764917                  45    1542215397132          0.0   \n",
       "1  5558845121177764917                  45    1542215484895          0.0   \n",
       "2  7689508378645584666  .m5100869650219008    1541124410372          0.0   \n",
       "3  2201961907282901522                   4    1543713091129          0.0   \n",
       "4  2201961907282901522                   6    1543713093116          0.0   \n",
       "\n",
       "                                        user_id_hash  \n",
       "0  9943447915df3a45fd6720a026af905b6da6b56a37701b...  \n",
       "1  9943447915df3a45fd6720a026af905b6da6b56a37701b...  \n",
       "2  9943447915df3a45fd6720a026af905b6da6b56a37701b...  \n",
       "3  9943447915df3a45fd6720a026af905b6da6b56a37701b...  \n",
       "4  9943447915df3a45fd6720a026af905b6da6b56a37701b...  "
      ]
     },
     "execution_count": 4,
     "metadata": {},
     "output_type": "execute_result"
    }
   ],
   "source": [
    "events.head()"
   ]
  },
  {
   "cell_type": "markdown",
   "metadata": {},
   "source": [
    "Since our predictions are based on users, we need to create features on user base."
   ]
  },
  {
   "cell_type": "code",
   "execution_count": 5,
   "metadata": {
    "scrolled": true
   },
   "outputs": [
    {
     "name": "stdout",
     "output_type": "stream",
     "text": [
      "2018-10-01 07:00:04\n",
      "2018-12-14 23:59:59\n"
     ]
    }
   ],
   "source": [
    "print(datetime.utcfromtimestamp(session.start_timestamp.min()/1000).strftime('%Y-%m-%d %H:%M:%S'))\n",
    "print(datetime.utcfromtimestamp(session.start_timestamp.max()/1000).strftime('%Y-%m-%d %H:%M:%S'))"
   ]
  },
  {
   "cell_type": "markdown",
   "metadata": {},
   "source": [
    "We will create labels during period Dec 1st and Dec 14th, and use features from Oct 1st to Nov 30th to train the model."
   ]
  },
  {
   "cell_type": "code",
   "execution_count": 6,
   "metadata": {},
   "outputs": [
    {
     "name": "stdout",
     "output_type": "stream",
     "text": [
      "1543622399000.0\n",
      "1544227199000.0\n"
     ]
    }
   ],
   "source": [
    "# Get the time stamp to split data.\n",
    "print(datetime(2018,11,30,23,59,59).timestamp()*1000)\n",
    "print(datetime(2018,12,7,23,59,59).timestamp()*1000)\n"
   ]
  },
  {
   "cell_type": "code",
   "execution_count": 7,
   "metadata": {},
   "outputs": [],
   "source": [
    "day_gap = (1544227199000-1543622399000)/7"
   ]
  },
  {
   "cell_type": "code",
   "execution_count": 8,
   "metadata": {},
   "outputs": [
    {
     "name": "stdout",
     "output_type": "stream",
     "text": [
      "1540598399000.0\n"
     ]
    }
   ],
   "source": [
    "print(datetime(2018,10,26,23,59,59).timestamp()*1000)"
   ]
  },
  {
   "cell_type": "code",
   "execution_count": 9,
   "metadata": {},
   "outputs": [],
   "source": [
    "dt_1001 = datetime(2018,9,30,23,59,59).timestamp()*1000\n",
    "dt_1026 = datetime(2018,10,26,23,59,59).timestamp()*1000\n",
    "dt_1214 = datetime(2018,12,14,23,59,59).timestamp()*1000"
   ]
  },
  {
   "cell_type": "markdown",
   "metadata": {},
   "source": [
    "######  26 as observation period, 7 days as label day, then we have 7 rolling periods."
   ]
  },
  {
   "cell_type": "code",
   "execution_count": 10,
   "metadata": {},
   "outputs": [],
   "source": [
    "# Split the data specifically for df feature generation\n",
    "events_prediction = events[(events.event_timestamp<=dt_1214)&(events.event_timestamp>dt_1214-61*day_gap)]\n",
    "session_prediction = session[(session.start_timestamp<=dt_1214)&(session.start_timestamp>dt_1214-61*day_gap)]"
   ]
  },
  {
   "cell_type": "code",
   "execution_count": 11,
   "metadata": {},
   "outputs": [],
   "source": [
    "prediction = pd.DataFrame(data = list(set(events_prediction.user_id_hash)&set(session_prediction.user_id_hash)&set(submission.user_id_hash)), \n",
    "                columns = ['user_id_hash'])"
   ]
  },
  {
   "cell_type": "code",
   "execution_count": 12,
   "metadata": {},
   "outputs": [
    {
     "data": {
      "text/plain": [
       "(261135, 1)"
      ]
     },
     "execution_count": 12,
     "metadata": {},
     "output_type": "execute_result"
    }
   ],
   "source": [
    "prediction.shape"
   ]
  },
  {
   "cell_type": "code",
   "execution_count": 13,
   "metadata": {},
   "outputs": [
    {
     "data": {
      "text/plain": [
       "(312568, 3)"
      ]
     },
     "execution_count": 13,
     "metadata": {},
     "output_type": "execute_result"
    }
   ],
   "source": [
    "submission.shape"
   ]
  },
  {
   "cell_type": "code",
   "execution_count": 14,
   "metadata": {},
   "outputs": [],
   "source": [
    "def label_1_create(df, label_set, label_1='user_purchase_binary_7_days'):\n",
    "    df[label_1] = df['user_id_hash'].apply(lambda x: x in label_set)\n",
    "    return df"
   ]
  },
  {
   "cell_type": "code",
   "execution_count": 15,
   "metadata": {},
   "outputs": [],
   "source": [
    "day_gap = (1544227199000-1543622399000)/7"
   ]
  },
  {
   "cell_type": "code",
   "execution_count": 16,
   "metadata": {},
   "outputs": [],
   "source": [
    "def event_feature(df, event_num, events_df, session_df):\n",
    "    count = events_df[events_df.event==str(event_num)].groupby('user_id_hash').event.count()\n",
    "    df[f'event_{event_num}'] = df.user_id_hash.map(count)\n",
    "    return df\n",
    "event_num = [45, 1, 5, 6, 14, 4, 40, 7, 41, 3, 42]"
   ]
  },
  {
   "cell_type": "code",
   "execution_count": 17,
   "metadata": {},
   "outputs": [],
   "source": [
    "def attr_feature(df, attr_num):\n",
    "    attr_ = attr[attr.attribute==attr_num]\n",
    "    attr_.loc[:,'attribute_value'] = attr_.loc[:, 'attribute_value'].astype(np.float32) \n",
    "    attr_mean = attr_.groupby('user_id_hash').attribute_value.mean()\n",
    "    attr_max = attr_.groupby('user_id_hash').attribute_value.max()\n",
    "    df[f'attr_{attr_num}_mean'] = df.user_id_hash.map(attr_mean)\n",
    "    df[f'attr_{attr_num}_max'] = df.user_id_hash.map(attr_max)\n",
    "    return df\n",
    "attr_num = [0, 1, 3, 4, 6, 8, 9, 11, 13, 14, 15, 16, 17, 18, 19, 20, 21, 67, 75, 76, 77, 78]"
   ]
  },
  {
   "cell_type": "code",
   "execution_count": 18,
   "metadata": {},
   "outputs": [],
   "source": [
    "def numeric_feature_generate(df, events_df, session_df):\n",
    "    window_max = events_df['event_timestamp'].max()\n",
    "    window_1_week_before = window_max - 7*day_gap\n",
    "    window_2_week_before = window_max - 14*day_gap\n",
    "    window_3_week_before = window_max - 21*day_gap\n",
    "    \n",
    "    print(df.shape)\n",
    "    # Feature one: event_count\n",
    "    count = events_df.groupby('user_id_hash').event.count()\n",
    "    df['event_count'] = df.user_id_hash.map(count)\n",
    "    \n",
    "    # Feature two: purchase_count_1_week\n",
    "    count = events_df[(events_df.event=='8')&(events_df.event_timestamp>window_1_week_before)].groupby('user_id_hash').event.count()\n",
    "    df['purchase_count_1_week'] = df.user_id_hash.map(count)\n",
    "    # Feature two: purchase_count_2_week\n",
    "    count = events_df[(events_df.event=='8')&(events_df.event_timestamp>window_2_week_before)&(events_df.event_timestamp<=window_1_week_before)].groupby('user_id_hash').event.count()\n",
    "    df['purchase_count_2_week'] = df.user_id_hash.map(count)\n",
    "    # Feature two: purchase_count_3_week\n",
    "    count = events_df[(events_df.event=='8')&(events_df.event_timestamp>window_3_week_before)&(events_df.event_timestamp<=window_2_week_before)].groupby('user_id_hash').event.count()\n",
    "    df['purchase_count_3_week'] = df.user_id_hash.map(count)\n",
    "    # Feature two: purchase_count_4_week\n",
    "    count = events_df[(events_df.event=='8')&(events_df.event_timestamp<=window_3_week_before)].groupby('user_id_hash').event.count()\n",
    "    df['purchase_count_4_week'] = df.user_id_hash.map(count)\n",
    "    print(df.shape)\n",
    "    # Feature three: session_count    \n",
    "    count = events_df.groupby('user_id_hash').session_id.count()\n",
    "    df['session_count'] = df.user_id_hash.map(count)\n",
    "    \n",
    "    print(df.shape)    \n",
    "    # Feature six: session_duration\n",
    "    duration = session_df.groupby('user_id_hash').previous_sessions_duration.mean()\n",
    "    df['mean_sessions_duration'] = df.user_id_hash.map(duration)\n",
    "    \n",
    "    # Feature seven: spend\n",
    "    spend = events_df.groupby('user_id_hash').event_value.sum()\n",
    "    df['spend'] = df.user_id_hash.map(spend)\n",
    "    \n",
    "    # Feature eight: event_gap    \n",
    "    event_gap = events_df.groupby('user_id_hash').event_timestamp.max()\n",
    "    event_gap = window_max - event_gap\n",
    "    df['event_gap'] = df.user_id_hash.map(event_gap)\n",
    "        \n",
    "    # Feature nine: session_gap\n",
    "    session_gap = session_df.groupby('user_id_hash').start_timestamp.max()\n",
    "    session_gap = window_max - session_gap\n",
    "    df['session_gap'] = df.user_id_hash.map(session_gap)    \n",
    "\n",
    "    # Feature 25: purchase_gap\n",
    "    purchase_gap = events_df[events_df.event=='8'].groupby('user_id_hash').event_timestamp.max()\n",
    "    purchase_gap = window_max - purchase_gap\n",
    "    df['purchase_gap'] = df.user_id_hash.map(purchase_gap) \n",
    "    \n",
    "    # Feature ten: life_time\n",
    "    life_time = session_df.groupby('user_id_hash').user_created_timestamp.max()\n",
    "    life_time = window_max - life_time\n",
    "    df['life_time'] = df.user_id_hash.map(life_time)     \n",
    "    print(df.shape)    \n",
    "\n",
    "    for i in event_num:\n",
    "        df = event_feature(df, i, events_df, session_df)\n",
    "    print(df.shape)    \n",
    "    for i in attr_num:\n",
    "        df = attr_feature(df, i)    \n",
    "\n",
    "    return df"
   ]
  },
  {
   "cell_type": "code",
   "execution_count": 19,
   "metadata": {},
   "outputs": [],
   "source": [
    "prediction = pd.DataFrame(data = list(set(events_prediction.user_id_hash)&set(session_prediction.user_id_hash)&set(submission.user_id_hash)), \n",
    "                columns = ['user_id_hash'])"
   ]
  },
  {
   "cell_type": "code",
   "execution_count": 20,
   "metadata": {},
   "outputs": [
    {
     "data": {
      "text/plain": [
       "(261135, 1)"
      ]
     },
     "execution_count": 20,
     "metadata": {},
     "output_type": "execute_result"
    }
   ],
   "source": [
    "prediction.shape"
   ]
  },
  {
   "cell_type": "code",
   "execution_count": 21,
   "metadata": {},
   "outputs": [
    {
     "name": "stdout",
     "output_type": "stream",
     "text": [
      "(261135, 1)\n",
      "(261135, 6)\n",
      "(261135, 7)\n",
      "(261135, 13)\n",
      "(261135, 24)\n"
     ]
    },
    {
     "name": "stderr",
     "output_type": "stream",
     "text": [
      "/home/wtq920828/anaconda3/lib/python3.7/site-packages/pandas/core/indexing.py:543: SettingWithCopyWarning: \n",
      "A value is trying to be set on a copy of a slice from a DataFrame.\n",
      "Try using .loc[row_indexer,col_indexer] = value instead\n",
      "\n",
      "See the caveats in the documentation: http://pandas.pydata.org/pandas-docs/stable/indexing.html#indexing-view-versus-copy\n",
      "  self.obj[item] = s\n"
     ]
    }
   ],
   "source": [
    "prediction = numeric_feature_generate(prediction, events_prediction, session_prediction)"
   ]
  },
  {
   "cell_type": "code",
   "execution_count": 22,
   "metadata": {},
   "outputs": [
    {
     "data": {
      "text/plain": [
       "(261135, 68)"
      ]
     },
     "execution_count": 22,
     "metadata": {},
     "output_type": "execute_result"
    }
   ],
   "source": [
    "prediction.shape"
   ]
  },
  {
   "cell_type": "code",
   "execution_count": 24,
   "metadata": {},
   "outputs": [],
   "source": [
    "prediction.to_pickle('data/meta_prediction_1.pkl')"
   ]
  },
  {
   "cell_type": "code",
   "execution_count": 16,
   "metadata": {},
   "outputs": [],
   "source": [
    "def training_df1_generate(observation_window=26, window_gap = 7, window_size = 14):\n",
    "    output = pd.DataFrame()\n",
    "    for i in tqdm_notebook(range(7)):\n",
    "        events_df = events[(events.event_timestamp>(dt_1001+i*window_gap*day_gap)) & (events.event_timestamp<=(dt_1001+observation_window*day_gap+i*window_gap*day_gap))]\n",
    "        session_df = session[(session.start_timestamp>(dt_1001+i*window_gap*day_gap)) & (session.start_timestamp<=(dt_1001+observation_window*day_gap+i*window_gap*day_gap))]\n",
    "        purchase_user_7 = set(events[(events.event=='8') & (events.event_timestamp>(dt_1001+observation_window*day_gap+i*window_gap*day_gap))& (events_df.event_timestamp<=(dt_1001+observation_window*day_gap+i*window_gap*day_gap+window_size*day_gap))].user_id_hash)\n",
    "        df = pd.DataFrame(data = list(set(events_df.user_id_hash)&set(session_df.user_id_hash)), \n",
    "                        columns = ['user_id_hash'])\n",
    "        df = label_1_create(df, label_set = purchase_user_7)\n",
    "        df = numerical_feature_generate(df, events_df, session_df)\n",
    "        \n",
    "        output = output.append(df)\n",
    "    return output"
   ]
  },
  {
   "cell_type": "code",
   "execution_count": 17,
   "metadata": {},
   "outputs": [
    {
     "data": {
      "application/vnd.jupyter.widget-view+json": {
       "model_id": "163aaa9b80904a6aa26428321994218c",
       "version_major": 2,
       "version_minor": 0
      },
      "text/plain": [
       "HBox(children=(IntProgress(value=0, max=7), HTML(value='')))"
      ]
     },
     "metadata": {},
     "output_type": "display_data"
    },
    {
     "name": "stderr",
     "output_type": "stream",
     "text": [
      "/home/wtq920828/anaconda3/lib/python3.7/site-packages/ipykernel_launcher.py:12: UserWarning: Boolean Series key will be reindexed to match DataFrame index.\n",
      "  if sys.path[0] == '':\n",
      "/home/wtq920828/anaconda3/lib/python3.7/site-packages/ipykernel_launcher.py:15: UserWarning: Boolean Series key will be reindexed to match DataFrame index.\n",
      "  from ipykernel import kernelapp as app\n",
      "/home/wtq920828/anaconda3/lib/python3.7/site-packages/ipykernel_launcher.py:18: UserWarning: Boolean Series key will be reindexed to match DataFrame index.\n",
      "/home/wtq920828/anaconda3/lib/python3.7/site-packages/ipykernel_launcher.py:21: UserWarning: Boolean Series key will be reindexed to match DataFrame index.\n"
     ]
    }
   ],
   "source": [
    "training1 = training_df1_generate(observation_window=26, window_gap = 7, window_size = 7)"
   ]
  },
  {
   "cell_type": "code",
   "execution_count": 18,
   "metadata": {},
   "outputs": [],
   "source": [
    "training1.to_pickle('./data/meta_training_1.pkl')"
   ]
  },
  {
   "cell_type": "code",
   "execution_count": 20,
   "metadata": {},
   "outputs": [
    {
     "data": {
      "text/plain": [
       "(796081, 25)"
      ]
     },
     "execution_count": 20,
     "metadata": {},
     "output_type": "execute_result"
    }
   ],
   "source": [
    "training1.shape"
   ]
  },
  {
   "cell_type": "code",
   "execution_count": 21,
   "metadata": {},
   "outputs": [
    {
     "data": {
      "text/html": [
       "<div>\n",
       "<style scoped>\n",
       "    .dataframe tbody tr th:only-of-type {\n",
       "        vertical-align: middle;\n",
       "    }\n",
       "\n",
       "    .dataframe tbody tr th {\n",
       "        vertical-align: top;\n",
       "    }\n",
       "\n",
       "    .dataframe thead th {\n",
       "        text-align: right;\n",
       "    }\n",
       "</style>\n",
       "<table border=\"1\" class=\"dataframe\">\n",
       "  <thead>\n",
       "    <tr style=\"text-align: right;\">\n",
       "      <th></th>\n",
       "      <th>user_id_hash</th>\n",
       "      <th>user_purchase_binary_7_days</th>\n",
       "      <th>event_count</th>\n",
       "      <th>purchase_count_1_week</th>\n",
       "      <th>purchase_count_2_week</th>\n",
       "      <th>purchase_count_3_week</th>\n",
       "      <th>purchase_count_4_week</th>\n",
       "      <th>session_count</th>\n",
       "      <th>mean_sessions_duration</th>\n",
       "      <th>spend</th>\n",
       "      <th>...</th>\n",
       "      <th>event_1</th>\n",
       "      <th>event_5</th>\n",
       "      <th>event_6</th>\n",
       "      <th>event_14</th>\n",
       "      <th>event_4</th>\n",
       "      <th>event_40</th>\n",
       "      <th>event_7</th>\n",
       "      <th>event_41</th>\n",
       "      <th>event_3</th>\n",
       "      <th>event_42</th>\n",
       "    </tr>\n",
       "  </thead>\n",
       "  <tbody>\n",
       "    <tr>\n",
       "      <th>0</th>\n",
       "      <td>f87551915058ed0f315b588e85272b521f31680f8a1b6c...</td>\n",
       "      <td>False</td>\n",
       "      <td>25</td>\n",
       "      <td>0</td>\n",
       "      <td>0</td>\n",
       "      <td>0</td>\n",
       "      <td>0</td>\n",
       "      <td>25</td>\n",
       "      <td>0.000000e+00</td>\n",
       "      <td>12.0</td>\n",
       "      <td>...</td>\n",
       "      <td>0</td>\n",
       "      <td>1</td>\n",
       "      <td>0</td>\n",
       "      <td>3</td>\n",
       "      <td>0</td>\n",
       "      <td>0</td>\n",
       "      <td>1</td>\n",
       "      <td>0</td>\n",
       "      <td>0</td>\n",
       "      <td>0</td>\n",
       "    </tr>\n",
       "    <tr>\n",
       "      <th>1</th>\n",
       "      <td>b7124b28fd58b622876aa528387fe6aef72730ff85894b...</td>\n",
       "      <td>False</td>\n",
       "      <td>221</td>\n",
       "      <td>0</td>\n",
       "      <td>0</td>\n",
       "      <td>0</td>\n",
       "      <td>0</td>\n",
       "      <td>221</td>\n",
       "      <td>4.670954e+06</td>\n",
       "      <td>81.0</td>\n",
       "      <td>...</td>\n",
       "      <td>4</td>\n",
       "      <td>11</td>\n",
       "      <td>9</td>\n",
       "      <td>3</td>\n",
       "      <td>11</td>\n",
       "      <td>7</td>\n",
       "      <td>4</td>\n",
       "      <td>1</td>\n",
       "      <td>1</td>\n",
       "      <td>1</td>\n",
       "    </tr>\n",
       "    <tr>\n",
       "      <th>2</th>\n",
       "      <td>590d27595a5f1a75aa0186d812af883246825d1a44cda1...</td>\n",
       "      <td>False</td>\n",
       "      <td>424</td>\n",
       "      <td>0</td>\n",
       "      <td>0</td>\n",
       "      <td>0</td>\n",
       "      <td>0</td>\n",
       "      <td>424</td>\n",
       "      <td>7.135737e+06</td>\n",
       "      <td>104.0</td>\n",
       "      <td>...</td>\n",
       "      <td>19</td>\n",
       "      <td>21</td>\n",
       "      <td>20</td>\n",
       "      <td>9</td>\n",
       "      <td>18</td>\n",
       "      <td>17</td>\n",
       "      <td>6</td>\n",
       "      <td>14</td>\n",
       "      <td>14</td>\n",
       "      <td>12</td>\n",
       "    </tr>\n",
       "    <tr>\n",
       "      <th>3</th>\n",
       "      <td>147050281432ebeed2e40d7da2a4eadc05e92b6ce58108...</td>\n",
       "      <td>False</td>\n",
       "      <td>657</td>\n",
       "      <td>0</td>\n",
       "      <td>0</td>\n",
       "      <td>0</td>\n",
       "      <td>0</td>\n",
       "      <td>657</td>\n",
       "      <td>1.887977e+07</td>\n",
       "      <td>114.0</td>\n",
       "      <td>...</td>\n",
       "      <td>17</td>\n",
       "      <td>30</td>\n",
       "      <td>29</td>\n",
       "      <td>4</td>\n",
       "      <td>27</td>\n",
       "      <td>21</td>\n",
       "      <td>4</td>\n",
       "      <td>5</td>\n",
       "      <td>5</td>\n",
       "      <td>5</td>\n",
       "    </tr>\n",
       "    <tr>\n",
       "      <th>4</th>\n",
       "      <td>78f284553cdf986138200c1f3dd00ebfe3634f170dc02b...</td>\n",
       "      <td>False</td>\n",
       "      <td>135</td>\n",
       "      <td>0</td>\n",
       "      <td>0</td>\n",
       "      <td>0</td>\n",
       "      <td>0</td>\n",
       "      <td>135</td>\n",
       "      <td>3.368234e+06</td>\n",
       "      <td>62.0</td>\n",
       "      <td>...</td>\n",
       "      <td>6</td>\n",
       "      <td>8</td>\n",
       "      <td>6</td>\n",
       "      <td>3</td>\n",
       "      <td>5</td>\n",
       "      <td>5</td>\n",
       "      <td>3</td>\n",
       "      <td>0</td>\n",
       "      <td>0</td>\n",
       "      <td>0</td>\n",
       "    </tr>\n",
       "  </tbody>\n",
       "</table>\n",
       "<p>5 rows × 25 columns</p>\n",
       "</div>"
      ],
      "text/plain": [
       "                                        user_id_hash  \\\n",
       "0  f87551915058ed0f315b588e85272b521f31680f8a1b6c...   \n",
       "1  b7124b28fd58b622876aa528387fe6aef72730ff85894b...   \n",
       "2  590d27595a5f1a75aa0186d812af883246825d1a44cda1...   \n",
       "3  147050281432ebeed2e40d7da2a4eadc05e92b6ce58108...   \n",
       "4  78f284553cdf986138200c1f3dd00ebfe3634f170dc02b...   \n",
       "\n",
       "  user_purchase_binary_7_days  event_count  purchase_count_1_week  \\\n",
       "0                       False           25                      0   \n",
       "1                       False          221                      0   \n",
       "2                       False          424                      0   \n",
       "3                       False          657                      0   \n",
       "4                       False          135                      0   \n",
       "\n",
       "   purchase_count_2_week  purchase_count_3_week  purchase_count_4_week  \\\n",
       "0                      0                      0                      0   \n",
       "1                      0                      0                      0   \n",
       "2                      0                      0                      0   \n",
       "3                      0                      0                      0   \n",
       "4                      0                      0                      0   \n",
       "\n",
       "   session_count  mean_sessions_duration  spend  ...  event_1  event_5  \\\n",
       "0             25            0.000000e+00   12.0  ...        0        1   \n",
       "1            221            4.670954e+06   81.0  ...        4       11   \n",
       "2            424            7.135737e+06  104.0  ...       19       21   \n",
       "3            657            1.887977e+07  114.0  ...       17       30   \n",
       "4            135            3.368234e+06   62.0  ...        6        8   \n",
       "\n",
       "   event_6  event_14  event_4  event_40  event_7  event_41  event_3  event_42  \n",
       "0        0         3        0         0        1         0        0         0  \n",
       "1        9         3       11         7        4         1        1         1  \n",
       "2       20         9       18        17        6        14       14        12  \n",
       "3       29         4       27        21        4         5        5         5  \n",
       "4        6         3        5         5        3         0        0         0  \n",
       "\n",
       "[5 rows x 25 columns]"
      ]
     },
     "execution_count": 21,
     "metadata": {},
     "output_type": "execute_result"
    }
   ],
   "source": [
    "training1.head()"
   ]
  },
  {
   "cell_type": "code",
   "execution_count": 22,
   "metadata": {},
   "outputs": [],
   "source": [
    "def training_df2_generate(observation_window=26, window_gap = 7, window_size = 14):\n",
    "    output = pd.DataFrame()\n",
    "    for i in tqdm_notebook(range(6)):\n",
    "        events_df = events[(events.event_timestamp>(dt_1001+i*window_gap*day_gap)) & (events.event_timestamp<=(dt_1001+observation_window*day_gap+i*window_gap*day_gap))]\n",
    "        session_df = session[(session.start_timestamp>(dt_1001+i*window_gap*day_gap)) & (session.start_timestamp<=(dt_1001+observation_window*day_gap+i*window_gap*day_gap))]\n",
    "        purchase_user_14 = set(events[(events.event=='8') & (events.event_timestamp>(dt_1001+observation_window*day_gap+i*window_gap*day_gap))& (events_df.event_timestamp<=(dt_1001+observation_window*day_gap+i*window_gap*day_gap+window_size*day_gap))].user_id_hash)\n",
    "        df = pd.DataFrame(data = list(set(events_df.user_id_hash)&set(session_df.user_id_hash)), \n",
    "                        columns = ['user_id_hash'])\n",
    "        df = label_1_create(df, label_set = purchase_user_14)\n",
    "        df = numerical_feature_generate(df, events_df, session_df)\n",
    "        \n",
    "        output = output.append(df)\n",
    "    return output"
   ]
  },
  {
   "cell_type": "code",
   "execution_count": null,
   "metadata": {},
   "outputs": [
    {
     "data": {
      "application/vnd.jupyter.widget-view+json": {
       "model_id": "c3b1c85e304a4bdea928efd95ede1be0",
       "version_major": 2,
       "version_minor": 0
      },
      "text/plain": [
       "HBox(children=(IntProgress(value=0, max=6), HTML(value='')))"
      ]
     },
     "metadata": {},
     "output_type": "display_data"
    }
   ],
   "source": [
    "training2 = training_df2_generate(observation_window=26, window_gap = 7, window_size = 14)"
   ]
  },
  {
   "cell_type": "markdown",
   "metadata": {},
   "source": [
    "## Training Labels"
   ]
  },
  {
   "cell_type": "code",
   "execution_count": 16,
   "metadata": {},
   "outputs": [],
   "source": [
    "# Label1 7-day purchase\n",
    "purchase_user_7 = set(events[(events.event=='8') & (events.event_timestamp>1543622399000) & (events.event_timestamp<=1544227199000)].user_id_hash)\n",
    "# Label2 14-day purchase\n",
    "purchase_user_14 = set(events[(events.event=='8') & (events.event_timestamp>1543622399000)].user_id_hash)"
   ]
  },
  {
   "cell_type": "code",
   "execution_count": 17,
   "metadata": {},
   "outputs": [
    {
     "data": {
      "text/plain": [
       "4729"
      ]
     },
     "execution_count": 17,
     "metadata": {},
     "output_type": "execute_result"
    }
   ],
   "source": [
    "len(purchase_user_7)"
   ]
  },
  {
   "cell_type": "code",
   "execution_count": 18,
   "metadata": {},
   "outputs": [
    {
     "data": {
      "text/plain": [
       "6126"
      ]
     },
     "execution_count": 18,
     "metadata": {},
     "output_type": "execute_result"
    }
   ],
   "source": [
    "len(purchase_user_14)"
   ]
  },
  {
   "cell_type": "markdown",
   "metadata": {},
   "source": [
    "#### Create Data Frame for df"
   ]
  },
  {
   "cell_type": "code",
   "execution_count": 19,
   "metadata": {},
   "outputs": [],
   "source": [
    "training = pd.DataFrame(data = list(set(events.user_id_hash)&set(session.user_id_hash)), \n",
    "                        columns = ['user_id_hash'])"
   ]
  },
  {
   "cell_type": "markdown",
   "metadata": {},
   "source": [
    "#### Create Labels"
   ]
  },
  {
   "cell_type": "code",
   "execution_count": 20,
   "metadata": {},
   "outputs": [],
   "source": [
    "def label_create(df, label_1='user_purchase_binary_7_days', label_2='user_purchase_binary_14_days'):\n",
    "    df[label_1] = df['user_id_hash'].apply(lambda x: x in purchase_user_7)\n",
    "    df[label_2] = df['user_id_hash'].apply(lambda x: x in purchase_user_14)\n",
    "    return df"
   ]
  },
  {
   "cell_type": "code",
   "execution_count": 21,
   "metadata": {},
   "outputs": [],
   "source": [
    "training  = label_create(training)"
   ]
  },
  {
   "cell_type": "code",
   "execution_count": 22,
   "metadata": {},
   "outputs": [
    {
     "data": {
      "text/plain": [
       "(619423, 3)"
      ]
     },
     "execution_count": 22,
     "metadata": {},
     "output_type": "execute_result"
    }
   ],
   "source": [
    "training.shape"
   ]
  },
  {
   "cell_type": "code",
   "execution_count": 23,
   "metadata": {},
   "outputs": [
    {
     "data": {
      "text/html": [
       "<div>\n",
       "<style scoped>\n",
       "    .dataframe tbody tr th:only-of-type {\n",
       "        vertical-align: middle;\n",
       "    }\n",
       "\n",
       "    .dataframe tbody tr th {\n",
       "        vertical-align: top;\n",
       "    }\n",
       "\n",
       "    .dataframe thead th {\n",
       "        text-align: right;\n",
       "    }\n",
       "</style>\n",
       "<table border=\"1\" class=\"dataframe\">\n",
       "  <thead>\n",
       "    <tr style=\"text-align: right;\">\n",
       "      <th></th>\n",
       "      <th>user_id_hash</th>\n",
       "      <th>user_purchase_binary_7_days</th>\n",
       "      <th>user_purchase_binary_14_days</th>\n",
       "    </tr>\n",
       "  </thead>\n",
       "  <tbody>\n",
       "    <tr>\n",
       "      <th>0</th>\n",
       "      <td>e1307a8f59cedf193a6b702914071b354618743ff55f52...</td>\n",
       "      <td>False</td>\n",
       "      <td>False</td>\n",
       "    </tr>\n",
       "    <tr>\n",
       "      <th>1</th>\n",
       "      <td>a3fd9faf3fe536411c656fa4286e1f2830f6ab88a7c2bb...</td>\n",
       "      <td>False</td>\n",
       "      <td>False</td>\n",
       "    </tr>\n",
       "    <tr>\n",
       "      <th>2</th>\n",
       "      <td>57fb27e539c679bb5ce5f8a0d975186008c42030061024...</td>\n",
       "      <td>False</td>\n",
       "      <td>False</td>\n",
       "    </tr>\n",
       "    <tr>\n",
       "      <th>3</th>\n",
       "      <td>6c75912a77f358dea7b4cc146931017e5f7aec1d948ed9...</td>\n",
       "      <td>False</td>\n",
       "      <td>False</td>\n",
       "    </tr>\n",
       "    <tr>\n",
       "      <th>4</th>\n",
       "      <td>9f8bba6071e8d0f8ecb775c1a5ece35d5f6134e4870198...</td>\n",
       "      <td>False</td>\n",
       "      <td>False</td>\n",
       "    </tr>\n",
       "  </tbody>\n",
       "</table>\n",
       "</div>"
      ],
      "text/plain": [
       "                                        user_id_hash  \\\n",
       "0  e1307a8f59cedf193a6b702914071b354618743ff55f52...   \n",
       "1  a3fd9faf3fe536411c656fa4286e1f2830f6ab88a7c2bb...   \n",
       "2  57fb27e539c679bb5ce5f8a0d975186008c42030061024...   \n",
       "3  6c75912a77f358dea7b4cc146931017e5f7aec1d948ed9...   \n",
       "4  9f8bba6071e8d0f8ecb775c1a5ece35d5f6134e4870198...   \n",
       "\n",
       "   user_purchase_binary_7_days  user_purchase_binary_14_days  \n",
       "0                        False                         False  \n",
       "1                        False                         False  \n",
       "2                        False                         False  \n",
       "3                        False                         False  \n",
       "4                        False                         False  "
      ]
     },
     "execution_count": 23,
     "metadata": {},
     "output_type": "execute_result"
    }
   ],
   "source": [
    "training.head()"
   ]
  },
  {
   "cell_type": "markdown",
   "metadata": {},
   "source": [
    "## Training features\n",
    "We will create user-based features one by one."
   ]
  },
  {
   "cell_type": "markdown",
   "metadata": {},
   "source": [
    "#### Feature 1 \n",
    "How many events does this user has before?"
   ]
  },
  {
   "cell_type": "code",
   "execution_count": 24,
   "metadata": {},
   "outputs": [],
   "source": [
    "count = events_training.loc[:, ['user_id_hash', 'event']].groupby('user_id_hash').\\\n",
    "count().reset_index().rename(columns={'event':'event_count'})\n",
    "training = training.join(count.set_index('user_id_hash'), on = 'user_id_hash')"
   ]
  },
  {
   "cell_type": "code",
   "execution_count": 31,
   "metadata": {},
   "outputs": [
    {
     "data": {
      "text/html": [
       "<div>\n",
       "<style scoped>\n",
       "    .dataframe tbody tr th:only-of-type {\n",
       "        vertical-align: middle;\n",
       "    }\n",
       "\n",
       "    .dataframe tbody tr th {\n",
       "        vertical-align: top;\n",
       "    }\n",
       "\n",
       "    .dataframe thead th {\n",
       "        text-align: right;\n",
       "    }\n",
       "</style>\n",
       "<table border=\"1\" class=\"dataframe\">\n",
       "  <thead>\n",
       "    <tr style=\"text-align: right;\">\n",
       "      <th></th>\n",
       "      <th>user_id_hash</th>\n",
       "      <th>user_purchase_binary_7_days</th>\n",
       "      <th>user_purchase_binary_14_days</th>\n",
       "      <th>event_count</th>\n",
       "      <th>purchase_count</th>\n",
       "      <th>session_count</th>\n",
       "    </tr>\n",
       "  </thead>\n",
       "  <tbody>\n",
       "    <tr>\n",
       "      <th>0</th>\n",
       "      <td>e1307a8f59cedf193a6b702914071b354618743ff55f52...</td>\n",
       "      <td>False</td>\n",
       "      <td>False</td>\n",
       "      <td>245</td>\n",
       "      <td>0</td>\n",
       "      <td>12</td>\n",
       "    </tr>\n",
       "    <tr>\n",
       "      <th>1</th>\n",
       "      <td>a3fd9faf3fe536411c656fa4286e1f2830f6ab88a7c2bb...</td>\n",
       "      <td>False</td>\n",
       "      <td>False</td>\n",
       "      <td>5</td>\n",
       "      <td>0</td>\n",
       "      <td>2</td>\n",
       "    </tr>\n",
       "    <tr>\n",
       "      <th>2</th>\n",
       "      <td>57fb27e539c679bb5ce5f8a0d975186008c42030061024...</td>\n",
       "      <td>False</td>\n",
       "      <td>False</td>\n",
       "      <td>21</td>\n",
       "      <td>0</td>\n",
       "      <td>1</td>\n",
       "    </tr>\n",
       "    <tr>\n",
       "      <th>3</th>\n",
       "      <td>6c75912a77f358dea7b4cc146931017e5f7aec1d948ed9...</td>\n",
       "      <td>False</td>\n",
       "      <td>False</td>\n",
       "      <td>56</td>\n",
       "      <td>0</td>\n",
       "      <td>1</td>\n",
       "    </tr>\n",
       "    <tr>\n",
       "      <th>4</th>\n",
       "      <td>9f8bba6071e8d0f8ecb775c1a5ece35d5f6134e4870198...</td>\n",
       "      <td>False</td>\n",
       "      <td>False</td>\n",
       "      <td>14</td>\n",
       "      <td>0</td>\n",
       "      <td>1</td>\n",
       "    </tr>\n",
       "  </tbody>\n",
       "</table>\n",
       "</div>"
      ],
      "text/plain": [
       "                                        user_id_hash  \\\n",
       "0  e1307a8f59cedf193a6b702914071b354618743ff55f52...   \n",
       "1  a3fd9faf3fe536411c656fa4286e1f2830f6ab88a7c2bb...   \n",
       "2  57fb27e539c679bb5ce5f8a0d975186008c42030061024...   \n",
       "3  6c75912a77f358dea7b4cc146931017e5f7aec1d948ed9...   \n",
       "4  9f8bba6071e8d0f8ecb775c1a5ece35d5f6134e4870198...   \n",
       "\n",
       "   user_purchase_binary_7_days  user_purchase_binary_14_days  event_count  \\\n",
       "0                        False                         False          245   \n",
       "1                        False                         False            5   \n",
       "2                        False                         False           21   \n",
       "3                        False                         False           56   \n",
       "4                        False                         False           14   \n",
       "\n",
       "   purchase_count  session_count  \n",
       "0               0             12  \n",
       "1               0              2  \n",
       "2               0              1  \n",
       "3               0              1  \n",
       "4               0              1  "
      ]
     },
     "execution_count": 31,
     "metadata": {},
     "output_type": "execute_result"
    }
   ],
   "source": [
    "training.head()"
   ]
  },
  {
   "cell_type": "markdown",
   "metadata": {},
   "source": [
    "#### Feature 2\n",
    "How many times does this user purchased before?"
   ]
  },
  {
   "cell_type": "code",
   "execution_count": 26,
   "metadata": {},
   "outputs": [],
   "source": [
    "count = events_training[events_training.event=='8'].loc[:, ['user_id_hash', 'event']].groupby('user_id_hash').\\\n",
    "count().reset_index().rename(columns={'event':'purchase_count'})\n",
    "training = training.join(count.set_index('user_id_hash'), on = 'user_id_hash')"
   ]
  },
  {
   "cell_type": "code",
   "execution_count": 27,
   "metadata": {},
   "outputs": [
    {
     "data": {
      "text/html": [
       "<div>\n",
       "<style scoped>\n",
       "    .dataframe tbody tr th:only-of-type {\n",
       "        vertical-align: middle;\n",
       "    }\n",
       "\n",
       "    .dataframe tbody tr th {\n",
       "        vertical-align: top;\n",
       "    }\n",
       "\n",
       "    .dataframe thead th {\n",
       "        text-align: right;\n",
       "    }\n",
       "</style>\n",
       "<table border=\"1\" class=\"dataframe\">\n",
       "  <thead>\n",
       "    <tr style=\"text-align: right;\">\n",
       "      <th></th>\n",
       "      <th>user_id_hash</th>\n",
       "      <th>user_purchase_binary_7_days</th>\n",
       "      <th>user_purchase_binary_14_days</th>\n",
       "      <th>event_count</th>\n",
       "      <th>purchase_count</th>\n",
       "    </tr>\n",
       "  </thead>\n",
       "  <tbody>\n",
       "    <tr>\n",
       "      <th>0</th>\n",
       "      <td>e1307a8f59cedf193a6b702914071b354618743ff55f52...</td>\n",
       "      <td>False</td>\n",
       "      <td>False</td>\n",
       "      <td>245</td>\n",
       "      <td>0</td>\n",
       "    </tr>\n",
       "    <tr>\n",
       "      <th>1</th>\n",
       "      <td>a3fd9faf3fe536411c656fa4286e1f2830f6ab88a7c2bb...</td>\n",
       "      <td>False</td>\n",
       "      <td>False</td>\n",
       "      <td>5</td>\n",
       "      <td>0</td>\n",
       "    </tr>\n",
       "    <tr>\n",
       "      <th>2</th>\n",
       "      <td>57fb27e539c679bb5ce5f8a0d975186008c42030061024...</td>\n",
       "      <td>False</td>\n",
       "      <td>False</td>\n",
       "      <td>21</td>\n",
       "      <td>0</td>\n",
       "    </tr>\n",
       "    <tr>\n",
       "      <th>3</th>\n",
       "      <td>6c75912a77f358dea7b4cc146931017e5f7aec1d948ed9...</td>\n",
       "      <td>False</td>\n",
       "      <td>False</td>\n",
       "      <td>56</td>\n",
       "      <td>0</td>\n",
       "    </tr>\n",
       "    <tr>\n",
       "      <th>4</th>\n",
       "      <td>9f8bba6071e8d0f8ecb775c1a5ece35d5f6134e4870198...</td>\n",
       "      <td>False</td>\n",
       "      <td>False</td>\n",
       "      <td>14</td>\n",
       "      <td>0</td>\n",
       "    </tr>\n",
       "  </tbody>\n",
       "</table>\n",
       "</div>"
      ],
      "text/plain": [
       "                                        user_id_hash  \\\n",
       "0  e1307a8f59cedf193a6b702914071b354618743ff55f52...   \n",
       "1  a3fd9faf3fe536411c656fa4286e1f2830f6ab88a7c2bb...   \n",
       "2  57fb27e539c679bb5ce5f8a0d975186008c42030061024...   \n",
       "3  6c75912a77f358dea7b4cc146931017e5f7aec1d948ed9...   \n",
       "4  9f8bba6071e8d0f8ecb775c1a5ece35d5f6134e4870198...   \n",
       "\n",
       "   user_purchase_binary_7_days  user_purchase_binary_14_days  event_count  \\\n",
       "0                        False                         False          245   \n",
       "1                        False                         False            5   \n",
       "2                        False                         False           21   \n",
       "3                        False                         False           56   \n",
       "4                        False                         False           14   \n",
       "\n",
       "   purchase_count  \n",
       "0               0  \n",
       "1               0  \n",
       "2               0  \n",
       "3               0  \n",
       "4               0  "
      ]
     },
     "execution_count": 27,
     "metadata": {},
     "output_type": "execute_result"
    }
   ],
   "source": [
    "training.head()"
   ]
  },
  {
   "cell_type": "markdown",
   "metadata": {},
   "source": [
    "#### Feature 3\n",
    "How many session does this users have in total?"
   ]
  },
  {
   "cell_type": "code",
   "execution_count": 28,
   "metadata": {},
   "outputs": [],
   "source": [
    "count = session_training.loc[:, ['user_id_hash', 'session_id']].groupby('user_id_hash').\\\n",
    "count().reset_index().rename(columns={'session_id':'session_count'})\n",
    "training = training.join(count.set_index('user_id_hash'), on = 'user_id_hash')"
   ]
  },
  {
   "cell_type": "code",
   "execution_count": 29,
   "metadata": {},
   "outputs": [
    {
     "data": {
      "text/html": [
       "<div>\n",
       "<style scoped>\n",
       "    .dataframe tbody tr th:only-of-type {\n",
       "        vertical-align: middle;\n",
       "    }\n",
       "\n",
       "    .dataframe tbody tr th {\n",
       "        vertical-align: top;\n",
       "    }\n",
       "\n",
       "    .dataframe thead th {\n",
       "        text-align: right;\n",
       "    }\n",
       "</style>\n",
       "<table border=\"1\" class=\"dataframe\">\n",
       "  <thead>\n",
       "    <tr style=\"text-align: right;\">\n",
       "      <th></th>\n",
       "      <th>user_id_hash</th>\n",
       "      <th>user_purchase_binary_7_days</th>\n",
       "      <th>user_purchase_binary_14_days</th>\n",
       "      <th>event_count</th>\n",
       "      <th>purchase_count</th>\n",
       "      <th>session_count</th>\n",
       "    </tr>\n",
       "  </thead>\n",
       "  <tbody>\n",
       "    <tr>\n",
       "      <th>0</th>\n",
       "      <td>e1307a8f59cedf193a6b702914071b354618743ff55f52...</td>\n",
       "      <td>False</td>\n",
       "      <td>False</td>\n",
       "      <td>245</td>\n",
       "      <td>0</td>\n",
       "      <td>12</td>\n",
       "    </tr>\n",
       "    <tr>\n",
       "      <th>1</th>\n",
       "      <td>a3fd9faf3fe536411c656fa4286e1f2830f6ab88a7c2bb...</td>\n",
       "      <td>False</td>\n",
       "      <td>False</td>\n",
       "      <td>5</td>\n",
       "      <td>0</td>\n",
       "      <td>2</td>\n",
       "    </tr>\n",
       "    <tr>\n",
       "      <th>2</th>\n",
       "      <td>57fb27e539c679bb5ce5f8a0d975186008c42030061024...</td>\n",
       "      <td>False</td>\n",
       "      <td>False</td>\n",
       "      <td>21</td>\n",
       "      <td>0</td>\n",
       "      <td>1</td>\n",
       "    </tr>\n",
       "    <tr>\n",
       "      <th>3</th>\n",
       "      <td>6c75912a77f358dea7b4cc146931017e5f7aec1d948ed9...</td>\n",
       "      <td>False</td>\n",
       "      <td>False</td>\n",
       "      <td>56</td>\n",
       "      <td>0</td>\n",
       "      <td>1</td>\n",
       "    </tr>\n",
       "    <tr>\n",
       "      <th>4</th>\n",
       "      <td>9f8bba6071e8d0f8ecb775c1a5ece35d5f6134e4870198...</td>\n",
       "      <td>False</td>\n",
       "      <td>False</td>\n",
       "      <td>14</td>\n",
       "      <td>0</td>\n",
       "      <td>1</td>\n",
       "    </tr>\n",
       "  </tbody>\n",
       "</table>\n",
       "</div>"
      ],
      "text/plain": [
       "                                        user_id_hash  \\\n",
       "0  e1307a8f59cedf193a6b702914071b354618743ff55f52...   \n",
       "1  a3fd9faf3fe536411c656fa4286e1f2830f6ab88a7c2bb...   \n",
       "2  57fb27e539c679bb5ce5f8a0d975186008c42030061024...   \n",
       "3  6c75912a77f358dea7b4cc146931017e5f7aec1d948ed9...   \n",
       "4  9f8bba6071e8d0f8ecb775c1a5ece35d5f6134e4870198...   \n",
       "\n",
       "   user_purchase_binary_7_days  user_purchase_binary_14_days  event_count  \\\n",
       "0                        False                         False          245   \n",
       "1                        False                         False            5   \n",
       "2                        False                         False           21   \n",
       "3                        False                         False           56   \n",
       "4                        False                         False           14   \n",
       "\n",
       "   purchase_count  session_count  \n",
       "0               0             12  \n",
       "1               0              2  \n",
       "2               0              1  \n",
       "3               0              1  \n",
       "4               0              1  "
      ]
     },
     "execution_count": 29,
     "metadata": {},
     "output_type": "execute_result"
    }
   ],
   "source": [
    "training.head()"
   ]
  },
  {
   "cell_type": "markdown",
   "metadata": {},
   "source": [
    "#### Feature 4\n",
    "Which country does this user from?"
   ]
  },
  {
   "cell_type": "code",
   "execution_count": 32,
   "metadata": {},
   "outputs": [],
   "source": [
    "country = session_training.loc[:, ['user_id_hash', 'country']].groupby('user_id_hash').\\\n",
    "first().reset_index()\n",
    "training = training.join(country.set_index('user_id_hash'), on = 'user_id_hash')"
   ]
  },
  {
   "cell_type": "code",
   "execution_count": 33,
   "metadata": {},
   "outputs": [
    {
     "data": {
      "text/html": [
       "<div>\n",
       "<style scoped>\n",
       "    .dataframe tbody tr th:only-of-type {\n",
       "        vertical-align: middle;\n",
       "    }\n",
       "\n",
       "    .dataframe tbody tr th {\n",
       "        vertical-align: top;\n",
       "    }\n",
       "\n",
       "    .dataframe thead th {\n",
       "        text-align: right;\n",
       "    }\n",
       "</style>\n",
       "<table border=\"1\" class=\"dataframe\">\n",
       "  <thead>\n",
       "    <tr style=\"text-align: right;\">\n",
       "      <th></th>\n",
       "      <th>user_id_hash</th>\n",
       "      <th>user_purchase_binary_7_days</th>\n",
       "      <th>user_purchase_binary_14_days</th>\n",
       "      <th>event_count</th>\n",
       "      <th>purchase_count</th>\n",
       "      <th>session_count</th>\n",
       "      <th>country</th>\n",
       "    </tr>\n",
       "  </thead>\n",
       "  <tbody>\n",
       "    <tr>\n",
       "      <th>0</th>\n",
       "      <td>e1307a8f59cedf193a6b702914071b354618743ff55f52...</td>\n",
       "      <td>False</td>\n",
       "      <td>False</td>\n",
       "      <td>245</td>\n",
       "      <td>0</td>\n",
       "      <td>12</td>\n",
       "      <td>US</td>\n",
       "    </tr>\n",
       "    <tr>\n",
       "      <th>1</th>\n",
       "      <td>a3fd9faf3fe536411c656fa4286e1f2830f6ab88a7c2bb...</td>\n",
       "      <td>False</td>\n",
       "      <td>False</td>\n",
       "      <td>5</td>\n",
       "      <td>0</td>\n",
       "      <td>2</td>\n",
       "      <td>US</td>\n",
       "    </tr>\n",
       "    <tr>\n",
       "      <th>2</th>\n",
       "      <td>57fb27e539c679bb5ce5f8a0d975186008c42030061024...</td>\n",
       "      <td>False</td>\n",
       "      <td>False</td>\n",
       "      <td>21</td>\n",
       "      <td>0</td>\n",
       "      <td>1</td>\n",
       "      <td>US</td>\n",
       "    </tr>\n",
       "    <tr>\n",
       "      <th>3</th>\n",
       "      <td>6c75912a77f358dea7b4cc146931017e5f7aec1d948ed9...</td>\n",
       "      <td>False</td>\n",
       "      <td>False</td>\n",
       "      <td>56</td>\n",
       "      <td>0</td>\n",
       "      <td>1</td>\n",
       "      <td>US</td>\n",
       "    </tr>\n",
       "    <tr>\n",
       "      <th>4</th>\n",
       "      <td>9f8bba6071e8d0f8ecb775c1a5ece35d5f6134e4870198...</td>\n",
       "      <td>False</td>\n",
       "      <td>False</td>\n",
       "      <td>14</td>\n",
       "      <td>0</td>\n",
       "      <td>1</td>\n",
       "      <td>US</td>\n",
       "    </tr>\n",
       "  </tbody>\n",
       "</table>\n",
       "</div>"
      ],
      "text/plain": [
       "                                        user_id_hash  \\\n",
       "0  e1307a8f59cedf193a6b702914071b354618743ff55f52...   \n",
       "1  a3fd9faf3fe536411c656fa4286e1f2830f6ab88a7c2bb...   \n",
       "2  57fb27e539c679bb5ce5f8a0d975186008c42030061024...   \n",
       "3  6c75912a77f358dea7b4cc146931017e5f7aec1d948ed9...   \n",
       "4  9f8bba6071e8d0f8ecb775c1a5ece35d5f6134e4870198...   \n",
       "\n",
       "   user_purchase_binary_7_days  user_purchase_binary_14_days  event_count  \\\n",
       "0                        False                         False          245   \n",
       "1                        False                         False            5   \n",
       "2                        False                         False           21   \n",
       "3                        False                         False           56   \n",
       "4                        False                         False           14   \n",
       "\n",
       "   purchase_count  session_count country  \n",
       "0               0             12      US  \n",
       "1               0              2      US  \n",
       "2               0              1      US  \n",
       "3               0              1      US  \n",
       "4               0              1      US  "
      ]
     },
     "execution_count": 33,
     "metadata": {},
     "output_type": "execute_result"
    }
   ],
   "source": [
    "training.head()"
   ]
  },
  {
   "cell_type": "markdown",
   "metadata": {},
   "source": [
    "#### Feature 5\n",
    "Which OS does this user use?"
   ]
  },
  {
   "cell_type": "code",
   "execution_count": 34,
   "metadata": {},
   "outputs": [],
   "source": [
    "os = session_training.loc[:, ['user_id_hash', 'os_name']].groupby('user_id_hash').\\\n",
    "first().reset_index()\n",
    "training = training.join(os.set_index('user_id_hash'), on = 'user_id_hash')"
   ]
  },
  {
   "cell_type": "code",
   "execution_count": 35,
   "metadata": {},
   "outputs": [
    {
     "data": {
      "text/html": [
       "<div>\n",
       "<style scoped>\n",
       "    .dataframe tbody tr th:only-of-type {\n",
       "        vertical-align: middle;\n",
       "    }\n",
       "\n",
       "    .dataframe tbody tr th {\n",
       "        vertical-align: top;\n",
       "    }\n",
       "\n",
       "    .dataframe thead th {\n",
       "        text-align: right;\n",
       "    }\n",
       "</style>\n",
       "<table border=\"1\" class=\"dataframe\">\n",
       "  <thead>\n",
       "    <tr style=\"text-align: right;\">\n",
       "      <th></th>\n",
       "      <th>user_id_hash</th>\n",
       "      <th>user_purchase_binary_7_days</th>\n",
       "      <th>user_purchase_binary_14_days</th>\n",
       "      <th>event_count</th>\n",
       "      <th>purchase_count</th>\n",
       "      <th>session_count</th>\n",
       "      <th>country</th>\n",
       "      <th>os_name</th>\n",
       "    </tr>\n",
       "  </thead>\n",
       "  <tbody>\n",
       "    <tr>\n",
       "      <th>0</th>\n",
       "      <td>e1307a8f59cedf193a6b702914071b354618743ff55f52...</td>\n",
       "      <td>False</td>\n",
       "      <td>False</td>\n",
       "      <td>245</td>\n",
       "      <td>0</td>\n",
       "      <td>12</td>\n",
       "      <td>US</td>\n",
       "      <td>Android OS</td>\n",
       "    </tr>\n",
       "    <tr>\n",
       "      <th>1</th>\n",
       "      <td>a3fd9faf3fe536411c656fa4286e1f2830f6ab88a7c2bb...</td>\n",
       "      <td>False</td>\n",
       "      <td>False</td>\n",
       "      <td>5</td>\n",
       "      <td>0</td>\n",
       "      <td>2</td>\n",
       "      <td>US</td>\n",
       "      <td>iOS</td>\n",
       "    </tr>\n",
       "    <tr>\n",
       "      <th>2</th>\n",
       "      <td>57fb27e539c679bb5ce5f8a0d975186008c42030061024...</td>\n",
       "      <td>False</td>\n",
       "      <td>False</td>\n",
       "      <td>21</td>\n",
       "      <td>0</td>\n",
       "      <td>1</td>\n",
       "      <td>US</td>\n",
       "      <td>Android OS</td>\n",
       "    </tr>\n",
       "    <tr>\n",
       "      <th>3</th>\n",
       "      <td>6c75912a77f358dea7b4cc146931017e5f7aec1d948ed9...</td>\n",
       "      <td>False</td>\n",
       "      <td>False</td>\n",
       "      <td>56</td>\n",
       "      <td>0</td>\n",
       "      <td>1</td>\n",
       "      <td>US</td>\n",
       "      <td>Android OS</td>\n",
       "    </tr>\n",
       "    <tr>\n",
       "      <th>4</th>\n",
       "      <td>9f8bba6071e8d0f8ecb775c1a5ece35d5f6134e4870198...</td>\n",
       "      <td>False</td>\n",
       "      <td>False</td>\n",
       "      <td>14</td>\n",
       "      <td>0</td>\n",
       "      <td>1</td>\n",
       "      <td>US</td>\n",
       "      <td>Android OS</td>\n",
       "    </tr>\n",
       "  </tbody>\n",
       "</table>\n",
       "</div>"
      ],
      "text/plain": [
       "                                        user_id_hash  \\\n",
       "0  e1307a8f59cedf193a6b702914071b354618743ff55f52...   \n",
       "1  a3fd9faf3fe536411c656fa4286e1f2830f6ab88a7c2bb...   \n",
       "2  57fb27e539c679bb5ce5f8a0d975186008c42030061024...   \n",
       "3  6c75912a77f358dea7b4cc146931017e5f7aec1d948ed9...   \n",
       "4  9f8bba6071e8d0f8ecb775c1a5ece35d5f6134e4870198...   \n",
       "\n",
       "   user_purchase_binary_7_days  user_purchase_binary_14_days  event_count  \\\n",
       "0                        False                         False          245   \n",
       "1                        False                         False            5   \n",
       "2                        False                         False           21   \n",
       "3                        False                         False           56   \n",
       "4                        False                         False           14   \n",
       "\n",
       "   purchase_count  session_count country     os_name  \n",
       "0               0             12      US  Android OS  \n",
       "1               0              2      US         iOS  \n",
       "2               0              1      US  Android OS  \n",
       "3               0              1      US  Android OS  \n",
       "4               0              1      US  Android OS  "
      ]
     },
     "execution_count": 35,
     "metadata": {},
     "output_type": "execute_result"
    }
   ],
   "source": [
    "training.head()"
   ]
  },
  {
   "cell_type": "markdown",
   "metadata": {},
   "source": [
    "#### Feature 6\n",
    "How long the user spend on each session, on average."
   ]
  },
  {
   "cell_type": "code",
   "execution_count": 36,
   "metadata": {},
   "outputs": [],
   "source": [
    "duration = session_training.loc[:, ['user_id_hash', 'previous_sessions_duration']].groupby('user_id_hash').\\\n",
    "mean().reset_index().rename(columns={'previous_sessions_duration':'mean_sessions_duration'})\n",
    "training = training.join(duration.set_index('user_id_hash'), on = 'user_id_hash')"
   ]
  },
  {
   "cell_type": "code",
   "execution_count": 37,
   "metadata": {},
   "outputs": [
    {
     "data": {
      "text/html": [
       "<div>\n",
       "<style scoped>\n",
       "    .dataframe tbody tr th:only-of-type {\n",
       "        vertical-align: middle;\n",
       "    }\n",
       "\n",
       "    .dataframe tbody tr th {\n",
       "        vertical-align: top;\n",
       "    }\n",
       "\n",
       "    .dataframe thead th {\n",
       "        text-align: right;\n",
       "    }\n",
       "</style>\n",
       "<table border=\"1\" class=\"dataframe\">\n",
       "  <thead>\n",
       "    <tr style=\"text-align: right;\">\n",
       "      <th></th>\n",
       "      <th>user_id_hash</th>\n",
       "      <th>user_purchase_binary_7_days</th>\n",
       "      <th>user_purchase_binary_14_days</th>\n",
       "      <th>event_count</th>\n",
       "      <th>purchase_count</th>\n",
       "      <th>session_count</th>\n",
       "      <th>country</th>\n",
       "      <th>os_name</th>\n",
       "      <th>mean_sessions_duration</th>\n",
       "    </tr>\n",
       "  </thead>\n",
       "  <tbody>\n",
       "    <tr>\n",
       "      <th>0</th>\n",
       "      <td>e1307a8f59cedf193a6b702914071b354618743ff55f52...</td>\n",
       "      <td>False</td>\n",
       "      <td>False</td>\n",
       "      <td>245</td>\n",
       "      <td>0</td>\n",
       "      <td>12</td>\n",
       "      <td>US</td>\n",
       "      <td>Android OS</td>\n",
       "      <td>7357318.5</td>\n",
       "    </tr>\n",
       "    <tr>\n",
       "      <th>1</th>\n",
       "      <td>a3fd9faf3fe536411c656fa4286e1f2830f6ab88a7c2bb...</td>\n",
       "      <td>False</td>\n",
       "      <td>False</td>\n",
       "      <td>5</td>\n",
       "      <td>0</td>\n",
       "      <td>2</td>\n",
       "      <td>US</td>\n",
       "      <td>iOS</td>\n",
       "      <td>24242.5</td>\n",
       "    </tr>\n",
       "    <tr>\n",
       "      <th>2</th>\n",
       "      <td>57fb27e539c679bb5ce5f8a0d975186008c42030061024...</td>\n",
       "      <td>False</td>\n",
       "      <td>False</td>\n",
       "      <td>21</td>\n",
       "      <td>0</td>\n",
       "      <td>1</td>\n",
       "      <td>US</td>\n",
       "      <td>Android OS</td>\n",
       "      <td>0.0</td>\n",
       "    </tr>\n",
       "    <tr>\n",
       "      <th>3</th>\n",
       "      <td>6c75912a77f358dea7b4cc146931017e5f7aec1d948ed9...</td>\n",
       "      <td>False</td>\n",
       "      <td>False</td>\n",
       "      <td>56</td>\n",
       "      <td>0</td>\n",
       "      <td>1</td>\n",
       "      <td>US</td>\n",
       "      <td>Android OS</td>\n",
       "      <td>0.0</td>\n",
       "    </tr>\n",
       "    <tr>\n",
       "      <th>4</th>\n",
       "      <td>9f8bba6071e8d0f8ecb775c1a5ece35d5f6134e4870198...</td>\n",
       "      <td>False</td>\n",
       "      <td>False</td>\n",
       "      <td>14</td>\n",
       "      <td>0</td>\n",
       "      <td>1</td>\n",
       "      <td>US</td>\n",
       "      <td>Android OS</td>\n",
       "      <td>0.0</td>\n",
       "    </tr>\n",
       "  </tbody>\n",
       "</table>\n",
       "</div>"
      ],
      "text/plain": [
       "                                        user_id_hash  \\\n",
       "0  e1307a8f59cedf193a6b702914071b354618743ff55f52...   \n",
       "1  a3fd9faf3fe536411c656fa4286e1f2830f6ab88a7c2bb...   \n",
       "2  57fb27e539c679bb5ce5f8a0d975186008c42030061024...   \n",
       "3  6c75912a77f358dea7b4cc146931017e5f7aec1d948ed9...   \n",
       "4  9f8bba6071e8d0f8ecb775c1a5ece35d5f6134e4870198...   \n",
       "\n",
       "   user_purchase_binary_7_days  user_purchase_binary_14_days  event_count  \\\n",
       "0                        False                         False          245   \n",
       "1                        False                         False            5   \n",
       "2                        False                         False           21   \n",
       "3                        False                         False           56   \n",
       "4                        False                         False           14   \n",
       "\n",
       "   purchase_count  session_count country     os_name  mean_sessions_duration  \n",
       "0               0             12      US  Android OS               7357318.5  \n",
       "1               0              2      US         iOS                 24242.5  \n",
       "2               0              1      US  Android OS                     0.0  \n",
       "3               0              1      US  Android OS                     0.0  \n",
       "4               0              1      US  Android OS                     0.0  "
      ]
     },
     "execution_count": 37,
     "metadata": {},
     "output_type": "execute_result"
    }
   ],
   "source": [
    "training.head()"
   ]
  },
  {
   "cell_type": "markdown",
   "metadata": {},
   "source": [
    "#### Feature 7\n",
    "How much the user spent on the app before?"
   ]
  },
  {
   "cell_type": "code",
   "execution_count": 38,
   "metadata": {},
   "outputs": [],
   "source": [
    "spend = events_training[events_training.event=='8'].loc[:, ['user_id_hash', 'event_value']].groupby('user_id_hash').\\\n",
    "sum().reset_index().rename(columns={'event_value':'spend'})\n",
    "training = training.join(spend.set_index('user_id_hash'), on = 'user_id_hash')"
   ]
  },
  {
   "cell_type": "code",
   "execution_count": 39,
   "metadata": {},
   "outputs": [
    {
     "data": {
      "text/html": [
       "<div>\n",
       "<style scoped>\n",
       "    .dataframe tbody tr th:only-of-type {\n",
       "        vertical-align: middle;\n",
       "    }\n",
       "\n",
       "    .dataframe tbody tr th {\n",
       "        vertical-align: top;\n",
       "    }\n",
       "\n",
       "    .dataframe thead th {\n",
       "        text-align: right;\n",
       "    }\n",
       "</style>\n",
       "<table border=\"1\" class=\"dataframe\">\n",
       "  <thead>\n",
       "    <tr style=\"text-align: right;\">\n",
       "      <th></th>\n",
       "      <th>user_id_hash</th>\n",
       "      <th>user_purchase_binary_7_days</th>\n",
       "      <th>user_purchase_binary_14_days</th>\n",
       "      <th>event_count</th>\n",
       "      <th>purchase_count</th>\n",
       "      <th>session_count</th>\n",
       "      <th>country</th>\n",
       "      <th>os_name</th>\n",
       "      <th>mean_sessions_duration</th>\n",
       "      <th>spend</th>\n",
       "    </tr>\n",
       "  </thead>\n",
       "  <tbody>\n",
       "    <tr>\n",
       "      <th>0</th>\n",
       "      <td>e1307a8f59cedf193a6b702914071b354618743ff55f52...</td>\n",
       "      <td>False</td>\n",
       "      <td>False</td>\n",
       "      <td>245</td>\n",
       "      <td>0</td>\n",
       "      <td>12</td>\n",
       "      <td>US</td>\n",
       "      <td>Android OS</td>\n",
       "      <td>7357318.5</td>\n",
       "      <td>0.0</td>\n",
       "    </tr>\n",
       "    <tr>\n",
       "      <th>1</th>\n",
       "      <td>a3fd9faf3fe536411c656fa4286e1f2830f6ab88a7c2bb...</td>\n",
       "      <td>False</td>\n",
       "      <td>False</td>\n",
       "      <td>5</td>\n",
       "      <td>0</td>\n",
       "      <td>2</td>\n",
       "      <td>US</td>\n",
       "      <td>iOS</td>\n",
       "      <td>24242.5</td>\n",
       "      <td>0.0</td>\n",
       "    </tr>\n",
       "    <tr>\n",
       "      <th>2</th>\n",
       "      <td>57fb27e539c679bb5ce5f8a0d975186008c42030061024...</td>\n",
       "      <td>False</td>\n",
       "      <td>False</td>\n",
       "      <td>21</td>\n",
       "      <td>0</td>\n",
       "      <td>1</td>\n",
       "      <td>US</td>\n",
       "      <td>Android OS</td>\n",
       "      <td>0.0</td>\n",
       "      <td>0.0</td>\n",
       "    </tr>\n",
       "    <tr>\n",
       "      <th>3</th>\n",
       "      <td>6c75912a77f358dea7b4cc146931017e5f7aec1d948ed9...</td>\n",
       "      <td>False</td>\n",
       "      <td>False</td>\n",
       "      <td>56</td>\n",
       "      <td>0</td>\n",
       "      <td>1</td>\n",
       "      <td>US</td>\n",
       "      <td>Android OS</td>\n",
       "      <td>0.0</td>\n",
       "      <td>0.0</td>\n",
       "    </tr>\n",
       "    <tr>\n",
       "      <th>4</th>\n",
       "      <td>9f8bba6071e8d0f8ecb775c1a5ece35d5f6134e4870198...</td>\n",
       "      <td>False</td>\n",
       "      <td>False</td>\n",
       "      <td>14</td>\n",
       "      <td>0</td>\n",
       "      <td>1</td>\n",
       "      <td>US</td>\n",
       "      <td>Android OS</td>\n",
       "      <td>0.0</td>\n",
       "      <td>0.0</td>\n",
       "    </tr>\n",
       "  </tbody>\n",
       "</table>\n",
       "</div>"
      ],
      "text/plain": [
       "                                        user_id_hash  \\\n",
       "0  e1307a8f59cedf193a6b702914071b354618743ff55f52...   \n",
       "1  a3fd9faf3fe536411c656fa4286e1f2830f6ab88a7c2bb...   \n",
       "2  57fb27e539c679bb5ce5f8a0d975186008c42030061024...   \n",
       "3  6c75912a77f358dea7b4cc146931017e5f7aec1d948ed9...   \n",
       "4  9f8bba6071e8d0f8ecb775c1a5ece35d5f6134e4870198...   \n",
       "\n",
       "   user_purchase_binary_7_days  user_purchase_binary_14_days  event_count  \\\n",
       "0                        False                         False          245   \n",
       "1                        False                         False            5   \n",
       "2                        False                         False           21   \n",
       "3                        False                         False           56   \n",
       "4                        False                         False           14   \n",
       "\n",
       "   purchase_count  session_count country     os_name  mean_sessions_duration  \\\n",
       "0               0             12      US  Android OS               7357318.5   \n",
       "1               0              2      US         iOS                 24242.5   \n",
       "2               0              1      US  Android OS                     0.0   \n",
       "3               0              1      US  Android OS                     0.0   \n",
       "4               0              1      US  Android OS                     0.0   \n",
       "\n",
       "   spend  \n",
       "0    0.0  \n",
       "1    0.0  \n",
       "2    0.0  \n",
       "3    0.0  \n",
       "4    0.0  "
      ]
     },
     "execution_count": 39,
     "metadata": {},
     "output_type": "execute_result"
    }
   ],
   "source": [
    "training.head()"
   ]
  },
  {
   "cell_type": "markdown",
   "metadata": {},
   "source": [
    "#### Feature 8\n",
    "How long since the last time this user has an event?"
   ]
  },
  {
   "cell_type": "code",
   "execution_count": 40,
   "metadata": {},
   "outputs": [],
   "source": [
    "event_gap = events_training.loc[:, ['user_id_hash', 'event_timestamp']].groupby('user_id_hash').\\\n",
    "max().reset_index().rename(columns={'event_timestamp':'event_gap'})\n",
    "event_gap['event_gap'] = 1543622399000 - event_gap['event_gap'] \n",
    "training = training.join(event_gap.set_index('user_id_hash'), on = 'user_id_hash')"
   ]
  },
  {
   "cell_type": "code",
   "execution_count": 41,
   "metadata": {},
   "outputs": [
    {
     "data": {
      "text/html": [
       "<div>\n",
       "<style scoped>\n",
       "    .dataframe tbody tr th:only-of-type {\n",
       "        vertical-align: middle;\n",
       "    }\n",
       "\n",
       "    .dataframe tbody tr th {\n",
       "        vertical-align: top;\n",
       "    }\n",
       "\n",
       "    .dataframe thead th {\n",
       "        text-align: right;\n",
       "    }\n",
       "</style>\n",
       "<table border=\"1\" class=\"dataframe\">\n",
       "  <thead>\n",
       "    <tr style=\"text-align: right;\">\n",
       "      <th></th>\n",
       "      <th>user_id_hash</th>\n",
       "      <th>user_purchase_binary_7_days</th>\n",
       "      <th>user_purchase_binary_14_days</th>\n",
       "      <th>event_count</th>\n",
       "      <th>purchase_count</th>\n",
       "      <th>session_count</th>\n",
       "      <th>country</th>\n",
       "      <th>os_name</th>\n",
       "      <th>mean_sessions_duration</th>\n",
       "      <th>spend</th>\n",
       "      <th>event_gap</th>\n",
       "    </tr>\n",
       "  </thead>\n",
       "  <tbody>\n",
       "    <tr>\n",
       "      <th>0</th>\n",
       "      <td>e1307a8f59cedf193a6b702914071b354618743ff55f52...</td>\n",
       "      <td>False</td>\n",
       "      <td>False</td>\n",
       "      <td>245</td>\n",
       "      <td>0</td>\n",
       "      <td>12</td>\n",
       "      <td>US</td>\n",
       "      <td>Android OS</td>\n",
       "      <td>7357318.5</td>\n",
       "      <td>0.0</td>\n",
       "      <td>6.569008e+08</td>\n",
       "    </tr>\n",
       "    <tr>\n",
       "      <th>1</th>\n",
       "      <td>a3fd9faf3fe536411c656fa4286e1f2830f6ab88a7c2bb...</td>\n",
       "      <td>False</td>\n",
       "      <td>False</td>\n",
       "      <td>5</td>\n",
       "      <td>0</td>\n",
       "      <td>2</td>\n",
       "      <td>US</td>\n",
       "      <td>iOS</td>\n",
       "      <td>24242.5</td>\n",
       "      <td>0.0</td>\n",
       "      <td>2.199818e+09</td>\n",
       "    </tr>\n",
       "    <tr>\n",
       "      <th>2</th>\n",
       "      <td>57fb27e539c679bb5ce5f8a0d975186008c42030061024...</td>\n",
       "      <td>False</td>\n",
       "      <td>False</td>\n",
       "      <td>21</td>\n",
       "      <td>0</td>\n",
       "      <td>1</td>\n",
       "      <td>US</td>\n",
       "      <td>Android OS</td>\n",
       "      <td>0.0</td>\n",
       "      <td>0.0</td>\n",
       "      <td>4.634942e+09</td>\n",
       "    </tr>\n",
       "    <tr>\n",
       "      <th>3</th>\n",
       "      <td>6c75912a77f358dea7b4cc146931017e5f7aec1d948ed9...</td>\n",
       "      <td>False</td>\n",
       "      <td>False</td>\n",
       "      <td>56</td>\n",
       "      <td>0</td>\n",
       "      <td>1</td>\n",
       "      <td>US</td>\n",
       "      <td>Android OS</td>\n",
       "      <td>0.0</td>\n",
       "      <td>0.0</td>\n",
       "      <td>4.635559e+09</td>\n",
       "    </tr>\n",
       "    <tr>\n",
       "      <th>4</th>\n",
       "      <td>9f8bba6071e8d0f8ecb775c1a5ece35d5f6134e4870198...</td>\n",
       "      <td>False</td>\n",
       "      <td>False</td>\n",
       "      <td>14</td>\n",
       "      <td>0</td>\n",
       "      <td>1</td>\n",
       "      <td>US</td>\n",
       "      <td>Android OS</td>\n",
       "      <td>0.0</td>\n",
       "      <td>0.0</td>\n",
       "      <td>4.035576e+09</td>\n",
       "    </tr>\n",
       "  </tbody>\n",
       "</table>\n",
       "</div>"
      ],
      "text/plain": [
       "                                        user_id_hash  \\\n",
       "0  e1307a8f59cedf193a6b702914071b354618743ff55f52...   \n",
       "1  a3fd9faf3fe536411c656fa4286e1f2830f6ab88a7c2bb...   \n",
       "2  57fb27e539c679bb5ce5f8a0d975186008c42030061024...   \n",
       "3  6c75912a77f358dea7b4cc146931017e5f7aec1d948ed9...   \n",
       "4  9f8bba6071e8d0f8ecb775c1a5ece35d5f6134e4870198...   \n",
       "\n",
       "   user_purchase_binary_7_days  user_purchase_binary_14_days  event_count  \\\n",
       "0                        False                         False          245   \n",
       "1                        False                         False            5   \n",
       "2                        False                         False           21   \n",
       "3                        False                         False           56   \n",
       "4                        False                         False           14   \n",
       "\n",
       "   purchase_count  session_count country     os_name  mean_sessions_duration  \\\n",
       "0               0             12      US  Android OS               7357318.5   \n",
       "1               0              2      US         iOS                 24242.5   \n",
       "2               0              1      US  Android OS                     0.0   \n",
       "3               0              1      US  Android OS                     0.0   \n",
       "4               0              1      US  Android OS                     0.0   \n",
       "\n",
       "   spend     event_gap  \n",
       "0    0.0  6.569008e+08  \n",
       "1    0.0  2.199818e+09  \n",
       "2    0.0  4.634942e+09  \n",
       "3    0.0  4.635559e+09  \n",
       "4    0.0  4.035576e+09  "
      ]
     },
     "execution_count": 41,
     "metadata": {},
     "output_type": "execute_result"
    }
   ],
   "source": [
    "training.head()"
   ]
  },
  {
   "cell_type": "markdown",
   "metadata": {},
   "source": [
    "#### Feature 9\n",
    "How long since the last time this user has a session?"
   ]
  },
  {
   "cell_type": "code",
   "execution_count": 42,
   "metadata": {},
   "outputs": [],
   "source": [
    "session_gap = session_training.loc[:, ['user_id_hash', 'start_timestamp']].groupby('user_id_hash').\\\n",
    "max().reset_index().rename(columns={'start_timestamp':'session_gap'})\n",
    "session_gap['session_gap'] = 1543622399000 - session_gap['session_gap'] \n",
    "training = training.join(session_gap.set_index('user_id_hash'), on = 'user_id_hash')"
   ]
  },
  {
   "cell_type": "code",
   "execution_count": 43,
   "metadata": {},
   "outputs": [
    {
     "data": {
      "text/html": [
       "<div>\n",
       "<style scoped>\n",
       "    .dataframe tbody tr th:only-of-type {\n",
       "        vertical-align: middle;\n",
       "    }\n",
       "\n",
       "    .dataframe tbody tr th {\n",
       "        vertical-align: top;\n",
       "    }\n",
       "\n",
       "    .dataframe thead th {\n",
       "        text-align: right;\n",
       "    }\n",
       "</style>\n",
       "<table border=\"1\" class=\"dataframe\">\n",
       "  <thead>\n",
       "    <tr style=\"text-align: right;\">\n",
       "      <th></th>\n",
       "      <th>user_id_hash</th>\n",
       "      <th>user_purchase_binary_7_days</th>\n",
       "      <th>user_purchase_binary_14_days</th>\n",
       "      <th>event_count</th>\n",
       "      <th>purchase_count</th>\n",
       "      <th>session_count</th>\n",
       "      <th>country</th>\n",
       "      <th>os_name</th>\n",
       "      <th>mean_sessions_duration</th>\n",
       "      <th>spend</th>\n",
       "      <th>event_gap</th>\n",
       "      <th>session_gap</th>\n",
       "    </tr>\n",
       "  </thead>\n",
       "  <tbody>\n",
       "    <tr>\n",
       "      <th>0</th>\n",
       "      <td>e1307a8f59cedf193a6b702914071b354618743ff55f52...</td>\n",
       "      <td>False</td>\n",
       "      <td>False</td>\n",
       "      <td>245</td>\n",
       "      <td>0</td>\n",
       "      <td>12</td>\n",
       "      <td>US</td>\n",
       "      <td>Android OS</td>\n",
       "      <td>7357318.5</td>\n",
       "      <td>0.0</td>\n",
       "      <td>6.569008e+08</td>\n",
       "      <td>1.069276e+09</td>\n",
       "    </tr>\n",
       "    <tr>\n",
       "      <th>1</th>\n",
       "      <td>a3fd9faf3fe536411c656fa4286e1f2830f6ab88a7c2bb...</td>\n",
       "      <td>False</td>\n",
       "      <td>False</td>\n",
       "      <td>5</td>\n",
       "      <td>0</td>\n",
       "      <td>2</td>\n",
       "      <td>US</td>\n",
       "      <td>iOS</td>\n",
       "      <td>24242.5</td>\n",
       "      <td>0.0</td>\n",
       "      <td>2.199818e+09</td>\n",
       "      <td>2.199793e+09</td>\n",
       "    </tr>\n",
       "    <tr>\n",
       "      <th>2</th>\n",
       "      <td>57fb27e539c679bb5ce5f8a0d975186008c42030061024...</td>\n",
       "      <td>False</td>\n",
       "      <td>False</td>\n",
       "      <td>21</td>\n",
       "      <td>0</td>\n",
       "      <td>1</td>\n",
       "      <td>US</td>\n",
       "      <td>Android OS</td>\n",
       "      <td>0.0</td>\n",
       "      <td>0.0</td>\n",
       "      <td>4.634942e+09</td>\n",
       "      <td>4.744687e+09</td>\n",
       "    </tr>\n",
       "    <tr>\n",
       "      <th>3</th>\n",
       "      <td>6c75912a77f358dea7b4cc146931017e5f7aec1d948ed9...</td>\n",
       "      <td>False</td>\n",
       "      <td>False</td>\n",
       "      <td>56</td>\n",
       "      <td>0</td>\n",
       "      <td>1</td>\n",
       "      <td>US</td>\n",
       "      <td>Android OS</td>\n",
       "      <td>0.0</td>\n",
       "      <td>0.0</td>\n",
       "      <td>4.635559e+09</td>\n",
       "      <td>4.680517e+09</td>\n",
       "    </tr>\n",
       "    <tr>\n",
       "      <th>4</th>\n",
       "      <td>9f8bba6071e8d0f8ecb775c1a5ece35d5f6134e4870198...</td>\n",
       "      <td>False</td>\n",
       "      <td>False</td>\n",
       "      <td>14</td>\n",
       "      <td>0</td>\n",
       "      <td>1</td>\n",
       "      <td>US</td>\n",
       "      <td>Android OS</td>\n",
       "      <td>0.0</td>\n",
       "      <td>0.0</td>\n",
       "      <td>4.035576e+09</td>\n",
       "      <td>4.135682e+09</td>\n",
       "    </tr>\n",
       "  </tbody>\n",
       "</table>\n",
       "</div>"
      ],
      "text/plain": [
       "                                        user_id_hash  \\\n",
       "0  e1307a8f59cedf193a6b702914071b354618743ff55f52...   \n",
       "1  a3fd9faf3fe536411c656fa4286e1f2830f6ab88a7c2bb...   \n",
       "2  57fb27e539c679bb5ce5f8a0d975186008c42030061024...   \n",
       "3  6c75912a77f358dea7b4cc146931017e5f7aec1d948ed9...   \n",
       "4  9f8bba6071e8d0f8ecb775c1a5ece35d5f6134e4870198...   \n",
       "\n",
       "   user_purchase_binary_7_days  user_purchase_binary_14_days  event_count  \\\n",
       "0                        False                         False          245   \n",
       "1                        False                         False            5   \n",
       "2                        False                         False           21   \n",
       "3                        False                         False           56   \n",
       "4                        False                         False           14   \n",
       "\n",
       "   purchase_count  session_count country     os_name  mean_sessions_duration  \\\n",
       "0               0             12      US  Android OS               7357318.5   \n",
       "1               0              2      US         iOS                 24242.5   \n",
       "2               0              1      US  Android OS                     0.0   \n",
       "3               0              1      US  Android OS                     0.0   \n",
       "4               0              1      US  Android OS                     0.0   \n",
       "\n",
       "   spend     event_gap   session_gap  \n",
       "0    0.0  6.569008e+08  1.069276e+09  \n",
       "1    0.0  2.199818e+09  2.199793e+09  \n",
       "2    0.0  4.634942e+09  4.744687e+09  \n",
       "3    0.0  4.635559e+09  4.680517e+09  \n",
       "4    0.0  4.035576e+09  4.135682e+09  "
      ]
     },
     "execution_count": 43,
     "metadata": {},
     "output_type": "execute_result"
    }
   ],
   "source": [
    "training.head()"
   ]
  },
  {
   "cell_type": "markdown",
   "metadata": {},
   "source": [
    "#### Feature 10\n",
    "How long since this user started using this app?"
   ]
  },
  {
   "cell_type": "code",
   "execution_count": 44,
   "metadata": {},
   "outputs": [],
   "source": [
    "life_time = session_training.loc[:, ['user_id_hash', 'user_created_timestamp']].groupby('user_id_hash').\\\n",
    "max().reset_index().rename(columns={'user_created_timestamp':'life_time'})\n",
    "life_time['life_time'] = 1543622399000 - life_time['life_time'] \n",
    "training = training.join(life_time.set_index('user_id_hash'), on = 'user_id_hash')"
   ]
  },
  {
   "cell_type": "code",
   "execution_count": 45,
   "metadata": {},
   "outputs": [
    {
     "data": {
      "text/html": [
       "<div>\n",
       "<style scoped>\n",
       "    .dataframe tbody tr th:only-of-type {\n",
       "        vertical-align: middle;\n",
       "    }\n",
       "\n",
       "    .dataframe tbody tr th {\n",
       "        vertical-align: top;\n",
       "    }\n",
       "\n",
       "    .dataframe thead th {\n",
       "        text-align: right;\n",
       "    }\n",
       "</style>\n",
       "<table border=\"1\" class=\"dataframe\">\n",
       "  <thead>\n",
       "    <tr style=\"text-align: right;\">\n",
       "      <th></th>\n",
       "      <th>user_id_hash</th>\n",
       "      <th>user_purchase_binary_7_days</th>\n",
       "      <th>user_purchase_binary_14_days</th>\n",
       "      <th>event_count</th>\n",
       "      <th>purchase_count</th>\n",
       "      <th>session_count</th>\n",
       "      <th>country</th>\n",
       "      <th>os_name</th>\n",
       "      <th>mean_sessions_duration</th>\n",
       "      <th>spend</th>\n",
       "      <th>event_gap</th>\n",
       "      <th>session_gap</th>\n",
       "      <th>life_time</th>\n",
       "    </tr>\n",
       "  </thead>\n",
       "  <tbody>\n",
       "    <tr>\n",
       "      <th>0</th>\n",
       "      <td>e1307a8f59cedf193a6b702914071b354618743ff55f52...</td>\n",
       "      <td>False</td>\n",
       "      <td>False</td>\n",
       "      <td>245</td>\n",
       "      <td>0</td>\n",
       "      <td>12</td>\n",
       "      <td>US</td>\n",
       "      <td>Android OS</td>\n",
       "      <td>7357318.5</td>\n",
       "      <td>0.0</td>\n",
       "      <td>6.569008e+08</td>\n",
       "      <td>1.069276e+09</td>\n",
       "      <td>1.718968e+09</td>\n",
       "    </tr>\n",
       "    <tr>\n",
       "      <th>1</th>\n",
       "      <td>a3fd9faf3fe536411c656fa4286e1f2830f6ab88a7c2bb...</td>\n",
       "      <td>False</td>\n",
       "      <td>False</td>\n",
       "      <td>5</td>\n",
       "      <td>0</td>\n",
       "      <td>2</td>\n",
       "      <td>US</td>\n",
       "      <td>iOS</td>\n",
       "      <td>24242.5</td>\n",
       "      <td>0.0</td>\n",
       "      <td>2.199818e+09</td>\n",
       "      <td>2.199793e+09</td>\n",
       "      <td>2.199844e+09</td>\n",
       "    </tr>\n",
       "    <tr>\n",
       "      <th>2</th>\n",
       "      <td>57fb27e539c679bb5ce5f8a0d975186008c42030061024...</td>\n",
       "      <td>False</td>\n",
       "      <td>False</td>\n",
       "      <td>21</td>\n",
       "      <td>0</td>\n",
       "      <td>1</td>\n",
       "      <td>US</td>\n",
       "      <td>Android OS</td>\n",
       "      <td>0.0</td>\n",
       "      <td>0.0</td>\n",
       "      <td>4.634942e+09</td>\n",
       "      <td>4.744687e+09</td>\n",
       "      <td>4.744687e+09</td>\n",
       "    </tr>\n",
       "    <tr>\n",
       "      <th>3</th>\n",
       "      <td>6c75912a77f358dea7b4cc146931017e5f7aec1d948ed9...</td>\n",
       "      <td>False</td>\n",
       "      <td>False</td>\n",
       "      <td>56</td>\n",
       "      <td>0</td>\n",
       "      <td>1</td>\n",
       "      <td>US</td>\n",
       "      <td>Android OS</td>\n",
       "      <td>0.0</td>\n",
       "      <td>0.0</td>\n",
       "      <td>4.635559e+09</td>\n",
       "      <td>4.680517e+09</td>\n",
       "      <td>4.680517e+09</td>\n",
       "    </tr>\n",
       "    <tr>\n",
       "      <th>4</th>\n",
       "      <td>9f8bba6071e8d0f8ecb775c1a5ece35d5f6134e4870198...</td>\n",
       "      <td>False</td>\n",
       "      <td>False</td>\n",
       "      <td>14</td>\n",
       "      <td>0</td>\n",
       "      <td>1</td>\n",
       "      <td>US</td>\n",
       "      <td>Android OS</td>\n",
       "      <td>0.0</td>\n",
       "      <td>0.0</td>\n",
       "      <td>4.035576e+09</td>\n",
       "      <td>4.135682e+09</td>\n",
       "      <td>4.135684e+09</td>\n",
       "    </tr>\n",
       "  </tbody>\n",
       "</table>\n",
       "</div>"
      ],
      "text/plain": [
       "                                        user_id_hash  \\\n",
       "0  e1307a8f59cedf193a6b702914071b354618743ff55f52...   \n",
       "1  a3fd9faf3fe536411c656fa4286e1f2830f6ab88a7c2bb...   \n",
       "2  57fb27e539c679bb5ce5f8a0d975186008c42030061024...   \n",
       "3  6c75912a77f358dea7b4cc146931017e5f7aec1d948ed9...   \n",
       "4  9f8bba6071e8d0f8ecb775c1a5ece35d5f6134e4870198...   \n",
       "\n",
       "   user_purchase_binary_7_days  user_purchase_binary_14_days  event_count  \\\n",
       "0                        False                         False          245   \n",
       "1                        False                         False            5   \n",
       "2                        False                         False           21   \n",
       "3                        False                         False           56   \n",
       "4                        False                         False           14   \n",
       "\n",
       "   purchase_count  session_count country     os_name  mean_sessions_duration  \\\n",
       "0               0             12      US  Android OS               7357318.5   \n",
       "1               0              2      US         iOS                 24242.5   \n",
       "2               0              1      US  Android OS                     0.0   \n",
       "3               0              1      US  Android OS                     0.0   \n",
       "4               0              1      US  Android OS                     0.0   \n",
       "\n",
       "   spend     event_gap   session_gap     life_time  \n",
       "0    0.0  6.569008e+08  1.069276e+09  1.718968e+09  \n",
       "1    0.0  2.199818e+09  2.199793e+09  2.199844e+09  \n",
       "2    0.0  4.634942e+09  4.744687e+09  4.744687e+09  \n",
       "3    0.0  4.635559e+09  4.680517e+09  4.680517e+09  \n",
       "4    0.0  4.035576e+09  4.135682e+09  4.135684e+09  "
      ]
     },
     "execution_count": 45,
     "metadata": {},
     "output_type": "execute_result"
    }
   ],
   "source": [
    "training.head()"
   ]
  },
  {
   "cell_type": "markdown",
   "metadata": {},
   "source": [
    "#### Feature 11\n",
    "Which city the user at when using this app?"
   ]
  },
  {
   "cell_type": "code",
   "execution_count": 46,
   "metadata": {},
   "outputs": [],
   "source": [
    "city = session_training.loc[:, ['user_id_hash', 'city']].groupby('user_id_hash').\\\n",
    "first().reset_index()\n",
    "training = training.join(city.set_index('user_id_hash'), on = 'user_id_hash')"
   ]
  },
  {
   "cell_type": "markdown",
   "metadata": {},
   "source": [
    "#### Feature 12\n",
    "How many different places for this user ever use this app?"
   ]
  },
  {
   "cell_type": "code",
   "execution_count": 51,
   "metadata": {},
   "outputs": [],
   "source": [
    "num_places = session_training.loc[:, ['user_id_hash', 'latitude']].groupby('user_id_hash').\\\n",
    "nunique('latitude').drop(columns=['user_id_hash']).reset_index().rename(columns={'latitude':'num_places'})\n",
    "training = training.join(num_places.set_index('user_id_hash'), on = 'user_id_hash')"
   ]
  },
  {
   "cell_type": "markdown",
   "metadata": {},
   "source": [
    "#### Feature 13\n",
    "How many times the user has event 45?"
   ]
  },
  {
   "cell_type": "code",
   "execution_count": 52,
   "metadata": {},
   "outputs": [],
   "source": [
    "event_45 = events_training[events_training.event=='45'].loc[:, ['user_id_hash', 'event']].groupby('user_id_hash').\\\n",
    "count().reset_index().rename(columns={'event':'event_45'})\n",
    "training = training.join(event_45.set_index('user_id_hash'), on = 'user_id_hash')"
   ]
  },
  {
   "cell_type": "markdown",
   "metadata": {},
   "source": [
    "#### Feature 14\n",
    "How many times the user has event 1?"
   ]
  },
  {
   "cell_type": "code",
   "execution_count": 53,
   "metadata": {},
   "outputs": [],
   "source": [
    "event_1 = events_training[events_training.event=='1'].loc[:, ['user_id_hash', 'event']].groupby('user_id_hash').\\\n",
    "count().reset_index().rename(columns={'event':'event_1'})\n",
    "training = training.join(event_1.set_index('user_id_hash'), on = 'user_id_hash')"
   ]
  },
  {
   "cell_type": "markdown",
   "metadata": {},
   "source": [
    "#### Feature 15\n",
    "How many times the user has event 5?"
   ]
  },
  {
   "cell_type": "code",
   "execution_count": 54,
   "metadata": {},
   "outputs": [],
   "source": [
    "event_5 = events_training[events_training.event=='5'].loc[:, ['user_id_hash', 'event']].groupby('user_id_hash').\\\n",
    "count().reset_index().rename(columns={'event':'event_5'})\n",
    "training = training.join(event_5.set_index('user_id_hash'), on = 'user_id_hash')"
   ]
  },
  {
   "cell_type": "markdown",
   "metadata": {},
   "source": [
    "#### Feature 16\n",
    "How many times the user has event 6?"
   ]
  },
  {
   "cell_type": "code",
   "execution_count": 55,
   "metadata": {},
   "outputs": [],
   "source": [
    "event_6 = events_training[events_training.event=='6'].loc[:, ['user_id_hash', 'event']].groupby('user_id_hash').\\\n",
    "count().reset_index().rename(columns={'event':'event_6'})\n",
    "training = training.join(event_6.set_index('user_id_hash'), on = 'user_id_hash')"
   ]
  },
  {
   "cell_type": "markdown",
   "metadata": {},
   "source": [
    "#### Feature 17\n",
    "How many times the user has event 14?"
   ]
  },
  {
   "cell_type": "code",
   "execution_count": 56,
   "metadata": {},
   "outputs": [],
   "source": [
    "event_14 = events_training[events_training.event=='14'].loc[:, ['user_id_hash', 'event']].groupby('user_id_hash').\\\n",
    "count().reset_index().rename(columns={'event':'event_14'})\n",
    "training = training.join(event_14.set_index('user_id_hash'), on = 'user_id_hash')"
   ]
  },
  {
   "cell_type": "markdown",
   "metadata": {},
   "source": [
    "#### Feature 18\n",
    "How many times the user has event 4?"
   ]
  },
  {
   "cell_type": "code",
   "execution_count": 57,
   "metadata": {},
   "outputs": [],
   "source": [
    "event_4 = events_training[events_training.event=='4'].loc[:, ['user_id_hash', 'event']].groupby('user_id_hash').\\\n",
    "count().reset_index().rename(columns={'event':'event_4'})\n",
    "training = training.join(event_4.set_index('user_id_hash'), on = 'user_id_hash')"
   ]
  },
  {
   "cell_type": "markdown",
   "metadata": {},
   "source": [
    "#### Feature 19\n",
    "How many times the user has event 40?"
   ]
  },
  {
   "cell_type": "code",
   "execution_count": 58,
   "metadata": {},
   "outputs": [],
   "source": [
    "event_40 = events_training[events_training.event=='40'].loc[:, ['user_id_hash', 'event']].groupby('user_id_hash').\\\n",
    "count().reset_index().rename(columns={'event':'event_40'})\n",
    "training = training.join(event_40.set_index('user_id_hash'), on = 'user_id_hash')"
   ]
  },
  {
   "cell_type": "markdown",
   "metadata": {},
   "source": [
    "#### Feature 20\n",
    "How many times the user has event 7?"
   ]
  },
  {
   "cell_type": "code",
   "execution_count": 59,
   "metadata": {},
   "outputs": [],
   "source": [
    "event_7 = events_training[events_training.event=='7'].loc[:, ['user_id_hash', 'event']].groupby('user_id_hash').\\\n",
    "count().reset_index().rename(columns={'event':'event_7'})\n",
    "training = training.join(event_7.set_index('user_id_hash'), on = 'user_id_hash')"
   ]
  },
  {
   "cell_type": "markdown",
   "metadata": {},
   "source": [
    "#### Feature 21\n",
    "How many times the user has event 41?"
   ]
  },
  {
   "cell_type": "code",
   "execution_count": 60,
   "metadata": {},
   "outputs": [],
   "source": [
    "event_41 = events_training[events_training.event=='41'].loc[:, ['user_id_hash', 'event']].groupby('user_id_hash').\\\n",
    "count().reset_index().rename(columns={'event':'event_41'})\n",
    "training = training.join(event_41.set_index('user_id_hash'), on = 'user_id_hash')"
   ]
  },
  {
   "cell_type": "markdown",
   "metadata": {},
   "source": [
    "#### Feature 22\n",
    "How many times the user has event 3?"
   ]
  },
  {
   "cell_type": "code",
   "execution_count": 61,
   "metadata": {},
   "outputs": [],
   "source": [
    "event_3 = events_training[events_training.event=='3'].loc[:, ['user_id_hash', 'event']].groupby('user_id_hash').\\\n",
    "count().reset_index().rename(columns={'event':'event_3'})\n",
    "training = training.join(event_3.set_index('user_id_hash'), on = 'user_id_hash')"
   ]
  },
  {
   "cell_type": "markdown",
   "metadata": {},
   "source": [
    "#### Feature 23\n",
    "How many times the user has event 42?"
   ]
  },
  {
   "cell_type": "code",
   "execution_count": 62,
   "metadata": {},
   "outputs": [],
   "source": [
    "event_42 = events_training[events_training.event=='42'].loc[:, ['user_id_hash', 'event']].groupby('user_id_hash').\\\n",
    "count().reset_index().rename(columns={'event':'event_42'})\n",
    "training = training.join(event_42.set_index('user_id_hash'), on = 'user_id_hash')"
   ]
  },
  {
   "cell_type": "markdown",
   "metadata": {},
   "source": [
    "#### Feature 24\n",
    "Which region does this user belong to?"
   ]
  },
  {
   "cell_type": "code",
   "execution_count": 64,
   "metadata": {},
   "outputs": [],
   "source": [
    "region = session_training.loc[:, ['user_id_hash', 'region']].groupby('user_id_hash').\\\n",
    "first().reset_index()\n",
    "training = training.join(region.set_index('user_id_hash'), on = 'user_id_hash')"
   ]
  },
  {
   "cell_type": "markdown",
   "metadata": {},
   "source": [
    "#### Feature 25\n",
    "How long has been since the last the user purchase?"
   ]
  },
  {
   "cell_type": "code",
   "execution_count": 65,
   "metadata": {},
   "outputs": [],
   "source": [
    "purchase_gap = events_training[events_training.event=='8'].loc[:, ['user_id_hash', 'event_timestamp']].groupby('user_id_hash').\\\n",
    "max().reset_index().rename(columns={'event_timestamp':'purchase_gap'})\n",
    "purchase_gap['purchase_gap'] = 1543622399000 - purchase_gap['purchase_gap'] \n",
    "training = training.join(purchase_gap.set_index('user_id_hash'), on = 'user_id_hash')"
   ]
  },
  {
   "cell_type": "code",
   "execution_count": 66,
   "metadata": {},
   "outputs": [
    {
     "data": {
      "text/html": [
       "<div>\n",
       "<style scoped>\n",
       "    .dataframe tbody tr th:only-of-type {\n",
       "        vertical-align: middle;\n",
       "    }\n",
       "\n",
       "    .dataframe tbody tr th {\n",
       "        vertical-align: top;\n",
       "    }\n",
       "\n",
       "    .dataframe thead th {\n",
       "        text-align: right;\n",
       "    }\n",
       "</style>\n",
       "<table border=\"1\" class=\"dataframe\">\n",
       "  <thead>\n",
       "    <tr style=\"text-align: right;\">\n",
       "      <th></th>\n",
       "      <th>user_id_hash</th>\n",
       "      <th>user_purchase_binary_7_days</th>\n",
       "      <th>user_purchase_binary_14_days</th>\n",
       "      <th>event_count</th>\n",
       "      <th>purchase_count</th>\n",
       "      <th>session_count</th>\n",
       "      <th>country</th>\n",
       "      <th>os_name</th>\n",
       "      <th>mean_sessions_duration</th>\n",
       "      <th>spend</th>\n",
       "      <th>...</th>\n",
       "      <th>event_6</th>\n",
       "      <th>event_14</th>\n",
       "      <th>event_4</th>\n",
       "      <th>event_40</th>\n",
       "      <th>event_7</th>\n",
       "      <th>event_41</th>\n",
       "      <th>event_3</th>\n",
       "      <th>event_42</th>\n",
       "      <th>region</th>\n",
       "      <th>purchase_gap</th>\n",
       "    </tr>\n",
       "  </thead>\n",
       "  <tbody>\n",
       "    <tr>\n",
       "      <th>0</th>\n",
       "      <td>e1307a8f59cedf193a6b702914071b354618743ff55f52...</td>\n",
       "      <td>False</td>\n",
       "      <td>False</td>\n",
       "      <td>245</td>\n",
       "      <td>0</td>\n",
       "      <td>12</td>\n",
       "      <td>US</td>\n",
       "      <td>Android OS</td>\n",
       "      <td>7357318.5</td>\n",
       "      <td>0.0</td>\n",
       "      <td>...</td>\n",
       "      <td>7</td>\n",
       "      <td>3</td>\n",
       "      <td>10</td>\n",
       "      <td>6</td>\n",
       "      <td>4</td>\n",
       "      <td>6</td>\n",
       "      <td>6</td>\n",
       "      <td>5</td>\n",
       "      <td>tx</td>\n",
       "      <td>NaN</td>\n",
       "    </tr>\n",
       "    <tr>\n",
       "      <th>1</th>\n",
       "      <td>a3fd9faf3fe536411c656fa4286e1f2830f6ab88a7c2bb...</td>\n",
       "      <td>False</td>\n",
       "      <td>False</td>\n",
       "      <td>5</td>\n",
       "      <td>0</td>\n",
       "      <td>2</td>\n",
       "      <td>US</td>\n",
       "      <td>iOS</td>\n",
       "      <td>24242.5</td>\n",
       "      <td>0.0</td>\n",
       "      <td>...</td>\n",
       "      <td>0</td>\n",
       "      <td>0</td>\n",
       "      <td>0</td>\n",
       "      <td>0</td>\n",
       "      <td>0</td>\n",
       "      <td>0</td>\n",
       "      <td>0</td>\n",
       "      <td>0</td>\n",
       "      <td>tn</td>\n",
       "      <td>NaN</td>\n",
       "    </tr>\n",
       "    <tr>\n",
       "      <th>2</th>\n",
       "      <td>57fb27e539c679bb5ce5f8a0d975186008c42030061024...</td>\n",
       "      <td>False</td>\n",
       "      <td>False</td>\n",
       "      <td>21</td>\n",
       "      <td>0</td>\n",
       "      <td>1</td>\n",
       "      <td>US</td>\n",
       "      <td>Android OS</td>\n",
       "      <td>0.0</td>\n",
       "      <td>0.0</td>\n",
       "      <td>...</td>\n",
       "      <td>0</td>\n",
       "      <td>3</td>\n",
       "      <td>0</td>\n",
       "      <td>0</td>\n",
       "      <td>1</td>\n",
       "      <td>0</td>\n",
       "      <td>0</td>\n",
       "      <td>0</td>\n",
       "      <td>fl</td>\n",
       "      <td>NaN</td>\n",
       "    </tr>\n",
       "    <tr>\n",
       "      <th>3</th>\n",
       "      <td>6c75912a77f358dea7b4cc146931017e5f7aec1d948ed9...</td>\n",
       "      <td>False</td>\n",
       "      <td>False</td>\n",
       "      <td>56</td>\n",
       "      <td>0</td>\n",
       "      <td>1</td>\n",
       "      <td>US</td>\n",
       "      <td>Android OS</td>\n",
       "      <td>0.0</td>\n",
       "      <td>0.0</td>\n",
       "      <td>...</td>\n",
       "      <td>1</td>\n",
       "      <td>0</td>\n",
       "      <td>1</td>\n",
       "      <td>0</td>\n",
       "      <td>2</td>\n",
       "      <td>0</td>\n",
       "      <td>0</td>\n",
       "      <td>0</td>\n",
       "      <td>va</td>\n",
       "      <td>NaN</td>\n",
       "    </tr>\n",
       "    <tr>\n",
       "      <th>4</th>\n",
       "      <td>9f8bba6071e8d0f8ecb775c1a5ece35d5f6134e4870198...</td>\n",
       "      <td>False</td>\n",
       "      <td>False</td>\n",
       "      <td>14</td>\n",
       "      <td>0</td>\n",
       "      <td>1</td>\n",
       "      <td>US</td>\n",
       "      <td>Android OS</td>\n",
       "      <td>0.0</td>\n",
       "      <td>0.0</td>\n",
       "      <td>...</td>\n",
       "      <td>0</td>\n",
       "      <td>3</td>\n",
       "      <td>0</td>\n",
       "      <td>0</td>\n",
       "      <td>0</td>\n",
       "      <td>0</td>\n",
       "      <td>0</td>\n",
       "      <td>0</td>\n",
       "      <td>ca</td>\n",
       "      <td>NaN</td>\n",
       "    </tr>\n",
       "  </tbody>\n",
       "</table>\n",
       "<p>5 rows × 28 columns</p>\n",
       "</div>"
      ],
      "text/plain": [
       "                                        user_id_hash  \\\n",
       "0  e1307a8f59cedf193a6b702914071b354618743ff55f52...   \n",
       "1  a3fd9faf3fe536411c656fa4286e1f2830f6ab88a7c2bb...   \n",
       "2  57fb27e539c679bb5ce5f8a0d975186008c42030061024...   \n",
       "3  6c75912a77f358dea7b4cc146931017e5f7aec1d948ed9...   \n",
       "4  9f8bba6071e8d0f8ecb775c1a5ece35d5f6134e4870198...   \n",
       "\n",
       "   user_purchase_binary_7_days  user_purchase_binary_14_days  event_count  \\\n",
       "0                        False                         False          245   \n",
       "1                        False                         False            5   \n",
       "2                        False                         False           21   \n",
       "3                        False                         False           56   \n",
       "4                        False                         False           14   \n",
       "\n",
       "   purchase_count  session_count country     os_name  mean_sessions_duration  \\\n",
       "0               0             12      US  Android OS               7357318.5   \n",
       "1               0              2      US         iOS                 24242.5   \n",
       "2               0              1      US  Android OS                     0.0   \n",
       "3               0              1      US  Android OS                     0.0   \n",
       "4               0              1      US  Android OS                     0.0   \n",
       "\n",
       "   spend      ...       event_6  event_14  event_4 event_40  event_7  \\\n",
       "0    0.0      ...             7         3       10        6        4   \n",
       "1    0.0      ...             0         0        0        0        0   \n",
       "2    0.0      ...             0         3        0        0        1   \n",
       "3    0.0      ...             1         0        1        0        2   \n",
       "4    0.0      ...             0         3        0        0        0   \n",
       "\n",
       "   event_41  event_3  event_42  region  purchase_gap  \n",
       "0         6        6         5      tx           NaN  \n",
       "1         0        0         0      tn           NaN  \n",
       "2         0        0         0      fl           NaN  \n",
       "3         0        0         0      va           NaN  \n",
       "4         0        0         0      ca           NaN  \n",
       "\n",
       "[5 rows x 28 columns]"
      ]
     },
     "execution_count": 66,
     "metadata": {},
     "output_type": "execute_result"
    }
   ],
   "source": [
    "training.head()"
   ]
  },
  {
   "cell_type": "code",
   "execution_count": 76,
   "metadata": {},
   "outputs": [],
   "source": [
    "training.to_pickle('training.pkl')"
   ]
  },
  {
   "cell_type": "markdown",
   "metadata": {},
   "source": [
    "## Feature Engineering"
   ]
  },
  {
   "cell_type": "markdown",
   "metadata": {},
   "source": [
    "### Numeric Feature Scaling\n",
    "The dataset has a lot of outliers, we try to normalize each feature, firstly we tried winsorization to shrink the data range, then we use some Log-transformation to deal with the right skew problems."
   ]
  },
  {
   "cell_type": "code",
   "execution_count": 37,
   "metadata": {},
   "outputs": [],
   "source": [
    "import matplotlib.pyplot as plt\n",
    "from scipy.stats.mstats import winsorize"
   ]
  },
  {
   "cell_type": "code",
   "execution_count": 38,
   "metadata": {},
   "outputs": [
    {
     "data": {
      "text/plain": [
       "(array([6.14565e+05, 3.96900e+03, 6.74000e+02, 1.52000e+02, 3.80000e+01,\n",
       "        1.00000e+01, 6.00000e+00, 4.00000e+00, 3.00000e+00, 2.00000e+00]),\n",
       " array([    0. ,  2318.6,  4637.2,  6955.8,  9274.4, 11593. , 13911.6,\n",
       "        16230.2, 18548.8, 20867.4, 23186. ]),\n",
       " <a list of 10 Patch objects>)"
      ]
     },
     "execution_count": 38,
     "metadata": {},
     "output_type": "execute_result"
    },
    {
     "data": {
      "image/png": "[encoded data removed]",
      "text/plain": [
       "<Figure size 432x288 with 1 Axes>"
      ]
     },
     "metadata": {
      "needs_background": "light"
     },
     "output_type": "display_data"
    }
   ],
   "source": [
    "plt.hist(training.event_count)"
   ]
  },
  {
   "cell_type": "code",
   "execution_count": 46,
   "metadata": {},
   "outputs": [
    {
     "data": {
      "text/plain": [
       "(array([409270.,  83824.,  34815.,  18620.,  13261.,   9384.,   6589.,\n",
       "          5082.,   4064.,  34514.]),\n",
       " array([  0. ,  71.7, 143.4, 215.1, 286.8, 358.5, 430.2, 501.9, 573.6,\n",
       "        645.3, 717. ]),\n",
       " <a list of 10 Patch objects>)"
      ]
     },
     "execution_count": 46,
     "metadata": {},
     "output_type": "execute_result"
    },
    {
     "data": {
      "image/png": "[encoded data removed]",
      "text/plain": [
       "<Figure size 432x288 with 1 Axes>"
      ]
     },
     "metadata": {
      "needs_background": "light"
     },
     "output_type": "display_data"
    }
   ],
   "source": [
    "plt.hist(winsorize(training.event_count, limits=[0,0.05]))"
   ]
  },
  {
   "cell_type": "code",
   "execution_count": 47,
   "metadata": {},
   "outputs": [
    {
     "name": "stderr",
     "output_type": "stream",
     "text": [
      "/home/wtq920828/anaconda3/lib/python3.7/site-packages/ipykernel_launcher.py:1: RuntimeWarning: divide by zero encountered in log\n",
      "  \"\"\"Entry point for launching an IPython kernel.\n"
     ]
    },
    {
     "data": {
      "text/plain": [
       "(array([   334.,  35039.,  64329.,  51198., 104999., 105086.,  93102.,\n",
       "         65097.,  42566.,  57673.]),\n",
       " array([0.        , 0.65750758, 1.31501517, 1.97252275, 2.63003034,\n",
       "        3.28753792, 3.9450455 , 4.60255309, 5.26006067, 5.91756826,\n",
       "        6.57507584]),\n",
       " <a list of 10 Patch objects>)"
      ]
     },
     "execution_count": 47,
     "metadata": {},
     "output_type": "execute_result"
    },
    {
     "data": {
      "image/png": "[encoded data removed]",
      "text/plain": [
       "<Figure size 432x288 with 1 Axes>"
      ]
     },
     "metadata": {
      "needs_background": "light"
     },
     "output_type": "display_data"
    }
   ],
   "source": [
    "plt.hist(np.log(winsorize(training.event_count, limits=[0,0.05])))"
   ]
  },
  {
   "cell_type": "code",
   "execution_count": 45,
   "metadata": {},
   "outputs": [
    {
     "data": {
      "text/plain": [
       "5854      False\n",
       "6871      False\n",
       "25437      True\n",
       "27646      True\n",
       "44965     False\n",
       "45866      True\n",
       "93535     False\n",
       "120760    False\n",
       "124204     True\n",
       "127955    False\n",
       "172748     True\n",
       "181179    False\n",
       "191010    False\n",
       "208431     True\n",
       "229245    False\n",
       "236202    False\n",
       "241564    False\n",
       "272527     True\n",
       "284399     True\n",
       "285393    False\n",
       "288370    False\n",
       "291583    False\n",
       "315941     True\n",
       "328567     True\n",
       "357861     True\n",
       "358147     True\n",
       "378806    False\n",
       "394427     True\n",
       "419015    False\n",
       "426870     True\n",
       "439724    False\n",
       "457369    False\n",
       "467930     True\n",
       "491403    False\n",
       "502910     True\n",
       "551192    False\n",
       "560882    False\n",
       "563844    False\n",
       "579486    False\n",
       "598121     True\n",
       "600019     True\n",
       "603035    False\n",
       "615161    False\n",
       "Name: user_purchase_binary_7_days, dtype: bool"
      ]
     },
     "execution_count": 45,
     "metadata": {},
     "output_type": "execute_result"
    }
   ],
   "source": [
    "training[training.event_count>10000]['user_purchase_binary_7_days']"
   ]
  },
  {
   "cell_type": "markdown",
   "metadata": {},
   "source": [
    "### Categorical Feature Encoding\n",
    "There are two categorical features, Country and OS, since OS only has 3 different values, we will use One-Hot Encoding. However, there are 200+ countries, we will use mean encoding for this feature, to avoid overfitting, we use 5-fold mean encoding to regularize the encoding."
   ]
  },
  {
   "cell_type": "code",
   "execution_count": 200,
   "metadata": {},
   "outputs": [],
   "source": [
    "# One-Hot Encoding OS\n",
    "training['os_name'] = training['os_name'].fillna(value='Missing')\n",
    "os = pd.get_dummies(training['os_name']).drop(columns = ['Missing'])\n",
    "os['os_ios'], os['os_android'] = os['iOS']+os['iPhone OS'], os['Android OS']\n",
    "os = os.loc[:,['os_ios', 'os_android']]\n",
    "training = pd.concat((training,os), axis=1)"
   ]
  },
  {
   "cell_type": "code",
   "execution_count": 201,
   "metadata": {},
   "outputs": [
    {
     "data": {
      "text/html": [
       "<div>\n",
       "<style scoped>\n",
       "    .dataframe tbody tr th:only-of-type {\n",
       "        vertical-align: middle;\n",
       "    }\n",
       "\n",
       "    .dataframe tbody tr th {\n",
       "        vertical-align: top;\n",
       "    }\n",
       "\n",
       "    .dataframe thead th {\n",
       "        text-align: right;\n",
       "    }\n",
       "</style>\n",
       "<table border=\"1\" class=\"dataframe\">\n",
       "  <thead>\n",
       "    <tr style=\"text-align: right;\">\n",
       "      <th></th>\n",
       "      <th>user_id_hash</th>\n",
       "      <th>user_purchase_binary_7_days</th>\n",
       "      <th>user_purchase_binary_14_days</th>\n",
       "      <th>event_count</th>\n",
       "      <th>purchase_count</th>\n",
       "      <th>session_count</th>\n",
       "      <th>country</th>\n",
       "      <th>os_name</th>\n",
       "      <th>mean_sessions_duration</th>\n",
       "      <th>spend</th>\n",
       "      <th>...</th>\n",
       "      <th>event_7</th>\n",
       "      <th>event_41</th>\n",
       "      <th>event_3</th>\n",
       "      <th>event_42</th>\n",
       "      <th>region</th>\n",
       "      <th>purchase_gap</th>\n",
       "      <th>country_mean_enc</th>\n",
       "      <th>region_mean_enc</th>\n",
       "      <th>os_ios</th>\n",
       "      <th>os_android</th>\n",
       "    </tr>\n",
       "  </thead>\n",
       "  <tbody>\n",
       "    <tr>\n",
       "      <th>0</th>\n",
       "      <td>e1307a8f59cedf193a6b702914071b354618743ff55f52...</td>\n",
       "      <td>False</td>\n",
       "      <td>False</td>\n",
       "      <td>245</td>\n",
       "      <td>0</td>\n",
       "      <td>12</td>\n",
       "      <td>US</td>\n",
       "      <td>Android OS</td>\n",
       "      <td>7357318.5</td>\n",
       "      <td>0.0</td>\n",
       "      <td>...</td>\n",
       "      <td>4</td>\n",
       "      <td>6</td>\n",
       "      <td>6</td>\n",
       "      <td>5</td>\n",
       "      <td>tx</td>\n",
       "      <td>NaN</td>\n",
       "      <td>0.015190</td>\n",
       "      <td>0.013366</td>\n",
       "      <td>0</td>\n",
       "      <td>1</td>\n",
       "    </tr>\n",
       "    <tr>\n",
       "      <th>1</th>\n",
       "      <td>a3fd9faf3fe536411c656fa4286e1f2830f6ab88a7c2bb...</td>\n",
       "      <td>False</td>\n",
       "      <td>False</td>\n",
       "      <td>5</td>\n",
       "      <td>0</td>\n",
       "      <td>2</td>\n",
       "      <td>US</td>\n",
       "      <td>iOS</td>\n",
       "      <td>24242.5</td>\n",
       "      <td>0.0</td>\n",
       "      <td>...</td>\n",
       "      <td>0</td>\n",
       "      <td>0</td>\n",
       "      <td>0</td>\n",
       "      <td>0</td>\n",
       "      <td>tn</td>\n",
       "      <td>NaN</td>\n",
       "      <td>0.015402</td>\n",
       "      <td>0.010538</td>\n",
       "      <td>1</td>\n",
       "      <td>0</td>\n",
       "    </tr>\n",
       "    <tr>\n",
       "      <th>2</th>\n",
       "      <td>57fb27e539c679bb5ce5f8a0d975186008c42030061024...</td>\n",
       "      <td>False</td>\n",
       "      <td>False</td>\n",
       "      <td>21</td>\n",
       "      <td>0</td>\n",
       "      <td>1</td>\n",
       "      <td>US</td>\n",
       "      <td>Android OS</td>\n",
       "      <td>0.0</td>\n",
       "      <td>0.0</td>\n",
       "      <td>...</td>\n",
       "      <td>1</td>\n",
       "      <td>0</td>\n",
       "      <td>0</td>\n",
       "      <td>0</td>\n",
       "      <td>fl</td>\n",
       "      <td>NaN</td>\n",
       "      <td>0.015132</td>\n",
       "      <td>0.012966</td>\n",
       "      <td>0</td>\n",
       "      <td>1</td>\n",
       "    </tr>\n",
       "    <tr>\n",
       "      <th>3</th>\n",
       "      <td>6c75912a77f358dea7b4cc146931017e5f7aec1d948ed9...</td>\n",
       "      <td>False</td>\n",
       "      <td>False</td>\n",
       "      <td>56</td>\n",
       "      <td>0</td>\n",
       "      <td>1</td>\n",
       "      <td>US</td>\n",
       "      <td>Android OS</td>\n",
       "      <td>0.0</td>\n",
       "      <td>0.0</td>\n",
       "      <td>...</td>\n",
       "      <td>2</td>\n",
       "      <td>0</td>\n",
       "      <td>0</td>\n",
       "      <td>0</td>\n",
       "      <td>va</td>\n",
       "      <td>NaN</td>\n",
       "      <td>0.015116</td>\n",
       "      <td>0.017694</td>\n",
       "      <td>0</td>\n",
       "      <td>1</td>\n",
       "    </tr>\n",
       "    <tr>\n",
       "      <th>4</th>\n",
       "      <td>9f8bba6071e8d0f8ecb775c1a5ece35d5f6134e4870198...</td>\n",
       "      <td>False</td>\n",
       "      <td>False</td>\n",
       "      <td>14</td>\n",
       "      <td>0</td>\n",
       "      <td>1</td>\n",
       "      <td>US</td>\n",
       "      <td>Android OS</td>\n",
       "      <td>0.0</td>\n",
       "      <td>0.0</td>\n",
       "      <td>...</td>\n",
       "      <td>0</td>\n",
       "      <td>0</td>\n",
       "      <td>0</td>\n",
       "      <td>0</td>\n",
       "      <td>ca</td>\n",
       "      <td>NaN</td>\n",
       "      <td>0.015168</td>\n",
       "      <td>0.012560</td>\n",
       "      <td>0</td>\n",
       "      <td>1</td>\n",
       "    </tr>\n",
       "  </tbody>\n",
       "</table>\n",
       "<p>5 rows × 32 columns</p>\n",
       "</div>"
      ],
      "text/plain": [
       "                                        user_id_hash  \\\n",
       "0  e1307a8f59cedf193a6b702914071b354618743ff55f52...   \n",
       "1  a3fd9faf3fe536411c656fa4286e1f2830f6ab88a7c2bb...   \n",
       "2  57fb27e539c679bb5ce5f8a0d975186008c42030061024...   \n",
       "3  6c75912a77f358dea7b4cc146931017e5f7aec1d948ed9...   \n",
       "4  9f8bba6071e8d0f8ecb775c1a5ece35d5f6134e4870198...   \n",
       "\n",
       "   user_purchase_binary_7_days  user_purchase_binary_14_days  event_count  \\\n",
       "0                        False                         False          245   \n",
       "1                        False                         False            5   \n",
       "2                        False                         False           21   \n",
       "3                        False                         False           56   \n",
       "4                        False                         False           14   \n",
       "\n",
       "   purchase_count  session_count country     os_name  mean_sessions_duration  \\\n",
       "0               0             12      US  Android OS               7357318.5   \n",
       "1               0              2      US         iOS                 24242.5   \n",
       "2               0              1      US  Android OS                     0.0   \n",
       "3               0              1      US  Android OS                     0.0   \n",
       "4               0              1      US  Android OS                     0.0   \n",
       "\n",
       "   spend     ...      event_7  event_41  event_3 event_42  region  \\\n",
       "0    0.0     ...            4         6        6        5      tx   \n",
       "1    0.0     ...            0         0        0        0      tn   \n",
       "2    0.0     ...            1         0        0        0      fl   \n",
       "3    0.0     ...            2         0        0        0      va   \n",
       "4    0.0     ...            0         0        0        0      ca   \n",
       "\n",
       "   purchase_gap  country_mean_enc  region_mean_enc  os_ios  os_android  \n",
       "0           NaN          0.015190         0.013366       0           1  \n",
       "1           NaN          0.015402         0.010538       1           0  \n",
       "2           NaN          0.015132         0.012966       0           1  \n",
       "3           NaN          0.015116         0.017694       0           1  \n",
       "4           NaN          0.015168         0.012560       0           1  \n",
       "\n",
       "[5 rows x 32 columns]"
      ]
     },
     "execution_count": 201,
     "metadata": {},
     "output_type": "execute_result"
    }
   ],
   "source": [
    "training.head()"
   ]
  },
  {
   "cell_type": "code",
   "execution_count": null,
   "metadata": {},
   "outputs": [],
   "source": [
    "small_country = set(training.country.value_counts()[30:].keys())\n",
    "\n",
    "training['country'] = training['country'].apply(lambda x: 'other' if x in small_country else x)\n",
    "\n",
    "training['country'].value_counts()"
   ]
  },
  {
   "cell_type": "code",
   "execution_count": 112,
   "metadata": {},
   "outputs": [],
   "source": [
    "train_y2 = training.user_purchase_binary_14_days\n",
    "# Mean Encoding Country\n",
    "def reg_target_encoding(train, col = \"country\", splits=5):\n",
    "\n",
    "    train[f'{col}_mean_enc'] = 0\n",
    "#     train_y2 = training.user_purchase_binary_14_days.values\n",
    "    skf = StratifiedKFold(splits, shuffle=True, random_state=111)\n",
    "    \n",
    "    for computing_index, encoding_index in skf.split(training,train_y2):\n",
    "        computing, encoding = train.iloc[computing_index], train.iloc[encoding_index]\n",
    "        means = computing.groupby(col).user_purchase_binary_14_days.mean()\n",
    "        train.loc[encoding_index,f'{col}_mean_enc'] = encoding[col].map(means)\n",
    "reg_target_encoding(training)"
   ]
  },
  {
   "cell_type": "code",
   "execution_count": 121,
   "metadata": {},
   "outputs": [
    {
     "data": {
      "text/plain": [
       "eng    38346\n",
       "tx     28335\n",
       "ca     25423\n",
       "fl     17087\n",
       "00     16127\n",
       "ny     15111\n",
       "ga     14733\n",
       "?      14414\n",
       "il     14367\n",
       "tn     11593\n",
       "pa     10915\n",
       "mi     10801\n",
       "oh     10538\n",
       "nc     10464\n",
       "mh      8221\n",
       "on      7902\n",
       "wa      7421\n",
       "mo      6810\n",
       "c       6480\n",
       "la      6460\n",
       "in      6015\n",
       "va      5934\n",
       "14      5928\n",
       "nj      5888\n",
       "gt      5845\n",
       "ma      5693\n",
       "co      5621\n",
       "az      5472\n",
       "nsw     5405\n",
       "mn      5176\n",
       "       ...  \n",
       "lx         1\n",
       "xa         1\n",
       "053        1\n",
       "099        1\n",
       "087        1\n",
       "tv         1\n",
       "107        1\n",
       "rd         1\n",
       "065        1\n",
       "oc         1\n",
       "109        1\n",
       "054        1\n",
       "049        1\n",
       "ek         1\n",
       "huc        1\n",
       "xo         1\n",
       "016        1\n",
       "un         1\n",
       "050        1\n",
       "pia        1\n",
       "056        1\n",
       "048        1\n",
       "suc        1\n",
       "015        1\n",
       "fp         1\n",
       "log        1\n",
       "069        1\n",
       "097        1\n",
       "79         1\n",
       "094        1\n",
       "Name: region, Length: 742, dtype: int64"
      ]
     },
     "execution_count": 121,
     "metadata": {},
     "output_type": "execute_result"
    }
   ],
   "source": [
    "small_region = set(training.region.value_counts()[50:].keys())\n",
    "\n",
    "training['region'] = training['region'].apply(lambda x: 'other' if x in small_country else x)\n",
    "\n",
    "training['region'].value_counts()"
   ]
  },
  {
   "cell_type": "code",
   "execution_count": 122,
   "metadata": {},
   "outputs": [],
   "source": [
    "reg_target_encoding(training, col='region')"
   ]
  },
  {
   "cell_type": "code",
   "execution_count": 1,
   "metadata": {},
   "outputs": [
    {
     "ename": "NameError",
     "evalue": "name 'training' is not defined",
     "output_type": "error",
     "traceback": [
      "\u001b[0;31m---------------------------------------------------------------------------\u001b[0m",
      "\u001b[0;31mNameError\u001b[0m                                 Traceback (most recent call last)",
      "\u001b[0;32m<ipython-input-1-d2fab2617a0f>\u001b[0m in \u001b[0;36m<module>\u001b[0;34m\u001b[0m\n\u001b[0;32m----> 1\u001b[0;31m \u001b[0mtraining\u001b[0m\u001b[0;34m.\u001b[0m\u001b[0mhead\u001b[0m\u001b[0;34m(\u001b[0m\u001b[0;34m)\u001b[0m\u001b[0;34m\u001b[0m\u001b[0;34m\u001b[0m\u001b[0m\n\u001b[0m",
      "\u001b[0;31mNameError\u001b[0m: name 'training' is not defined"
     ]
    }
   ],
   "source": [
    "training.head()"
   ]
  },
  {
   "cell_type": "markdown",
   "metadata": {},
   "source": [
    "## Prediction Features"
   ]
  },
  {
   "cell_type": "markdown",
   "metadata": {},
   "source": [
    "Lets wrap up all feature generating procedures and use it in prediction dataset."
   ]
  },
  {
   "cell_type": "code",
   "execution_count": 124,
   "metadata": {},
   "outputs": [],
   "source": [
    "def mean_encoding_test(test, train, col = \"country\"):\n",
    "\n",
    "    global_mean = train.user_purchase_binary_14_days.mean()\n",
    "    mean_device_type = train.groupby(col).user_purchase_binary_14_days.mean()\n",
    "    test[f'{col}_mean_enc'] = test[col].map(mean_device_type)\n",
    "    test[f'{col}_mean_enc'].fillna(global_mean, inplace=True)"
   ]
  },
  {
   "cell_type": "code",
   "execution_count": 79,
   "metadata": {},
   "outputs": [],
   "source": [
    "def feature_generate(df, events_df, session_df):\n",
    "    \n",
    "    # Feature one: event_count\n",
    "    count = events_df.loc[:, ['user_id_hash', 'event']].groupby('user_id_hash').\\\n",
    "    count().reset_index().rename(columns={'event':'event_count'})\n",
    "    df = df.join(count.set_index('user_id_hash'), on = 'user_id_hash')\n",
    "    \n",
    "    # Feature two: purchase_count\n",
    "    count = events_df[events_df.event=='8'].loc[:, ['user_id_hash', 'event']].groupby('user_id_hash').\\\n",
    "    count().reset_index().rename(columns={'event':'purchase_count'})\n",
    "    df = df.join(count.set_index('user_id_hash'), on = 'user_id_hash')\n",
    "    \n",
    "    # Feature three: session_count\n",
    "    count = session_df.loc[:, ['user_id_hash', 'session_id']].groupby('user_id_hash').\\\n",
    "    count().reset_index().rename(columns={'session_id':'session_count'})\n",
    "    df = df.join(count.set_index('user_id_hash'), on = 'user_id_hash')\n",
    "    \n",
    "    # Feature four: country\n",
    "    country = session_df.loc[:, ['user_id_hash', 'country']].groupby('user_id_hash').\\\n",
    "    first().reset_index()\n",
    "    df = df.join(country.set_index('user_id_hash'), on = 'user_id_hash')\n",
    "    \n",
    "    # Feature five: OS\n",
    "    os = session_df.loc[:, ['user_id_hash', 'os_name']].groupby('user_id_hash').\\\n",
    "    first().reset_index()\n",
    "    df = df.join(os.set_index('user_id_hash'), on = 'user_id_hash')\n",
    "    \n",
    "    # Feature six: session_duration\n",
    "    duration = session_df.loc[:, ['user_id_hash', 'previous_sessions_duration']].groupby('user_id_hash').\\\n",
    "    mean().reset_index().rename(columns={'previous_sessions_duration':'mean_sessions_duration'})\n",
    "    df = df.join(duration.set_index('user_id_hash'), on = 'user_id_hash')\n",
    "    \n",
    "    # Feature seven: spend\n",
    "    spend = events_df[events_df.event=='8'].loc[:, ['user_id_hash', 'event_value']].groupby('user_id_hash').\\\n",
    "    sum().reset_index().rename(columns={'event_value':'spend'})\n",
    "    df = df.join(spend.set_index('user_id_hash'), on = 'user_id_hash')\n",
    "    \n",
    "    # Feature eight: event_gap\n",
    "    event_gap = events_df.loc[:, ['user_id_hash', 'event_timestamp']].groupby('user_id_hash').\\\n",
    "    max().reset_index().rename(columns={'event_timestamp':'event_gap'})\n",
    "    event_gap['event_gap'] = 1544831999484 - event_gap['event_gap'] \n",
    "    df = df.join(event_gap.set_index('user_id_hash'), on = 'user_id_hash')\n",
    "    \n",
    "    # Feature nine: session_gap\n",
    "    session_gap = session_df.loc[:, ['user_id_hash', 'start_timestamp']].groupby('user_id_hash').\\\n",
    "    max().reset_index().rename(columns={'start_timestamp':'session_gap'})\n",
    "    session_gap['session_gap'] = 1544831999484 - session_gap['session_gap'] \n",
    "    df = df.join(session_gap.set_index('user_id_hash'), on = 'user_id_hash')\n",
    "    \n",
    "    # Feature ten: life_time\n",
    "    life_time = session_df.loc[:, ['user_id_hash', 'user_created_timestamp']].groupby('user_id_hash').\\\n",
    "    max().reset_index().rename(columns={'user_created_timestamp':'life_time'})\n",
    "    life_time['life_time'] = 1544831999484 - life_time['life_time'] \n",
    "    df = df.join(life_time.set_index('user_id_hash'), on = 'user_id_hash')\n",
    "    \n",
    "    # Feature 11: city\n",
    "    city = session_df.loc[:, ['user_id_hash', 'city']].groupby('user_id_hash').\\\n",
    "    first().reset_index()\n",
    "    df = df.join(city.set_index('user_id_hash'), on = 'user_id_hash')\n",
    "    \n",
    "    # Feature 12: num_places\n",
    "    num_places = session_df.loc[:, ['user_id_hash', 'latitude']].groupby('user_id_hash').\\\n",
    "    nunique('latitude').drop(columns=['user_id_hash']).reset_index().rename(columns={'latitude':'num_places'})\n",
    "    df = df.join(num_places.set_index('user_id_hash'), on = 'user_id_hash')\n",
    "    \n",
    "    # Feature 13: event_45\n",
    "    event_45 = events_df[events_df.event=='45'].loc[:, ['user_id_hash', 'event']].groupby('user_id_hash').\\\n",
    "    count().reset_index().rename(columns={'event':'event_45'})\n",
    "    df = df.join(event_45.set_index('user_id_hash'), on = 'user_id_hash')\n",
    "    \n",
    "    # Feature 14: event_1\n",
    "    event_1 = events_df[events_df.event=='1'].loc[:, ['user_id_hash', 'event']].groupby('user_id_hash').\\\n",
    "    count().reset_index().rename(columns={'event':'event_1'})\n",
    "    df = df.join(event_1.set_index('user_id_hash'), on = 'user_id_hash')\n",
    "    \n",
    "    # Feature 15: event_5\n",
    "    event_5 = events_df[events_df.event=='5'].loc[:, ['user_id_hash', 'event']].groupby('user_id_hash').\\\n",
    "    count().reset_index().rename(columns={'event':'event_5'})\n",
    "    df = df.join(event_5.set_index('user_id_hash'), on = 'user_id_hash')\n",
    "    \n",
    "    # Feature 16: event_6\n",
    "    event_6 = events_df[events_df.event=='6'].loc[:, ['user_id_hash', 'event']].groupby('user_id_hash').\\\n",
    "    count().reset_index().rename(columns={'event':'event_6'})\n",
    "    df = df.join(event_6.set_index('user_id_hash'), on = 'user_id_hash')\n",
    "    \n",
    "    # Feature 17: event_14\n",
    "    event_14 = events_df[events_df.event=='14'].loc[:, ['user_id_hash', 'event']].groupby('user_id_hash').\\\n",
    "    count().reset_index().rename(columns={'event':'event_14'})\n",
    "    df = df.join(event_14.set_index('user_id_hash'), on = 'user_id_hash')\n",
    "    \n",
    "    # Feature 18: event_4\n",
    "    event_4 = events_df[events_df.event=='4'].loc[:, ['user_id_hash', 'event']].groupby('user_id_hash').\\\n",
    "    count().reset_index().rename(columns={'event':'event_4'})\n",
    "    df = df.join(event_4.set_index('user_id_hash'), on = 'user_id_hash')\n",
    "    \n",
    "    # Feature 19: event_40\n",
    "    event_40 = events_df[events_df.event=='40'].loc[:, ['user_id_hash', 'event']].groupby('user_id_hash').\\\n",
    "    count().reset_index().rename(columns={'event':'event_40'})\n",
    "    df = df.join(event_40.set_index('user_id_hash'), on = 'user_id_hash')\n",
    "    \n",
    "    # Feature 20: event_7\n",
    "    event_7 = events_df[events_df.event=='7'].loc[:, ['user_id_hash', 'event']].groupby('user_id_hash').\\\n",
    "    count().reset_index().rename(columns={'event':'event_7'})\n",
    "    df = df.join(event_7.set_index('user_id_hash'), on = 'user_id_hash')\n",
    "    \n",
    "    # Feature 21: event_41\n",
    "    event_41 = events_df[events_df.event=='41'].loc[:, ['user_id_hash', 'event']].groupby('user_id_hash').\\\n",
    "    count().reset_index().rename(columns={'event':'event_41'})\n",
    "    df = df.join(event_41.set_index('user_id_hash'), on = 'user_id_hash')\n",
    "    \n",
    "    # Feature 22: event_3\n",
    "    event_3 = events_df[events_df.event=='3'].loc[:, ['user_id_hash', 'event']].groupby('user_id_hash').\\\n",
    "    count().reset_index().rename(columns={'event':'event_3'})\n",
    "    df = df.join(event_3.set_index('user_id_hash'), on = 'user_id_hash')\n",
    "    \n",
    "    # Feature 23: event_42\n",
    "    event_42 = events_df[events_df.event=='42'].loc[:, ['user_id_hash', 'event']].groupby('user_id_hash').\\\n",
    "    count().reset_index().rename(columns={'event':'event_42'})\n",
    "    df = df.join(event_42.set_index('user_id_hash'), on = 'user_id_hash')    \n",
    "\n",
    "    # Feature 24: region\n",
    "    region = session_df.loc[:, ['user_id_hash', 'region']].groupby('user_id_hash').\\\n",
    "    first().reset_index()\n",
    "    df = df.join(region.set_index('user_id_hash'), on = 'user_id_hash')\n",
    "    \n",
    "    # Feature 25: purchase_gap\n",
    "    purchase_gap = events_df[events_df.event=='8'].loc[:, ['user_id_hash', 'event_timestamp']].groupby('user_id_hash').\\\n",
    "    max().reset_index().rename(columns={'event_timestamp':'purchase_gap'})\n",
    "    purchase_gap['purchase_gap'] = 1544831999484 - purchase_gap['purchase_gap'] \n",
    "    df = df.join(purchase_gap.set_index('user_id_hash'), on = 'user_id_hash')\n",
    "\n",
    "    return df"
   ]
  },
  {
   "cell_type": "code",
   "execution_count": 126,
   "metadata": {},
   "outputs": [],
   "source": [
    "def feature_encoding(df, events_df, session_df):\n",
    "# One-Hot Encoding OS\n",
    "    df['os_name'] = df['os_name'].fillna(value='Missing')\n",
    "    os = pd.get_dummies(df['os_name']).drop(columns = ['Missing'])\n",
    "    os['os_ios'], os['os_android'] = os['iOS']+os['iPhone OS'], os['Android OS']\n",
    "    os = os.loc[:,['os_ios', 'os_android']]\n",
    "    df = pd.concat((df,os), axis=1)\n",
    "# Mean Encoding country\n",
    "    mean_encoding_test(df, training, col = \"country\")\n",
    "    \n",
    "# Mean Encoding region   \n",
    "    mean_encoding_test(df, training, col = \"region\")\n",
    "    return df"
   ]
  },
  {
   "cell_type": "code",
   "execution_count": 191,
   "metadata": {},
   "outputs": [],
   "source": [
    "submit2 = submit2.rename(columns={'previous_sessions_duration': 'mean_sessions_duration'})"
   ]
  },
  {
   "cell_type": "code",
   "execution_count": 80,
   "metadata": {},
   "outputs": [],
   "source": [
    "submit = feature_generate(submission, events, session)"
   ]
  },
  {
   "cell_type": "code",
   "execution_count": 127,
   "metadata": {},
   "outputs": [],
   "source": [
    "submit2 = feature_encoding(submit, events, session)"
   ]
  },
  {
   "cell_type": "code",
   "execution_count": 179,
   "metadata": {},
   "outputs": [],
   "source": [
    "submit.to_pickle('prediction.pkl')"
   ]
  },
  {
   "cell_type": "code",
   "execution_count": 41,
   "metadata": {},
   "outputs": [
    {
     "data": {
      "text/html": [
       "<div>\n",
       "<style scoped>\n",
       "    .dataframe tbody tr th:only-of-type {\n",
       "        vertical-align: middle;\n",
       "    }\n",
       "\n",
       "    .dataframe tbody tr th {\n",
       "        vertical-align: top;\n",
       "    }\n",
       "\n",
       "    .dataframe thead th {\n",
       "        text-align: right;\n",
       "    }\n",
       "</style>\n",
       "<table border=\"1\" class=\"dataframe\">\n",
       "  <thead>\n",
       "    <tr style=\"text-align: right;\">\n",
       "      <th></th>\n",
       "      <th>user_id_hash</th>\n",
       "      <th>user_purchase_binary_7_days</th>\n",
       "      <th>user_purchase_binary_14_days</th>\n",
       "    </tr>\n",
       "  </thead>\n",
       "  <tbody>\n",
       "    <tr>\n",
       "      <th>0</th>\n",
       "      <td>e469dfaed039ead9110165d9bc457acb11609ca34057dc...</td>\n",
       "      <td>0.01</td>\n",
       "      <td>0.02</td>\n",
       "    </tr>\n",
       "    <tr>\n",
       "      <th>1</th>\n",
       "      <td>afcc639a324b6c598ef83d360450afa011cb2dd1358bf9...</td>\n",
       "      <td>0.01</td>\n",
       "      <td>0.02</td>\n",
       "    </tr>\n",
       "    <tr>\n",
       "      <th>2</th>\n",
       "      <td>fd5a7cf211d08e3e00f7be6a9df6e6ea3d2e5c22a5d9c3...</td>\n",
       "      <td>0.01</td>\n",
       "      <td>0.02</td>\n",
       "    </tr>\n",
       "    <tr>\n",
       "      <th>3</th>\n",
       "      <td>00bfff98b9d0329f014c2eeac7ce47cd18b2bc6e10d608...</td>\n",
       "      <td>0.01</td>\n",
       "      <td>0.02</td>\n",
       "    </tr>\n",
       "    <tr>\n",
       "      <th>4</th>\n",
       "      <td>0d298f3638c43e915c119d4935e1ce8d168f81b5e3e8c1...</td>\n",
       "      <td>0.01</td>\n",
       "      <td>0.02</td>\n",
       "    </tr>\n",
       "  </tbody>\n",
       "</table>\n",
       "</div>"
      ],
      "text/plain": [
       "                                        user_id_hash  \\\n",
       "0  e469dfaed039ead9110165d9bc457acb11609ca34057dc...   \n",
       "1  afcc639a324b6c598ef83d360450afa011cb2dd1358bf9...   \n",
       "2  fd5a7cf211d08e3e00f7be6a9df6e6ea3d2e5c22a5d9c3...   \n",
       "3  00bfff98b9d0329f014c2eeac7ce47cd18b2bc6e10d608...   \n",
       "4  0d298f3638c43e915c119d4935e1ce8d168f81b5e3e8c1...   \n",
       "\n",
       "   user_purchase_binary_7_days  user_purchase_binary_14_days  \n",
       "0                         0.01                          0.02  \n",
       "1                         0.01                          0.02  \n",
       "2                         0.01                          0.02  \n",
       "3                         0.01                          0.02  \n",
       "4                         0.01                          0.02  "
      ]
     },
     "execution_count": 41,
     "metadata": {},
     "output_type": "execute_result"
    }
   ],
   "source": [
    "submission.head()"
   ]
  },
  {
   "cell_type": "markdown",
   "metadata": {},
   "source": [
    "## Model"
   ]
  },
  {
   "cell_type": "code",
   "execution_count": 202,
   "metadata": {},
   "outputs": [],
   "source": [
    "X = training.drop(columns =['user_id_hash', 'user_purchase_binary_7_days', 'user_purchase_binary_14_days','country','os_name','city','region'])\n",
    "y = training['user_purchase_binary_7_days']\n",
    "X_test = submit2.drop(columns = ['user_id_hash', 'user_purchase_binary_7_days', 'user_purchase_binary_14_days','country','os_name','city','region'])"
   ]
  },
  {
   "cell_type": "code",
   "execution_count": 204,
   "metadata": {},
   "outputs": [
    {
     "data": {
      "text/plain": [
       "(619423, 25)"
      ]
     },
     "execution_count": 204,
     "metadata": {},
     "output_type": "execute_result"
    }
   ],
   "source": [
    "X.shape"
   ]
  },
  {
   "cell_type": "code",
   "execution_count": 205,
   "metadata": {},
   "outputs": [
    {
     "data": {
      "text/plain": [
       "(312568, 25)"
      ]
     },
     "execution_count": 205,
     "metadata": {},
     "output_type": "execute_result"
    }
   ],
   "source": [
    "X_test.shape"
   ]
  },
  {
   "cell_type": "code",
   "execution_count": 206,
   "metadata": {},
   "outputs": [],
   "source": [
    "params = {'num_leaves': 8,\n",
    "         'min_data_in_leaf': 40,\n",
    "         'objective': 'binary',\n",
    "         'max_depth': 16,\n",
    "         'learning_rate': 0.01,\n",
    "         'boosting': 'gbdt',\n",
    "         'bagging_freq': 5,\n",
    "         'bagging_fraction': 0.8,\n",
    "         'feature_fraction': 0.8,\n",
    "         'bagging_seed': 11,\n",
    "         'reg_alpha': 1.7,\n",
    "         'reg_lambda': 5,\n",
    "         'random_state': 42,\n",
    "         'metric': 'auc',\n",
    "         'verbosity': -1,\n",
    "         'subsample': 0.8,\n",
    "#          'min_gain_to_split': 0.01,\n",
    "#          'min_child_weight': 20,\n",
    "         'num_threads': 8}"
   ]
  },
  {
   "cell_type": "code",
   "execution_count": 207,
   "metadata": {},
   "outputs": [],
   "source": [
    "n_fold = 5\n",
    "folds = StratifiedKFold(n_splits=n_fold, shuffle=True, random_state=42)"
   ]
  },
  {
   "cell_type": "code",
   "execution_count": null,
   "metadata": {},
   "outputs": [
    {
     "name": "stdout",
     "output_type": "stream",
     "text": [
      "Fold 0 started at Tue Feb 19 00:27:27 2019\n",
      "Training until validation scores don't improve for 200 rounds.\n",
      "[300]\ttraining's auc: 0.975062\tvalid_1's auc: 0.9722\n",
      "[600]\ttraining's auc: 0.977128\tvalid_1's auc: 0.973809\n",
      "[900]\ttraining's auc: 0.978228\tvalid_1's auc: 0.974338\n",
      "[1200]\ttraining's auc: 0.978891\tvalid_1's auc: 0.974539\n",
      "[1500]\ttraining's auc: 0.97951\tvalid_1's auc: 0.974745\n",
      "[1800]\ttraining's auc: 0.980019\tvalid_1's auc: 0.974835\n",
      "[2100]\ttraining's auc: 0.980511\tvalid_1's auc: 0.974906\n",
      "[2400]\ttraining's auc: 0.981\tvalid_1's auc: 0.975005\n",
      "[2700]\ttraining's auc: 0.981468\tvalid_1's auc: 0.975052\n",
      "[3000]\ttraining's auc: 0.981894\tvalid_1's auc: 0.97512\n"
     ]
    }
   ],
   "source": [
    "prediction = np.zeros(len(X_test))\n",
    "for fold_n, (train_index, valid_index) in enumerate(folds.split(X,y)):\n",
    "    print('Fold', fold_n, 'started at', time.ctime())\n",
    "    X_train, X_valid = X.iloc[train_index], X.iloc[valid_index]\n",
    "    y_train, y_valid = y.iloc[train_index], y.iloc[valid_index]\n",
    "    \n",
    "    train_data = lgb.Dataset(X_train, label=y_train)\n",
    "    valid_data = lgb.Dataset(X_valid, label=y_valid)\n",
    "        \n",
    "    model = lgb.train(params,train_data,num_boost_round=20000,\n",
    "                      valid_sets = [train_data, valid_data], \n",
    "                      verbose_eval=300, \n",
    "                      early_stopping_rounds = 200)\n",
    "            \n",
    "    #y_pred_valid = model.predict(X_valid)\n",
    "    prediction += model.predict(X_test, num_iteration=model.best_iteration)/n_fold"
   ]
  },
  {
   "cell_type": "code",
   "execution_count": null,
   "metadata": {},
   "outputs": [],
   "source": [
    "np.save('lgb_prediction_1', prediction1)\n"
   ]
  },
  {
   "cell_type": "code",
   "execution_count": 122,
   "metadata": {},
   "outputs": [
    {
     "name": "stdout",
     "output_type": "stream",
     "text": [
      "Fold 0 started at Mon Feb 18 04:12:04 2019\n",
      "Training until validation scores don't improve for 200 rounds.\n",
      "[300]\ttraining's auc: 0.974345\tvalid_1's auc: 0.971998\n",
      "[600]\ttraining's auc: 0.976271\tvalid_1's auc: 0.973568\n",
      "[900]\ttraining's auc: 0.977183\tvalid_1's auc: 0.97389\n",
      "[1200]\ttraining's auc: 0.978002\tvalid_1's auc: 0.974197\n",
      "[1500]\ttraining's auc: 0.978594\tvalid_1's auc: 0.974382\n",
      "[1800]\ttraining's auc: 0.979117\tvalid_1's auc: 0.974516\n",
      "[2100]\ttraining's auc: 0.979524\tvalid_1's auc: 0.974564\n",
      "[2400]\ttraining's auc: 0.979943\tvalid_1's auc: 0.974607\n",
      "Early stopping, best iteration is:\n",
      "[2344]\ttraining's auc: 0.979854\tvalid_1's auc: 0.97465\n",
      "Fold 1 started at Mon Feb 18 04:14:35 2019\n",
      "Training until validation scores don't improve for 200 rounds.\n",
      "[300]\ttraining's auc: 0.974003\tvalid_1's auc: 0.974068\n",
      "[600]\ttraining's auc: 0.975958\tvalid_1's auc: 0.975329\n",
      "[900]\ttraining's auc: 0.976866\tvalid_1's auc: 0.975858\n",
      "[1200]\ttraining's auc: 0.977602\tvalid_1's auc: 0.976209\n",
      "[1500]\ttraining's auc: 0.978206\tvalid_1's auc: 0.976438\n",
      "[1800]\ttraining's auc: 0.978764\tvalid_1's auc: 0.976607\n",
      "[2100]\ttraining's auc: 0.979184\tvalid_1's auc: 0.976712\n",
      "[2400]\ttraining's auc: 0.979597\tvalid_1's auc: 0.976799\n",
      "[2700]\ttraining's auc: 0.979955\tvalid_1's auc: 0.976838\n",
      "[3000]\ttraining's auc: 0.980298\tvalid_1's auc: 0.97691\n",
      "[3300]\ttraining's auc: 0.980614\tvalid_1's auc: 0.976937\n",
      "[3600]\ttraining's auc: 0.980898\tvalid_1's auc: 0.976964\n",
      "[3900]\ttraining's auc: 0.981196\tvalid_1's auc: 0.976988\n",
      "Early stopping, best iteration is:\n",
      "[3961]\ttraining's auc: 0.981263\tvalid_1's auc: 0.977007\n",
      "Fold 2 started at Mon Feb 18 04:18:47 2019\n",
      "Training until validation scores don't improve for 200 rounds.\n",
      "[300]\ttraining's auc: 0.974308\tvalid_1's auc: 0.970994\n",
      "[600]\ttraining's auc: 0.976221\tvalid_1's auc: 0.973401\n",
      "[900]\ttraining's auc: 0.977216\tvalid_1's auc: 0.974187\n",
      "[1200]\ttraining's auc: 0.977897\tvalid_1's auc: 0.974603\n",
      "[1500]\ttraining's auc: 0.978348\tvalid_1's auc: 0.974744\n",
      "[1800]\ttraining's auc: 0.978789\tvalid_1's auc: 0.974924\n",
      "[2100]\ttraining's auc: 0.979156\tvalid_1's auc: 0.975045\n",
      "[2400]\ttraining's auc: 0.979539\tvalid_1's auc: 0.975159\n",
      "[2700]\ttraining's auc: 0.979891\tvalid_1's auc: 0.975244\n",
      "[3000]\ttraining's auc: 0.980305\tvalid_1's auc: 0.975328\n",
      "[3300]\ttraining's auc: 0.980641\tvalid_1's auc: 0.975406\n",
      "[3600]\ttraining's auc: 0.980934\tvalid_1's auc: 0.975453\n",
      "[3900]\ttraining's auc: 0.981187\tvalid_1's auc: 0.975485\n",
      "[4200]\ttraining's auc: 0.981458\tvalid_1's auc: 0.975567\n",
      "[4500]\ttraining's auc: 0.981695\tvalid_1's auc: 0.975606\n",
      "[4800]\ttraining's auc: 0.981973\tvalid_1's auc: 0.975626\n",
      "Early stopping, best iteration is:\n",
      "[4850]\ttraining's auc: 0.982019\tvalid_1's auc: 0.975636\n",
      "Fold 3 started at Mon Feb 18 04:23:51 2019\n",
      "Training until validation scores don't improve for 200 rounds.\n",
      "[300]\ttraining's auc: 0.974323\tvalid_1's auc: 0.973804\n",
      "[600]\ttraining's auc: 0.976148\tvalid_1's auc: 0.974308\n",
      "[900]\ttraining's auc: 0.977153\tvalid_1's auc: 0.974861\n",
      "[1200]\ttraining's auc: 0.97774\tvalid_1's auc: 0.975185\n",
      "[1500]\ttraining's auc: 0.978279\tvalid_1's auc: 0.975449\n",
      "[1800]\ttraining's auc: 0.978779\tvalid_1's auc: 0.975584\n",
      "[2100]\ttraining's auc: 0.979208\tvalid_1's auc: 0.975731\n",
      "[2400]\ttraining's auc: 0.979599\tvalid_1's auc: 0.975795\n",
      "[2700]\ttraining's auc: 0.979942\tvalid_1's auc: 0.975841\n",
      "[3000]\ttraining's auc: 0.98024\tvalid_1's auc: 0.975898\n",
      "[3300]\ttraining's auc: 0.980587\tvalid_1's auc: 0.975973\n",
      "[3600]\ttraining's auc: 0.980885\tvalid_1's auc: 0.976028\n",
      "[3900]\ttraining's auc: 0.981179\tvalid_1's auc: 0.976109\n",
      "Early stopping, best iteration is:\n",
      "[3924]\ttraining's auc: 0.981202\tvalid_1's auc: 0.976119\n",
      "Fold 4 started at Mon Feb 18 04:27:57 2019\n",
      "Training until validation scores don't improve for 200 rounds.\n",
      "[300]\ttraining's auc: 0.973944\tvalid_1's auc: 0.973824\n",
      "[600]\ttraining's auc: 0.975999\tvalid_1's auc: 0.97529\n",
      "[900]\ttraining's auc: 0.976983\tvalid_1's auc: 0.975682\n",
      "[1200]\ttraining's auc: 0.97772\tvalid_1's auc: 0.975813\n",
      "[1500]\ttraining's auc: 0.978299\tvalid_1's auc: 0.975918\n",
      "[1800]\ttraining's auc: 0.978782\tvalid_1's auc: 0.975911\n",
      "Early stopping, best iteration is:\n",
      "[1670]\ttraining's auc: 0.978593\tvalid_1's auc: 0.975939\n"
     ]
    }
   ],
   "source": [
    "prediction = np.zeros(len(X_test))\n",
    "for fold_n, (train_index, valid_index) in enumerate(folds.split(X,y)):\n",
    "    print('Fold', fold_n, 'started at', time.ctime())\n",
    "    X_train, X_valid = X.iloc[train_index], X.iloc[valid_index]\n",
    "    y_train, y_valid = y.iloc[train_index], y.iloc[valid_index]\n",
    "    \n",
    "    train_data = lgb.Dataset(X_train, label=y_train)\n",
    "    valid_data = lgb.Dataset(X_valid, label=y_valid)\n",
    "        \n",
    "    model = lgb.train(params,train_data,num_boost_round=20000,\n",
    "                      valid_sets = [train_data, valid_data], \n",
    "                      verbose_eval=300, \n",
    "                      early_stopping_rounds = 200)\n",
    "            \n",
    "    #y_pred_valid = model.predict(X_valid)\n",
    "    prediction += model.predict(X_test, num_iteration=model.best_iteration)/n_fold"
   ]
  },
  {
   "cell_type": "code",
   "execution_count": null,
   "metadata": {},
   "outputs": [],
   "source": [
    "X = training.drop(columns = ['user_id_hash', 'user_purchase_binary_7_days', 'user_purchase_binary_14_days','country','os_name', 'city', 'region'])\n",
    "y = training['user_purchase_binary_14_days']\n",
    "X_test = submit.drop(columns = ['user_id_hash', 'user_purchase_binary_7_days', 'user_purchase_binary_14_days','country','os_name', 'city', 'region'])"
   ]
  },
  {
   "cell_type": "code",
   "execution_count": null,
   "metadata": {},
   "outputs": [],
   "source": [
    "prediction = np.zeros(len(X_test))\n",
    "for fold_n, (train_index, valid_index) in enumerate(folds.split(X,y)):\n",
    "    print('Fold', fold_n, 'started at', time.ctime())\n",
    "    X_train, X_valid = X.iloc[train_index], X.iloc[valid_index]\n",
    "    y_train, y_valid = y.iloc[train_index], y.iloc[valid_index]\n",
    "    \n",
    "    train_data = lgb.Dataset(X_train, label=y_train)\n",
    "    valid_data = lgb.Dataset(X_valid, label=y_valid)\n",
    "        \n",
    "    model = lgb.train(params,train_data,num_boost_round=20000,\n",
    "                      valid_sets = [train_data, valid_data], \n",
    "                      verbose_eval=300, \n",
    "                      early_stopping_rounds = 200)\n",
    "            \n",
    "    #y_pred_valid = model.predict(X_valid)\n",
    "    prediction += model.predict(X_test, num_iteration=model.best_iteration)/n_fold"
   ]
  },
  {
   "cell_type": "code",
   "execution_count": null,
   "metadata": {},
   "outputs": [],
   "source": [
    "prediction2 = prediction\n",
    "np.save('lgb_prediction_2', prediction2)"
   ]
  },
  {
   "cell_type": "code",
   "execution_count": 148,
   "metadata": {},
   "outputs": [],
   "source": [
    "params = {'num_leaves': 8,\n",
    "         'min_data_in_leaf': 40,\n",
    "         'objective': 'binary',\n",
    "         'max_depth': 16,\n",
    "         'learning_rate': 0.01,\n",
    "         'boosting': 'gbdt',\n",
    "         'bagging_freq': 5,\n",
    "         'bagging_fraction': 0.8,\n",
    "         'feature_fraction': 0.8,\n",
    "         'bagging_seed': 11,\n",
    "         'reg_alpha': 1.7,\n",
    "         'reg_lambda': 5,\n",
    "         'random_state': 42,\n",
    "         'metric': 'auc',\n",
    "         'verbosity': -1,\n",
    "         'subsample': 0.8,\n",
    "#          'min_gain_to_split': 0.01,\n",
    "#          'min_child_weight': 20,\n",
    "         'num_threads': 8}\n",
    "n_fold = 5\n",
    "folds = StratifiedKFold(n_splits=n_fold, shuffle=True, random_state=42)"
   ]
  },
  {
   "cell_type": "code",
   "execution_count": 181,
   "metadata": {},
   "outputs": [],
   "source": [
    "X = training.drop(columns = ['user_id_hash', 'user_purchase_binary_7_days', 'user_purchase_binary_14_days','country','os_name', 'city', 'region'])\n",
    "y = training['user_purchase_binary_7_days']\n",
    "X_test = submit.drop(columns = ['user_id_hash', 'user_purchase_binary_7_days', 'user_purchase_binary_14_days','country','os_name', 'city', 'region'])"
   ]
  },
  {
   "cell_type": "code",
   "execution_count": 182,
   "metadata": {},
   "outputs": [],
   "source": [
    "import xgboost as xgb\n",
    "import catboost as cab"
   ]
  },
  {
   "cell_type": "code",
   "execution_count": 183,
   "metadata": {},
   "outputs": [
    {
     "data": {
      "text/plain": [
       "'0.12.2'"
      ]
     },
     "execution_count": 183,
     "metadata": {},
     "output_type": "execute_result"
    }
   ],
   "source": [
    "cab.__version__"
   ]
  },
  {
   "cell_type": "code",
   "execution_count": null,
   "metadata": {},
   "outputs": [],
   "source": [
    "model = cab.CatBoostClassifier(loss_function=\"Logloss\",\n",
    "                           eval_metric=\"AUC\",\n",
    "                           task_type=\"CPU\",\n",
    "                           learning_rate=0.01,\n",
    "                           iterations=10000,\n",
    "                           random_seed=42,\n",
    "                           od_type=\"Iter\",\n",
    "                           depth=10,\n",
    "                           early_stopping_rounds=300\n",
    "                          )"
   ]
  },
  {
   "cell_type": "code",
   "execution_count": null,
   "metadata": {},
   "outputs": [],
   "source": [
    "from sklearn.metrics import roc_auc_score\n",
    "target = y.apply(lambda x: int(x))\n",
    "y_valid_pred = 0 * target\n",
    "y_test_pred = 0\n",
    "for idx, (train_index, valid_index) in enumerate(folds.split(X,y)):\n",
    "    y_train, y_valid = target.iloc[train_index], target.iloc[valid_index]\n",
    "    X_train, X_valid = X.iloc[train_index,:], X.iloc[valid_index,:]\n",
    "    _train = cab.Pool(X_train, label=y_train)\n",
    "    _valid = cab.Pool(X_valid, label=y_valid)\n",
    "    print( \"\\nFold \", idx)\n",
    "    fit_model = model.fit(_train,\n",
    "                          eval_set=_valid,\n",
    "                          use_best_model=True,\n",
    "                          verbose=200,\n",
    "                          plot=True\n",
    "                         )\n",
    "    pred = fit_model.predict_proba(X_valid)[:,1]\n",
    "    print( \"auc = \", roc_auc_score(y_valid, pred) )\n",
    "    y_valid_pred.iloc[valid_index] = pred\n",
    "    y_test_pred += fit_model.predict_proba(X_test)[:,1]\n",
    "y_test_pred /= n_split"
   ]
  },
  {
   "cell_type": "code",
   "execution_count": null,
   "metadata": {},
   "outputs": [],
   "source": [
    "np.save('cab_prediction_1', y_test_pred)\n"
   ]
  },
  {
   "cell_type": "code",
   "execution_count": null,
   "metadata": {},
   "outputs": [],
   "source": [
    "y = training['user_purchase_binary_14_days']\n",
    "from sklearn.metrics import roc_auc_score\n",
    "target = y.apply(lambda x: int(x))\n",
    "y_valid_pred = 0 * target\n",
    "y_test_pred = 0\n",
    "for idx, (train_index, valid_index) in enumerate(folds.split(X,y)):\n",
    "    y_train, y_valid = target.iloc[train_index], target.iloc[valid_index]\n",
    "    X_train, X_valid = X.iloc[train_index,:], X.iloc[valid_index,:]\n",
    "    _train = cab.Pool(X_train, label=y_train)\n",
    "    _valid = cab.Pool(X_valid, label=y_valid)\n",
    "    print( \"\\nFold \", idx)\n",
    "    fit_model = model.fit(_train,\n",
    "                          eval_set=_valid,\n",
    "                          use_best_model=True,\n",
    "                          verbose=200,\n",
    "                          plot=True\n",
    "                         )\n",
    "    pred = fit_model.predict_proba(X_valid)[:,1]\n",
    "    print( \"auc = \", roc_auc_score(y_valid, pred) )\n",
    "    y_valid_pred.iloc[valid_index] = pred\n",
    "    y_test_pred += fit_model.predict_proba(X_test)[:,1]\n",
    "y_test_pred /= n_split"
   ]
  },
  {
   "cell_type": "code",
   "execution_count": null,
   "metadata": {},
   "outputs": [],
   "source": [
    "np.save('cab_prediction_2', y_test_pred)"
   ]
  },
  {
   "cell_type": "code",
   "execution_count": 187,
   "metadata": {},
   "outputs": [
    {
     "data": {
      "text/html": [
       "<div>\n",
       "<style scoped>\n",
       "    .dataframe tbody tr th:only-of-type {\n",
       "        vertical-align: middle;\n",
       "    }\n",
       "\n",
       "    .dataframe tbody tr th {\n",
       "        vertical-align: top;\n",
       "    }\n",
       "\n",
       "    .dataframe thead th {\n",
       "        text-align: right;\n",
       "    }\n",
       "</style>\n",
       "<table border=\"1\" class=\"dataframe\">\n",
       "  <thead>\n",
       "    <tr style=\"text-align: right;\">\n",
       "      <th></th>\n",
       "      <th>event_count</th>\n",
       "      <th>purchase_count</th>\n",
       "      <th>session_count</th>\n",
       "      <th>mean_sessions_duration</th>\n",
       "      <th>spend</th>\n",
       "      <th>event_gap</th>\n",
       "      <th>session_gap</th>\n",
       "      <th>life_time</th>\n",
       "      <th>num_places</th>\n",
       "      <th>event_45</th>\n",
       "      <th>...</th>\n",
       "      <th>event_5</th>\n",
       "      <th>event_6</th>\n",
       "      <th>event_14</th>\n",
       "      <th>event_4</th>\n",
       "      <th>event_40</th>\n",
       "      <th>event_7</th>\n",
       "      <th>event_41</th>\n",
       "      <th>event_3</th>\n",
       "      <th>event_42</th>\n",
       "      <th>purchase_gap</th>\n",
       "    </tr>\n",
       "  </thead>\n",
       "  <tbody>\n",
       "    <tr>\n",
       "      <th>0</th>\n",
       "      <td>26.0</td>\n",
       "      <td>0.0</td>\n",
       "      <td>2.0</td>\n",
       "      <td>356544.00</td>\n",
       "      <td>0.0</td>\n",
       "      <td>4.169025e+09</td>\n",
       "      <td>4.169058e+09</td>\n",
       "      <td>4.219028e+09</td>\n",
       "      <td>1.0</td>\n",
       "      <td>17.0</td>\n",
       "      <td>...</td>\n",
       "      <td>1.0</td>\n",
       "      <td>1.0</td>\n",
       "      <td>3.0</td>\n",
       "      <td>0.0</td>\n",
       "      <td>0.0</td>\n",
       "      <td>1.0</td>\n",
       "      <td>0.0</td>\n",
       "      <td>0.0</td>\n",
       "      <td>0.0</td>\n",
       "      <td>NaN</td>\n",
       "    </tr>\n",
       "    <tr>\n",
       "      <th>1</th>\n",
       "      <td>50.0</td>\n",
       "      <td>0.0</td>\n",
       "      <td>1.0</td>\n",
       "      <td>0.00</td>\n",
       "      <td>0.0</td>\n",
       "      <td>1.962124e+09</td>\n",
       "      <td>2.068505e+09</td>\n",
       "      <td>2.068521e+09</td>\n",
       "      <td>1.0</td>\n",
       "      <td>31.0</td>\n",
       "      <td>...</td>\n",
       "      <td>3.0</td>\n",
       "      <td>3.0</td>\n",
       "      <td>3.0</td>\n",
       "      <td>3.0</td>\n",
       "      <td>0.0</td>\n",
       "      <td>1.0</td>\n",
       "      <td>0.0</td>\n",
       "      <td>0.0</td>\n",
       "      <td>0.0</td>\n",
       "      <td>NaN</td>\n",
       "    </tr>\n",
       "    <tr>\n",
       "      <th>2</th>\n",
       "      <td>31.0</td>\n",
       "      <td>0.0</td>\n",
       "      <td>4.0</td>\n",
       "      <td>388631.25</td>\n",
       "      <td>0.0</td>\n",
       "      <td>3.259103e+09</td>\n",
       "      <td>3.448174e+09</td>\n",
       "      <td>4.132000e+09</td>\n",
       "      <td>2.0</td>\n",
       "      <td>19.0</td>\n",
       "      <td>...</td>\n",
       "      <td>1.0</td>\n",
       "      <td>1.0</td>\n",
       "      <td>3.0</td>\n",
       "      <td>0.0</td>\n",
       "      <td>0.0</td>\n",
       "      <td>2.0</td>\n",
       "      <td>0.0</td>\n",
       "      <td>0.0</td>\n",
       "      <td>0.0</td>\n",
       "      <td>NaN</td>\n",
       "    </tr>\n",
       "    <tr>\n",
       "      <th>3</th>\n",
       "      <td>207.0</td>\n",
       "      <td>0.0</td>\n",
       "      <td>10.0</td>\n",
       "      <td>9200582.90</td>\n",
       "      <td>0.0</td>\n",
       "      <td>2.712367e+09</td>\n",
       "      <td>2.714804e+09</td>\n",
       "      <td>4.368928e+09</td>\n",
       "      <td>2.0</td>\n",
       "      <td>142.0</td>\n",
       "      <td>...</td>\n",
       "      <td>9.0</td>\n",
       "      <td>8.0</td>\n",
       "      <td>6.0</td>\n",
       "      <td>7.0</td>\n",
       "      <td>5.0</td>\n",
       "      <td>4.0</td>\n",
       "      <td>5.0</td>\n",
       "      <td>4.0</td>\n",
       "      <td>2.0</td>\n",
       "      <td>NaN</td>\n",
       "    </tr>\n",
       "    <tr>\n",
       "      <th>4</th>\n",
       "      <td>5.0</td>\n",
       "      <td>0.0</td>\n",
       "      <td>1.0</td>\n",
       "      <td>0.00</td>\n",
       "      <td>0.0</td>\n",
       "      <td>5.332535e+09</td>\n",
       "      <td>5.507037e+09</td>\n",
       "      <td>5.507037e+09</td>\n",
       "      <td>1.0</td>\n",
       "      <td>0.0</td>\n",
       "      <td>...</td>\n",
       "      <td>0.0</td>\n",
       "      <td>0.0</td>\n",
       "      <td>0.0</td>\n",
       "      <td>0.0</td>\n",
       "      <td>0.0</td>\n",
       "      <td>0.0</td>\n",
       "      <td>0.0</td>\n",
       "      <td>0.0</td>\n",
       "      <td>0.0</td>\n",
       "      <td>NaN</td>\n",
       "    </tr>\n",
       "  </tbody>\n",
       "</table>\n",
       "<p>5 rows × 21 columns</p>\n",
       "</div>"
      ],
      "text/plain": [
       "   event_count  purchase_count  session_count  mean_sessions_duration  spend  \\\n",
       "0         26.0             0.0            2.0               356544.00    0.0   \n",
       "1         50.0             0.0            1.0                    0.00    0.0   \n",
       "2         31.0             0.0            4.0               388631.25    0.0   \n",
       "3        207.0             0.0           10.0              9200582.90    0.0   \n",
       "4          5.0             0.0            1.0                    0.00    0.0   \n",
       "\n",
       "      event_gap   session_gap     life_time  num_places  event_45  \\\n",
       "0  4.169025e+09  4.169058e+09  4.219028e+09         1.0      17.0   \n",
       "1  1.962124e+09  2.068505e+09  2.068521e+09         1.0      31.0   \n",
       "2  3.259103e+09  3.448174e+09  4.132000e+09         2.0      19.0   \n",
       "3  2.712367e+09  2.714804e+09  4.368928e+09         2.0     142.0   \n",
       "4  5.332535e+09  5.507037e+09  5.507037e+09         1.0       0.0   \n",
       "\n",
       "       ...       event_5  event_6  event_14  event_4  event_40  event_7  \\\n",
       "0      ...           1.0      1.0       3.0      0.0       0.0      1.0   \n",
       "1      ...           3.0      3.0       3.0      3.0       0.0      1.0   \n",
       "2      ...           1.0      1.0       3.0      0.0       0.0      2.0   \n",
       "3      ...           9.0      8.0       6.0      7.0       5.0      4.0   \n",
       "4      ...           0.0      0.0       0.0      0.0       0.0      0.0   \n",
       "\n",
       "   event_41  event_3  event_42  purchase_gap  \n",
       "0       0.0      0.0       0.0           NaN  \n",
       "1       0.0      0.0       0.0           NaN  \n",
       "2       0.0      0.0       0.0           NaN  \n",
       "3       5.0      4.0       2.0           NaN  \n",
       "4       0.0      0.0       0.0           NaN  \n",
       "\n",
       "[5 rows x 21 columns]"
      ]
     },
     "execution_count": 187,
     "metadata": {},
     "output_type": "execute_result"
    }
   ],
   "source": [
    "X_test.head()"
   ]
  },
  {
   "cell_type": "code",
   "execution_count": null,
   "metadata": {},
   "outputs": [],
   "source": [
    "np.save('lgb_prediction_1', prediction1)y_test_pred"
   ]
  },
  {
   "cell_type": "code",
   "execution_count": null,
   "metadata": {},
   "outputs": [],
   "source": [
    "X = training.drop(columns = ['user_id_hash', 'user_purchase_binary_7_days', 'user_purchase_binary_14_days','country','os_name', 'city', 'region'])\n",
    "y = training['user_purchase_binary_7_days']\n",
    "X_test = submit.drop(columns = ['user_id_hash', 'user_purchase_binary_7_days', 'user_purchase_binary_14_days','country','os_name', 'city', 'region'])"
   ]
  },
  {
   "cell_type": "code",
   "execution_count": null,
   "metadata": {},
   "outputs": [],
   "source": []
  },
  {
   "cell_type": "code",
   "execution_count": 127,
   "metadata": {},
   "outputs": [],
   "source": [
    "submission['user_purchase_binary_7_days'] = prediction1\n",
    "submission['user_purchase_binary_14_days'] = prediction2"
   ]
  },
  {
   "cell_type": "code",
   "execution_count": 128,
   "metadata": {},
   "outputs": [],
   "source": [
    "submission.to_csv('submission0217.csv', index=False)"
   ]
  },
  {
   "cell_type": "code",
   "execution_count": 129,
   "metadata": {},
   "outputs": [
    {
     "name": "stdout",
     "output_type": "stream",
     "text": [
      "100%|██████████████████████████████████████| 32.6M/32.6M [00:02<00:00, 16.1MB/s]\n",
      "Successfully submitted to Predict in-app purchases"
     ]
    }
   ],
   "source": [
    "!kaggle competitions submit predict-in-app-purchase -f submission0217.csv -m \"Using full 11 features and model on lgbm\""
   ]
  },
  {
   "cell_type": "code",
   "execution_count": null,
   "metadata": {},
   "outputs": [],
   "source": []
  }
 ],
 "metadata": {
  "kernelspec": {
   "display_name": "Python 3",
   "language": "python",
   "name": "python3"
  },
  "language_info": {
   "codemirror_mode": {
    "name": "ipython",
    "version": 3
   },
   "file_extension": ".py",
   "mimetype": "text/x-python",
   "name": "python",
   "nbconvert_exporter": "python",
   "pygments_lexer": "ipython3",
   "version": "3.7.2"
  }
 },
 "nbformat": 4,
 "nbformat_minor": 2
}
