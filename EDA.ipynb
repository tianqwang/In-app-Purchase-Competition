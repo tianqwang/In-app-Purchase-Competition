{
 "cells": [
  {
   "cell_type": "code",
   "execution_count": 1,
   "metadata": {},
   "outputs": [],
   "source": [
    "import matplotlib.pyplot as plt\n",
    "import numpy as np\n",
    "import pandas as pd\n",
    "import plotly\n",
    "import plotly.graph_objs as go\n",
    "import plotly.plotly as py\n",
    "import seaborn as sns"
   ]
  },
  {
   "cell_type": "code",
   "execution_count": 2,
   "metadata": {},
   "outputs": [],
   "source": [
    "events = pd.read_pickle('data/events.pkl')"
   ]
  },
  {
   "cell_type": "markdown",
   "metadata": {},
   "source": [
    "# Events"
   ]
  },
  {
   "cell_type": "code",
   "execution_count": 3,
   "metadata": {
    "ExecuteTime": {
     "end_time": "2019-03-22T04:43:45.629504Z",
     "start_time": "2019-03-22T04:43:45.595434Z"
    }
   },
   "outputs": [
    {
     "data": {
      "text/html": [
       "<div>\n",
       "<style scoped>\n",
       "    .dataframe tbody tr th:only-of-type {\n",
       "        vertical-align: middle;\n",
       "    }\n",
       "\n",
       "    .dataframe tbody tr th {\n",
       "        vertical-align: top;\n",
       "    }\n",
       "\n",
       "    .dataframe thead th {\n",
       "        text-align: right;\n",
       "    }\n",
       "</style>\n",
       "<table border=\"1\" class=\"dataframe\">\n",
       "  <thead>\n",
       "    <tr style=\"text-align: right;\">\n",
       "      <th></th>\n",
       "      <th>session_id</th>\n",
       "      <th>event</th>\n",
       "      <th>event_timestamp</th>\n",
       "      <th>event_value</th>\n",
       "      <th>user_id_hash</th>\n",
       "    </tr>\n",
       "  </thead>\n",
       "  <tbody>\n",
       "    <tr>\n",
       "      <th>0</th>\n",
       "      <td>5558845121177764917</td>\n",
       "      <td>45</td>\n",
       "      <td>1542215397132</td>\n",
       "      <td>0.0</td>\n",
       "      <td>9943447915df3a45fd6720a026af905b6da6b56a37701b...</td>\n",
       "    </tr>\n",
       "    <tr>\n",
       "      <th>1</th>\n",
       "      <td>5558845121177764917</td>\n",
       "      <td>45</td>\n",
       "      <td>1542215484895</td>\n",
       "      <td>0.0</td>\n",
       "      <td>9943447915df3a45fd6720a026af905b6da6b56a37701b...</td>\n",
       "    </tr>\n",
       "    <tr>\n",
       "      <th>2</th>\n",
       "      <td>7689508378645584666</td>\n",
       "      <td>.m5100869650219008</td>\n",
       "      <td>1541124410372</td>\n",
       "      <td>0.0</td>\n",
       "      <td>9943447915df3a45fd6720a026af905b6da6b56a37701b...</td>\n",
       "    </tr>\n",
       "    <tr>\n",
       "      <th>3</th>\n",
       "      <td>2201961907282901522</td>\n",
       "      <td>4</td>\n",
       "      <td>1543713091129</td>\n",
       "      <td>0.0</td>\n",
       "      <td>9943447915df3a45fd6720a026af905b6da6b56a37701b...</td>\n",
       "    </tr>\n",
       "    <tr>\n",
       "      <th>4</th>\n",
       "      <td>2201961907282901522</td>\n",
       "      <td>6</td>\n",
       "      <td>1543713093116</td>\n",
       "      <td>0.0</td>\n",
       "      <td>9943447915df3a45fd6720a026af905b6da6b56a37701b...</td>\n",
       "    </tr>\n",
       "  </tbody>\n",
       "</table>\n",
       "</div>"
      ],
      "text/plain": [
       "            session_id               event  event_timestamp  event_value  \\\n",
       "0  5558845121177764917                  45    1542215397132          0.0   \n",
       "1  5558845121177764917                  45    1542215484895          0.0   \n",
       "2  7689508378645584666  .m5100869650219008    1541124410372          0.0   \n",
       "3  2201961907282901522                   4    1543713091129          0.0   \n",
       "4  2201961907282901522                   6    1543713093116          0.0   \n",
       "\n",
       "                                        user_id_hash  \n",
       "0  9943447915df3a45fd6720a026af905b6da6b56a37701b...  \n",
       "1  9943447915df3a45fd6720a026af905b6da6b56a37701b...  \n",
       "2  9943447915df3a45fd6720a026af905b6da6b56a37701b...  \n",
       "3  9943447915df3a45fd6720a026af905b6da6b56a37701b...  \n",
       "4  9943447915df3a45fd6720a026af905b6da6b56a37701b...  "
      ]
     },
     "execution_count": 3,
     "metadata": {},
     "output_type": "execute_result"
    }
   ],
   "source": [
    "events.head()"
   ]
  },
  {
   "cell_type": "code",
   "execution_count": 4,
   "metadata": {
    "scrolled": true
   },
   "outputs": [
    {
     "data": {
      "text/plain": [
       "45    75493931\n",
       "1      5363926\n",
       "5      4887922\n",
       "6      4068474\n",
       "14     3491117\n",
       "Name: event, dtype: int64"
      ]
     },
     "execution_count": 4,
     "metadata": {},
     "output_type": "execute_result"
    }
   ],
   "source": [
    "events['event'].value_counts()[:5]"
   ]
  },
  {
   "cell_type": "code",
   "execution_count": 5,
   "metadata": {},
   "outputs": [
    {
     "data": {
      "text/plain": [
       "265034"
      ]
     },
     "execution_count": 5,
     "metadata": {},
     "output_type": "execute_result"
    }
   ],
   "source": [
    "events.event[events.event == '8'].count()"
   ]
  },
  {
   "cell_type": "code",
   "execution_count": 6,
   "metadata": {},
   "outputs": [
    {
     "data": {
      "text/html": [
       "<div>\n",
       "<style scoped>\n",
       "    .dataframe tbody tr th:only-of-type {\n",
       "        vertical-align: middle;\n",
       "    }\n",
       "\n",
       "    .dataframe tbody tr th {\n",
       "        vertical-align: top;\n",
       "    }\n",
       "\n",
       "    .dataframe thead th {\n",
       "        text-align: right;\n",
       "    }\n",
       "</style>\n",
       "<table border=\"1\" class=\"dataframe\">\n",
       "  <thead>\n",
       "    <tr style=\"text-align: right;\">\n",
       "      <th></th>\n",
       "      <th>event</th>\n",
       "    </tr>\n",
       "    <tr>\n",
       "      <th>user_id_hash</th>\n",
       "      <th></th>\n",
       "    </tr>\n",
       "  </thead>\n",
       "  <tbody>\n",
       "    <tr>\n",
       "      <th>002e447aed33ed4c51a68743cc293ef2148058b6a6239e37d013cc6dc49bdfdf</th>\n",
       "      <td>0</td>\n",
       "    </tr>\n",
       "    <tr>\n",
       "      <th>005c9d79cf18efc6c8b5fa767964b1def9b8e2f8abd23f453310f60d69584a9f</th>\n",
       "      <td>0</td>\n",
       "    </tr>\n",
       "    <tr>\n",
       "      <th>0061b4d30e8a9935b2ebeec954ff509b4f0cb500cd725c1aa7145841c82d907c</th>\n",
       "      <td>0</td>\n",
       "    </tr>\n",
       "    <tr>\n",
       "      <th>00fbbf507c7d3c2f259cd3329d241c29d35712e2d4699f5c6a51d5149219ecee</th>\n",
       "      <td>0</td>\n",
       "    </tr>\n",
       "    <tr>\n",
       "      <th>0107a0017873efc2dea9a9155832363ceacf6fe97bd428a73efa67b639962ac0</th>\n",
       "      <td>0</td>\n",
       "    </tr>\n",
       "  </tbody>\n",
       "</table>\n",
       "</div>"
      ],
      "text/plain": [
       "                                                    event\n",
       "user_id_hash                                             \n",
       "002e447aed33ed4c51a68743cc293ef2148058b6a6239e3...      0\n",
       "005c9d79cf18efc6c8b5fa767964b1def9b8e2f8abd23f4...      0\n",
       "0061b4d30e8a9935b2ebeec954ff509b4f0cb500cd725c1...      0\n",
       "00fbbf507c7d3c2f259cd3329d241c29d35712e2d4699f5...      0\n",
       "0107a0017873efc2dea9a9155832363ceacf6fe97bd428a...      0"
      ]
     },
     "execution_count": 6,
     "metadata": {},
     "output_type": "execute_result"
    }
   ],
   "source": [
    "purchases = events[['user_id_hash', 'event']][events.event == '8'].groupby('user_id_hash').count()\n",
    "purchases.head()"
   ]
  },
  {
   "cell_type": "code",
   "execution_count": 7,
   "metadata": {},
   "outputs": [
    {
     "data": {
      "text/html": [
       "<div>\n",
       "<style scoped>\n",
       "    .dataframe tbody tr th:only-of-type {\n",
       "        vertical-align: middle;\n",
       "    }\n",
       "\n",
       "    .dataframe tbody tr th {\n",
       "        vertical-align: top;\n",
       "    }\n",
       "\n",
       "    .dataframe thead th {\n",
       "        text-align: right;\n",
       "    }\n",
       "</style>\n",
       "<table border=\"1\" class=\"dataframe\">\n",
       "  <thead>\n",
       "    <tr style=\"text-align: right;\">\n",
       "      <th></th>\n",
       "      <th>event</th>\n",
       "    </tr>\n",
       "    <tr>\n",
       "      <th>user_id_hash</th>\n",
       "      <th></th>\n",
       "    </tr>\n",
       "  </thead>\n",
       "  <tbody>\n",
       "    <tr>\n",
       "      <th>286bdab39041ccbbc2d602d3581260f9373c9bcf198f193930fdb1b0006eeba9</th>\n",
       "      <td>445</td>\n",
       "    </tr>\n",
       "    <tr>\n",
       "      <th>a96b9b72fca9ed20a3e004b9b9a91321fa40d4069a354b0c7a05260803836bec</th>\n",
       "      <td>236</td>\n",
       "    </tr>\n",
       "    <tr>\n",
       "      <th>6bea4e3ad45f764cfbd0c57be198a4f949a177a520424e05bbdcee926152b4e1</th>\n",
       "      <td>235</td>\n",
       "    </tr>\n",
       "    <tr>\n",
       "      <th>84008b429d0c07a5a2389775e7811e9065039749b376cb6f0e26ed6ad1212583</th>\n",
       "      <td>233</td>\n",
       "    </tr>\n",
       "    <tr>\n",
       "      <th>180da4c89f6d5f1a12da04c6a2310063a86e27cd52c75c670a8fe81ba3c19fac</th>\n",
       "      <td>218</td>\n",
       "    </tr>\n",
       "  </tbody>\n",
       "</table>\n",
       "</div>"
      ],
      "text/plain": [
       "                                                    event\n",
       "user_id_hash                                             \n",
       "286bdab39041ccbbc2d602d3581260f9373c9bcf198f193...    445\n",
       "a96b9b72fca9ed20a3e004b9b9a91321fa40d4069a354b0...    236\n",
       "6bea4e3ad45f764cfbd0c57be198a4f949a177a520424e0...    235\n",
       "84008b429d0c07a5a2389775e7811e9065039749b376cb6...    233\n",
       "180da4c89f6d5f1a12da04c6a2310063a86e27cd52c75c6...    218"
      ]
     },
     "execution_count": 7,
     "metadata": {},
     "output_type": "execute_result"
    }
   ],
   "source": [
    "purchases.nlargest(5, 'event')"
   ]
  },
  {
   "cell_type": "code",
   "execution_count": 8,
   "metadata": {},
   "outputs": [],
   "source": [
    "purchases = purchases[purchases.event > 0]"
   ]
  },
  {
   "cell_type": "code",
   "execution_count": 9,
   "metadata": {},
   "outputs": [],
   "source": [
    "data = go.Box(\n",
    "    y = purchases.event,\n",
    "    name = 'Purchase Frequency'\n",
    ")\n",
    "\n",
    "layout = go.Layout(\n",
    "    title = \"# of In-App Purchases per User over Entire Time Period\"\n",
    ")"
   ]
  },
  {
   "cell_type": "code",
   "execution_count": 10,
   "metadata": {},
   "outputs": [
    {
     "data": {
      "text/plain": [
       "'file:///home/wtq920828/ML-project/purchases.html'"
      ]
     },
     "execution_count": 10,
     "metadata": {},
     "output_type": "execute_result"
    }
   ],
   "source": [
    "fig = dict( data=[data], layout=layout )\n",
    "plotly.offline.plot(fig, filename='purchases.html')"
   ]
  },
  {
   "cell_type": "code",
   "execution_count": 11,
   "metadata": {},
   "outputs": [
    {
     "data": {
      "text/html": [
       "<div>\n",
       "<style scoped>\n",
       "    .dataframe tbody tr th:only-of-type {\n",
       "        vertical-align: middle;\n",
       "    }\n",
       "\n",
       "    .dataframe tbody tr th {\n",
       "        vertical-align: top;\n",
       "    }\n",
       "\n",
       "    .dataframe thead th {\n",
       "        text-align: right;\n",
       "    }\n",
       "</style>\n",
       "<table border=\"1\" class=\"dataframe\">\n",
       "  <thead>\n",
       "    <tr style=\"text-align: right;\">\n",
       "      <th></th>\n",
       "      <th>event_value</th>\n",
       "    </tr>\n",
       "    <tr>\n",
       "      <th>user_id_hash</th>\n",
       "      <th></th>\n",
       "    </tr>\n",
       "  </thead>\n",
       "  <tbody>\n",
       "    <tr>\n",
       "      <th>0c7c07196340726ed212576754e4c2348e89df786e3ebeb3733b9b3535ab3487</th>\n",
       "      <td>1.392578</td>\n",
       "    </tr>\n",
       "    <tr>\n",
       "      <th>0e02d992cae31bf3cc09708fc70db2cf935288bf715aa73607851d8e32de4f37</th>\n",
       "      <td>4.921875</td>\n",
       "    </tr>\n",
       "    <tr>\n",
       "      <th>1859118795458356332a9e416c958850282b3168edab93846976f9d91d45324c</th>\n",
       "      <td>1.392578</td>\n",
       "    </tr>\n",
       "    <tr>\n",
       "      <th>23099a3bd2a6a9a9ef55707d1b45e935f759e31f27d427bc024f6301722643b1</th>\n",
       "      <td>8.250000</td>\n",
       "    </tr>\n",
       "    <tr>\n",
       "      <th>233d517a59c9dcaac0291cff13b46921aca35d332149449f7fecaf558c63457a</th>\n",
       "      <td>3.414062</td>\n",
       "    </tr>\n",
       "  </tbody>\n",
       "</table>\n",
       "</div>"
      ],
      "text/plain": [
       "                                                    event_value\n",
       "user_id_hash                                                   \n",
       "0c7c07196340726ed212576754e4c2348e89df786e3ebeb...     1.392578\n",
       "0e02d992cae31bf3cc09708fc70db2cf935288bf715aa73...     4.921875\n",
       "1859118795458356332a9e416c958850282b3168edab938...     1.392578\n",
       "23099a3bd2a6a9a9ef55707d1b45e935f759e31f27d427b...     8.250000\n",
       "233d517a59c9dcaac0291cff13b46921aca35d332149449...     3.414062"
      ]
     },
     "execution_count": 11,
     "metadata": {},
     "output_type": "execute_result"
    }
   ],
   "source": [
    "avg_purch_value = events[['user_id_hash', 'event', 'event_value']][events.event == '8'].groupby('user_id_hash').mean()\n",
    "avg_purch_value = avg_purch_value[avg_purch_value.event_value.notnull()]\n",
    "avg_purch_value.head()"
   ]
  },
  {
   "cell_type": "code",
   "execution_count": 12,
   "metadata": {},
   "outputs": [],
   "source": [
    "data = go.Box(\n",
    "    y = avg_purch_value.event_value,\n",
    "    name = 'Avg. Purchase Value (in USD)'\n",
    ")\n",
    "\n",
    "layout = go.Layout(\n",
    "    title = \"Avg. In-App Purchase Value per User over Entire Time Period\"\n",
    ")"
   ]
  },
  {
   "cell_type": "code",
   "execution_count": 13,
   "metadata": {},
   "outputs": [
    {
     "data": {
      "text/plain": [
       "'file:///home/wtq920828/ML-project/purchases_value.html'"
      ]
     },
     "execution_count": 13,
     "metadata": {},
     "output_type": "execute_result"
    }
   ],
   "source": [
    "fig = dict( data=[data], layout=layout )\n",
    "plotly.offline.plot(fig, filename='purchases_value.html')"
   ]
  },
  {
   "cell_type": "code",
   "execution_count": 14,
   "metadata": {},
   "outputs": [
    {
     "data": {
      "text/html": [
       "<div>\n",
       "<style scoped>\n",
       "    .dataframe tbody tr th:only-of-type {\n",
       "        vertical-align: middle;\n",
       "    }\n",
       "\n",
       "    .dataframe tbody tr th {\n",
       "        vertical-align: top;\n",
       "    }\n",
       "\n",
       "    .dataframe thead th {\n",
       "        text-align: right;\n",
       "    }\n",
       "</style>\n",
       "<table border=\"1\" class=\"dataframe\">\n",
       "  <thead>\n",
       "    <tr style=\"text-align: right;\">\n",
       "      <th></th>\n",
       "      <th>event_value</th>\n",
       "    </tr>\n",
       "    <tr>\n",
       "      <th>user_id_hash</th>\n",
       "      <th></th>\n",
       "    </tr>\n",
       "  </thead>\n",
       "  <tbody>\n",
       "    <tr>\n",
       "      <th>0c7c07196340726ed212576754e4c2348e89df786e3ebeb3733b9b3535ab3487</th>\n",
       "      <td>8.359375</td>\n",
       "    </tr>\n",
       "    <tr>\n",
       "      <th>0e02d992cae31bf3cc09708fc70db2cf935288bf715aa73607851d8e32de4f37</th>\n",
       "      <td>241.125000</td>\n",
       "    </tr>\n",
       "    <tr>\n",
       "      <th>1859118795458356332a9e416c958850282b3168edab93846976f9d91d45324c</th>\n",
       "      <td>8.359375</td>\n",
       "    </tr>\n",
       "    <tr>\n",
       "      <th>23099a3bd2a6a9a9ef55707d1b45e935f759e31f27d427bc024f6301722643b1</th>\n",
       "      <td>41.281250</td>\n",
       "    </tr>\n",
       "    <tr>\n",
       "      <th>233d517a59c9dcaac0291cff13b46921aca35d332149449f7fecaf558c63457a</th>\n",
       "      <td>30.734375</td>\n",
       "    </tr>\n",
       "  </tbody>\n",
       "</table>\n",
       "</div>"
      ],
      "text/plain": [
       "                                                    event_value\n",
       "user_id_hash                                                   \n",
       "0c7c07196340726ed212576754e4c2348e89df786e3ebeb...     8.359375\n",
       "0e02d992cae31bf3cc09708fc70db2cf935288bf715aa73...   241.125000\n",
       "1859118795458356332a9e416c958850282b3168edab938...     8.359375\n",
       "23099a3bd2a6a9a9ef55707d1b45e935f759e31f27d427b...    41.281250\n",
       "233d517a59c9dcaac0291cff13b46921aca35d332149449...    30.734375"
      ]
     },
     "execution_count": 14,
     "metadata": {},
     "output_type": "execute_result"
    }
   ],
   "source": [
    "total_purch_value = events[['user_id_hash', 'event', 'event_value']][events.event == '8'].groupby('user_id_hash').sum()\n",
    "total_purch_value = total_purch_value[(total_purch_value.event_value.notnull()) & total_purch_value.event_value > 0]\n",
    "total_purch_value.head()"
   ]
  },
  {
   "cell_type": "code",
   "execution_count": 15,
   "metadata": {},
   "outputs": [],
   "source": [
    "avg_purch = purchases.join(avg_purch_value, on='user_id_hash')\n",
    "total_purch = purchases.join(total_purch_value, on='user_id_hash')"
   ]
  },
  {
   "cell_type": "code",
   "execution_count": 16,
   "metadata": {},
   "outputs": [
    {
     "name": "stdout",
     "output_type": "stream",
     "text": [
      "This is the format of your plot grid:\n",
      "[ (1,1) x1,y1 ]\n",
      "[ (2,1) x1,y2 ]\n",
      "\n"
     ]
    },
    {
     "data": {
      "text/plain": [
       "Layout({\n",
       "    'annotations': [{'font': {'size': 16},\n",
       "                     'showarrow': False,\n",
       "                     'text': 'Avg. In-App Purchase Value vs. # of Purchases per User',\n",
       "                     'x': 0.5,\n",
       "                     'xanchor': 'center',\n",
       "                     'xref': 'paper',\n",
       "                     'y': 1.0,\n",
       "                     'yanchor': 'bottom',\n",
       "                     'yref': 'paper'},\n",
       "                    {'font': {'size': 16},\n",
       "                     'showarrow': False,\n",
       "                     'text': 'Total In-App Purchase Value vs. # of Purchases per User',\n",
       "                     'x': 0.5,\n",
       "                     'xanchor': 'center',\n",
       "                     'xref': 'paper',\n",
       "                     'y': 0.45,\n",
       "                     'yanchor': 'bottom',\n",
       "                     'yref': 'paper'}],\n",
       "    'xaxis': {'anchor': 'y2', 'domain': [0.0, 1.0], 'title': {'text': 'Purchases per User'}},\n",
       "    'yaxis': {'anchor': 'free', 'domain': [0.55, 1.0], 'position': 0.0, 'title': {'text': 'Avg. Purchase Value (in USD)'}},\n",
       "    'yaxis2': {'anchor': 'x', 'domain': [0.0, 0.45], 'title': {'text': 'Total Purchase Value (in USD)'}}\n",
       "})"
      ]
     },
     "execution_count": 16,
     "metadata": {},
     "output_type": "execute_result"
    }
   ],
   "source": [
    "data1 = go.Scatter(\n",
    "    x = avg_purch.event,\n",
    "    y = avg_purch.event_value,\n",
    "    mode = 'markers',\n",
    "    name = 'Average'\n",
    ")\n",
    "\n",
    "data2 = go.Scatter(\n",
    "    x = total_purch.event,\n",
    "    y = total_purch.event_value,\n",
    "    mode = 'markers',\n",
    "    name = 'Total'\n",
    ")\n",
    "\n",
    "fig = plotly.tools.make_subplots(rows=2, cols=1, specs=[[{}], [{}]],\n",
    "                                 shared_xaxes=True, vertical_spacing=0.1,\n",
    "                                 subplot_titles=('Avg. In-App Purchase Value vs. # of Purchases per User',\n",
    "                                                 'Total In-App Purchase Value vs. # of Purchases per User'))\n",
    "\n",
    "fig.append_trace(data1, 1, 1)\n",
    "fig.append_trace(data2, 2, 1)\n",
    "\n",
    "fig['layout'].update(\n",
    "#     title = \"\",\n",
    "    xaxis = dict(title = 'Purchases per User'),\n",
    "    yaxis = dict(title = 'Avg. Purchase Value (in USD)'),\n",
    "    yaxis2 = dict(title = 'Total Purchase Value (in USD)')\n",
    ")"
   ]
  },
  {
   "cell_type": "code",
   "execution_count": 17,
   "metadata": {},
   "outputs": [
    {
     "data": {
      "text/plain": [
       "'file:///home/wtq920828/ML-project/purchases_relationship.html'"
      ]
     },
     "execution_count": 17,
     "metadata": {},
     "output_type": "execute_result"
    }
   ],
   "source": [
    "plotly.offline.plot(fig, filename='purchases_relationship.html')"
   ]
  },
  {
   "cell_type": "code",
   "execution_count": 18,
   "metadata": {},
   "outputs": [],
   "source": [
    "del events"
   ]
  },
  {
   "cell_type": "markdown",
   "metadata": {},
   "source": [
    "# Sessions"
   ]
  },
  {
   "cell_type": "code",
   "execution_count": 19,
   "metadata": {},
   "outputs": [],
   "source": [
    "session = pd.read_pickle('data/session.pkl')"
   ]
  },
  {
   "cell_type": "code",
   "execution_count": 20,
   "metadata": {},
   "outputs": [
    {
     "data": {
      "text/html": [
       "<div>\n",
       "<style scoped>\n",
       "    .dataframe tbody tr th:only-of-type {\n",
       "        vertical-align: middle;\n",
       "    }\n",
       "\n",
       "    .dataframe tbody tr th {\n",
       "        vertical-align: top;\n",
       "    }\n",
       "\n",
       "    .dataframe thead th {\n",
       "        text-align: right;\n",
       "    }\n",
       "</style>\n",
       "<table border=\"1\" class=\"dataframe\">\n",
       "  <thead>\n",
       "    <tr style=\"text-align: right;\">\n",
       "      <th></th>\n",
       "      <th>session_id</th>\n",
       "      <th>start_timestamp</th>\n",
       "      <th>timezone</th>\n",
       "      <th>timezone_offset</th>\n",
       "      <th>previous_sessions_duration</th>\n",
       "      <th>user_created_timestamp</th>\n",
       "      <th>is_user_first_session</th>\n",
       "      <th>country</th>\n",
       "      <th>region</th>\n",
       "      <th>city</th>\n",
       "      <th>latitude</th>\n",
       "      <th>longitude</th>\n",
       "      <th>locale</th>\n",
       "      <th>os_name</th>\n",
       "      <th>session_index</th>\n",
       "      <th>device_id</th>\n",
       "      <th>user_id_hash</th>\n",
       "    </tr>\n",
       "  </thead>\n",
       "  <tbody>\n",
       "    <tr>\n",
       "      <th>0</th>\n",
       "      <td>5558845121177764917</td>\n",
       "      <td>1542215364580</td>\n",
       "      <td>Asia/Manila</td>\n",
       "      <td>28800000.0</td>\n",
       "      <td>25837591</td>\n",
       "      <td>1538874289458</td>\n",
       "      <td>False</td>\n",
       "      <td>PH</td>\n",
       "      <td>00</td>\n",
       "      <td>makati</td>\n",
       "      <td>14.554729</td>\n",
       "      <td>121.024445</td>\n",
       "      <td>en_GB</td>\n",
       "      <td>Android OS</td>\n",
       "      <td>30</td>\n",
       "      <td>546a3d98-d540-4e72-ad82-9ebd64e0839b</td>\n",
       "      <td>9943447915df3a45fd6720a026af905b6da6b56a37701b...</td>\n",
       "    </tr>\n",
       "    <tr>\n",
       "      <th>1</th>\n",
       "      <td>18781111175537580</td>\n",
       "      <td>1539215568666</td>\n",
       "      <td>Asia/Manila</td>\n",
       "      <td>28800000.0</td>\n",
       "      <td>11343848</td>\n",
       "      <td>1538874289458</td>\n",
       "      <td>False</td>\n",
       "      <td>PH</td>\n",
       "      <td>00</td>\n",
       "      <td>makati</td>\n",
       "      <td>14.554729</td>\n",
       "      <td>121.024445</td>\n",
       "      <td>en_GB</td>\n",
       "      <td>Android OS</td>\n",
       "      <td>10</td>\n",
       "      <td>546a3d98-d540-4e72-ad82-9ebd64e0839b</td>\n",
       "      <td>9943447915df3a45fd6720a026af905b6da6b56a37701b...</td>\n",
       "    </tr>\n",
       "    <tr>\n",
       "      <th>2</th>\n",
       "      <td>1477540082628742048</td>\n",
       "      <td>1540120743010</td>\n",
       "      <td>Asia/Manila</td>\n",
       "      <td>28800000.0</td>\n",
       "      <td>13499724</td>\n",
       "      <td>1538874289458</td>\n",
       "      <td>False</td>\n",
       "      <td>PH</td>\n",
       "      <td>11</td>\n",
       "      <td>davao city</td>\n",
       "      <td>7.190708</td>\n",
       "      <td>125.455338</td>\n",
       "      <td>en_GB</td>\n",
       "      <td>Android OS</td>\n",
       "      <td>13</td>\n",
       "      <td>546a3d98-d540-4e72-ad82-9ebd64e0839b</td>\n",
       "      <td>9943447915df3a45fd6720a026af905b6da6b56a37701b...</td>\n",
       "    </tr>\n",
       "    <tr>\n",
       "      <th>3</th>\n",
       "      <td>8184875317380844086</td>\n",
       "      <td>1542671625528</td>\n",
       "      <td>Asia/Manila</td>\n",
       "      <td>28800000.0</td>\n",
       "      <td>32788010</td>\n",
       "      <td>1538874289458</td>\n",
       "      <td>False</td>\n",
       "      <td>PH</td>\n",
       "      <td>00</td>\n",
       "      <td>makati</td>\n",
       "      <td>14.554729</td>\n",
       "      <td>121.024445</td>\n",
       "      <td>en_GB</td>\n",
       "      <td>Android OS</td>\n",
       "      <td>41</td>\n",
       "      <td>546a3d98-d540-4e72-ad82-9ebd64e0839b</td>\n",
       "      <td>9943447915df3a45fd6720a026af905b6da6b56a37701b...</td>\n",
       "    </tr>\n",
       "    <tr>\n",
       "      <th>4</th>\n",
       "      <td>4706180700083856343</td>\n",
       "      <td>1538997913013</td>\n",
       "      <td>Asia/Manila</td>\n",
       "      <td>28800000.0</td>\n",
       "      <td>5872534</td>\n",
       "      <td>1538874289458</td>\n",
       "      <td>False</td>\n",
       "      <td>PH</td>\n",
       "      <td>11</td>\n",
       "      <td>davao city</td>\n",
       "      <td>7.190708</td>\n",
       "      <td>125.455338</td>\n",
       "      <td>en_GB</td>\n",
       "      <td>Android OS</td>\n",
       "      <td>4</td>\n",
       "      <td>546a3d98-d540-4e72-ad82-9ebd64e0839b</td>\n",
       "      <td>9943447915df3a45fd6720a026af905b6da6b56a37701b...</td>\n",
       "    </tr>\n",
       "  </tbody>\n",
       "</table>\n",
       "</div>"
      ],
      "text/plain": [
       "            session_id  start_timestamp     timezone  timezone_offset  \\\n",
       "0  5558845121177764917    1542215364580  Asia/Manila       28800000.0   \n",
       "1    18781111175537580    1539215568666  Asia/Manila       28800000.0   \n",
       "2  1477540082628742048    1540120743010  Asia/Manila       28800000.0   \n",
       "3  8184875317380844086    1542671625528  Asia/Manila       28800000.0   \n",
       "4  4706180700083856343    1538997913013  Asia/Manila       28800000.0   \n",
       "\n",
       "   previous_sessions_duration  user_created_timestamp  is_user_first_session  \\\n",
       "0                    25837591           1538874289458                  False   \n",
       "1                    11343848           1538874289458                  False   \n",
       "2                    13499724           1538874289458                  False   \n",
       "3                    32788010           1538874289458                  False   \n",
       "4                     5872534           1538874289458                  False   \n",
       "\n",
       "  country region        city   latitude   longitude locale     os_name  \\\n",
       "0      PH     00      makati  14.554729  121.024445  en_GB  Android OS   \n",
       "1      PH     00      makati  14.554729  121.024445  en_GB  Android OS   \n",
       "2      PH     11  davao city   7.190708  125.455338  en_GB  Android OS   \n",
       "3      PH     00      makati  14.554729  121.024445  en_GB  Android OS   \n",
       "4      PH     11  davao city   7.190708  125.455338  en_GB  Android OS   \n",
       "\n",
       "   session_index                             device_id  \\\n",
       "0             30  546a3d98-d540-4e72-ad82-9ebd64e0839b   \n",
       "1             10  546a3d98-d540-4e72-ad82-9ebd64e0839b   \n",
       "2             13  546a3d98-d540-4e72-ad82-9ebd64e0839b   \n",
       "3             41  546a3d98-d540-4e72-ad82-9ebd64e0839b   \n",
       "4              4  546a3d98-d540-4e72-ad82-9ebd64e0839b   \n",
       "\n",
       "                                        user_id_hash  \n",
       "0  9943447915df3a45fd6720a026af905b6da6b56a37701b...  \n",
       "1  9943447915df3a45fd6720a026af905b6da6b56a37701b...  \n",
       "2  9943447915df3a45fd6720a026af905b6da6b56a37701b...  \n",
       "3  9943447915df3a45fd6720a026af905b6da6b56a37701b...  \n",
       "4  9943447915df3a45fd6720a026af905b6da6b56a37701b...  "
      ]
     },
     "execution_count": 20,
     "metadata": {},
     "output_type": "execute_result"
    }
   ],
   "source": [
    "session.head()"
   ]
  },
  {
   "cell_type": "code",
   "execution_count": 21,
   "metadata": {},
   "outputs": [
    {
     "data": {
      "text/html": [
       "<div>\n",
       "<style scoped>\n",
       "    .dataframe tbody tr th:only-of-type {\n",
       "        vertical-align: middle;\n",
       "    }\n",
       "\n",
       "    .dataframe tbody tr th {\n",
       "        vertical-align: top;\n",
       "    }\n",
       "\n",
       "    .dataframe thead th {\n",
       "        text-align: right;\n",
       "    }\n",
       "</style>\n",
       "<table border=\"1\" class=\"dataframe\">\n",
       "  <thead>\n",
       "    <tr style=\"text-align: right;\">\n",
       "      <th></th>\n",
       "      <th>session_id</th>\n",
       "    </tr>\n",
       "    <tr>\n",
       "      <th>country</th>\n",
       "      <th></th>\n",
       "    </tr>\n",
       "  </thead>\n",
       "  <tbody>\n",
       "    <tr>\n",
       "      <th>AE</th>\n",
       "      <td>12657</td>\n",
       "    </tr>\n",
       "    <tr>\n",
       "      <th>AG</th>\n",
       "      <td>1158</td>\n",
       "    </tr>\n",
       "    <tr>\n",
       "      <th>AL</th>\n",
       "      <td>2584</td>\n",
       "    </tr>\n",
       "    <tr>\n",
       "      <th>AR</th>\n",
       "      <td>12511</td>\n",
       "    </tr>\n",
       "    <tr>\n",
       "      <th>AT</th>\n",
       "      <td>13641</td>\n",
       "    </tr>\n",
       "  </tbody>\n",
       "</table>\n",
       "</div>"
      ],
      "text/plain": [
       "         session_id\n",
       "country            \n",
       "AE            12657\n",
       "AG             1158\n",
       "AL             2584\n",
       "AR            12511\n",
       "AT            13641"
      ]
     },
     "execution_count": 21,
     "metadata": {},
     "output_type": "execute_result"
    }
   ],
   "source": [
    "activity = session[['session_id', 'country']].groupby('country').count()\n",
    "activity.head()"
   ]
  },
  {
   "cell_type": "code",
   "execution_count": 22,
   "metadata": {},
   "outputs": [],
   "source": [
    "# np.savetxt(r'./countries.txt', activity.index.values, fmt='%s')"
   ]
  },
  {
   "cell_type": "code",
   "execution_count": 23,
   "metadata": {
    "scrolled": true
   },
   "outputs": [
    {
     "data": {
      "text/html": [
       "<div>\n",
       "<style scoped>\n",
       "    .dataframe tbody tr th:only-of-type {\n",
       "        vertical-align: middle;\n",
       "    }\n",
       "\n",
       "    .dataframe tbody tr th {\n",
       "        vertical-align: top;\n",
       "    }\n",
       "\n",
       "    .dataframe thead th {\n",
       "        text-align: right;\n",
       "    }\n",
       "</style>\n",
       "<table border=\"1\" class=\"dataframe\">\n",
       "  <thead>\n",
       "    <tr style=\"text-align: right;\">\n",
       "      <th></th>\n",
       "      <th>0</th>\n",
       "    </tr>\n",
       "  </thead>\n",
       "  <tbody>\n",
       "    <tr>\n",
       "      <th>0</th>\n",
       "      <td>ARE</td>\n",
       "    </tr>\n",
       "    <tr>\n",
       "      <th>1</th>\n",
       "      <td>ATG</td>\n",
       "    </tr>\n",
       "    <tr>\n",
       "      <th>2</th>\n",
       "      <td>ALB</td>\n",
       "    </tr>\n",
       "    <tr>\n",
       "      <th>3</th>\n",
       "      <td>ARG</td>\n",
       "    </tr>\n",
       "    <tr>\n",
       "      <th>4</th>\n",
       "      <td>AUT</td>\n",
       "    </tr>\n",
       "  </tbody>\n",
       "</table>\n",
       "</div>"
      ],
      "text/plain": [
       "     0\n",
       "0  ARE\n",
       "1  ATG\n",
       "2  ALB\n",
       "3  ARG\n",
       "4  AUT"
      ]
     },
     "execution_count": 23,
     "metadata": {},
     "output_type": "execute_result"
    }
   ],
   "source": [
    "alph3 = pd.read_csv('alph3.csv', sep='\\n', header=None); alph3.head()"
   ]
  },
  {
   "cell_type": "code",
   "execution_count": 24,
   "metadata": {},
   "outputs": [
    {
     "data": {
      "text/html": [
       "<div>\n",
       "<style scoped>\n",
       "    .dataframe tbody tr th:only-of-type {\n",
       "        vertical-align: middle;\n",
       "    }\n",
       "\n",
       "    .dataframe tbody tr th {\n",
       "        vertical-align: top;\n",
       "    }\n",
       "\n",
       "    .dataframe thead th {\n",
       "        text-align: right;\n",
       "    }\n",
       "</style>\n",
       "<table border=\"1\" class=\"dataframe\">\n",
       "  <thead>\n",
       "    <tr style=\"text-align: right;\">\n",
       "      <th></th>\n",
       "      <th>country</th>\n",
       "      <th>session_id</th>\n",
       "      <th>0</th>\n",
       "    </tr>\n",
       "  </thead>\n",
       "  <tbody>\n",
       "    <tr>\n",
       "      <th>0</th>\n",
       "      <td>AE</td>\n",
       "      <td>12657</td>\n",
       "      <td>ARE</td>\n",
       "    </tr>\n",
       "    <tr>\n",
       "      <th>1</th>\n",
       "      <td>AG</td>\n",
       "      <td>1158</td>\n",
       "      <td>ATG</td>\n",
       "    </tr>\n",
       "    <tr>\n",
       "      <th>2</th>\n",
       "      <td>AL</td>\n",
       "      <td>2584</td>\n",
       "      <td>ALB</td>\n",
       "    </tr>\n",
       "    <tr>\n",
       "      <th>3</th>\n",
       "      <td>AR</td>\n",
       "      <td>12511</td>\n",
       "      <td>ARG</td>\n",
       "    </tr>\n",
       "    <tr>\n",
       "      <th>4</th>\n",
       "      <td>AT</td>\n",
       "      <td>13641</td>\n",
       "      <td>AUT</td>\n",
       "    </tr>\n",
       "  </tbody>\n",
       "</table>\n",
       "</div>"
      ],
      "text/plain": [
       "  country  session_id    0\n",
       "0      AE       12657  ARE\n",
       "1      AG        1158  ATG\n",
       "2      AL        2584  ALB\n",
       "3      AR       12511  ARG\n",
       "4      AT       13641  AUT"
      ]
     },
     "execution_count": 24,
     "metadata": {},
     "output_type": "execute_result"
    }
   ],
   "source": [
    "activity = pd.concat([activity.reset_index(), alph3], axis=1); activity.head()"
   ]
  },
  {
   "cell_type": "code",
   "execution_count": 25,
   "metadata": {},
   "outputs": [],
   "source": [
    "data = [go.Choropleth(\n",
    "    locations = activity[0],\n",
    "    z = activity['session_id'],\n",
    "    text = activity['session_id'],\n",
    "    colorscale = [\n",
    "        [0, \"rgb(172, 10, 5)\"],\n",
    "        [0.35, \"rgb(190, 60, 40)\"],\n",
    "        [0.5, \"rgb(245, 100, 70)\"],\n",
    "        [0.6, \"rgb(245, 120, 90)\"],\n",
    "        [0.7, \"rgb(247, 137, 106)\"],\n",
    "        [1, \"rgb(220, 220, 220)\"]\n",
    "    ],\n",
    "    autocolorscale = False,\n",
    "    reversescale = True,\n",
    "    marker = go.choropleth.Marker(\n",
    "        line = go.choropleth.marker.Line(\n",
    "            color = 'rgb(180,180,180)',\n",
    "            width = 0.5\n",
    "        )),\n",
    "    colorbar = go.choropleth.ColorBar(\n",
    "        title = 'Logged Sessions'),\n",
    ")]\n",
    "\n",
    "layout = go.Layout(\n",
    "    title = go.layout.Title(\n",
    "        text = 'Session Activity by Country'\n",
    "    ),\n",
    "    geo = go.layout.Geo(\n",
    "        showframe = False,\n",
    "        showcoastlines = False,\n",
    "        projection = go.layout.geo.Projection(\n",
    "            type = 'equirectangular'\n",
    "        )\n",
    "    )\n",
    ")"
   ]
  },
  {
   "cell_type": "code",
   "execution_count": 26,
   "metadata": {},
   "outputs": [
    {
     "data": {
      "text/plain": [
       "'file:///home/wtq920828/ML-project/activity.html'"
      ]
     },
     "execution_count": 26,
     "metadata": {},
     "output_type": "execute_result"
    }
   ],
   "source": [
    "fig = go.Figure( data=data, layout=layout )\n",
    "plotly.offline.plot( fig, validate=False, filename='activity.html' )"
   ]
  }
 ],
 "metadata": {
  "kernelspec": {
   "display_name": "Python 3",
   "language": "python",
   "name": "python3"
  },
  "language_info": {
   "codemirror_mode": {
    "name": "ipython",
    "version": 3
   },
   "file_extension": ".py",
   "mimetype": "text/x-python",
   "name": "python",
   "nbconvert_exporter": "python",
   "pygments_lexer": "ipython3",
   "version": "3.7.2"
  }
 },
 "nbformat": 4,
 "nbformat_minor": 2
}
